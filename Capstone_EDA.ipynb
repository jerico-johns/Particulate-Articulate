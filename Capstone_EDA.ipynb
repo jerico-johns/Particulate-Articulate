{
 "cells": [
  {
   "cell_type": "markdown",
   "id": "67422c50-2042-494f-9590-1358d0779381",
   "metadata": {},
   "source": [
    "## Capstone Data Loading and Basic EDA"
   ]
  },
  {
   "cell_type": "code",
   "execution_count": 2,
   "id": "8d533e3b-6f0c-449b-9d3f-abff4d58a095",
   "metadata": {},
   "outputs": [],
   "source": [
    "#Import Packages. \n",
    "import sys\n",
    "import os\n",
    "import warnings\n",
    "import glob\n",
    "\n",
    "import matplotlib.pyplot as plt\n",
    "import seaborn as sns\n",
    "import numpy.ma as ma\n",
    "import xarray as xr\n",
    "import rioxarray as rxr\n",
    "from shapely.geometry import mapping, box\n",
    "import geopandas as gpd\n",
    "import earthpy as et\n",
    "import earthpy.spatial as es\n",
    "import earthpy.plot as ep\n",
    "from osgeo import gdal\n",
    "import pandas as pd\n",
    "\n",
    "warnings.simplefilter('ignore')"
   ]
  },
  {
   "cell_type": "code",
   "execution_count": 32,
   "id": "b8ee9271-f468-49d3-9ae4-c10e2cebcc9a",
   "metadata": {},
   "outputs": [],
   "source": [
    "#!pip install matplotlib\n",
    "#!pip install xarray\n",
    "#!pip install rioxarray\n",
    "#!pip install shapely\n",
    "#!pip install geopandas\n",
    "#!pip install earthpy\n",
    "#!pip install seaborn"
   ]
  },
  {
   "cell_type": "markdown",
   "id": "0d60994b-aaf3-45ca-aba8-8eb0883ed587",
   "metadata": {},
   "source": [
    "Source Code: https://www.earthdatascience.org/courses/use-data-open-source-python/hierarchical-data-formats-hdf/open-MODIS-hdf4-files-python/"
   ]
  },
  {
   "cell_type": "code",
   "execution_count": 4,
   "id": "69d8c12a-81e4-4cf4-b461-5e37ba6652dd",
   "metadata": {},
   "outputs": [
    {
     "name": "stdout",
     "output_type": "stream",
     "text": [
      "[4x1200x1200] Optical_Depth_047 grid1km (16-bit integer)\n",
      "[4x1200x1200] Optical_Depth_055 grid1km (16-bit integer)\n",
      "[4x1200x1200] AOD_Uncertainty grid1km (16-bit integer)\n",
      "[4x1200x1200] FineModeFraction grid1km (16-bit integer)\n",
      "[4x1200x1200] Column_WV grid1km (16-bit integer)\n",
      "[4x1200x1200] AOD_QA grid1km (16-bit unsigned integer)\n",
      "[4x1200x1200] AOD_MODEL grid1km (8-bit unsigned integer)\n",
      "[4x1200x1200] Injection_Height grid1km (32-bit floating-point)\n",
      "[4x240x240] cosSZA grid5km (16-bit integer)\n",
      "[4x240x240] cosVZA grid5km (16-bit integer)\n",
      "[4x240x240] RelAZ grid5km (16-bit integer)\n",
      "[4x240x240] Scattering_Angle grid5km (16-bit integer)\n",
      "[4x240x240] Glint_Angle grid5km (16-bit integer)\n"
     ]
    }
   ],
   "source": [
    "#Open data with gdal\n",
    "file = gdal.Open('../train/maiac/2018/20180201T024000_maiac_tpe_0.hdf')\n",
    "for path, desc in file.GetSubDatasets():\n",
    "    print(desc)\n"
   ]
  },
  {
   "cell_type": "code",
   "execution_count": 5,
   "id": "24ac7110-4baf-44ac-ab8b-354a8bc69bca",
   "metadata": {},
   "outputs": [],
   "source": [
    "def load_data(FILEPATH):\n",
    "    '''Takes the FILEPATH and loads the SUBDATASET_NAME from that file.'''\n",
    "    ds = gdal.Open(FILEPATH)\n",
    "    return ds\n",
    "    \n",
    "# Opens the data HDF file and returns as a dataframe\n",
    "def read_dataset(SUBDATASET_NAME, FILEPATH):\n",
    "    dataset = load_data(FILEPATH)\n",
    "    path = ''\n",
    "    for sub, description in dataset.GetSubDatasets():\n",
    "        if (description.endswith(SUBDATASET_NAME)):\n",
    "            path = sub\n",
    "            break\n",
    "    if(path == ''):\n",
    "        print(SUBDATASET_NAME + ' not found')\n",
    "        return\n",
    "    subdataset = gdal.Open(path)\n",
    "    subdataset = subdataset.ReadAsArray()\n",
    "    subdataset = pd.DataFrame(subdataset)\n",
    "    return subdataset"
   ]
  },
  {
   "cell_type": "code",
   "execution_count": null,
   "id": "376c9942-a72b-4fd5-b177-9fc9da1c4582",
   "metadata": {},
   "outputs": [],
   "source": []
  }
 ],
 "metadata": {
  "kernelspec": {
   "display_name": "Python 3 (ipykernel)",
   "language": "python",
   "name": "python3"
  },
  "language_info": {
   "codemirror_mode": {
    "name": "ipython",
    "version": 3
   },
   "file_extension": ".py",
   "mimetype": "text/x-python",
   "name": "python",
   "nbconvert_exporter": "python",
   "pygments_lexer": "ipython3",
   "version": "3.9.10"
  }
 },
 "nbformat": 4,
 "nbformat_minor": 5
}
