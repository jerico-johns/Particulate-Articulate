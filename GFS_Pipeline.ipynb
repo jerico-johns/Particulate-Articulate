{
 "cells": [
  {
   "cell_type": "markdown",
   "id": "f55c3d7f-0caf-4b4d-93ac-7a33609a3c78",
   "metadata": {},
   "source": [
    "# Ingest NCEP GFS 0.25 Degree Data for 6 hour forecasts. "
   ]
  },
  {
   "cell_type": "markdown",
   "id": "4a13cbc7-04cb-48bf-9f35-b9670e4446c3",
   "metadata": {},
   "source": [
    "#### 1.) Conda package installations to environment and importing appropriate libraries. "
   ]
  },
  {
   "cell_type": "code",
   "execution_count": null,
   "id": "faa2bc19",
   "metadata": {},
   "outputs": [],
   "source": [
    "# conda install -c conda-forge gdal\n",
    "# conda install -c conda-forge geopandas\n",
    "# conda install -c conda-forge earthpy\n",
    "# conda install -c conda-forge cloudpathlib\n",
    "# conda install -c conda-forge pyhdf\n",
    "# conda install -c anaconda basemap\n",
    "\n",
    "#conda install -c conda-forge ipywidgets\n",
    "#conda install -c conda-forge cartopy\n",
    "\n",
    "## For IO dependencies in xarray \n",
    "#conda install -c conda-forge xarray dask netCDF4 bottleneck\n",
    "#conda install -c conda-forge cfgrib\n",
    "#conda install -c conda-forge pygrib\n",
    "#conda install -c yt87 pywgrib2_xr\n",
    "\n",
    "## For writing / reading parquet files \n",
    "#conda install -c conda-forge pyarrow\n",
    "\n",
    "#For s3 \n",
    "#conda install -c conda-forge boto3\n",
    "\n",
    "#For timing \n",
    "#conda install -c conda-forge profilehooks\n",
    "\n",
    "#For import pydap\n",
    "# conda install -c conda-forge pydap"
   ]
  },
  {
   "cell_type": "code",
   "execution_count": null,
   "id": "52e56688-186f-4277-b544-9f03b27ceb91",
   "metadata": {},
   "outputs": [],
   "source": [
    "!python --version"
   ]
  },
  {
   "cell_type": "code",
   "execution_count": 1,
   "id": "4d3b12cb",
   "metadata": {},
   "outputs": [],
   "source": [
    "#Import Packages. \n",
    "import sys\n",
    "import os\n",
    "import requests\n",
    "import warnings\n",
    "import glob\n",
    "import time\n",
    "import re\n",
    "from functools import reduce\n",
    "\n",
    "import matplotlib.pyplot as plt\n",
    "import seaborn as sns\n",
    "import numpy.ma as ma\n",
    "import numpy as np\n",
    "#from shapely.geometry import mapping, box\n",
    "import geopandas as gpd\n",
    "import earthpy as et\n",
    "import earthpy.spatial as es\n",
    "import earthpy.plot as ep\n",
    "from osgeo import gdal\n",
    "import pandas as pd\n",
    "\n",
    "#GFS data\n",
    "import xarray # used for reading the data.\n",
    "import xarray_extras.csv # used for writing data to csv format. \n",
    "import pygrib\n",
    "import xarray # used for reading the data.\n",
    "import ipywidgets as widgets\n",
    "import matplotlib.pyplot as plt # used to plot the data.\n",
    "import ipywidgets as widgets # For ease in selecting variables.\n",
    "import cartopy.crs as ccrs # Used to georeference data.\n",
    "\n",
    "#For writing to s3\n",
    "import boto3\n",
    "from botocore import UNSIGNED\n",
    "from botocore.config import Config\n",
    "import io\n",
    "import pickle\n",
    "\n",
    "#For timing function\n",
    "from profilehooks import profile\n",
    "\n",
    "#For multiprocessing of function\n",
    "import multiprocessing\n",
    "from multiprocessing import Pool\n",
    "\n",
    "\n",
    "# #from cloudpathlib import S3Path, S3Client\n",
    "# from pyhdf.SD import SD, SDC\n",
    "\n",
    "warnings.simplefilter('ignore')"
   ]
  },
  {
   "cell_type": "code",
   "execution_count": 6,
   "id": "a3ad8770-f561-455b-b040-ad494e3e865f",
   "metadata": {},
   "outputs": [
    {
     "name": "stdout",
     "output_type": "stream",
     "text": [
      "Number of cpu :  4\n"
     ]
    }
   ],
   "source": [
    "#Get number of CPUs\n",
    "print(\"Number of cpu : \", multiprocessing.cpu_count())"
   ]
  },
  {
   "cell_type": "code",
   "execution_count": 7,
   "id": "4d4921a1-3e5c-4c0c-aded-61fd426b0646",
   "metadata": {},
   "outputs": [],
   "source": [
    "s3 = boto3.client('s3')"
   ]
  },
  {
   "cell_type": "markdown",
   "id": "14cfdfaa-0a14-4dd2-a9de-43a5f2034b28",
   "metadata": {},
   "source": [
    "#### Process grid_metadata.csv to get updated lat, lon bounds for a 5km x 5km labeled grid. Pull in grid ID for each. "
   ]
  },
  {
   "cell_type": "code",
   "execution_count": 8,
   "id": "df2f378b-a271-4c2d-9c33-d6261c66e17a",
   "metadata": {},
   "outputs": [
    {
     "data": {
      "text/html": [
       "<div>\n",
       "<style scoped>\n",
       "    .dataframe tbody tr th:only-of-type {\n",
       "        vertical-align: middle;\n",
       "    }\n",
       "\n",
       "    .dataframe tbody tr th {\n",
       "        vertical-align: top;\n",
       "    }\n",
       "\n",
       "    .dataframe thead th {\n",
       "        text-align: right;\n",
       "    }\n",
       "</style>\n",
       "<table border=\"1\" class=\"dataframe\">\n",
       "  <thead>\n",
       "    <tr style=\"text-align: right;\">\n",
       "      <th></th>\n",
       "      <th>grid_id</th>\n",
       "      <th>min_lat</th>\n",
       "      <th>max_lat</th>\n",
       "      <th>min_lon</th>\n",
       "      <th>max_lon</th>\n",
       "    </tr>\n",
       "  </thead>\n",
       "  <tbody>\n",
       "    <tr>\n",
       "      <th>0</th>\n",
       "      <td>1X116</td>\n",
       "      <td>24.827661</td>\n",
       "      <td>25.168369</td>\n",
       "      <td>301.330849</td>\n",
       "      <td>301.675764</td>\n",
       "    </tr>\n",
       "    <tr>\n",
       "      <th>1</th>\n",
       "      <td>1Z2W7</td>\n",
       "      <td>28.396645</td>\n",
       "      <td>28.736092</td>\n",
       "      <td>257.109616</td>\n",
       "      <td>257.454532</td>\n",
       "    </tr>\n",
       "    <tr>\n",
       "      <th>2</th>\n",
       "      <td>3S31A</td>\n",
       "      <td>33.645584</td>\n",
       "      <td>33.982902</td>\n",
       "      <td>61.871259</td>\n",
       "      <td>62.216175</td>\n",
       "    </tr>\n",
       "    <tr>\n",
       "      <th>3</th>\n",
       "      <td>6EIL6</td>\n",
       "      <td>28.396645</td>\n",
       "      <td>28.736092</td>\n",
       "      <td>256.885037</td>\n",
       "      <td>257.229953</td>\n",
       "    </tr>\n",
       "    <tr>\n",
       "      <th>4</th>\n",
       "      <td>7334C</td>\n",
       "      <td>28.396645</td>\n",
       "      <td>28.736092</td>\n",
       "      <td>256.929953</td>\n",
       "      <td>257.274869</td>\n",
       "    </tr>\n",
       "    <tr>\n",
       "      <th>5</th>\n",
       "      <td>78V83</td>\n",
       "      <td>28.396645</td>\n",
       "      <td>28.736092</td>\n",
       "      <td>256.750290</td>\n",
       "      <td>257.095206</td>\n",
       "    </tr>\n",
       "    <tr>\n",
       "      <th>6</th>\n",
       "      <td>7F1D1</td>\n",
       "      <td>28.436092</td>\n",
       "      <td>28.775526</td>\n",
       "      <td>256.929953</td>\n",
       "      <td>257.274869</td>\n",
       "    </tr>\n",
       "    <tr>\n",
       "      <th>7</th>\n",
       "      <td>8KNI6</td>\n",
       "      <td>28.317704</td>\n",
       "      <td>28.657182</td>\n",
       "      <td>257.109616</td>\n",
       "      <td>257.454532</td>\n",
       "    </tr>\n",
       "    <tr>\n",
       "      <th>8</th>\n",
       "      <td>90BZ1</td>\n",
       "      <td>24.868369</td>\n",
       "      <td>25.209064</td>\n",
       "      <td>301.375764</td>\n",
       "      <td>301.720680</td>\n",
       "    </tr>\n",
       "    <tr>\n",
       "      <th>9</th>\n",
       "      <td>90S79</td>\n",
       "      <td>28.475526</td>\n",
       "      <td>28.814944</td>\n",
       "      <td>257.019784</td>\n",
       "      <td>257.364700</td>\n",
       "    </tr>\n",
       "    <tr>\n",
       "      <th>10</th>\n",
       "      <td>9Q6TA</td>\n",
       "      <td>24.909064</td>\n",
       "      <td>25.249745</td>\n",
       "      <td>301.375764</td>\n",
       "      <td>301.720680</td>\n",
       "    </tr>\n",
       "    <tr>\n",
       "      <th>11</th>\n",
       "      <td>A2FBI</td>\n",
       "      <td>33.832011</td>\n",
       "      <td>34.169248</td>\n",
       "      <td>62.410249</td>\n",
       "      <td>62.755164</td>\n",
       "    </tr>\n",
       "    <tr>\n",
       "      <th>12</th>\n",
       "      <td>A7UCQ</td>\n",
       "      <td>28.436092</td>\n",
       "      <td>28.775526</td>\n",
       "      <td>257.064700</td>\n",
       "      <td>257.409616</td>\n",
       "    </tr>\n",
       "    <tr>\n",
       "      <th>13</th>\n",
       "      <td>AZJ0Z</td>\n",
       "      <td>28.554347</td>\n",
       "      <td>28.893736</td>\n",
       "      <td>257.064700</td>\n",
       "      <td>257.409616</td>\n",
       "    </tr>\n",
       "    <tr>\n",
       "      <th>14</th>\n",
       "      <td>C7PGV</td>\n",
       "      <td>28.357182</td>\n",
       "      <td>28.696645</td>\n",
       "      <td>257.019784</td>\n",
       "      <td>257.364700</td>\n",
       "    </tr>\n",
       "    <tr>\n",
       "      <th>15</th>\n",
       "      <td>CPR0W</td>\n",
       "      <td>28.514944</td>\n",
       "      <td>28.854347</td>\n",
       "      <td>257.109616</td>\n",
       "      <td>257.454532</td>\n",
       "    </tr>\n",
       "    <tr>\n",
       "      <th>16</th>\n",
       "      <td>D72OT</td>\n",
       "      <td>28.554347</td>\n",
       "      <td>28.893736</td>\n",
       "      <td>256.974869</td>\n",
       "      <td>257.319784</td>\n",
       "    </tr>\n",
       "    <tr>\n",
       "      <th>17</th>\n",
       "      <td>D7S1G</td>\n",
       "      <td>28.514944</td>\n",
       "      <td>28.854347</td>\n",
       "      <td>257.154532</td>\n",
       "      <td>257.499448</td>\n",
       "    </tr>\n",
       "    <tr>\n",
       "      <th>18</th>\n",
       "      <td>DHO4M</td>\n",
       "      <td>34.018031</td>\n",
       "      <td>34.355185</td>\n",
       "      <td>61.467018</td>\n",
       "      <td>61.811933</td>\n",
       "    </tr>\n",
       "    <tr>\n",
       "      <th>19</th>\n",
       "      <td>DJN0F</td>\n",
       "      <td>33.943672</td>\n",
       "      <td>34.280859</td>\n",
       "      <td>62.185670</td>\n",
       "      <td>62.530586</td>\n",
       "    </tr>\n",
       "    <tr>\n",
       "      <th>20</th>\n",
       "      <td>E2AUK</td>\n",
       "      <td>28.436092</td>\n",
       "      <td>28.775526</td>\n",
       "      <td>256.840121</td>\n",
       "      <td>257.185037</td>\n",
       "    </tr>\n",
       "    <tr>\n",
       "      <th>21</th>\n",
       "      <td>E5P9N</td>\n",
       "      <td>33.832011</td>\n",
       "      <td>34.169248</td>\n",
       "      <td>62.320417</td>\n",
       "      <td>62.665333</td>\n",
       "    </tr>\n",
       "    <tr>\n",
       "      <th>22</th>\n",
       "      <td>FRITQ</td>\n",
       "      <td>33.682902</td>\n",
       "      <td>34.020203</td>\n",
       "      <td>61.646681</td>\n",
       "      <td>61.991596</td>\n",
       "    </tr>\n",
       "    <tr>\n",
       "      <th>23</th>\n",
       "      <td>GAC6R</td>\n",
       "      <td>28.593736</td>\n",
       "      <td>28.933110</td>\n",
       "      <td>256.929953</td>\n",
       "      <td>257.274869</td>\n",
       "    </tr>\n",
       "    <tr>\n",
       "      <th>24</th>\n",
       "      <td>GJLB2</td>\n",
       "      <td>28.317704</td>\n",
       "      <td>28.657182</td>\n",
       "      <td>256.929953</td>\n",
       "      <td>257.274869</td>\n",
       "    </tr>\n",
       "    <tr>\n",
       "      <th>25</th>\n",
       "      <td>GVQXS</td>\n",
       "      <td>28.514944</td>\n",
       "      <td>28.854347</td>\n",
       "      <td>257.019784</td>\n",
       "      <td>257.364700</td>\n",
       "    </tr>\n",
       "    <tr>\n",
       "      <th>26</th>\n",
       "      <td>H96P6</td>\n",
       "      <td>34.018031</td>\n",
       "      <td>34.355185</td>\n",
       "      <td>61.287354</td>\n",
       "      <td>61.632270</td>\n",
       "    </tr>\n",
       "    <tr>\n",
       "      <th>27</th>\n",
       "      <td>HANW9</td>\n",
       "      <td>28.396645</td>\n",
       "      <td>28.736092</td>\n",
       "      <td>257.019784</td>\n",
       "      <td>257.364700</td>\n",
       "    </tr>\n",
       "    <tr>\n",
       "      <th>28</th>\n",
       "      <td>HM74A</td>\n",
       "      <td>28.514944</td>\n",
       "      <td>28.854347</td>\n",
       "      <td>256.929953</td>\n",
       "      <td>257.274869</td>\n",
       "    </tr>\n",
       "    <tr>\n",
       "      <th>29</th>\n",
       "      <td>IUMEZ</td>\n",
       "      <td>28.475526</td>\n",
       "      <td>28.814944</td>\n",
       "      <td>257.064700</td>\n",
       "      <td>257.409616</td>\n",
       "    </tr>\n",
       "    <tr>\n",
       "      <th>30</th>\n",
       "      <td>KW43U</td>\n",
       "      <td>24.868369</td>\n",
       "      <td>25.209064</td>\n",
       "      <td>301.420680</td>\n",
       "      <td>301.765596</td>\n",
       "    </tr>\n",
       "    <tr>\n",
       "      <th>31</th>\n",
       "      <td>KZ9W9</td>\n",
       "      <td>28.475526</td>\n",
       "      <td>28.814944</td>\n",
       "      <td>256.974869</td>\n",
       "      <td>257.319784</td>\n",
       "    </tr>\n",
       "    <tr>\n",
       "      <th>32</th>\n",
       "      <td>NE7BV</td>\n",
       "      <td>28.672469</td>\n",
       "      <td>29.011813</td>\n",
       "      <td>256.929953</td>\n",
       "      <td>257.274869</td>\n",
       "    </tr>\n",
       "    <tr>\n",
       "      <th>33</th>\n",
       "      <td>P8JA5</td>\n",
       "      <td>28.396645</td>\n",
       "      <td>28.736092</td>\n",
       "      <td>257.064700</td>\n",
       "      <td>257.409616</td>\n",
       "    </tr>\n",
       "    <tr>\n",
       "      <th>34</th>\n",
       "      <td>PG3MI</td>\n",
       "      <td>33.906468</td>\n",
       "      <td>34.243672</td>\n",
       "      <td>61.601765</td>\n",
       "      <td>61.946681</td>\n",
       "    </tr>\n",
       "    <tr>\n",
       "      <th>35</th>\n",
       "      <td>PJNW1</td>\n",
       "      <td>28.554347</td>\n",
       "      <td>28.893736</td>\n",
       "      <td>257.019784</td>\n",
       "      <td>257.364700</td>\n",
       "    </tr>\n",
       "    <tr>\n",
       "      <th>36</th>\n",
       "      <td>PW0JT</td>\n",
       "      <td>28.514944</td>\n",
       "      <td>28.854347</td>\n",
       "      <td>256.750290</td>\n",
       "      <td>257.095206</td>\n",
       "    </tr>\n",
       "    <tr>\n",
       "      <th>37</th>\n",
       "      <td>QJHW4</td>\n",
       "      <td>34.203641</td>\n",
       "      <td>34.540714</td>\n",
       "      <td>61.287354</td>\n",
       "      <td>61.632270</td>\n",
       "    </tr>\n",
       "    <tr>\n",
       "      <th>38</th>\n",
       "      <td>S77YN</td>\n",
       "      <td>28.554347</td>\n",
       "      <td>28.893736</td>\n",
       "      <td>256.885037</td>\n",
       "      <td>257.229953</td>\n",
       "    </tr>\n",
       "    <tr>\n",
       "      <th>39</th>\n",
       "      <td>SZLMT</td>\n",
       "      <td>28.514944</td>\n",
       "      <td>28.854347</td>\n",
       "      <td>256.974869</td>\n",
       "      <td>257.319784</td>\n",
       "    </tr>\n",
       "    <tr>\n",
       "      <th>40</th>\n",
       "      <td>UC74Z</td>\n",
       "      <td>28.357182</td>\n",
       "      <td>28.696645</td>\n",
       "      <td>257.109616</td>\n",
       "      <td>257.454532</td>\n",
       "    </tr>\n",
       "    <tr>\n",
       "      <th>41</th>\n",
       "      <td>VBLD0</td>\n",
       "      <td>33.720203</td>\n",
       "      <td>34.057489</td>\n",
       "      <td>61.601765</td>\n",
       "      <td>61.946681</td>\n",
       "    </tr>\n",
       "    <tr>\n",
       "      <th>42</th>\n",
       "      <td>VR4WG</td>\n",
       "      <td>24.909064</td>\n",
       "      <td>25.249745</td>\n",
       "      <td>301.330849</td>\n",
       "      <td>301.675764</td>\n",
       "    </tr>\n",
       "    <tr>\n",
       "      <th>43</th>\n",
       "      <td>VXNN3</td>\n",
       "      <td>28.633110</td>\n",
       "      <td>28.972469</td>\n",
       "      <td>256.974869</td>\n",
       "      <td>257.319784</td>\n",
       "    </tr>\n",
       "    <tr>\n",
       "      <th>44</th>\n",
       "      <td>VYH7U</td>\n",
       "      <td>28.593736</td>\n",
       "      <td>28.933110</td>\n",
       "      <td>256.885037</td>\n",
       "      <td>257.229953</td>\n",
       "    </tr>\n",
       "    <tr>\n",
       "      <th>45</th>\n",
       "      <td>WT52R</td>\n",
       "      <td>33.757489</td>\n",
       "      <td>34.094758</td>\n",
       "      <td>62.949238</td>\n",
       "      <td>63.294154</td>\n",
       "    </tr>\n",
       "    <tr>\n",
       "      <th>46</th>\n",
       "      <td>WZNCR</td>\n",
       "      <td>28.396645</td>\n",
       "      <td>28.736092</td>\n",
       "      <td>256.974869</td>\n",
       "      <td>257.319784</td>\n",
       "    </tr>\n",
       "    <tr>\n",
       "      <th>47</th>\n",
       "      <td>X5DKW</td>\n",
       "      <td>33.869248</td>\n",
       "      <td>34.206468</td>\n",
       "      <td>62.230586</td>\n",
       "      <td>62.575501</td>\n",
       "    </tr>\n",
       "    <tr>\n",
       "      <th>48</th>\n",
       "      <td>XJF9O</td>\n",
       "      <td>24.868369</td>\n",
       "      <td>25.209064</td>\n",
       "      <td>301.330849</td>\n",
       "      <td>301.675764</td>\n",
       "    </tr>\n",
       "    <tr>\n",
       "      <th>49</th>\n",
       "      <td>XNLVD</td>\n",
       "      <td>24.949745</td>\n",
       "      <td>25.290413</td>\n",
       "      <td>301.330849</td>\n",
       "      <td>301.675764</td>\n",
       "    </tr>\n",
       "    <tr>\n",
       "      <th>50</th>\n",
       "      <td>YHOPV</td>\n",
       "      <td>28.475526</td>\n",
       "      <td>28.814944</td>\n",
       "      <td>257.109616</td>\n",
       "      <td>257.454532</td>\n",
       "    </tr>\n",
       "    <tr>\n",
       "      <th>51</th>\n",
       "      <td>ZF3ZW</td>\n",
       "      <td>28.514944</td>\n",
       "      <td>28.854347</td>\n",
       "      <td>256.885037</td>\n",
       "      <td>257.229953</td>\n",
       "    </tr>\n",
       "    <tr>\n",
       "      <th>52</th>\n",
       "      <td>ZP1FZ</td>\n",
       "      <td>33.980859</td>\n",
       "      <td>34.318031</td>\n",
       "      <td>61.961091</td>\n",
       "      <td>62.306007</td>\n",
       "    </tr>\n",
       "    <tr>\n",
       "      <th>53</th>\n",
       "      <td>ZZ8JF</td>\n",
       "      <td>33.496149</td>\n",
       "      <td>33.833532</td>\n",
       "      <td>62.500080</td>\n",
       "      <td>62.844996</td>\n",
       "    </tr>\n",
       "  </tbody>\n",
       "</table>\n",
       "</div>"
      ],
      "text/plain": [
       "   grid_id    min_lat    max_lat     min_lon     max_lon\n",
       "0    1X116  24.827661  25.168369  301.330849  301.675764\n",
       "1    1Z2W7  28.396645  28.736092  257.109616  257.454532\n",
       "2    3S31A  33.645584  33.982902   61.871259   62.216175\n",
       "3    6EIL6  28.396645  28.736092  256.885037  257.229953\n",
       "4    7334C  28.396645  28.736092  256.929953  257.274869\n",
       "5    78V83  28.396645  28.736092  256.750290  257.095206\n",
       "6    7F1D1  28.436092  28.775526  256.929953  257.274869\n",
       "7    8KNI6  28.317704  28.657182  257.109616  257.454532\n",
       "8    90BZ1  24.868369  25.209064  301.375764  301.720680\n",
       "9    90S79  28.475526  28.814944  257.019784  257.364700\n",
       "10   9Q6TA  24.909064  25.249745  301.375764  301.720680\n",
       "11   A2FBI  33.832011  34.169248   62.410249   62.755164\n",
       "12   A7UCQ  28.436092  28.775526  257.064700  257.409616\n",
       "13   AZJ0Z  28.554347  28.893736  257.064700  257.409616\n",
       "14   C7PGV  28.357182  28.696645  257.019784  257.364700\n",
       "15   CPR0W  28.514944  28.854347  257.109616  257.454532\n",
       "16   D72OT  28.554347  28.893736  256.974869  257.319784\n",
       "17   D7S1G  28.514944  28.854347  257.154532  257.499448\n",
       "18   DHO4M  34.018031  34.355185   61.467018   61.811933\n",
       "19   DJN0F  33.943672  34.280859   62.185670   62.530586\n",
       "20   E2AUK  28.436092  28.775526  256.840121  257.185037\n",
       "21   E5P9N  33.832011  34.169248   62.320417   62.665333\n",
       "22   FRITQ  33.682902  34.020203   61.646681   61.991596\n",
       "23   GAC6R  28.593736  28.933110  256.929953  257.274869\n",
       "24   GJLB2  28.317704  28.657182  256.929953  257.274869\n",
       "25   GVQXS  28.514944  28.854347  257.019784  257.364700\n",
       "26   H96P6  34.018031  34.355185   61.287354   61.632270\n",
       "27   HANW9  28.396645  28.736092  257.019784  257.364700\n",
       "28   HM74A  28.514944  28.854347  256.929953  257.274869\n",
       "29   IUMEZ  28.475526  28.814944  257.064700  257.409616\n",
       "30   KW43U  24.868369  25.209064  301.420680  301.765596\n",
       "31   KZ9W9  28.475526  28.814944  256.974869  257.319784\n",
       "32   NE7BV  28.672469  29.011813  256.929953  257.274869\n",
       "33   P8JA5  28.396645  28.736092  257.064700  257.409616\n",
       "34   PG3MI  33.906468  34.243672   61.601765   61.946681\n",
       "35   PJNW1  28.554347  28.893736  257.019784  257.364700\n",
       "36   PW0JT  28.514944  28.854347  256.750290  257.095206\n",
       "37   QJHW4  34.203641  34.540714   61.287354   61.632270\n",
       "38   S77YN  28.554347  28.893736  256.885037  257.229953\n",
       "39   SZLMT  28.514944  28.854347  256.974869  257.319784\n",
       "40   UC74Z  28.357182  28.696645  257.109616  257.454532\n",
       "41   VBLD0  33.720203  34.057489   61.601765   61.946681\n",
       "42   VR4WG  24.909064  25.249745  301.330849  301.675764\n",
       "43   VXNN3  28.633110  28.972469  256.974869  257.319784\n",
       "44   VYH7U  28.593736  28.933110  256.885037  257.229953\n",
       "45   WT52R  33.757489  34.094758   62.949238   63.294154\n",
       "46   WZNCR  28.396645  28.736092  256.974869  257.319784\n",
       "47   X5DKW  33.869248  34.206468   62.230586   62.575501\n",
       "48   XJF9O  24.868369  25.209064  301.330849  301.675764\n",
       "49   XNLVD  24.949745  25.290413  301.330849  301.675764\n",
       "50   YHOPV  28.475526  28.814944  257.109616  257.454532\n",
       "51   ZF3ZW  28.514944  28.854347  256.885037  257.229953\n",
       "52   ZP1FZ  33.980859  34.318031   61.961091   62.306007\n",
       "53   ZZ8JF  33.496149  33.833532   62.500080   62.844996"
      ]
     },
     "execution_count": 8,
     "metadata": {},
     "output_type": "execute_result"
    }
   ],
   "source": [
    "df_grids = pd.read_csv('../capstone/grid_metadata.csv')\n",
    "\n",
    "final_grid_ids = []\n",
    "final_min_lats = []\n",
    "final_max_lats = []\n",
    "final_min_lons = []\n",
    "final_max_lons = []\n",
    "\n",
    "#Note order is lon, lat for each of the comma separated values\n",
    "for index, row in df_grids.iterrows(): \n",
    "    lons = []\n",
    "    lats = []\n",
    "    grid_id = row['grid_id']\n",
    "    nums = row['wkt'][10:-2]\n",
    "    nums = nums.replace(',','')\n",
    "    pairs = nums.split(' ')\n",
    "    for i in range(10): \n",
    "        if i % 2 == 0: \n",
    "            lons.append(pairs[i])\n",
    "        else: \n",
    "            lats.append(pairs[i])\n",
    "    \n",
    "    # Adding +/- 0.125 guarantees we get at least 1, 0.25 degree forecast in the appropriate area (given GFS scale is larger than Sat. scale). \n",
    "    min_lat = float(min(lats)) - 0.15\n",
    "    max_lat = float(max(lats)) + 0.15\n",
    "    # Match our 0 to 360 longitudes in GFS data, vs the -180 to +180 longitudes here. \n",
    "    #If negative the max negative number is actually lower. \n",
    "    if float(max(lons)) < 0: \n",
    "        min_lon = float(max(lons)) + 180 - 0.15\n",
    "        max_lon = float(min(lons)) + 180 + 0.15\n",
    "    else: \n",
    "        min_lon = float(min(lons)) + 180 - 0.15\n",
    "        max_lon = float(max(lons)) + 180 + 0.15\n",
    "    \n",
    "    #Now append the appropriate scraped data to our lists to put into a dataframe. \n",
    "    final_grid_ids.append(grid_id)\n",
    "    final_min_lats.append(min_lat)\n",
    "    final_max_lats.append(max_lat)\n",
    "    final_min_lons.append(min_lon)\n",
    "    final_max_lons.append(max_lon) \n",
    "                        \n",
    "    \n",
    "    \n",
    "df_grids_clean = pd.DataFrame(columns = ['grid_id', 'min_lat', 'max_lat', 'min_lon', 'max_lon'])\n",
    "\n",
    "\n",
    "df_grids_clean['grid_id'] = final_grid_ids \n",
    "df_grids_clean['min_lat'] = final_min_lats\n",
    "df_grids_clean['max_lat'] = final_max_lats\n",
    "df_grids_clean['min_lon'] = final_min_lons\n",
    "df_grids_clean['max_lon'] = final_max_lons\n",
    "\n",
    "    \n",
    "df_grids_clean"
   ]
  },
  {
   "cell_type": "code",
   "execution_count": 9,
   "id": "f195e556-2572-40b7-abe3-3320c9a21860",
   "metadata": {},
   "outputs": [],
   "source": [
    "#Define lat/lon bounds of our regions of interest. \n",
    "#Note: We must convert the original lon bounds of -180, 180 --> 0, 360 to match the GFS data format. \n",
    "\n",
    "#Los Angeles\n",
    "la_min_lat = 30.01\n",
    "la_max_lat = 40.00\n",
    "la_min_lon = 49.46\n",
    "la_max_lon = 76.06\n",
    "la_bounds = [la_min_lat, la_max_lat, la_min_lon, la_max_lon]\n",
    "\n",
    "#Tapei\n",
    "tp_min_lat = 20.01\n",
    "tp_max_lat = 30.00\n",
    "tp_min_lon = 297.07\n",
    "tp_max_lon = 318.55\n",
    "tp_bounds = [tp_min_lat, tp_max_lat, tp_min_lon, tp_max_lon]\n",
    "\n",
    "#Delhi\n",
    "dl_min_lat = 20.01\n",
    "dl_max_lat = 30.00\n",
    "dl_min_lon = 243.85\n",
    "dl_max_lon = 260.82\n",
    "dl_bounds = [dl_min_lat, dl_max_lat, dl_min_lon, dl_max_lon]"
   ]
  },
  {
   "cell_type": "code",
   "execution_count": 10,
   "id": "f4347c97-44da-4fe8-874e-4ac6f8a3d6cd",
   "metadata": {},
   "outputs": [],
   "source": [
    "#Filter by appropriate lat/lon bounds\n",
    "def subset_dataset(dataset, min_lat, max_lat, min_lon, max_lon): \n",
    "    '''Takes a dataset and bounding coordinates and returns a filtered subset for the region of interest'''\n",
    "    mask_lat = np.logical_and(dataset.coords['latitude'] >= min_lat, dataset.coords['latitude'] <= max_lat)\n",
    "    mask_lon = np.logical_and(dataset.coords['longitude'] >= min_lon, dataset.coords['longitude'] <= max_lon)\n",
    "    ds_filt = dataset.where(mask_lat & mask_lon, drop = True)\n",
    "    return ds_filt"
   ]
  },
  {
   "cell_type": "code",
   "execution_count": 11,
   "id": "8653bcc3-4530-4967-aad6-23884387ff73",
   "metadata": {},
   "outputs": [],
   "source": [
    "def dataset_to_df(dataset, level, var_name, grid_id, time): \n",
    "    '''Convert xarray Dataset to Dataframe, Drop Unecessary Columns, Add Grid ID, and Rename Columns'''\n",
    "    df = dataset.to_dataframe(name = var_name)\n",
    "    df = df.drop(columns = [level, 'time', 'step', 'valid_time'])\n",
    "    df.insert(0, 'grid_id', grid_id)\n",
    "    df = df.rename(columns = {\"t\" : \"t_surface\" + time, \"hpbl\" : \"pbl_surface\" + time, \"landn\" : \"landn_surface\" + time, \"hindex\" : \"hindex_surface\" + time, \"gust\" : \"gust_surface\" + time, \n",
    "                              \"r\" : \"r_atmosphere\" + time, \"pwat\": \"pwat_atmosphere\" + time, \n",
    "                              \"u\" : \"u_pbl\" + time, \"v\": \"v_pbl\" + time, \"VRATE\" : \"vrate_pbl\" + time})\n",
    "    return df"
   ]
  },
  {
   "cell_type": "markdown",
   "id": "7081fec6-d1fb-4338-81d7-158ed7a71256",
   "metadata": {},
   "source": [
    "#### 2.) Download data from NCAR servers. "
   ]
  },
  {
   "cell_type": "code",
   "execution_count": 12,
   "id": "510f2bb0-8abe-474c-b7a9-e84985ae2c12",
   "metadata": {},
   "outputs": [],
   "source": [
    " ## First, we need to authenticate\n",
    "try:\n",
    "    import getpass\n",
    "    input = getpass.getpass\n",
    "except:\n",
    "    try:\n",
    "        input = raw_input\n",
    "    except:\n",
    "        pass"
   ]
  },
  {
   "cell_type": "code",
   "execution_count": 13,
   "id": "655d56a8-e57c-4377-a915-e87c42e79cbb",
   "metadata": {},
   "outputs": [
    {
     "name": "stdin",
     "output_type": "stream",
     "text": [
      "password:  ········\n"
     ]
    }
   ],
   "source": [
    "## Now, we need your password.\n",
    "pswd = input('password: ')"
   ]
  },
  {
   "cell_type": "code",
   "execution_count": 14,
   "id": "eb2d97c9-2936-4b01-ba49-b6a11f271fbb",
   "metadata": {},
   "outputs": [],
   "source": [
    "values = {'email' : 'srishtimehra@berkeley.edu', 'passwd' : pswd, 'action' : 'login'}\n",
    "login_url = 'https://rda.ucar.edu/cgi-bin/login'"
   ]
  },
  {
   "cell_type": "code",
   "execution_count": 15,
   "id": "08b1ff73-c160-4e64-8d30-d2c70a47a842",
   "metadata": {},
   "outputs": [],
   "source": [
    "ret = requests.post(login_url, data=values)\n",
    "if ret.status_code != 200:\n",
    "    print('Bad Authentication')\n",
    "    print(ret.text)\n",
    "    exit(1)"
   ]
  },
  {
   "cell_type": "code",
   "execution_count": 16,
   "id": "a89d207e-e3ef-4d9b-b6c2-fbf349c19374",
   "metadata": {},
   "outputs": [],
   "source": [
    "dspath = 'https://rda.ucar.edu/data/ds084.1/'\n",
    "save_dir = '/local/train/GFS/'\n",
    "filelist = []"
   ]
  },
  {
   "cell_type": "code",
   "execution_count": null,
   "id": "4cbbb568-038a-46fa-a68c-75f489ef8f7b",
   "metadata": {},
   "outputs": [],
   "source": [
    "#For identifying variable names and layers\n",
    "file = '2020' + '/' + '2020' + '01' + '01' + '/gfs.0p25.' + '2020' + '01' + '01' + '00' + '.f006.grib2'\n",
    "filename = dspath + file\n",
    "outfile = save_dir + os.path.basename(filename) \n",
    "print('Downloading', file)\n",
    "req = requests.get(filename, cookies = ret.cookies, allow_redirects=True)\n",
    "open(outfile, 'wb').write(req.content)\n",
    "filelist_arr = [save_dir + os.path.basename(file)]\n",
    "selected_file = widgets.Dropdown(options=filelist_arr, description='data file')\n",
    "display(selected_file)\n",
    "\n",
    "#Now we use xarray to open the file by the type_of_level we are interested in \n",
    "type_of_level1 = 'planetaryBoundaryLayer' # for Temperature and Planetary Boundary Layer Height\n",
    "ds_level_surface = xarray.open_dataset(selected_file.value, filter_by_keys={'typeOfLevel': type_of_level1}, engine=\"cfgrib\")\n",
    "(ds_level_surface.data_vars)\n"
   ]
  },
  {
   "cell_type": "code",
   "execution_count": null,
   "id": "fbb6bfc3-f3e2-4faa-9a0f-98da34a9b107",
   "metadata": {},
   "outputs": [],
   "source": [
    "xarray.set_options(display_expand_attrs = True, display_expand_data_vars = True, display_width = 200, display_max_rows = 200)\n",
    "print(ds_level_surface.data_vars)"
   ]
  },
  {
   "cell_type": "markdown",
   "id": "85ffcb97-91d5-48ad-ace2-64655666d1ac",
   "metadata": {},
   "source": [
    "### Figure out why data is corrupting. "
   ]
  },
  {
   "cell_type": "code",
   "execution_count": null,
   "id": "ba21d5c5-c2a7-4332-8868-0abd6d299151",
   "metadata": {},
   "outputs": [],
   "source": [
    "year = '2020'\n",
    "month = '01'\n",
    "day = '01'\n",
    "time  = '00'\n",
    "\n",
    "#For identifying variable names and layers\n",
    "file = '2020' + '/' + '2020' + '01' + '01' + '/gfs.0p25.' + '2020' + '01' + '01' + '00' + '.f006.grib2'\n",
    "filename = dspath + file\n",
    "outfile = save_dir + os.path.basename(filename) \n",
    "print('Downloading', file)\n",
    "req = requests.get(filename, cookies = ret.cookies, allow_redirects=True)\n",
    "open(outfile, 'wb').write(req.content)\n",
    "filelist_arr = [save_dir + os.path.basename(file)]\n",
    "selected_file = widgets.Dropdown(options=filelist_arr, description='data file')\n",
    "display(selected_file)\n",
    "\n",
    "\n",
    "final_df = pd.DataFrame()\n",
    "\n",
    "#Now we use xarray to open the file by the type_of_level we are interested in \n",
    "type_of_level1 = 'surface' # for Temperature and Planetary Boundary Layer Height, land cover, haines index, max surface wind speed \n",
    "type_of_level2 = 'atmosphereSingleLayer' # for Relative Humidity and preciptable water\n",
    "type_of_level3 = 'planetaryBoundaryLayer' # For U and V wind, and ventilation rate\n",
    "ds_level_surface = xarray.open_dataset(selected_file.value, filter_by_keys={'typeOfLevel': type_of_level1, 'stepType': 'instant'}, engine=\"cfgrib\")\n",
    "ds_level_atmosphere = xarray.open_dataset(selected_file.value, filter_by_keys={'typeOfLevel': type_of_level2}, engine=\"cfgrib\")\n",
    "ds_level_pbl = xarray.open_dataset(selected_file.value, filter_by_keys={'typeOfLevel': type_of_level3}, engine=\"cfgrib\")\n",
    "\n",
    "#Define surface variable names\n",
    "var_t = 't' #Temperature (K) \n",
    "var_hpbl = 'hpbl' #Planetary Boundary Layer Height (m)\n",
    "#var_landn = 'landn' #Land cover (0=sea, 1=land) (Proportion)\n",
    "var_hindex = 'hindex' #Haines index (fire index) \n",
    "var_gust = 'gust' #Wind speed (gust) (m s-1)\n",
    "\n",
    "#Define atmosphere single Layer variables\n",
    "var_r = 'r' #Relative Humidity %\n",
    "var_pwat = 'pwat' #Precipitable water (kg m-2)\n",
    "\n",
    "#Planetary Boundary Layer\n",
    "var_u = 'u' #u-component of wind (m s-1)\n",
    "var_v = 'v' #v-component of wind (m s-1)\n",
    "var_VRATE = 'VRATE' #Ventilation rate (m2 s-1)\n",
    "\n",
    "#Define filtered datasets (for each variable). \n",
    "#Surface \n",
    "ds_t = ds_level_surface[var_t] \n",
    "ds_hpbl = ds_level_surface[var_hpbl]\n",
    "#ds_landn = ds_level_surface[var_landn]\n",
    "ds_hindex = ds_level_surface[var_hindex]\n",
    "ds_gust = ds_level_surface[var_gust]\n",
    "\n",
    "#Atmosphere\n",
    "ds_r = ds_level_atmosphere[var_r]\n",
    "ds_pwat = ds_level_atmosphere[var_pwat]\n",
    "\n",
    "#Planetary Boundary Layer\n",
    "ds_u = ds_level_pbl[var_u]\n",
    "ds_v = ds_level_pbl[var_v]\n",
    "ds_VRATE =ds_level_pbl[var_VRATE]\n",
    "\n",
    "\n",
    "#Initialize empty dataframe to append each regional dataframe to\n",
    "daily_df = pd.DataFrame()\n",
    "for index, row in df_grids_clean.iterrows(): \n",
    "    grid_id = row['grid_id']\n",
    "    min_lat = row['min_lat']\n",
    "    max_lat = row['max_lat']\n",
    "    min_lon = row['min_lon']\n",
    "    max_lon = row['max_lon']\n",
    "\n",
    "    #Filter to bounds of 5x5km regions of interest. \n",
    "    #Surface\n",
    "    ds_t_filt = subset_dataset(ds_t, min_lat, max_lat, min_lon, max_lon)\n",
    "    ds_hpbl_filt = subset_dataset(ds_hpbl, min_lat, max_lat, min_lon, max_lon)\n",
    "    # ds_landn_filt = subset_dataset(ds_landn, min_lat, max_lat, min_lon, max_lon)\n",
    "    ds_hindex_filt = subset_dataset(ds_hindex, min_lat, max_lat, min_lon, max_lon)\n",
    "    ds_gust_filt = subset_dataset(ds_gust, min_lat, max_lat, min_lon, max_lon)\n",
    "\n",
    "    #Atmosphere\n",
    "    ds_r_filt = subset_dataset(ds_r, min_lat, max_lat, min_lon, max_lon)\n",
    "    ds_pwat_filt = subset_dataset(ds_pwat, min_lat, max_lat, min_lon, max_lon)\n",
    "\n",
    "    #PBL\n",
    "    ds_u_filt = subset_dataset(ds_u, min_lat, max_lat, min_lon, max_lon)\n",
    "    ds_v_filt = subset_dataset(ds_v, min_lat, max_lat, min_lon, max_lon)\n",
    "    ds_VRATE_filt = subset_dataset(ds_VRATE, min_lat, max_lat, min_lon, max_lon)\n",
    "\n",
    "\n",
    "    #Make sure we preserve the type of level (atmospheric) of the observation to preserve metadata within the variable names\n",
    "    ##Surface\n",
    "    df_t = dataset_to_df(ds_t_filt, 'surface', var_t, grid_id, time)\n",
    "    df_hpbl = dataset_to_df(ds_hpbl_filt, 'surface', var_hpbl, grid_id, time)\n",
    "    # df_landn = dataset_to_df(ds_landn_filt, 'surface', var_landn, grid_id, time)\n",
    "    df_hindex = dataset_to_df(ds_hindex_filt, 'surface', var_hindex, grid_id, time)\n",
    "    df_gust = dataset_to_df(ds_gust_filt, 'surface', var_gust, grid_id, time)\n",
    "\n",
    "    #Atmosphere\n",
    "    df_r = dataset_to_df(ds_r_filt, 'atmosphereSingleLayer', var_r, grid_id, time)\n",
    "    df_pwat = dataset_to_df(ds_pwat_filt, 'atmosphereSingleLayer', var_pwat, grid_id, time)\n",
    "\n",
    "    #PBL\n",
    "    df_u = dataset_to_df(ds_u_filt, 'planetaryBoundaryLayer', var_u, grid_id, time)\n",
    "    df_v = dataset_to_df(ds_v_filt, 'planetaryBoundaryLayer', var_v, grid_id, time)\n",
    "    df_VRATE = dataset_to_df(ds_VRATE_filt, 'planetaryBoundaryLayer', var_VRATE, grid_id, time)\n",
    "\n",
    "\n",
    "    #Now join all fields into same df\n",
    "    data_frames = [df_t, df_hpbl, df_hindex, df_gust, df_r, df_pwat, df_u, df_v, df_VRATE]\n",
    "\n",
    "    joined_df_current = reduce(lambda left,right: pd.merge(left,right, on=[\"latitude\", \"longitude\", \"grid_id\"],\n",
    "                        how = 'left'), data_frames)\n",
    "\n",
    "    # joined_df_current = pd.merge(df_t, df_pbl, on = [\"latitude\", \"longitude\", \"grid_id\"], how = \"left\")\n",
    "    # joined_df_current = pd.merge(joined_df_current, df_r, on = [\"latitude\", \"longitude\", \"grid_id\"], how = \"left\")\n",
    "\n",
    "    #Now concatenate current dataframe into final dataframe\n",
    "    if daily_df.empty: \n",
    "        daily_df = joined_df_current\n",
    "    else: \n",
    "        daily_df = pd.concat([daily_df, joined_df_current], axis = 0)\n",
    "\n",
    "     #Now we delete the .grib2 file so as to save memory. Otherwise, we'd be storing ~1tb of data. \n",
    "    if os.path.exists(outfile):\n",
    "        os.remove(outfile)\n",
    "    if os.path.exists(outfile + '.923a8.idx'):\n",
    "        os.remove(outfile + '.923a8.idx')\n",
    "\n",
    "    #Join the different forecast time dataframes together so that we have one column per forecast time. \n",
    "    if final_df.empty: \n",
    "        final_df = daily_df\n",
    "    else: \n",
    "        final_df = pd.merge(final_df, daily_df, on = [\"latitude\", \"longitude\", \"grid_id\"], how = \"left\")\n",
    "\n",
    "#final_df = final_df.groupby(by = 'grid_id').mean()\n",
    "final_df.insert(0, 'date', year + '-' + month + '-' + day)\n",
    "#final_df.reset_index(drop=True, inplace=True)\n",
    "\n",
    "\n",
    "#Convert to final_df to parquet, with the appropriate metadata in file name (will extract as field names later). \n",
    "out_parquet =  'gfs.0p25.' + year + month + day + '.f006.parquet'\n",
    "final_df\n",
    "#For now just upload to s3\n",
    "# filepath = '../train/GFS/parquet/' + out_parquet\n",
    "# final_df.to_parquet(path = filepath, engine = 'pyarrow')"
   ]
  },
  {
   "cell_type": "code",
   "execution_count": 17,
   "id": "7470ac63-2aaa-4842-8a3e-e4d1f19d1203",
   "metadata": {},
   "outputs": [],
   "source": [
    "def run_gfs_pipeline(years, months, days, times): \n",
    "    '''Pipeline the GFS data for specified times and specified variables, at the specified levels.\n",
    "       Output will be a parquet file with 1 row per unique lat/lon combination (within regions of interest). \n",
    "       Forecast times will be added column-wise so that there are 4 forecasts per variable per day per row.'''\n",
    "    for year in years: \n",
    "        for month in months: \n",
    "            for day in days: \n",
    "                final_df = pd.DataFrame()\n",
    "                for time in times:\n",
    "                    #In case file doesn't exist for a given date / time, continue to next day/time. \n",
    "                    try: \n",
    "                        #Download .glib2 file (temporarily) to scrape the desired fields. We will delete after use. \n",
    "                        file = year + '/' + year + month + day + '/gfs.0p25.' + year + month + day + time + '.f006.grib2'\n",
    "                        filename = dspath + file\n",
    "                        outfile = save_dir + os.path.basename(filename) \n",
    "                        print('Downloading', file)\n",
    "                        req = requests.get(filename, cookies = ret.cookies, allow_redirects=True)\n",
    "                        open(outfile, 'wb').write(req.content)\n",
    "                        filelist_arr = [save_dir + os.path.basename(file)]\n",
    "                        selected_file = widgets.Dropdown(options=filelist_arr, description='data file')\n",
    "                        display(selected_file)\n",
    "\n",
    "                        #Now we use xarray to open the file by the type_of_level we are interested in \n",
    "                        type_of_level1 = 'surface' # for Temperature and Planetary Boundary Layer Height, land cover, haines index, max surface wind speed \n",
    "                        type_of_level2 = 'atmosphereSingleLayer' # for Relative Humidity and preciptable water\n",
    "                        type_of_level3 = 'planetaryBoundaryLayer' # For U and V wind, and ventilation rate\n",
    "                        ds_level_surface = xarray.open_dataset(selected_file.value, filter_by_keys={'typeOfLevel': type_of_level1, 'stepType': 'instant'}, engine=\"cfgrib\")\n",
    "                        ds_level_atmosphere = xarray.open_dataset(selected_file.value, filter_by_keys={'typeOfLevel': type_of_level2}, engine=\"cfgrib\")\n",
    "                        ds_level_pbl = xarray.open_dataset(selected_file.value, filter_by_keys={'typeOfLevel': type_of_level3}, engine=\"cfgrib\")\n",
    "\n",
    "                        #Define surface variable names\n",
    "                        var_t = 't' #Temperature (K) \n",
    "                        var_hpbl = 'hpbl' #Planetary Boundary Layer Height (m)\n",
    "                        # var_landn = 'landn' #Land cover (0=sea, 1=land) (Proportion)\n",
    "                        var_hindex = 'hindex' #Haines index (fire index) \n",
    "                        var_gust = 'gust' #Wind speed (gust) (m s-1)\n",
    "\n",
    "                        #Define atmosphere single Layer variables\n",
    "                        var_r = 'r' #Relative Humidity %\n",
    "                        var_pwat = 'pwat' #Precipitable water (kg m-2)\n",
    "\n",
    "                        #Planetary Boundary Layer\n",
    "                        var_u = 'u' #u-component of wind (m s-1)\n",
    "                        var_v = 'v' #v-component of wind (m s-1)\n",
    "                        var_VRATE = 'VRATE' #Ventilation rate (m2 s-1)\n",
    "\n",
    "                        #Define filtered datasets (for each variable). \n",
    "                        #Surface \n",
    "                        ds_t = ds_level_surface[var_t] \n",
    "                        ds_hpbl = ds_level_surface[var_hpbl]\n",
    "                        # ds_landn = ds_level_surface[var_landn]\n",
    "                        ds_hindex = ds_level_surface[var_hindex]\n",
    "                        ds_gust = ds_level_surface[var_gust]\n",
    "\n",
    "                        #Atmosphere\n",
    "                        ds_r = ds_level_atmosphere[var_r]\n",
    "                        ds_pwat = ds_level_atmosphere[var_pwat]\n",
    "\n",
    "                        #Planetary Boundary Layer\n",
    "                        ds_u = ds_level_pbl[var_u]\n",
    "                        ds_v = ds_level_pbl[var_v]\n",
    "                        ds_VRATE =ds_level_pbl[var_VRATE]\n",
    "\n",
    "\n",
    "                        #Initialize empty dataframe to append each regional dataframe to\n",
    "                        daily_df = pd.DataFrame()\n",
    "                        for index, row in df_grids_clean.iterrows(): \n",
    "                            grid_id = row['grid_id']\n",
    "                            min_lat = row['min_lat']\n",
    "                            max_lat = row['max_lat']\n",
    "                            min_lon = row['min_lon']\n",
    "                            max_lon = row['max_lon']\n",
    "\n",
    "                            #Filter to bounds of 5x5km regions of interest. \n",
    "                            #Surface\n",
    "                            ds_t_filt = subset_dataset(ds_t, min_lat, max_lat, min_lon, max_lon)\n",
    "                            ds_hpbl_filt = subset_dataset(ds_hpbl, min_lat, max_lat, min_lon, max_lon)\n",
    "                            # ds_landn_filt = subset_dataset(ds_landn, min_lat, max_lat, min_lon, max_lon)\n",
    "                            ds_hindex_filt = subset_dataset(ds_hindex, min_lat, max_lat, min_lon, max_lon)\n",
    "                            ds_gust_filt = subset_dataset(ds_gust, min_lat, max_lat, min_lon, max_lon)\n",
    "\n",
    "                            #Atmosphere\n",
    "                            ds_r_filt = subset_dataset(ds_r, min_lat, max_lat, min_lon, max_lon)\n",
    "                            ds_pwat_filt = subset_dataset(ds_pwat, min_lat, max_lat, min_lon, max_lon)\n",
    "\n",
    "                            #PBL\n",
    "                            ds_u_filt = subset_dataset(ds_u, min_lat, max_lat, min_lon, max_lon)\n",
    "                            ds_v_filt = subset_dataset(ds_v, min_lat, max_lat, min_lon, max_lon)\n",
    "                            ds_VRATE_filt = subset_dataset(ds_VRATE, min_lat, max_lat, min_lon, max_lon)\n",
    "\n",
    "\n",
    "                            #Make sure we preserve the type of level (atmospheric) of the observation to preserve metadata within the variable names\n",
    "                            ##Surface\n",
    "                            df_t = dataset_to_df(ds_t_filt, 'surface', var_t, grid_id, time)\n",
    "                            df_hpbl = dataset_to_df(ds_hpbl_filt, 'surface', var_hpbl, grid_id, time)\n",
    "                            # df_landn = dataset_to_df(ds_landn_filt, 'surface', var_landn, grid_id, time)\n",
    "                            df_hindex = dataset_to_df(ds_hindex_filt, 'surface', var_hindex, grid_id, time)\n",
    "                            df_gust = dataset_to_df(ds_gust_filt, 'surface', var_gust, grid_id, time)\n",
    "\n",
    "                            #Atmosphere\n",
    "                            df_r = dataset_to_df(ds_r_filt, 'atmosphereSingleLayer', var_r, grid_id, time)\n",
    "                            df_pwat = dataset_to_df(ds_pwat_filt, 'atmosphereSingleLayer', var_pwat, grid_id, time)\n",
    "\n",
    "                            #PBL\n",
    "                            df_u = dataset_to_df(ds_u_filt, 'planetaryBoundaryLayer', var_u, grid_id, time)\n",
    "                            df_v = dataset_to_df(ds_v_filt, 'planetaryBoundaryLayer', var_v, grid_id, time)\n",
    "                            df_VRATE = dataset_to_df(ds_VRATE_filt, 'planetaryBoundaryLayer', var_VRATE, grid_id, time)\n",
    "\n",
    "\n",
    "                            #Now join all fields into same df\n",
    "                            data_frames = [df_t, df_hpbl, df_hindex, df_gust, df_r, df_pwat, df_u, df_v, df_VRATE]\n",
    "\n",
    "                            joined_df_current = reduce(lambda left,right: pd.merge(left,right, on=[\"latitude\", \"longitude\", \"grid_id\"],\n",
    "                                                how = 'left'), data_frames)\n",
    "\n",
    "                            # joined_df_current = pd.merge(df_t, df_pbl, on = [\"latitude\", \"longitude\", \"grid_id\"], how = \"left\")\n",
    "                            # joined_df_current = pd.merge(joined_df_current, df_r, on = [\"latitude\", \"longitude\", \"grid_id\"], how = \"left\")\n",
    "\n",
    "                            #Now concatenate current dataframe into final dataframe\n",
    "                            if daily_df.empty: \n",
    "                                daily_df = joined_df_current\n",
    "                            else: \n",
    "                                daily_df = pd.concat([daily_df, joined_df_current], axis = 0)\n",
    "\n",
    "                         #Now we delete the .grib2 file so as to save memory. Otherwise, we'd be storing ~1tb of data. \n",
    "                        if os.path.exists(outfile):\n",
    "                            os.remove(outfile)\n",
    "                        if os.path.exists(outfile + '.923a8.idx'):\n",
    "                            os.remove(outfile + '.923a8.idx')\n",
    "\n",
    "                        #Join the different forecast time dataframes together so that we have one column per forecast time. \n",
    "                        if final_df.empty: \n",
    "                            final_df = daily_df\n",
    "                        else: \n",
    "                            final_df = pd.merge(final_df, daily_df, on = [\"latitude\", \"longitude\", \"grid_id\"], how = \"left\")\n",
    "                    except: \n",
    "                        continue\n",
    "                try: \n",
    "                    #final_df = final_df.groupby(by = 'grid_id').mean()\n",
    "                    final_df.insert(0, 'date', year + '-' + month + '-' + day)\n",
    "                    #final_df.reset_index(drop=True, inplace=True)\n",
    "\n",
    "\n",
    "                    #Convert to final_df to parquet, with the appropriate metadata in file name (will extract as field names later). \n",
    "                    out_parquet =  'gfs.0p25.' + year + month + day + '.f006.parquet'\n",
    "\n",
    "                    #For now just upload to s3\n",
    "                    filepath = '../train/GFS/parquet/' + out_parquet\n",
    "                    final_df.to_parquet(path = filepath, engine = 'pyarrow')\n",
    "\n",
    "                    #Put file in read mode so we can upload to s3 / Databricks storage bucket. \n",
    "                    with open(filepath, 'rb') as data:\n",
    "                        s3.upload_fileobj(data, 'capstone-particulate-storage', out_parquet)\n",
    "                        \n",
    "                except: \n",
    "                    continue\n",
    "\n",
    "                        \n",
    "    print(\"Pipeline complete.\")"
   ]
  },
  {
   "cell_type": "code",
   "execution_count": null,
   "id": "e1cb7c67-58e9-4a2a-b7aa-5d64facb4bc8",
   "metadata": {},
   "outputs": [
    {
     "name": "stdout",
     "output_type": "stream",
     "text": [
      "Downloading 2020/20200101/gfs.0p25.2020010100.f006.grib2\n"
     ]
    },
    {
     "data": {
      "application/vnd.jupyter.widget-view+json": {
       "model_id": "dba3a5c436ee4cff8f6d354a2234d062",
       "version_major": 2,
       "version_minor": 0
      },
      "text/plain": [
       "Dropdown(description='data file', options=('/local/train/GFS/gfs.0p25.2020010100.f006.grib2',), value='/local/…"
      ]
     },
     "metadata": {},
     "output_type": "display_data"
    },
    {
     "name": "stderr",
     "output_type": "stream",
     "text": [
      "Ignoring index file '/local/train/GFS/gfs.0p25.2020010100.f006.grib2.923a8.idx' incompatible with GRIB file\n",
      "Ignoring index file '/local/train/GFS/gfs.0p25.2020010100.f006.grib2.923a8.idx' incompatible with GRIB file\n"
     ]
    },
    {
     "name": "stdout",
     "output_type": "stream",
     "text": [
      "Downloading 2020/20200101/gfs.0p25.2020010106.f006.grib2\n"
     ]
    },
    {
     "data": {
      "application/vnd.jupyter.widget-view+json": {
       "model_id": "6b95aa93099e4f62a3aaefbaedd0e198",
       "version_major": 2,
       "version_minor": 0
      },
      "text/plain": [
       "Dropdown(description='data file', options=('/local/train/GFS/gfs.0p25.2020010106.f006.grib2',), value='/local/…"
      ]
     },
     "metadata": {},
     "output_type": "display_data"
    },
    {
     "name": "stderr",
     "output_type": "stream",
     "text": [
      "Ignoring index file '/local/train/GFS/gfs.0p25.2020010106.f006.grib2.923a8.idx' older than GRIB file\n",
      "Ignoring index file '/local/train/GFS/gfs.0p25.2020010106.f006.grib2.923a8.idx' older than GRIB file\n",
      "Ignoring index file '/local/train/GFS/gfs.0p25.2020010106.f006.grib2.923a8.idx' older than GRIB file\n"
     ]
    },
    {
     "name": "stdout",
     "output_type": "stream",
     "text": [
      "Downloading 2020/20200101/gfs.0p25.2020010112.f006.grib2\n"
     ]
    },
    {
     "data": {
      "application/vnd.jupyter.widget-view+json": {
       "model_id": "601d356af647429186fef5ddf21fb6d5",
       "version_major": 2,
       "version_minor": 0
      },
      "text/plain": [
       "Dropdown(description='data file', options=('/local/train/GFS/gfs.0p25.2020010112.f006.grib2',), value='/local/…"
      ]
     },
     "metadata": {},
     "output_type": "display_data"
    },
    {
     "name": "stderr",
     "output_type": "stream",
     "text": [
      "Ignoring index file '/local/train/GFS/gfs.0p25.2020010112.f006.grib2.923a8.idx' older than GRIB file\n",
      "Ignoring index file '/local/train/GFS/gfs.0p25.2020010112.f006.grib2.923a8.idx' older than GRIB file\n",
      "Ignoring index file '/local/train/GFS/gfs.0p25.2020010112.f006.grib2.923a8.idx' older than GRIB file\n"
     ]
    },
    {
     "name": "stdout",
     "output_type": "stream",
     "text": [
      "Downloading 2020/20200101/gfs.0p25.2020010118.f006.grib2\n"
     ]
    },
    {
     "data": {
      "application/vnd.jupyter.widget-view+json": {
       "model_id": "17e23e6b31d948f699892acbe8e44a8f",
       "version_major": 2,
       "version_minor": 0
      },
      "text/plain": [
       "Dropdown(description='data file', options=('/local/train/GFS/gfs.0p25.2020010118.f006.grib2',), value='/local/…"
      ]
     },
     "metadata": {},
     "output_type": "display_data"
    },
    {
     "name": "stderr",
     "output_type": "stream",
     "text": [
      "Ignoring index file '/local/train/GFS/gfs.0p25.2020010118.f006.grib2.923a8.idx' older than GRIB file\n",
      "Ignoring index file '/local/train/GFS/gfs.0p25.2020010118.f006.grib2.923a8.idx' older than GRIB file\n",
      "Ignoring index file '/local/train/GFS/gfs.0p25.2020010118.f006.grib2.923a8.idx' older than GRIB file\n"
     ]
    },
    {
     "name": "stdout",
     "output_type": "stream",
     "text": [
      "Downloading 2020/20200102/gfs.0p25.2020010200.f006.grib2\n"
     ]
    },
    {
     "data": {
      "application/vnd.jupyter.widget-view+json": {
       "model_id": "aa6ccd69fa4247c9a6a6d48e027aa440",
       "version_major": 2,
       "version_minor": 0
      },
      "text/plain": [
       "Dropdown(description='data file', options=('/local/train/GFS/gfs.0p25.2020010200.f006.grib2',), value='/local/…"
      ]
     },
     "metadata": {},
     "output_type": "display_data"
    },
    {
     "name": "stderr",
     "output_type": "stream",
     "text": [
      "Ignoring index file '/local/train/GFS/gfs.0p25.2020010200.f006.grib2.923a8.idx' older than GRIB file\n",
      "Ignoring index file '/local/train/GFS/gfs.0p25.2020010200.f006.grib2.923a8.idx' older than GRIB file\n",
      "Ignoring index file '/local/train/GFS/gfs.0p25.2020010200.f006.grib2.923a8.idx' older than GRIB file\n"
     ]
    },
    {
     "name": "stdout",
     "output_type": "stream",
     "text": [
      "Downloading 2020/20200102/gfs.0p25.2020010206.f006.grib2\n"
     ]
    },
    {
     "data": {
      "application/vnd.jupyter.widget-view+json": {
       "model_id": "07235d58d7d4466cb06ffd62eaa89945",
       "version_major": 2,
       "version_minor": 0
      },
      "text/plain": [
       "Dropdown(description='data file', options=('/local/train/GFS/gfs.0p25.2020010206.f006.grib2',), value='/local/…"
      ]
     },
     "metadata": {},
     "output_type": "display_data"
    },
    {
     "name": "stderr",
     "output_type": "stream",
     "text": [
      "Ignoring index file '/local/train/GFS/gfs.0p25.2020010206.f006.grib2.923a8.idx' older than GRIB file\n",
      "Ignoring index file '/local/train/GFS/gfs.0p25.2020010206.f006.grib2.923a8.idx' older than GRIB file\n",
      "Ignoring index file '/local/train/GFS/gfs.0p25.2020010206.f006.grib2.923a8.idx' older than GRIB file\n"
     ]
    },
    {
     "name": "stdout",
     "output_type": "stream",
     "text": [
      "Downloading 2020/20200102/gfs.0p25.2020010212.f006.grib2\n"
     ]
    },
    {
     "data": {
      "application/vnd.jupyter.widget-view+json": {
       "model_id": "59cf52875d5a44f0a54fab3a045ce9f4",
       "version_major": 2,
       "version_minor": 0
      },
      "text/plain": [
       "Dropdown(description='data file', options=('/local/train/GFS/gfs.0p25.2020010212.f006.grib2',), value='/local/…"
      ]
     },
     "metadata": {},
     "output_type": "display_data"
    },
    {
     "name": "stderr",
     "output_type": "stream",
     "text": [
      "Ignoring index file '/local/train/GFS/gfs.0p25.2020010212.f006.grib2.923a8.idx' older than GRIB file\n",
      "Ignoring index file '/local/train/GFS/gfs.0p25.2020010212.f006.grib2.923a8.idx' older than GRIB file\n",
      "Ignoring index file '/local/train/GFS/gfs.0p25.2020010212.f006.grib2.923a8.idx' older than GRIB file\n"
     ]
    },
    {
     "name": "stdout",
     "output_type": "stream",
     "text": [
      "Downloading 2020/20200102/gfs.0p25.2020010218.f006.grib2\n"
     ]
    },
    {
     "data": {
      "application/vnd.jupyter.widget-view+json": {
       "model_id": "b1b4d388133641f6a32f8e5c2a0c1455",
       "version_major": 2,
       "version_minor": 0
      },
      "text/plain": [
       "Dropdown(description='data file', options=('/local/train/GFS/gfs.0p25.2020010218.f006.grib2',), value='/local/…"
      ]
     },
     "metadata": {},
     "output_type": "display_data"
    },
    {
     "name": "stderr",
     "output_type": "stream",
     "text": [
      "Ignoring index file '/local/train/GFS/gfs.0p25.2020010218.f006.grib2.923a8.idx' older than GRIB file\n",
      "Ignoring index file '/local/train/GFS/gfs.0p25.2020010218.f006.grib2.923a8.idx' older than GRIB file\n",
      "Ignoring index file '/local/train/GFS/gfs.0p25.2020010218.f006.grib2.923a8.idx' older than GRIB file\n"
     ]
    },
    {
     "name": "stdout",
     "output_type": "stream",
     "text": [
      "Downloading 2020/20200103/gfs.0p25.2020010300.f006.grib2\n"
     ]
    },
    {
     "data": {
      "application/vnd.jupyter.widget-view+json": {
       "model_id": "df9847bfba8140249951224d241c834b",
       "version_major": 2,
       "version_minor": 0
      },
      "text/plain": [
       "Dropdown(description='data file', options=('/local/train/GFS/gfs.0p25.2020010300.f006.grib2',), value='/local/…"
      ]
     },
     "metadata": {},
     "output_type": "display_data"
    },
    {
     "name": "stderr",
     "output_type": "stream",
     "text": [
      "Ignoring index file '/local/train/GFS/gfs.0p25.2020010300.f006.grib2.923a8.idx' incompatible with GRIB file\n",
      "Ignoring index file '/local/train/GFS/gfs.0p25.2020010300.f006.grib2.923a8.idx' incompatible with GRIB file\n"
     ]
    },
    {
     "name": "stdout",
     "output_type": "stream",
     "text": [
      "Downloading 2020/20200103/gfs.0p25.2020010306.f006.grib2\n"
     ]
    },
    {
     "data": {
      "application/vnd.jupyter.widget-view+json": {
       "model_id": "8c6fc3a3c37b49dfb993d403833eaefc",
       "version_major": 2,
       "version_minor": 0
      },
      "text/plain": [
       "Dropdown(description='data file', options=('/local/train/GFS/gfs.0p25.2020010306.f006.grib2',), value='/local/…"
      ]
     },
     "metadata": {},
     "output_type": "display_data"
    },
    {
     "name": "stderr",
     "output_type": "stream",
     "text": [
      "Ignoring index file '/local/train/GFS/gfs.0p25.2020010306.f006.grib2.923a8.idx' older than GRIB file\n",
      "Ignoring index file '/local/train/GFS/gfs.0p25.2020010306.f006.grib2.923a8.idx' older than GRIB file\n",
      "Ignoring index file '/local/train/GFS/gfs.0p25.2020010306.f006.grib2.923a8.idx' older than GRIB file\n"
     ]
    },
    {
     "name": "stdout",
     "output_type": "stream",
     "text": [
      "Downloading 2020/20200103/gfs.0p25.2020010312.f006.grib2\n"
     ]
    },
    {
     "data": {
      "application/vnd.jupyter.widget-view+json": {
       "model_id": "3607951646304614b84b964f965a72da",
       "version_major": 2,
       "version_minor": 0
      },
      "text/plain": [
       "Dropdown(description='data file', options=('/local/train/GFS/gfs.0p25.2020010312.f006.grib2',), value='/local/…"
      ]
     },
     "metadata": {},
     "output_type": "display_data"
    },
    {
     "name": "stderr",
     "output_type": "stream",
     "text": [
      "Ignoring index file '/local/train/GFS/gfs.0p25.2020010312.f006.grib2.923a8.idx' older than GRIB file\n",
      "Ignoring index file '/local/train/GFS/gfs.0p25.2020010312.f006.grib2.923a8.idx' older than GRIB file\n",
      "Ignoring index file '/local/train/GFS/gfs.0p25.2020010312.f006.grib2.923a8.idx' older than GRIB file\n"
     ]
    },
    {
     "name": "stdout",
     "output_type": "stream",
     "text": [
      "Downloading 2020/20200103/gfs.0p25.2020010318.f006.grib2\n"
     ]
    },
    {
     "data": {
      "application/vnd.jupyter.widget-view+json": {
       "model_id": "acb30849441b434096b7d95ff5f81045",
       "version_major": 2,
       "version_minor": 0
      },
      "text/plain": [
       "Dropdown(description='data file', options=('/local/train/GFS/gfs.0p25.2020010318.f006.grib2',), value='/local/…"
      ]
     },
     "metadata": {},
     "output_type": "display_data"
    },
    {
     "name": "stderr",
     "output_type": "stream",
     "text": [
      "Ignoring index file '/local/train/GFS/gfs.0p25.2020010318.f006.grib2.923a8.idx' older than GRIB file\n",
      "Ignoring index file '/local/train/GFS/gfs.0p25.2020010318.f006.grib2.923a8.idx' older than GRIB file\n",
      "Ignoring index file '/local/train/GFS/gfs.0p25.2020010318.f006.grib2.923a8.idx' older than GRIB file\n"
     ]
    },
    {
     "name": "stdout",
     "output_type": "stream",
     "text": [
      "Downloading 2020/20200104/gfs.0p25.2020010400.f006.grib2\n"
     ]
    },
    {
     "data": {
      "application/vnd.jupyter.widget-view+json": {
       "model_id": "4885dac1c595407aa3c4d2444ff446bb",
       "version_major": 2,
       "version_minor": 0
      },
      "text/plain": [
       "Dropdown(description='data file', options=('/local/train/GFS/gfs.0p25.2020010400.f006.grib2',), value='/local/…"
      ]
     },
     "metadata": {},
     "output_type": "display_data"
    },
    {
     "name": "stderr",
     "output_type": "stream",
     "text": [
      "Ignoring index file '/local/train/GFS/gfs.0p25.2020010400.f006.grib2.923a8.idx' older than GRIB file\n",
      "Ignoring index file '/local/train/GFS/gfs.0p25.2020010400.f006.grib2.923a8.idx' older than GRIB file\n",
      "Ignoring index file '/local/train/GFS/gfs.0p25.2020010400.f006.grib2.923a8.idx' older than GRIB file\n"
     ]
    },
    {
     "name": "stdout",
     "output_type": "stream",
     "text": [
      "Downloading 2020/20200104/gfs.0p25.2020010406.f006.grib2\n"
     ]
    },
    {
     "data": {
      "application/vnd.jupyter.widget-view+json": {
       "model_id": "f86749e65d61482eadaae606d875d4bb",
       "version_major": 2,
       "version_minor": 0
      },
      "text/plain": [
       "Dropdown(description='data file', options=('/local/train/GFS/gfs.0p25.2020010406.f006.grib2',), value='/local/…"
      ]
     },
     "metadata": {},
     "output_type": "display_data"
    },
    {
     "name": "stderr",
     "output_type": "stream",
     "text": [
      "Ignoring index file '/local/train/GFS/gfs.0p25.2020010406.f006.grib2.923a8.idx' incompatible with GRIB file\n",
      "Ignoring index file '/local/train/GFS/gfs.0p25.2020010406.f006.grib2.923a8.idx' incompatible with GRIB file\n"
     ]
    },
    {
     "name": "stdout",
     "output_type": "stream",
     "text": [
      "Downloading 2020/20200104/gfs.0p25.2020010412.f006.grib2\n"
     ]
    },
    {
     "data": {
      "application/vnd.jupyter.widget-view+json": {
       "model_id": "e6cc5be5fe0340e69a01efa23a77d228",
       "version_major": 2,
       "version_minor": 0
      },
      "text/plain": [
       "Dropdown(description='data file', options=('/local/train/GFS/gfs.0p25.2020010412.f006.grib2',), value='/local/…"
      ]
     },
     "metadata": {},
     "output_type": "display_data"
    },
    {
     "name": "stderr",
     "output_type": "stream",
     "text": [
      "Ignoring index file '/local/train/GFS/gfs.0p25.2020010412.f006.grib2.923a8.idx' incompatible with GRIB file\n",
      "Ignoring index file '/local/train/GFS/gfs.0p25.2020010412.f006.grib2.923a8.idx' incompatible with GRIB file\n"
     ]
    },
    {
     "name": "stdout",
     "output_type": "stream",
     "text": [
      "Downloading 2020/20200104/gfs.0p25.2020010418.f006.grib2\n"
     ]
    },
    {
     "data": {
      "application/vnd.jupyter.widget-view+json": {
       "model_id": "14368768e7004f7f8b419490d30002d6",
       "version_major": 2,
       "version_minor": 0
      },
      "text/plain": [
       "Dropdown(description='data file', options=('/local/train/GFS/gfs.0p25.2020010418.f006.grib2',), value='/local/…"
      ]
     },
     "metadata": {},
     "output_type": "display_data"
    },
    {
     "name": "stderr",
     "output_type": "stream",
     "text": [
      "Ignoring index file '/local/train/GFS/gfs.0p25.2020010418.f006.grib2.923a8.idx' incompatible with GRIB file\n",
      "Ignoring index file '/local/train/GFS/gfs.0p25.2020010418.f006.grib2.923a8.idx' incompatible with GRIB file\n"
     ]
    },
    {
     "name": "stdout",
     "output_type": "stream",
     "text": [
      "Downloading 2020/20200105/gfs.0p25.2020010500.f006.grib2\n"
     ]
    },
    {
     "data": {
      "application/vnd.jupyter.widget-view+json": {
       "model_id": "048ec2f82b9249868338e3e3bed81985",
       "version_major": 2,
       "version_minor": 0
      },
      "text/plain": [
       "Dropdown(description='data file', options=('/local/train/GFS/gfs.0p25.2020010500.f006.grib2',), value='/local/…"
      ]
     },
     "metadata": {},
     "output_type": "display_data"
    },
    {
     "name": "stderr",
     "output_type": "stream",
     "text": [
      "Ignoring index file '/local/train/GFS/gfs.0p25.2020010500.f006.grib2.923a8.idx' incompatible with GRIB file\n",
      "Ignoring index file '/local/train/GFS/gfs.0p25.2020010500.f006.grib2.923a8.idx' incompatible with GRIB file\n"
     ]
    },
    {
     "name": "stdout",
     "output_type": "stream",
     "text": [
      "Downloading 2020/20200105/gfs.0p25.2020010506.f006.grib2\n"
     ]
    },
    {
     "data": {
      "application/vnd.jupyter.widget-view+json": {
       "model_id": "9fec905223f2439c9d3fc2b0f8e07e4b",
       "version_major": 2,
       "version_minor": 0
      },
      "text/plain": [
       "Dropdown(description='data file', options=('/local/train/GFS/gfs.0p25.2020010506.f006.grib2',), value='/local/…"
      ]
     },
     "metadata": {},
     "output_type": "display_data"
    },
    {
     "name": "stderr",
     "output_type": "stream",
     "text": [
      "Ignoring index file '/local/train/GFS/gfs.0p25.2020010506.f006.grib2.923a8.idx' incompatible with GRIB file\n",
      "Ignoring index file '/local/train/GFS/gfs.0p25.2020010506.f006.grib2.923a8.idx' incompatible with GRIB file\n"
     ]
    },
    {
     "name": "stdout",
     "output_type": "stream",
     "text": [
      "Downloading 2020/20200105/gfs.0p25.2020010512.f006.grib2\n"
     ]
    },
    {
     "data": {
      "application/vnd.jupyter.widget-view+json": {
       "model_id": "02601646d43d4541baf563a2a0ff2422",
       "version_major": 2,
       "version_minor": 0
      },
      "text/plain": [
       "Dropdown(description='data file', options=('/local/train/GFS/gfs.0p25.2020010512.f006.grib2',), value='/local/…"
      ]
     },
     "metadata": {},
     "output_type": "display_data"
    },
    {
     "name": "stderr",
     "output_type": "stream",
     "text": [
      "Ignoring index file '/local/train/GFS/gfs.0p25.2020010512.f006.grib2.923a8.idx' incompatible with GRIB file\n",
      "Ignoring index file '/local/train/GFS/gfs.0p25.2020010512.f006.grib2.923a8.idx' incompatible with GRIB file\n"
     ]
    },
    {
     "name": "stdout",
     "output_type": "stream",
     "text": [
      "Downloading 2020/20200105/gfs.0p25.2020010518.f006.grib2\n"
     ]
    },
    {
     "data": {
      "application/vnd.jupyter.widget-view+json": {
       "model_id": "b6cf60fe37c04d018cd2967fc8b05ddf",
       "version_major": 2,
       "version_minor": 0
      },
      "text/plain": [
       "Dropdown(description='data file', options=('/local/train/GFS/gfs.0p25.2020010518.f006.grib2',), value='/local/…"
      ]
     },
     "metadata": {},
     "output_type": "display_data"
    },
    {
     "name": "stderr",
     "output_type": "stream",
     "text": [
      "Ignoring index file '/local/train/GFS/gfs.0p25.2020010518.f006.grib2.923a8.idx' incompatible with GRIB file\n",
      "Ignoring index file '/local/train/GFS/gfs.0p25.2020010518.f006.grib2.923a8.idx' incompatible with GRIB file\n"
     ]
    },
    {
     "name": "stdout",
     "output_type": "stream",
     "text": [
      "Downloading 2020/20200106/gfs.0p25.2020010600.f006.grib2\n"
     ]
    },
    {
     "data": {
      "application/vnd.jupyter.widget-view+json": {
       "model_id": "f539ffcd7b0f4d54985f71dc8126b53e",
       "version_major": 2,
       "version_minor": 0
      },
      "text/plain": [
       "Dropdown(description='data file', options=('/local/train/GFS/gfs.0p25.2020010600.f006.grib2',), value='/local/…"
      ]
     },
     "metadata": {},
     "output_type": "display_data"
    },
    {
     "name": "stderr",
     "output_type": "stream",
     "text": [
      "Ignoring index file '/local/train/GFS/gfs.0p25.2020010600.f006.grib2.923a8.idx' incompatible with GRIB file\n",
      "Ignoring index file '/local/train/GFS/gfs.0p25.2020010600.f006.grib2.923a8.idx' incompatible with GRIB file\n"
     ]
    },
    {
     "name": "stdout",
     "output_type": "stream",
     "text": [
      "Downloading 2020/20200106/gfs.0p25.2020010606.f006.grib2\n"
     ]
    },
    {
     "data": {
      "application/vnd.jupyter.widget-view+json": {
       "model_id": "a2d660921476407caeb46ae0e380690b",
       "version_major": 2,
       "version_minor": 0
      },
      "text/plain": [
       "Dropdown(description='data file', options=('/local/train/GFS/gfs.0p25.2020010606.f006.grib2',), value='/local/…"
      ]
     },
     "metadata": {},
     "output_type": "display_data"
    },
    {
     "name": "stderr",
     "output_type": "stream",
     "text": [
      "Ignoring index file '/local/train/GFS/gfs.0p25.2020010606.f006.grib2.923a8.idx' incompatible with GRIB file\n",
      "Ignoring index file '/local/train/GFS/gfs.0p25.2020010606.f006.grib2.923a8.idx' incompatible with GRIB file\n"
     ]
    },
    {
     "name": "stdout",
     "output_type": "stream",
     "text": [
      "Downloading 2020/20200106/gfs.0p25.2020010612.f006.grib2\n"
     ]
    },
    {
     "data": {
      "application/vnd.jupyter.widget-view+json": {
       "model_id": "4af0dcc7c00042238a1e0194d81ed73c",
       "version_major": 2,
       "version_minor": 0
      },
      "text/plain": [
       "Dropdown(description='data file', options=('/local/train/GFS/gfs.0p25.2020010612.f006.grib2',), value='/local/…"
      ]
     },
     "metadata": {},
     "output_type": "display_data"
    },
    {
     "name": "stderr",
     "output_type": "stream",
     "text": [
      "Ignoring index file '/local/train/GFS/gfs.0p25.2020010612.f006.grib2.923a8.idx' incompatible with GRIB file\n",
      "Ignoring index file '/local/train/GFS/gfs.0p25.2020010612.f006.grib2.923a8.idx' incompatible with GRIB file\n"
     ]
    },
    {
     "name": "stdout",
     "output_type": "stream",
     "text": [
      "Downloading 2020/20200106/gfs.0p25.2020010618.f006.grib2\n"
     ]
    },
    {
     "data": {
      "application/vnd.jupyter.widget-view+json": {
       "model_id": "2db01d052dae4750a7f88a3423777413",
       "version_major": 2,
       "version_minor": 0
      },
      "text/plain": [
       "Dropdown(description='data file', options=('/local/train/GFS/gfs.0p25.2020010618.f006.grib2',), value='/local/…"
      ]
     },
     "metadata": {},
     "output_type": "display_data"
    },
    {
     "name": "stderr",
     "output_type": "stream",
     "text": [
      "Ignoring index file '/local/train/GFS/gfs.0p25.2020010618.f006.grib2.923a8.idx' incompatible with GRIB file\n",
      "Ignoring index file '/local/train/GFS/gfs.0p25.2020010618.f006.grib2.923a8.idx' incompatible with GRIB file\n"
     ]
    },
    {
     "name": "stdout",
     "output_type": "stream",
     "text": [
      "Downloading 2020/20200107/gfs.0p25.2020010700.f006.grib2\n"
     ]
    },
    {
     "data": {
      "application/vnd.jupyter.widget-view+json": {
       "model_id": "ca8386d1d8be4632bd94f871abd7ae76",
       "version_major": 2,
       "version_minor": 0
      },
      "text/plain": [
       "Dropdown(description='data file', options=('/local/train/GFS/gfs.0p25.2020010700.f006.grib2',), value='/local/…"
      ]
     },
     "metadata": {},
     "output_type": "display_data"
    },
    {
     "name": "stderr",
     "output_type": "stream",
     "text": [
      "Ignoring index file '/local/train/GFS/gfs.0p25.2020010700.f006.grib2.923a8.idx' incompatible with GRIB file\n",
      "Ignoring index file '/local/train/GFS/gfs.0p25.2020010700.f006.grib2.923a8.idx' incompatible with GRIB file\n"
     ]
    },
    {
     "name": "stdout",
     "output_type": "stream",
     "text": [
      "Downloading 2020/20200107/gfs.0p25.2020010706.f006.grib2\n"
     ]
    },
    {
     "data": {
      "application/vnd.jupyter.widget-view+json": {
       "model_id": "c8e0c68f701545468f167ed288154506",
       "version_major": 2,
       "version_minor": 0
      },
      "text/plain": [
       "Dropdown(description='data file', options=('/local/train/GFS/gfs.0p25.2020010706.f006.grib2',), value='/local/…"
      ]
     },
     "metadata": {},
     "output_type": "display_data"
    },
    {
     "name": "stderr",
     "output_type": "stream",
     "text": [
      "Ignoring index file '/local/train/GFS/gfs.0p25.2020010706.f006.grib2.923a8.idx' incompatible with GRIB file\n",
      "Ignoring index file '/local/train/GFS/gfs.0p25.2020010706.f006.grib2.923a8.idx' incompatible with GRIB file\n"
     ]
    },
    {
     "name": "stdout",
     "output_type": "stream",
     "text": [
      "Downloading 2020/20200107/gfs.0p25.2020010712.f006.grib2\n"
     ]
    },
    {
     "data": {
      "application/vnd.jupyter.widget-view+json": {
       "model_id": "f82c79fbf61b49b2bc35131d9efa8da5",
       "version_major": 2,
       "version_minor": 0
      },
      "text/plain": [
       "Dropdown(description='data file', options=('/local/train/GFS/gfs.0p25.2020010712.f006.grib2',), value='/local/…"
      ]
     },
     "metadata": {},
     "output_type": "display_data"
    },
    {
     "name": "stderr",
     "output_type": "stream",
     "text": [
      "Ignoring index file '/local/train/GFS/gfs.0p25.2020010712.f006.grib2.923a8.idx' incompatible with GRIB file\n",
      "Ignoring index file '/local/train/GFS/gfs.0p25.2020010712.f006.grib2.923a8.idx' incompatible with GRIB file\n"
     ]
    },
    {
     "name": "stdout",
     "output_type": "stream",
     "text": [
      "Downloading 2020/20200107/gfs.0p25.2020010718.f006.grib2\n"
     ]
    },
    {
     "data": {
      "application/vnd.jupyter.widget-view+json": {
       "model_id": "2ee9ce573d1c467dabaf8b4a80e3b0cc",
       "version_major": 2,
       "version_minor": 0
      },
      "text/plain": [
       "Dropdown(description='data file', options=('/local/train/GFS/gfs.0p25.2020010718.f006.grib2',), value='/local/…"
      ]
     },
     "metadata": {},
     "output_type": "display_data"
    },
    {
     "name": "stderr",
     "output_type": "stream",
     "text": [
      "Ignoring index file '/local/train/GFS/gfs.0p25.2020010718.f006.grib2.923a8.idx' incompatible with GRIB file\n",
      "Ignoring index file '/local/train/GFS/gfs.0p25.2020010718.f006.grib2.923a8.idx' incompatible with GRIB file\n"
     ]
    },
    {
     "name": "stdout",
     "output_type": "stream",
     "text": [
      "Downloading 2020/20200108/gfs.0p25.2020010800.f006.grib2\n"
     ]
    },
    {
     "data": {
      "application/vnd.jupyter.widget-view+json": {
       "model_id": "0aab80c15716479e8b7a82c65d094dbd",
       "version_major": 2,
       "version_minor": 0
      },
      "text/plain": [
       "Dropdown(description='data file', options=('/local/train/GFS/gfs.0p25.2020010800.f006.grib2',), value='/local/…"
      ]
     },
     "metadata": {},
     "output_type": "display_data"
    },
    {
     "name": "stderr",
     "output_type": "stream",
     "text": [
      "Ignoring index file '/local/train/GFS/gfs.0p25.2020010800.f006.grib2.923a8.idx' incompatible with GRIB file\n",
      "Ignoring index file '/local/train/GFS/gfs.0p25.2020010800.f006.grib2.923a8.idx' incompatible with GRIB file\n"
     ]
    },
    {
     "name": "stdout",
     "output_type": "stream",
     "text": [
      "Downloading 2020/20200108/gfs.0p25.2020010806.f006.grib2\n"
     ]
    },
    {
     "data": {
      "application/vnd.jupyter.widget-view+json": {
       "model_id": "425a0e8f293d46e0956811360a74e5c4",
       "version_major": 2,
       "version_minor": 0
      },
      "text/plain": [
       "Dropdown(description='data file', options=('/local/train/GFS/gfs.0p25.2020010806.f006.grib2',), value='/local/…"
      ]
     },
     "metadata": {},
     "output_type": "display_data"
    },
    {
     "name": "stderr",
     "output_type": "stream",
     "text": [
      "Ignoring index file '/local/train/GFS/gfs.0p25.2020010806.f006.grib2.923a8.idx' incompatible with GRIB file\n",
      "Ignoring index file '/local/train/GFS/gfs.0p25.2020010806.f006.grib2.923a8.idx' incompatible with GRIB file\n"
     ]
    },
    {
     "name": "stdout",
     "output_type": "stream",
     "text": [
      "Downloading 2020/20200108/gfs.0p25.2020010812.f006.grib2\n"
     ]
    },
    {
     "data": {
      "application/vnd.jupyter.widget-view+json": {
       "model_id": "e08ebd81138243e7b44f8464a2cd2576",
       "version_major": 2,
       "version_minor": 0
      },
      "text/plain": [
       "Dropdown(description='data file', options=('/local/train/GFS/gfs.0p25.2020010812.f006.grib2',), value='/local/…"
      ]
     },
     "metadata": {},
     "output_type": "display_data"
    },
    {
     "name": "stderr",
     "output_type": "stream",
     "text": [
      "Ignoring index file '/local/train/GFS/gfs.0p25.2020010812.f006.grib2.923a8.idx' incompatible with GRIB file\n",
      "Ignoring index file '/local/train/GFS/gfs.0p25.2020010812.f006.grib2.923a8.idx' incompatible with GRIB file\n"
     ]
    },
    {
     "name": "stdout",
     "output_type": "stream",
     "text": [
      "Downloading 2020/20200108/gfs.0p25.2020010818.f006.grib2\n"
     ]
    },
    {
     "data": {
      "application/vnd.jupyter.widget-view+json": {
       "model_id": "2c308a65a0484780b3f35185ae2e0f5e",
       "version_major": 2,
       "version_minor": 0
      },
      "text/plain": [
       "Dropdown(description='data file', options=('/local/train/GFS/gfs.0p25.2020010818.f006.grib2',), value='/local/…"
      ]
     },
     "metadata": {},
     "output_type": "display_data"
    },
    {
     "name": "stderr",
     "output_type": "stream",
     "text": [
      "Ignoring index file '/local/train/GFS/gfs.0p25.2020010818.f006.grib2.923a8.idx' incompatible with GRIB file\n",
      "Ignoring index file '/local/train/GFS/gfs.0p25.2020010818.f006.grib2.923a8.idx' incompatible with GRIB file\n"
     ]
    },
    {
     "name": "stdout",
     "output_type": "stream",
     "text": [
      "Downloading 2020/20200109/gfs.0p25.2020010900.f006.grib2\n"
     ]
    },
    {
     "data": {
      "application/vnd.jupyter.widget-view+json": {
       "model_id": "f3152deb123147c99d7b110f43fc082d",
       "version_major": 2,
       "version_minor": 0
      },
      "text/plain": [
       "Dropdown(description='data file', options=('/local/train/GFS/gfs.0p25.2020010900.f006.grib2',), value='/local/…"
      ]
     },
     "metadata": {},
     "output_type": "display_data"
    },
    {
     "name": "stderr",
     "output_type": "stream",
     "text": [
      "Ignoring index file '/local/train/GFS/gfs.0p25.2020010900.f006.grib2.923a8.idx' incompatible with GRIB file\n",
      "Ignoring index file '/local/train/GFS/gfs.0p25.2020010900.f006.grib2.923a8.idx' incompatible with GRIB file\n"
     ]
    },
    {
     "name": "stdout",
     "output_type": "stream",
     "text": [
      "Downloading 2020/20200109/gfs.0p25.2020010906.f006.grib2\n"
     ]
    },
    {
     "data": {
      "application/vnd.jupyter.widget-view+json": {
       "model_id": "8865aa0f9a074d728bb0104ba8de3dd4",
       "version_major": 2,
       "version_minor": 0
      },
      "text/plain": [
       "Dropdown(description='data file', options=('/local/train/GFS/gfs.0p25.2020010906.f006.grib2',), value='/local/…"
      ]
     },
     "metadata": {},
     "output_type": "display_data"
    },
    {
     "name": "stderr",
     "output_type": "stream",
     "text": [
      "Ignoring index file '/local/train/GFS/gfs.0p25.2020010906.f006.grib2.923a8.idx' incompatible with GRIB file\n",
      "Ignoring index file '/local/train/GFS/gfs.0p25.2020010906.f006.grib2.923a8.idx' incompatible with GRIB file\n"
     ]
    },
    {
     "name": "stdout",
     "output_type": "stream",
     "text": [
      "Downloading 2020/20200109/gfs.0p25.2020010912.f006.grib2\n"
     ]
    },
    {
     "data": {
      "application/vnd.jupyter.widget-view+json": {
       "model_id": "633114690ccb4761b53145232b0b1052",
       "version_major": 2,
       "version_minor": 0
      },
      "text/plain": [
       "Dropdown(description='data file', options=('/local/train/GFS/gfs.0p25.2020010912.f006.grib2',), value='/local/…"
      ]
     },
     "metadata": {},
     "output_type": "display_data"
    },
    {
     "name": "stderr",
     "output_type": "stream",
     "text": [
      "Ignoring index file '/local/train/GFS/gfs.0p25.2020010912.f006.grib2.923a8.idx' incompatible with GRIB file\n",
      "Ignoring index file '/local/train/GFS/gfs.0p25.2020010912.f006.grib2.923a8.idx' incompatible with GRIB file\n"
     ]
    },
    {
     "name": "stdout",
     "output_type": "stream",
     "text": [
      "Downloading 2020/20200109/gfs.0p25.2020010918.f006.grib2\n"
     ]
    },
    {
     "data": {
      "application/vnd.jupyter.widget-view+json": {
       "model_id": "1f73d85808de4d29b934bb020e2ae022",
       "version_major": 2,
       "version_minor": 0
      },
      "text/plain": [
       "Dropdown(description='data file', options=('/local/train/GFS/gfs.0p25.2020010918.f006.grib2',), value='/local/…"
      ]
     },
     "metadata": {},
     "output_type": "display_data"
    },
    {
     "name": "stderr",
     "output_type": "stream",
     "text": [
      "Ignoring index file '/local/train/GFS/gfs.0p25.2020010918.f006.grib2.923a8.idx' incompatible with GRIB file\n",
      "Ignoring index file '/local/train/GFS/gfs.0p25.2020010918.f006.grib2.923a8.idx' incompatible with GRIB file\n"
     ]
    },
    {
     "name": "stdout",
     "output_type": "stream",
     "text": [
      "Downloading 2020/20200110/gfs.0p25.2020011000.f006.grib2\n"
     ]
    },
    {
     "data": {
      "application/vnd.jupyter.widget-view+json": {
       "model_id": "529451ec56864ff589b579d46f7e80bc",
       "version_major": 2,
       "version_minor": 0
      },
      "text/plain": [
       "Dropdown(description='data file', options=('/local/train/GFS/gfs.0p25.2020011000.f006.grib2',), value='/local/…"
      ]
     },
     "metadata": {},
     "output_type": "display_data"
    },
    {
     "name": "stderr",
     "output_type": "stream",
     "text": [
      "Ignoring index file '/local/train/GFS/gfs.0p25.2020011000.f006.grib2.923a8.idx' incompatible with GRIB file\n",
      "Ignoring index file '/local/train/GFS/gfs.0p25.2020011000.f006.grib2.923a8.idx' incompatible with GRIB file\n"
     ]
    },
    {
     "name": "stdout",
     "output_type": "stream",
     "text": [
      "Downloading 2020/20200110/gfs.0p25.2020011006.f006.grib2\n"
     ]
    },
    {
     "data": {
      "application/vnd.jupyter.widget-view+json": {
       "model_id": "572ab7e2495c45e59f30d035bdab9e5c",
       "version_major": 2,
       "version_minor": 0
      },
      "text/plain": [
       "Dropdown(description='data file', options=('/local/train/GFS/gfs.0p25.2020011006.f006.grib2',), value='/local/…"
      ]
     },
     "metadata": {},
     "output_type": "display_data"
    },
    {
     "name": "stderr",
     "output_type": "stream",
     "text": [
      "Ignoring index file '/local/train/GFS/gfs.0p25.2020011006.f006.grib2.923a8.idx' incompatible with GRIB file\n",
      "Ignoring index file '/local/train/GFS/gfs.0p25.2020011006.f006.grib2.923a8.idx' incompatible with GRIB file\n"
     ]
    },
    {
     "name": "stdout",
     "output_type": "stream",
     "text": [
      "Downloading 2020/20200110/gfs.0p25.2020011012.f006.grib2\n"
     ]
    },
    {
     "data": {
      "application/vnd.jupyter.widget-view+json": {
       "model_id": "0a487e0aa3c54d538dfa68f7ac6cad21",
       "version_major": 2,
       "version_minor": 0
      },
      "text/plain": [
       "Dropdown(description='data file', options=('/local/train/GFS/gfs.0p25.2020011012.f006.grib2',), value='/local/…"
      ]
     },
     "metadata": {},
     "output_type": "display_data"
    },
    {
     "name": "stderr",
     "output_type": "stream",
     "text": [
      "Ignoring index file '/local/train/GFS/gfs.0p25.2020011012.f006.grib2.923a8.idx' incompatible with GRIB file\n",
      "Ignoring index file '/local/train/GFS/gfs.0p25.2020011012.f006.grib2.923a8.idx' incompatible with GRIB file\n"
     ]
    },
    {
     "name": "stdout",
     "output_type": "stream",
     "text": [
      "Downloading 2020/20200110/gfs.0p25.2020011018.f006.grib2\n"
     ]
    },
    {
     "data": {
      "application/vnd.jupyter.widget-view+json": {
       "model_id": "0ad26bac6df740a98a7eaf7be8861f8a",
       "version_major": 2,
       "version_minor": 0
      },
      "text/plain": [
       "Dropdown(description='data file', options=('/local/train/GFS/gfs.0p25.2020011018.f006.grib2',), value='/local/…"
      ]
     },
     "metadata": {},
     "output_type": "display_data"
    },
    {
     "name": "stderr",
     "output_type": "stream",
     "text": [
      "Ignoring index file '/local/train/GFS/gfs.0p25.2020011018.f006.grib2.923a8.idx' incompatible with GRIB file\n",
      "Ignoring index file '/local/train/GFS/gfs.0p25.2020011018.f006.grib2.923a8.idx' incompatible with GRIB file\n"
     ]
    },
    {
     "name": "stdout",
     "output_type": "stream",
     "text": [
      "Downloading 2020/20200111/gfs.0p25.2020011100.f006.grib2\n"
     ]
    },
    {
     "data": {
      "application/vnd.jupyter.widget-view+json": {
       "model_id": "b9ae00a639e142b7a77c72b53d2247fa",
       "version_major": 2,
       "version_minor": 0
      },
      "text/plain": [
       "Dropdown(description='data file', options=('/local/train/GFS/gfs.0p25.2020011100.f006.grib2',), value='/local/…"
      ]
     },
     "metadata": {},
     "output_type": "display_data"
    },
    {
     "name": "stderr",
     "output_type": "stream",
     "text": [
      "Ignoring index file '/local/train/GFS/gfs.0p25.2020011100.f006.grib2.923a8.idx' incompatible with GRIB file\n",
      "Ignoring index file '/local/train/GFS/gfs.0p25.2020011100.f006.grib2.923a8.idx' incompatible with GRIB file\n"
     ]
    },
    {
     "name": "stdout",
     "output_type": "stream",
     "text": [
      "Downloading 2020/20200111/gfs.0p25.2020011106.f006.grib2\n"
     ]
    },
    {
     "data": {
      "application/vnd.jupyter.widget-view+json": {
       "model_id": "a2e37a17565b4e5fa8fbfc6deaedec9d",
       "version_major": 2,
       "version_minor": 0
      },
      "text/plain": [
       "Dropdown(description='data file', options=('/local/train/GFS/gfs.0p25.2020011106.f006.grib2',), value='/local/…"
      ]
     },
     "metadata": {},
     "output_type": "display_data"
    },
    {
     "name": "stderr",
     "output_type": "stream",
     "text": [
      "Ignoring index file '/local/train/GFS/gfs.0p25.2020011106.f006.grib2.923a8.idx' incompatible with GRIB file\n",
      "Ignoring index file '/local/train/GFS/gfs.0p25.2020011106.f006.grib2.923a8.idx' incompatible with GRIB file\n"
     ]
    },
    {
     "name": "stdout",
     "output_type": "stream",
     "text": [
      "Downloading 2020/20200111/gfs.0p25.2020011112.f006.grib2\n"
     ]
    },
    {
     "data": {
      "application/vnd.jupyter.widget-view+json": {
       "model_id": "89113e7527f947f6b0bab6d301d160b3",
       "version_major": 2,
       "version_minor": 0
      },
      "text/plain": [
       "Dropdown(description='data file', options=('/local/train/GFS/gfs.0p25.2020011112.f006.grib2',), value='/local/…"
      ]
     },
     "metadata": {},
     "output_type": "display_data"
    },
    {
     "name": "stderr",
     "output_type": "stream",
     "text": [
      "Ignoring index file '/local/train/GFS/gfs.0p25.2020011112.f006.grib2.923a8.idx' incompatible with GRIB file\n",
      "Ignoring index file '/local/train/GFS/gfs.0p25.2020011112.f006.grib2.923a8.idx' incompatible with GRIB file\n"
     ]
    },
    {
     "name": "stdout",
     "output_type": "stream",
     "text": [
      "Downloading 2020/20200111/gfs.0p25.2020011118.f006.grib2\n"
     ]
    },
    {
     "data": {
      "application/vnd.jupyter.widget-view+json": {
       "model_id": "c1e85acd50814c54a9fa92ec34e5cf90",
       "version_major": 2,
       "version_minor": 0
      },
      "text/plain": [
       "Dropdown(description='data file', options=('/local/train/GFS/gfs.0p25.2020011118.f006.grib2',), value='/local/…"
      ]
     },
     "metadata": {},
     "output_type": "display_data"
    },
    {
     "name": "stderr",
     "output_type": "stream",
     "text": [
      "Ignoring index file '/local/train/GFS/gfs.0p25.2020011118.f006.grib2.923a8.idx' incompatible with GRIB file\n",
      "Ignoring index file '/local/train/GFS/gfs.0p25.2020011118.f006.grib2.923a8.idx' incompatible with GRIB file\n"
     ]
    },
    {
     "name": "stdout",
     "output_type": "stream",
     "text": [
      "Downloading 2020/20200112/gfs.0p25.2020011200.f006.grib2\n"
     ]
    },
    {
     "data": {
      "application/vnd.jupyter.widget-view+json": {
       "model_id": "292dcf431f574a009cd844f640c43adf",
       "version_major": 2,
       "version_minor": 0
      },
      "text/plain": [
       "Dropdown(description='data file', options=('/local/train/GFS/gfs.0p25.2020011200.f006.grib2',), value='/local/…"
      ]
     },
     "metadata": {},
     "output_type": "display_data"
    },
    {
     "name": "stderr",
     "output_type": "stream",
     "text": [
      "Ignoring index file '/local/train/GFS/gfs.0p25.2020011200.f006.grib2.923a8.idx' incompatible with GRIB file\n",
      "Ignoring index file '/local/train/GFS/gfs.0p25.2020011200.f006.grib2.923a8.idx' incompatible with GRIB file\n"
     ]
    },
    {
     "name": "stdout",
     "output_type": "stream",
     "text": [
      "Downloading 2020/20200112/gfs.0p25.2020011206.f006.grib2\n"
     ]
    },
    {
     "data": {
      "application/vnd.jupyter.widget-view+json": {
       "model_id": "f7cdd4112f524d0a8f06e4efc3fb995d",
       "version_major": 2,
       "version_minor": 0
      },
      "text/plain": [
       "Dropdown(description='data file', options=('/local/train/GFS/gfs.0p25.2020011206.f006.grib2',), value='/local/…"
      ]
     },
     "metadata": {},
     "output_type": "display_data"
    },
    {
     "name": "stderr",
     "output_type": "stream",
     "text": [
      "Ignoring index file '/local/train/GFS/gfs.0p25.2020011206.f006.grib2.923a8.idx' incompatible with GRIB file\n",
      "Ignoring index file '/local/train/GFS/gfs.0p25.2020011206.f006.grib2.923a8.idx' incompatible with GRIB file\n"
     ]
    },
    {
     "name": "stdout",
     "output_type": "stream",
     "text": [
      "Downloading 2020/20200112/gfs.0p25.2020011212.f006.grib2\n"
     ]
    },
    {
     "data": {
      "application/vnd.jupyter.widget-view+json": {
       "model_id": "df24a8393dc24c7f958baf921830458a",
       "version_major": 2,
       "version_minor": 0
      },
      "text/plain": [
       "Dropdown(description='data file', options=('/local/train/GFS/gfs.0p25.2020011212.f006.grib2',), value='/local/…"
      ]
     },
     "metadata": {},
     "output_type": "display_data"
    },
    {
     "name": "stderr",
     "output_type": "stream",
     "text": [
      "Ignoring index file '/local/train/GFS/gfs.0p25.2020011212.f006.grib2.923a8.idx' incompatible with GRIB file\n",
      "Ignoring index file '/local/train/GFS/gfs.0p25.2020011212.f006.grib2.923a8.idx' incompatible with GRIB file\n"
     ]
    },
    {
     "name": "stdout",
     "output_type": "stream",
     "text": [
      "Downloading 2020/20200112/gfs.0p25.2020011218.f006.grib2\n"
     ]
    },
    {
     "data": {
      "application/vnd.jupyter.widget-view+json": {
       "model_id": "46ccb1a49b2d46c68ec775267eaa5566",
       "version_major": 2,
       "version_minor": 0
      },
      "text/plain": [
       "Dropdown(description='data file', options=('/local/train/GFS/gfs.0p25.2020011218.f006.grib2',), value='/local/…"
      ]
     },
     "metadata": {},
     "output_type": "display_data"
    },
    {
     "name": "stderr",
     "output_type": "stream",
     "text": [
      "Ignoring index file '/local/train/GFS/gfs.0p25.2020011218.f006.grib2.923a8.idx' incompatible with GRIB file\n",
      "Ignoring index file '/local/train/GFS/gfs.0p25.2020011218.f006.grib2.923a8.idx' incompatible with GRIB file\n"
     ]
    },
    {
     "name": "stdout",
     "output_type": "stream",
     "text": [
      "Downloading 2020/20200113/gfs.0p25.2020011300.f006.grib2\n"
     ]
    },
    {
     "data": {
      "application/vnd.jupyter.widget-view+json": {
       "model_id": "2c266d91c0644523a4460079d9e0fc6d",
       "version_major": 2,
       "version_minor": 0
      },
      "text/plain": [
       "Dropdown(description='data file', options=('/local/train/GFS/gfs.0p25.2020011300.f006.grib2',), value='/local/…"
      ]
     },
     "metadata": {},
     "output_type": "display_data"
    },
    {
     "name": "stderr",
     "output_type": "stream",
     "text": [
      "Ignoring index file '/local/train/GFS/gfs.0p25.2020011300.f006.grib2.923a8.idx' incompatible with GRIB file\n",
      "Ignoring index file '/local/train/GFS/gfs.0p25.2020011300.f006.grib2.923a8.idx' incompatible with GRIB file\n"
     ]
    },
    {
     "name": "stdout",
     "output_type": "stream",
     "text": [
      "Downloading 2020/20200113/gfs.0p25.2020011306.f006.grib2\n"
     ]
    },
    {
     "data": {
      "application/vnd.jupyter.widget-view+json": {
       "model_id": "0b874268885f4747a821069b75c449b5",
       "version_major": 2,
       "version_minor": 0
      },
      "text/plain": [
       "Dropdown(description='data file', options=('/local/train/GFS/gfs.0p25.2020011306.f006.grib2',), value='/local/…"
      ]
     },
     "metadata": {},
     "output_type": "display_data"
    },
    {
     "name": "stderr",
     "output_type": "stream",
     "text": [
      "Ignoring index file '/local/train/GFS/gfs.0p25.2020011306.f006.grib2.923a8.idx' incompatible with GRIB file\n",
      "Ignoring index file '/local/train/GFS/gfs.0p25.2020011306.f006.grib2.923a8.idx' incompatible with GRIB file\n"
     ]
    },
    {
     "name": "stdout",
     "output_type": "stream",
     "text": [
      "Downloading 2020/20200113/gfs.0p25.2020011312.f006.grib2\n"
     ]
    },
    {
     "data": {
      "application/vnd.jupyter.widget-view+json": {
       "model_id": "66cff946e4894486a6e70be67361fdd4",
       "version_major": 2,
       "version_minor": 0
      },
      "text/plain": [
       "Dropdown(description='data file', options=('/local/train/GFS/gfs.0p25.2020011312.f006.grib2',), value='/local/…"
      ]
     },
     "metadata": {},
     "output_type": "display_data"
    },
    {
     "name": "stderr",
     "output_type": "stream",
     "text": [
      "Ignoring index file '/local/train/GFS/gfs.0p25.2020011312.f006.grib2.923a8.idx' incompatible with GRIB file\n",
      "Ignoring index file '/local/train/GFS/gfs.0p25.2020011312.f006.grib2.923a8.idx' incompatible with GRIB file\n"
     ]
    },
    {
     "name": "stdout",
     "output_type": "stream",
     "text": [
      "Downloading 2020/20200113/gfs.0p25.2020011318.f006.grib2\n"
     ]
    },
    {
     "data": {
      "application/vnd.jupyter.widget-view+json": {
       "model_id": "b7cafa17b08f41459cc5cde7f70e84b5",
       "version_major": 2,
       "version_minor": 0
      },
      "text/plain": [
       "Dropdown(description='data file', options=('/local/train/GFS/gfs.0p25.2020011318.f006.grib2',), value='/local/…"
      ]
     },
     "metadata": {},
     "output_type": "display_data"
    },
    {
     "name": "stderr",
     "output_type": "stream",
     "text": [
      "Ignoring index file '/local/train/GFS/gfs.0p25.2020011318.f006.grib2.923a8.idx' incompatible with GRIB file\n",
      "Ignoring index file '/local/train/GFS/gfs.0p25.2020011318.f006.grib2.923a8.idx' incompatible with GRIB file\n"
     ]
    },
    {
     "name": "stdout",
     "output_type": "stream",
     "text": [
      "Downloading 2020/20200114/gfs.0p25.2020011400.f006.grib2\n"
     ]
    },
    {
     "data": {
      "application/vnd.jupyter.widget-view+json": {
       "model_id": "ff2d0debd1b444cc95cb151d232b352b",
       "version_major": 2,
       "version_minor": 0
      },
      "text/plain": [
       "Dropdown(description='data file', options=('/local/train/GFS/gfs.0p25.2020011400.f006.grib2',), value='/local/…"
      ]
     },
     "metadata": {},
     "output_type": "display_data"
    },
    {
     "name": "stderr",
     "output_type": "stream",
     "text": [
      "Ignoring index file '/local/train/GFS/gfs.0p25.2020011400.f006.grib2.923a8.idx' incompatible with GRIB file\n",
      "Ignoring index file '/local/train/GFS/gfs.0p25.2020011400.f006.grib2.923a8.idx' incompatible with GRIB file\n"
     ]
    },
    {
     "name": "stdout",
     "output_type": "stream",
     "text": [
      "Downloading 2020/20200114/gfs.0p25.2020011406.f006.grib2\n"
     ]
    },
    {
     "data": {
      "application/vnd.jupyter.widget-view+json": {
       "model_id": "d0ba6fff39654a20bb61183ac73de934",
       "version_major": 2,
       "version_minor": 0
      },
      "text/plain": [
       "Dropdown(description='data file', options=('/local/train/GFS/gfs.0p25.2020011406.f006.grib2',), value='/local/…"
      ]
     },
     "metadata": {},
     "output_type": "display_data"
    },
    {
     "name": "stderr",
     "output_type": "stream",
     "text": [
      "Ignoring index file '/local/train/GFS/gfs.0p25.2020011406.f006.grib2.923a8.idx' incompatible with GRIB file\n",
      "Ignoring index file '/local/train/GFS/gfs.0p25.2020011406.f006.grib2.923a8.idx' incompatible with GRIB file\n"
     ]
    },
    {
     "name": "stdout",
     "output_type": "stream",
     "text": [
      "Downloading 2020/20200114/gfs.0p25.2020011412.f006.grib2\n"
     ]
    },
    {
     "data": {
      "application/vnd.jupyter.widget-view+json": {
       "model_id": "5a70c232635342d8ad7bf8f3751bac00",
       "version_major": 2,
       "version_minor": 0
      },
      "text/plain": [
       "Dropdown(description='data file', options=('/local/train/GFS/gfs.0p25.2020011412.f006.grib2',), value='/local/…"
      ]
     },
     "metadata": {},
     "output_type": "display_data"
    },
    {
     "name": "stderr",
     "output_type": "stream",
     "text": [
      "Ignoring index file '/local/train/GFS/gfs.0p25.2020011412.f006.grib2.923a8.idx' incompatible with GRIB file\n",
      "Ignoring index file '/local/train/GFS/gfs.0p25.2020011412.f006.grib2.923a8.idx' incompatible with GRIB file\n"
     ]
    },
    {
     "name": "stdout",
     "output_type": "stream",
     "text": [
      "Downloading 2020/20200114/gfs.0p25.2020011418.f006.grib2\n"
     ]
    },
    {
     "data": {
      "application/vnd.jupyter.widget-view+json": {
       "model_id": "18c37db2d58c450db270e9bb35572b5b",
       "version_major": 2,
       "version_minor": 0
      },
      "text/plain": [
       "Dropdown(description='data file', options=('/local/train/GFS/gfs.0p25.2020011418.f006.grib2',), value='/local/…"
      ]
     },
     "metadata": {},
     "output_type": "display_data"
    },
    {
     "name": "stderr",
     "output_type": "stream",
     "text": [
      "Ignoring index file '/local/train/GFS/gfs.0p25.2020011418.f006.grib2.923a8.idx' incompatible with GRIB file\n",
      "Ignoring index file '/local/train/GFS/gfs.0p25.2020011418.f006.grib2.923a8.idx' incompatible with GRIB file\n"
     ]
    },
    {
     "name": "stdout",
     "output_type": "stream",
     "text": [
      "Downloading 2020/20200115/gfs.0p25.2020011500.f006.grib2\n"
     ]
    },
    {
     "data": {
      "application/vnd.jupyter.widget-view+json": {
       "model_id": "babaf0218d8f4f1ca7e26da0f5b5a206",
       "version_major": 2,
       "version_minor": 0
      },
      "text/plain": [
       "Dropdown(description='data file', options=('/local/train/GFS/gfs.0p25.2020011500.f006.grib2',), value='/local/…"
      ]
     },
     "metadata": {},
     "output_type": "display_data"
    },
    {
     "name": "stderr",
     "output_type": "stream",
     "text": [
      "Ignoring index file '/local/train/GFS/gfs.0p25.2020011500.f006.grib2.923a8.idx' incompatible with GRIB file\n",
      "Ignoring index file '/local/train/GFS/gfs.0p25.2020011500.f006.grib2.923a8.idx' incompatible with GRIB file\n"
     ]
    },
    {
     "name": "stdout",
     "output_type": "stream",
     "text": [
      "Downloading 2020/20200115/gfs.0p25.2020011506.f006.grib2\n"
     ]
    },
    {
     "data": {
      "application/vnd.jupyter.widget-view+json": {
       "model_id": "498b7c41d82842d197831c503f5e3f04",
       "version_major": 2,
       "version_minor": 0
      },
      "text/plain": [
       "Dropdown(description='data file', options=('/local/train/GFS/gfs.0p25.2020011506.f006.grib2',), value='/local/…"
      ]
     },
     "metadata": {},
     "output_type": "display_data"
    },
    {
     "name": "stderr",
     "output_type": "stream",
     "text": [
      "Ignoring index file '/local/train/GFS/gfs.0p25.2020011506.f006.grib2.923a8.idx' incompatible with GRIB file\n",
      "Ignoring index file '/local/train/GFS/gfs.0p25.2020011506.f006.grib2.923a8.idx' incompatible with GRIB file\n"
     ]
    },
    {
     "name": "stdout",
     "output_type": "stream",
     "text": [
      "Downloading 2020/20200115/gfs.0p25.2020011512.f006.grib2\n"
     ]
    },
    {
     "data": {
      "application/vnd.jupyter.widget-view+json": {
       "model_id": "9959ae7cf3564adc944a7700fd0f448c",
       "version_major": 2,
       "version_minor": 0
      },
      "text/plain": [
       "Dropdown(description='data file', options=('/local/train/GFS/gfs.0p25.2020011512.f006.grib2',), value='/local/…"
      ]
     },
     "metadata": {},
     "output_type": "display_data"
    },
    {
     "name": "stderr",
     "output_type": "stream",
     "text": [
      "Ignoring index file '/local/train/GFS/gfs.0p25.2020011512.f006.grib2.923a8.idx' incompatible with GRIB file\n",
      "Ignoring index file '/local/train/GFS/gfs.0p25.2020011512.f006.grib2.923a8.idx' incompatible with GRIB file\n"
     ]
    },
    {
     "name": "stdout",
     "output_type": "stream",
     "text": [
      "Downloading 2020/20200115/gfs.0p25.2020011518.f006.grib2\n"
     ]
    },
    {
     "data": {
      "application/vnd.jupyter.widget-view+json": {
       "model_id": "c86e0f0e75774fffafdf975bf0d935af",
       "version_major": 2,
       "version_minor": 0
      },
      "text/plain": [
       "Dropdown(description='data file', options=('/local/train/GFS/gfs.0p25.2020011518.f006.grib2',), value='/local/…"
      ]
     },
     "metadata": {},
     "output_type": "display_data"
    },
    {
     "name": "stderr",
     "output_type": "stream",
     "text": [
      "Ignoring index file '/local/train/GFS/gfs.0p25.2020011518.f006.grib2.923a8.idx' incompatible with GRIB file\n",
      "Ignoring index file '/local/train/GFS/gfs.0p25.2020011518.f006.grib2.923a8.idx' incompatible with GRIB file\n"
     ]
    },
    {
     "name": "stdout",
     "output_type": "stream",
     "text": [
      "Downloading 2020/20200116/gfs.0p25.2020011600.f006.grib2\n"
     ]
    },
    {
     "data": {
      "application/vnd.jupyter.widget-view+json": {
       "model_id": "6bd068589cb24cb6a1ff1fbfaf5c1c4a",
       "version_major": 2,
       "version_minor": 0
      },
      "text/plain": [
       "Dropdown(description='data file', options=('/local/train/GFS/gfs.0p25.2020011600.f006.grib2',), value='/local/…"
      ]
     },
     "metadata": {},
     "output_type": "display_data"
    },
    {
     "name": "stderr",
     "output_type": "stream",
     "text": [
      "Ignoring index file '/local/train/GFS/gfs.0p25.2020011600.f006.grib2.923a8.idx' incompatible with GRIB file\n",
      "Ignoring index file '/local/train/GFS/gfs.0p25.2020011600.f006.grib2.923a8.idx' incompatible with GRIB file\n"
     ]
    },
    {
     "name": "stdout",
     "output_type": "stream",
     "text": [
      "Downloading 2020/20200116/gfs.0p25.2020011606.f006.grib2\n"
     ]
    },
    {
     "data": {
      "application/vnd.jupyter.widget-view+json": {
       "model_id": "c281b9ba29b24f4c853f6bfff023eacf",
       "version_major": 2,
       "version_minor": 0
      },
      "text/plain": [
       "Dropdown(description='data file', options=('/local/train/GFS/gfs.0p25.2020011606.f006.grib2',), value='/local/…"
      ]
     },
     "metadata": {},
     "output_type": "display_data"
    },
    {
     "name": "stderr",
     "output_type": "stream",
     "text": [
      "Ignoring index file '/local/train/GFS/gfs.0p25.2020011606.f006.grib2.923a8.idx' incompatible with GRIB file\n",
      "Ignoring index file '/local/train/GFS/gfs.0p25.2020011606.f006.grib2.923a8.idx' incompatible with GRIB file\n"
     ]
    },
    {
     "name": "stdout",
     "output_type": "stream",
     "text": [
      "Downloading 2020/20200116/gfs.0p25.2020011612.f006.grib2\n"
     ]
    },
    {
     "data": {
      "application/vnd.jupyter.widget-view+json": {
       "model_id": "b366a6846d134a108b36c78fa4f96543",
       "version_major": 2,
       "version_minor": 0
      },
      "text/plain": [
       "Dropdown(description='data file', options=('/local/train/GFS/gfs.0p25.2020011612.f006.grib2',), value='/local/…"
      ]
     },
     "metadata": {},
     "output_type": "display_data"
    },
    {
     "name": "stderr",
     "output_type": "stream",
     "text": [
      "Ignoring index file '/local/train/GFS/gfs.0p25.2020011612.f006.grib2.923a8.idx' incompatible with GRIB file\n",
      "Ignoring index file '/local/train/GFS/gfs.0p25.2020011612.f006.grib2.923a8.idx' incompatible with GRIB file\n"
     ]
    },
    {
     "name": "stdout",
     "output_type": "stream",
     "text": [
      "Downloading 2020/20200116/gfs.0p25.2020011618.f006.grib2\n"
     ]
    },
    {
     "data": {
      "application/vnd.jupyter.widget-view+json": {
       "model_id": "6459d89b23194e68aa049e07fca0ed92",
       "version_major": 2,
       "version_minor": 0
      },
      "text/plain": [
       "Dropdown(description='data file', options=('/local/train/GFS/gfs.0p25.2020011618.f006.grib2',), value='/local/…"
      ]
     },
     "metadata": {},
     "output_type": "display_data"
    },
    {
     "name": "stderr",
     "output_type": "stream",
     "text": [
      "Ignoring index file '/local/train/GFS/gfs.0p25.2020011618.f006.grib2.923a8.idx' incompatible with GRIB file\n",
      "Ignoring index file '/local/train/GFS/gfs.0p25.2020011618.f006.grib2.923a8.idx' incompatible with GRIB file\n"
     ]
    },
    {
     "name": "stdout",
     "output_type": "stream",
     "text": [
      "Downloading 2020/20200117/gfs.0p25.2020011700.f006.grib2\n"
     ]
    },
    {
     "data": {
      "application/vnd.jupyter.widget-view+json": {
       "model_id": "1134c32d766e43d08c9d08cbb69b676e",
       "version_major": 2,
       "version_minor": 0
      },
      "text/plain": [
       "Dropdown(description='data file', options=('/local/train/GFS/gfs.0p25.2020011700.f006.grib2',), value='/local/…"
      ]
     },
     "metadata": {},
     "output_type": "display_data"
    },
    {
     "name": "stderr",
     "output_type": "stream",
     "text": [
      "Ignoring index file '/local/train/GFS/gfs.0p25.2020011700.f006.grib2.923a8.idx' incompatible with GRIB file\n",
      "Ignoring index file '/local/train/GFS/gfs.0p25.2020011700.f006.grib2.923a8.idx' incompatible with GRIB file\n"
     ]
    },
    {
     "name": "stdout",
     "output_type": "stream",
     "text": [
      "Downloading 2020/20200117/gfs.0p25.2020011706.f006.grib2\n"
     ]
    },
    {
     "data": {
      "application/vnd.jupyter.widget-view+json": {
       "model_id": "698fb244870842e1a89800cec8262a5f",
       "version_major": 2,
       "version_minor": 0
      },
      "text/plain": [
       "Dropdown(description='data file', options=('/local/train/GFS/gfs.0p25.2020011706.f006.grib2',), value='/local/…"
      ]
     },
     "metadata": {},
     "output_type": "display_data"
    },
    {
     "name": "stderr",
     "output_type": "stream",
     "text": [
      "Ignoring index file '/local/train/GFS/gfs.0p25.2020011706.f006.grib2.923a8.idx' incompatible with GRIB file\n",
      "Ignoring index file '/local/train/GFS/gfs.0p25.2020011706.f006.grib2.923a8.idx' incompatible with GRIB file\n"
     ]
    },
    {
     "name": "stdout",
     "output_type": "stream",
     "text": [
      "Downloading 2020/20200117/gfs.0p25.2020011712.f006.grib2\n"
     ]
    },
    {
     "data": {
      "application/vnd.jupyter.widget-view+json": {
       "model_id": "3c4afdbb25714c5688e9827730ea99f3",
       "version_major": 2,
       "version_minor": 0
      },
      "text/plain": [
       "Dropdown(description='data file', options=('/local/train/GFS/gfs.0p25.2020011712.f006.grib2',), value='/local/…"
      ]
     },
     "metadata": {},
     "output_type": "display_data"
    },
    {
     "name": "stderr",
     "output_type": "stream",
     "text": [
      "Ignoring index file '/local/train/GFS/gfs.0p25.2020011712.f006.grib2.923a8.idx' incompatible with GRIB file\n",
      "Ignoring index file '/local/train/GFS/gfs.0p25.2020011712.f006.grib2.923a8.idx' incompatible with GRIB file\n"
     ]
    },
    {
     "name": "stdout",
     "output_type": "stream",
     "text": [
      "Downloading 2020/20200117/gfs.0p25.2020011718.f006.grib2\n"
     ]
    },
    {
     "data": {
      "application/vnd.jupyter.widget-view+json": {
       "model_id": "820a7a06c0bd4199bbb7a1e8ea0439c3",
       "version_major": 2,
       "version_minor": 0
      },
      "text/plain": [
       "Dropdown(description='data file', options=('/local/train/GFS/gfs.0p25.2020011718.f006.grib2',), value='/local/…"
      ]
     },
     "metadata": {},
     "output_type": "display_data"
    },
    {
     "name": "stderr",
     "output_type": "stream",
     "text": [
      "Ignoring index file '/local/train/GFS/gfs.0p25.2020011718.f006.grib2.923a8.idx' incompatible with GRIB file\n",
      "Ignoring index file '/local/train/GFS/gfs.0p25.2020011718.f006.grib2.923a8.idx' incompatible with GRIB file\n"
     ]
    },
    {
     "name": "stdout",
     "output_type": "stream",
     "text": [
      "Downloading 2020/20200118/gfs.0p25.2020011800.f006.grib2\n"
     ]
    },
    {
     "data": {
      "application/vnd.jupyter.widget-view+json": {
       "model_id": "6d106edce54d4a1692c372600bf9e75d",
       "version_major": 2,
       "version_minor": 0
      },
      "text/plain": [
       "Dropdown(description='data file', options=('/local/train/GFS/gfs.0p25.2020011800.f006.grib2',), value='/local/…"
      ]
     },
     "metadata": {},
     "output_type": "display_data"
    },
    {
     "name": "stderr",
     "output_type": "stream",
     "text": [
      "Ignoring index file '/local/train/GFS/gfs.0p25.2020011800.f006.grib2.923a8.idx' incompatible with GRIB file\n",
      "Ignoring index file '/local/train/GFS/gfs.0p25.2020011800.f006.grib2.923a8.idx' incompatible with GRIB file\n"
     ]
    },
    {
     "name": "stdout",
     "output_type": "stream",
     "text": [
      "Downloading 2020/20200118/gfs.0p25.2020011806.f006.grib2\n"
     ]
    },
    {
     "data": {
      "application/vnd.jupyter.widget-view+json": {
       "model_id": "950f26e9b1e84b64b8eaf79cdab36a60",
       "version_major": 2,
       "version_minor": 0
      },
      "text/plain": [
       "Dropdown(description='data file', options=('/local/train/GFS/gfs.0p25.2020011806.f006.grib2',), value='/local/…"
      ]
     },
     "metadata": {},
     "output_type": "display_data"
    },
    {
     "name": "stderr",
     "output_type": "stream",
     "text": [
      "Ignoring index file '/local/train/GFS/gfs.0p25.2020011806.f006.grib2.923a8.idx' incompatible with GRIB file\n",
      "Ignoring index file '/local/train/GFS/gfs.0p25.2020011806.f006.grib2.923a8.idx' incompatible with GRIB file\n"
     ]
    },
    {
     "name": "stdout",
     "output_type": "stream",
     "text": [
      "Downloading 2020/20200118/gfs.0p25.2020011812.f006.grib2\n"
     ]
    },
    {
     "data": {
      "application/vnd.jupyter.widget-view+json": {
       "model_id": "1ddb0ab5245e4966ae7af9e3070903a7",
       "version_major": 2,
       "version_minor": 0
      },
      "text/plain": [
       "Dropdown(description='data file', options=('/local/train/GFS/gfs.0p25.2020011812.f006.grib2',), value='/local/…"
      ]
     },
     "metadata": {},
     "output_type": "display_data"
    },
    {
     "name": "stderr",
     "output_type": "stream",
     "text": [
      "Ignoring index file '/local/train/GFS/gfs.0p25.2020011812.f006.grib2.923a8.idx' incompatible with GRIB file\n",
      "Ignoring index file '/local/train/GFS/gfs.0p25.2020011812.f006.grib2.923a8.idx' incompatible with GRIB file\n"
     ]
    },
    {
     "name": "stdout",
     "output_type": "stream",
     "text": [
      "Downloading 2020/20200118/gfs.0p25.2020011818.f006.grib2\n"
     ]
    },
    {
     "data": {
      "application/vnd.jupyter.widget-view+json": {
       "model_id": "72bb31d24452481dac93b2940f7752d8",
       "version_major": 2,
       "version_minor": 0
      },
      "text/plain": [
       "Dropdown(description='data file', options=('/local/train/GFS/gfs.0p25.2020011818.f006.grib2',), value='/local/…"
      ]
     },
     "metadata": {},
     "output_type": "display_data"
    },
    {
     "name": "stderr",
     "output_type": "stream",
     "text": [
      "Ignoring index file '/local/train/GFS/gfs.0p25.2020011818.f006.grib2.923a8.idx' incompatible with GRIB file\n",
      "Ignoring index file '/local/train/GFS/gfs.0p25.2020011818.f006.grib2.923a8.idx' incompatible with GRIB file\n"
     ]
    },
    {
     "name": "stdout",
     "output_type": "stream",
     "text": [
      "Downloading 2020/20200119/gfs.0p25.2020011900.f006.grib2\n"
     ]
    },
    {
     "data": {
      "application/vnd.jupyter.widget-view+json": {
       "model_id": "a406f382e3014b1aaa45e2f685a4b15e",
       "version_major": 2,
       "version_minor": 0
      },
      "text/plain": [
       "Dropdown(description='data file', options=('/local/train/GFS/gfs.0p25.2020011900.f006.grib2',), value='/local/…"
      ]
     },
     "metadata": {},
     "output_type": "display_data"
    },
    {
     "name": "stderr",
     "output_type": "stream",
     "text": [
      "Ignoring index file '/local/train/GFS/gfs.0p25.2020011900.f006.grib2.923a8.idx' incompatible with GRIB file\n",
      "Ignoring index file '/local/train/GFS/gfs.0p25.2020011900.f006.grib2.923a8.idx' incompatible with GRIB file\n"
     ]
    },
    {
     "name": "stdout",
     "output_type": "stream",
     "text": [
      "Downloading 2020/20200119/gfs.0p25.2020011906.f006.grib2\n"
     ]
    },
    {
     "data": {
      "application/vnd.jupyter.widget-view+json": {
       "model_id": "eedaaf7ab6e64d6f8d390b93e54aa1d1",
       "version_major": 2,
       "version_minor": 0
      },
      "text/plain": [
       "Dropdown(description='data file', options=('/local/train/GFS/gfs.0p25.2020011906.f006.grib2',), value='/local/…"
      ]
     },
     "metadata": {},
     "output_type": "display_data"
    },
    {
     "name": "stderr",
     "output_type": "stream",
     "text": [
      "Ignoring index file '/local/train/GFS/gfs.0p25.2020011906.f006.grib2.923a8.idx' incompatible with GRIB file\n",
      "Ignoring index file '/local/train/GFS/gfs.0p25.2020011906.f006.grib2.923a8.idx' incompatible with GRIB file\n"
     ]
    },
    {
     "name": "stdout",
     "output_type": "stream",
     "text": [
      "Downloading 2020/20200119/gfs.0p25.2020011912.f006.grib2\n"
     ]
    },
    {
     "data": {
      "application/vnd.jupyter.widget-view+json": {
       "model_id": "771c6ec08b4447f48649e4f8d870a7e8",
       "version_major": 2,
       "version_minor": 0
      },
      "text/plain": [
       "Dropdown(description='data file', options=('/local/train/GFS/gfs.0p25.2020011912.f006.grib2',), value='/local/…"
      ]
     },
     "metadata": {},
     "output_type": "display_data"
    },
    {
     "name": "stderr",
     "output_type": "stream",
     "text": [
      "Ignoring index file '/local/train/GFS/gfs.0p25.2020011912.f006.grib2.923a8.idx' incompatible with GRIB file\n",
      "Ignoring index file '/local/train/GFS/gfs.0p25.2020011912.f006.grib2.923a8.idx' incompatible with GRIB file\n"
     ]
    },
    {
     "name": "stdout",
     "output_type": "stream",
     "text": [
      "Downloading 2020/20200119/gfs.0p25.2020011918.f006.grib2\n"
     ]
    },
    {
     "data": {
      "application/vnd.jupyter.widget-view+json": {
       "model_id": "16ef40e80b94487b976be5dd3d851d71",
       "version_major": 2,
       "version_minor": 0
      },
      "text/plain": [
       "Dropdown(description='data file', options=('/local/train/GFS/gfs.0p25.2020011918.f006.grib2',), value='/local/…"
      ]
     },
     "metadata": {},
     "output_type": "display_data"
    },
    {
     "name": "stderr",
     "output_type": "stream",
     "text": [
      "Ignoring index file '/local/train/GFS/gfs.0p25.2020011918.f006.grib2.923a8.idx' incompatible with GRIB file\n",
      "Ignoring index file '/local/train/GFS/gfs.0p25.2020011918.f006.grib2.923a8.idx' incompatible with GRIB file\n"
     ]
    },
    {
     "name": "stdout",
     "output_type": "stream",
     "text": [
      "Downloading 2020/20200120/gfs.0p25.2020012000.f006.grib2\n"
     ]
    },
    {
     "data": {
      "application/vnd.jupyter.widget-view+json": {
       "model_id": "e1de3ad513d74822a86660e566cb6499",
       "version_major": 2,
       "version_minor": 0
      },
      "text/plain": [
       "Dropdown(description='data file', options=('/local/train/GFS/gfs.0p25.2020012000.f006.grib2',), value='/local/…"
      ]
     },
     "metadata": {},
     "output_type": "display_data"
    },
    {
     "name": "stderr",
     "output_type": "stream",
     "text": [
      "Ignoring index file '/local/train/GFS/gfs.0p25.2020012000.f006.grib2.923a8.idx' incompatible with GRIB file\n",
      "Ignoring index file '/local/train/GFS/gfs.0p25.2020012000.f006.grib2.923a8.idx' incompatible with GRIB file\n"
     ]
    },
    {
     "name": "stdout",
     "output_type": "stream",
     "text": [
      "Downloading 2020/20200120/gfs.0p25.2020012006.f006.grib2\n"
     ]
    },
    {
     "data": {
      "application/vnd.jupyter.widget-view+json": {
       "model_id": "20e53806b6314b1c9fe78b5659e66c5b",
       "version_major": 2,
       "version_minor": 0
      },
      "text/plain": [
       "Dropdown(description='data file', options=('/local/train/GFS/gfs.0p25.2020012006.f006.grib2',), value='/local/…"
      ]
     },
     "metadata": {},
     "output_type": "display_data"
    },
    {
     "name": "stderr",
     "output_type": "stream",
     "text": [
      "Ignoring index file '/local/train/GFS/gfs.0p25.2020012006.f006.grib2.923a8.idx' incompatible with GRIB file\n",
      "Ignoring index file '/local/train/GFS/gfs.0p25.2020012006.f006.grib2.923a8.idx' incompatible with GRIB file\n"
     ]
    },
    {
     "name": "stdout",
     "output_type": "stream",
     "text": [
      "Downloading 2020/20200120/gfs.0p25.2020012012.f006.grib2\n"
     ]
    },
    {
     "data": {
      "application/vnd.jupyter.widget-view+json": {
       "model_id": "e7c4cc3e58624c9ea77059bfc9129544",
       "version_major": 2,
       "version_minor": 0
      },
      "text/plain": [
       "Dropdown(description='data file', options=('/local/train/GFS/gfs.0p25.2020012012.f006.grib2',), value='/local/…"
      ]
     },
     "metadata": {},
     "output_type": "display_data"
    },
    {
     "name": "stderr",
     "output_type": "stream",
     "text": [
      "Ignoring index file '/local/train/GFS/gfs.0p25.2020012012.f006.grib2.923a8.idx' incompatible with GRIB file\n",
      "Ignoring index file '/local/train/GFS/gfs.0p25.2020012012.f006.grib2.923a8.idx' incompatible with GRIB file\n"
     ]
    },
    {
     "name": "stdout",
     "output_type": "stream",
     "text": [
      "Downloading 2020/20200120/gfs.0p25.2020012018.f006.grib2\n"
     ]
    },
    {
     "data": {
      "application/vnd.jupyter.widget-view+json": {
       "model_id": "8acba93b59574f28922b1ac754df7f47",
       "version_major": 2,
       "version_minor": 0
      },
      "text/plain": [
       "Dropdown(description='data file', options=('/local/train/GFS/gfs.0p25.2020012018.f006.grib2',), value='/local/…"
      ]
     },
     "metadata": {},
     "output_type": "display_data"
    },
    {
     "name": "stderr",
     "output_type": "stream",
     "text": [
      "Ignoring index file '/local/train/GFS/gfs.0p25.2020012018.f006.grib2.923a8.idx' incompatible with GRIB file\n",
      "Ignoring index file '/local/train/GFS/gfs.0p25.2020012018.f006.grib2.923a8.idx' incompatible with GRIB file\n"
     ]
    },
    {
     "name": "stdout",
     "output_type": "stream",
     "text": [
      "Downloading 2020/20200121/gfs.0p25.2020012100.f006.grib2\n"
     ]
    },
    {
     "data": {
      "application/vnd.jupyter.widget-view+json": {
       "model_id": "e5c23f51e6da42ef8390f4a4fbddd389",
       "version_major": 2,
       "version_minor": 0
      },
      "text/plain": [
       "Dropdown(description='data file', options=('/local/train/GFS/gfs.0p25.2020012100.f006.grib2',), value='/local/…"
      ]
     },
     "metadata": {},
     "output_type": "display_data"
    },
    {
     "name": "stderr",
     "output_type": "stream",
     "text": [
      "Ignoring index file '/local/train/GFS/gfs.0p25.2020012100.f006.grib2.923a8.idx' incompatible with GRIB file\n",
      "Ignoring index file '/local/train/GFS/gfs.0p25.2020012100.f006.grib2.923a8.idx' incompatible with GRIB file\n"
     ]
    },
    {
     "name": "stdout",
     "output_type": "stream",
     "text": [
      "Downloading 2020/20200121/gfs.0p25.2020012106.f006.grib2\n"
     ]
    },
    {
     "data": {
      "application/vnd.jupyter.widget-view+json": {
       "model_id": "2f3d5b31a6de4e75859676a1939e9462",
       "version_major": 2,
       "version_minor": 0
      },
      "text/plain": [
       "Dropdown(description='data file', options=('/local/train/GFS/gfs.0p25.2020012106.f006.grib2',), value='/local/…"
      ]
     },
     "metadata": {},
     "output_type": "display_data"
    },
    {
     "name": "stderr",
     "output_type": "stream",
     "text": [
      "Ignoring index file '/local/train/GFS/gfs.0p25.2020012106.f006.grib2.923a8.idx' incompatible with GRIB file\n",
      "Ignoring index file '/local/train/GFS/gfs.0p25.2020012106.f006.grib2.923a8.idx' incompatible with GRIB file\n"
     ]
    },
    {
     "name": "stdout",
     "output_type": "stream",
     "text": [
      "Downloading 2020/20200121/gfs.0p25.2020012112.f006.grib2\n"
     ]
    },
    {
     "data": {
      "application/vnd.jupyter.widget-view+json": {
       "model_id": "eeb71178dd784a4ca5ad8084531beb89",
       "version_major": 2,
       "version_minor": 0
      },
      "text/plain": [
       "Dropdown(description='data file', options=('/local/train/GFS/gfs.0p25.2020012112.f006.grib2',), value='/local/…"
      ]
     },
     "metadata": {},
     "output_type": "display_data"
    },
    {
     "name": "stderr",
     "output_type": "stream",
     "text": [
      "Ignoring index file '/local/train/GFS/gfs.0p25.2020012112.f006.grib2.923a8.idx' incompatible with GRIB file\n",
      "Ignoring index file '/local/train/GFS/gfs.0p25.2020012112.f006.grib2.923a8.idx' incompatible with GRIB file\n"
     ]
    },
    {
     "name": "stdout",
     "output_type": "stream",
     "text": [
      "Downloading 2020/20200121/gfs.0p25.2020012118.f006.grib2\n"
     ]
    },
    {
     "data": {
      "application/vnd.jupyter.widget-view+json": {
       "model_id": "d5364d4f85d7475aa7b571a8a1a25d03",
       "version_major": 2,
       "version_minor": 0
      },
      "text/plain": [
       "Dropdown(description='data file', options=('/local/train/GFS/gfs.0p25.2020012118.f006.grib2',), value='/local/…"
      ]
     },
     "metadata": {},
     "output_type": "display_data"
    },
    {
     "name": "stderr",
     "output_type": "stream",
     "text": [
      "Ignoring index file '/local/train/GFS/gfs.0p25.2020012118.f006.grib2.923a8.idx' incompatible with GRIB file\n",
      "Ignoring index file '/local/train/GFS/gfs.0p25.2020012118.f006.grib2.923a8.idx' incompatible with GRIB file\n"
     ]
    },
    {
     "name": "stdout",
     "output_type": "stream",
     "text": [
      "Downloading 2020/20200122/gfs.0p25.2020012200.f006.grib2\n"
     ]
    },
    {
     "data": {
      "application/vnd.jupyter.widget-view+json": {
       "model_id": "1e6b39fa8e704d1eac7fb88373eb1da8",
       "version_major": 2,
       "version_minor": 0
      },
      "text/plain": [
       "Dropdown(description='data file', options=('/local/train/GFS/gfs.0p25.2020012200.f006.grib2',), value='/local/…"
      ]
     },
     "metadata": {},
     "output_type": "display_data"
    },
    {
     "name": "stderr",
     "output_type": "stream",
     "text": [
      "Ignoring index file '/local/train/GFS/gfs.0p25.2020012200.f006.grib2.923a8.idx' incompatible with GRIB file\n",
      "Ignoring index file '/local/train/GFS/gfs.0p25.2020012200.f006.grib2.923a8.idx' incompatible with GRIB file\n"
     ]
    },
    {
     "name": "stdout",
     "output_type": "stream",
     "text": [
      "Downloading 2020/20200122/gfs.0p25.2020012206.f006.grib2\n"
     ]
    },
    {
     "data": {
      "application/vnd.jupyter.widget-view+json": {
       "model_id": "f61fb73b1223430d9200b6a10d8372cd",
       "version_major": 2,
       "version_minor": 0
      },
      "text/plain": [
       "Dropdown(description='data file', options=('/local/train/GFS/gfs.0p25.2020012206.f006.grib2',), value='/local/…"
      ]
     },
     "metadata": {},
     "output_type": "display_data"
    },
    {
     "name": "stderr",
     "output_type": "stream",
     "text": [
      "Ignoring index file '/local/train/GFS/gfs.0p25.2020012206.f006.grib2.923a8.idx' incompatible with GRIB file\n",
      "Ignoring index file '/local/train/GFS/gfs.0p25.2020012206.f006.grib2.923a8.idx' incompatible with GRIB file\n"
     ]
    },
    {
     "name": "stdout",
     "output_type": "stream",
     "text": [
      "Downloading 2020/20200122/gfs.0p25.2020012212.f006.grib2\n"
     ]
    },
    {
     "data": {
      "application/vnd.jupyter.widget-view+json": {
       "model_id": "5077a043a1a746a48443eb04d4617d0e",
       "version_major": 2,
       "version_minor": 0
      },
      "text/plain": [
       "Dropdown(description='data file', options=('/local/train/GFS/gfs.0p25.2020012212.f006.grib2',), value='/local/…"
      ]
     },
     "metadata": {},
     "output_type": "display_data"
    },
    {
     "name": "stderr",
     "output_type": "stream",
     "text": [
      "Ignoring index file '/local/train/GFS/gfs.0p25.2020012212.f006.grib2.923a8.idx' incompatible with GRIB file\n",
      "Ignoring index file '/local/train/GFS/gfs.0p25.2020012212.f006.grib2.923a8.idx' incompatible with GRIB file\n"
     ]
    },
    {
     "name": "stdout",
     "output_type": "stream",
     "text": [
      "Downloading 2020/20200122/gfs.0p25.2020012218.f006.grib2\n"
     ]
    },
    {
     "data": {
      "application/vnd.jupyter.widget-view+json": {
       "model_id": "40b706ac6db14b568effea7530b1353e",
       "version_major": 2,
       "version_minor": 0
      },
      "text/plain": [
       "Dropdown(description='data file', options=('/local/train/GFS/gfs.0p25.2020012218.f006.grib2',), value='/local/…"
      ]
     },
     "metadata": {},
     "output_type": "display_data"
    },
    {
     "name": "stderr",
     "output_type": "stream",
     "text": [
      "Ignoring index file '/local/train/GFS/gfs.0p25.2020012218.f006.grib2.923a8.idx' incompatible with GRIB file\n",
      "Ignoring index file '/local/train/GFS/gfs.0p25.2020012218.f006.grib2.923a8.idx' incompatible with GRIB file\n"
     ]
    },
    {
     "name": "stdout",
     "output_type": "stream",
     "text": [
      "Downloading 2020/20200123/gfs.0p25.2020012300.f006.grib2\n"
     ]
    },
    {
     "data": {
      "application/vnd.jupyter.widget-view+json": {
       "model_id": "a27529b403144419880afd31ebcca0e5",
       "version_major": 2,
       "version_minor": 0
      },
      "text/plain": [
       "Dropdown(description='data file', options=('/local/train/GFS/gfs.0p25.2020012300.f006.grib2',), value='/local/…"
      ]
     },
     "metadata": {},
     "output_type": "display_data"
    },
    {
     "name": "stderr",
     "output_type": "stream",
     "text": [
      "Ignoring index file '/local/train/GFS/gfs.0p25.2020012300.f006.grib2.923a8.idx' incompatible with GRIB file\n",
      "Ignoring index file '/local/train/GFS/gfs.0p25.2020012300.f006.grib2.923a8.idx' incompatible with GRIB file\n"
     ]
    },
    {
     "name": "stdout",
     "output_type": "stream",
     "text": [
      "Downloading 2020/20200123/gfs.0p25.2020012306.f006.grib2\n"
     ]
    },
    {
     "data": {
      "application/vnd.jupyter.widget-view+json": {
       "model_id": "e8c9d2496968495492da661b32876078",
       "version_major": 2,
       "version_minor": 0
      },
      "text/plain": [
       "Dropdown(description='data file', options=('/local/train/GFS/gfs.0p25.2020012306.f006.grib2',), value='/local/…"
      ]
     },
     "metadata": {},
     "output_type": "display_data"
    },
    {
     "name": "stderr",
     "output_type": "stream",
     "text": [
      "Ignoring index file '/local/train/GFS/gfs.0p25.2020012306.f006.grib2.923a8.idx' incompatible with GRIB file\n",
      "Ignoring index file '/local/train/GFS/gfs.0p25.2020012306.f006.grib2.923a8.idx' incompatible with GRIB file\n"
     ]
    },
    {
     "name": "stdout",
     "output_type": "stream",
     "text": [
      "Downloading 2020/20200123/gfs.0p25.2020012312.f006.grib2\n"
     ]
    },
    {
     "data": {
      "application/vnd.jupyter.widget-view+json": {
       "model_id": "ed1305c54272431193c0ba1b6b282166",
       "version_major": 2,
       "version_minor": 0
      },
      "text/plain": [
       "Dropdown(description='data file', options=('/local/train/GFS/gfs.0p25.2020012312.f006.grib2',), value='/local/…"
      ]
     },
     "metadata": {},
     "output_type": "display_data"
    },
    {
     "name": "stderr",
     "output_type": "stream",
     "text": [
      "Ignoring index file '/local/train/GFS/gfs.0p25.2020012312.f006.grib2.923a8.idx' incompatible with GRIB file\n",
      "Ignoring index file '/local/train/GFS/gfs.0p25.2020012312.f006.grib2.923a8.idx' incompatible with GRIB file\n"
     ]
    },
    {
     "name": "stdout",
     "output_type": "stream",
     "text": [
      "Downloading 2020/20200123/gfs.0p25.2020012318.f006.grib2\n"
     ]
    },
    {
     "data": {
      "application/vnd.jupyter.widget-view+json": {
       "model_id": "5383a4b1e6094513bca3746ecf912808",
       "version_major": 2,
       "version_minor": 0
      },
      "text/plain": [
       "Dropdown(description='data file', options=('/local/train/GFS/gfs.0p25.2020012318.f006.grib2',), value='/local/…"
      ]
     },
     "metadata": {},
     "output_type": "display_data"
    },
    {
     "name": "stderr",
     "output_type": "stream",
     "text": [
      "Ignoring index file '/local/train/GFS/gfs.0p25.2020012318.f006.grib2.923a8.idx' incompatible with GRIB file\n",
      "Ignoring index file '/local/train/GFS/gfs.0p25.2020012318.f006.grib2.923a8.idx' incompatible with GRIB file\n"
     ]
    },
    {
     "name": "stdout",
     "output_type": "stream",
     "text": [
      "Downloading 2020/20200124/gfs.0p25.2020012400.f006.grib2\n"
     ]
    },
    {
     "data": {
      "application/vnd.jupyter.widget-view+json": {
       "model_id": "d27f7fa30ec24806895494f84ae71c4d",
       "version_major": 2,
       "version_minor": 0
      },
      "text/plain": [
       "Dropdown(description='data file', options=('/local/train/GFS/gfs.0p25.2020012400.f006.grib2',), value='/local/…"
      ]
     },
     "metadata": {},
     "output_type": "display_data"
    },
    {
     "name": "stderr",
     "output_type": "stream",
     "text": [
      "Ignoring index file '/local/train/GFS/gfs.0p25.2020012400.f006.grib2.923a8.idx' incompatible with GRIB file\n",
      "Ignoring index file '/local/train/GFS/gfs.0p25.2020012400.f006.grib2.923a8.idx' incompatible with GRIB file\n"
     ]
    },
    {
     "name": "stdout",
     "output_type": "stream",
     "text": [
      "Downloading 2020/20200124/gfs.0p25.2020012406.f006.grib2\n"
     ]
    },
    {
     "data": {
      "application/vnd.jupyter.widget-view+json": {
       "model_id": "1d9287d4055d4cf597f25fc55037f034",
       "version_major": 2,
       "version_minor": 0
      },
      "text/plain": [
       "Dropdown(description='data file', options=('/local/train/GFS/gfs.0p25.2020012406.f006.grib2',), value='/local/…"
      ]
     },
     "metadata": {},
     "output_type": "display_data"
    },
    {
     "name": "stderr",
     "output_type": "stream",
     "text": [
      "Ignoring index file '/local/train/GFS/gfs.0p25.2020012406.f006.grib2.923a8.idx' incompatible with GRIB file\n",
      "Ignoring index file '/local/train/GFS/gfs.0p25.2020012406.f006.grib2.923a8.idx' incompatible with GRIB file\n"
     ]
    },
    {
     "name": "stdout",
     "output_type": "stream",
     "text": [
      "Downloading 2020/20200124/gfs.0p25.2020012412.f006.grib2\n"
     ]
    },
    {
     "data": {
      "application/vnd.jupyter.widget-view+json": {
       "model_id": "72a0e49b17754cc19e04ceb97a3d6e1d",
       "version_major": 2,
       "version_minor": 0
      },
      "text/plain": [
       "Dropdown(description='data file', options=('/local/train/GFS/gfs.0p25.2020012412.f006.grib2',), value='/local/…"
      ]
     },
     "metadata": {},
     "output_type": "display_data"
    },
    {
     "name": "stderr",
     "output_type": "stream",
     "text": [
      "Ignoring index file '/local/train/GFS/gfs.0p25.2020012412.f006.grib2.923a8.idx' incompatible with GRIB file\n",
      "Ignoring index file '/local/train/GFS/gfs.0p25.2020012412.f006.grib2.923a8.idx' incompatible with GRIB file\n"
     ]
    },
    {
     "name": "stdout",
     "output_type": "stream",
     "text": [
      "Downloading 2020/20200124/gfs.0p25.2020012418.f006.grib2\n"
     ]
    },
    {
     "data": {
      "application/vnd.jupyter.widget-view+json": {
       "model_id": "eaee4a43a04d4a008781b1f3ffa34c70",
       "version_major": 2,
       "version_minor": 0
      },
      "text/plain": [
       "Dropdown(description='data file', options=('/local/train/GFS/gfs.0p25.2020012418.f006.grib2',), value='/local/…"
      ]
     },
     "metadata": {},
     "output_type": "display_data"
    },
    {
     "name": "stderr",
     "output_type": "stream",
     "text": [
      "Ignoring index file '/local/train/GFS/gfs.0p25.2020012418.f006.grib2.923a8.idx' incompatible with GRIB file\n",
      "Ignoring index file '/local/train/GFS/gfs.0p25.2020012418.f006.grib2.923a8.idx' incompatible with GRIB file\n"
     ]
    },
    {
     "name": "stdout",
     "output_type": "stream",
     "text": [
      "Downloading 2020/20200125/gfs.0p25.2020012500.f006.grib2\n"
     ]
    },
    {
     "data": {
      "application/vnd.jupyter.widget-view+json": {
       "model_id": "80c4cf5329eb4ea9aa60fc6eb0962833",
       "version_major": 2,
       "version_minor": 0
      },
      "text/plain": [
       "Dropdown(description='data file', options=('/local/train/GFS/gfs.0p25.2020012500.f006.grib2',), value='/local/…"
      ]
     },
     "metadata": {},
     "output_type": "display_data"
    },
    {
     "name": "stderr",
     "output_type": "stream",
     "text": [
      "Ignoring index file '/local/train/GFS/gfs.0p25.2020012500.f006.grib2.923a8.idx' incompatible with GRIB file\n",
      "Ignoring index file '/local/train/GFS/gfs.0p25.2020012500.f006.grib2.923a8.idx' incompatible with GRIB file\n"
     ]
    },
    {
     "name": "stdout",
     "output_type": "stream",
     "text": [
      "Downloading 2020/20200125/gfs.0p25.2020012506.f006.grib2\n"
     ]
    },
    {
     "data": {
      "application/vnd.jupyter.widget-view+json": {
       "model_id": "1f5e9853fbb640a09275d63c2e336f05",
       "version_major": 2,
       "version_minor": 0
      },
      "text/plain": [
       "Dropdown(description='data file', options=('/local/train/GFS/gfs.0p25.2020012506.f006.grib2',), value='/local/…"
      ]
     },
     "metadata": {},
     "output_type": "display_data"
    },
    {
     "name": "stderr",
     "output_type": "stream",
     "text": [
      "Ignoring index file '/local/train/GFS/gfs.0p25.2020012506.f006.grib2.923a8.idx' incompatible with GRIB file\n",
      "Ignoring index file '/local/train/GFS/gfs.0p25.2020012506.f006.grib2.923a8.idx' incompatible with GRIB file\n"
     ]
    },
    {
     "name": "stdout",
     "output_type": "stream",
     "text": [
      "Downloading 2020/20200125/gfs.0p25.2020012512.f006.grib2\n"
     ]
    },
    {
     "data": {
      "application/vnd.jupyter.widget-view+json": {
       "model_id": "aa0e5cb563a048cbb581a33f4f15c54c",
       "version_major": 2,
       "version_minor": 0
      },
      "text/plain": [
       "Dropdown(description='data file', options=('/local/train/GFS/gfs.0p25.2020012512.f006.grib2',), value='/local/…"
      ]
     },
     "metadata": {},
     "output_type": "display_data"
    },
    {
     "name": "stderr",
     "output_type": "stream",
     "text": [
      "Ignoring index file '/local/train/GFS/gfs.0p25.2020012512.f006.grib2.923a8.idx' incompatible with GRIB file\n",
      "Ignoring index file '/local/train/GFS/gfs.0p25.2020012512.f006.grib2.923a8.idx' incompatible with GRIB file\n"
     ]
    },
    {
     "name": "stdout",
     "output_type": "stream",
     "text": [
      "Downloading 2020/20200125/gfs.0p25.2020012518.f006.grib2\n"
     ]
    },
    {
     "data": {
      "application/vnd.jupyter.widget-view+json": {
       "model_id": "04ac10f781124d959b29ec5e513d4d11",
       "version_major": 2,
       "version_minor": 0
      },
      "text/plain": [
       "Dropdown(description='data file', options=('/local/train/GFS/gfs.0p25.2020012518.f006.grib2',), value='/local/…"
      ]
     },
     "metadata": {},
     "output_type": "display_data"
    },
    {
     "name": "stderr",
     "output_type": "stream",
     "text": [
      "Ignoring index file '/local/train/GFS/gfs.0p25.2020012518.f006.grib2.923a8.idx' incompatible with GRIB file\n",
      "Ignoring index file '/local/train/GFS/gfs.0p25.2020012518.f006.grib2.923a8.idx' incompatible with GRIB file\n"
     ]
    },
    {
     "name": "stdout",
     "output_type": "stream",
     "text": [
      "Downloading 2020/20200126/gfs.0p25.2020012600.f006.grib2\n"
     ]
    },
    {
     "data": {
      "application/vnd.jupyter.widget-view+json": {
       "model_id": "923e3c20529e4e80b03c801024123c24",
       "version_major": 2,
       "version_minor": 0
      },
      "text/plain": [
       "Dropdown(description='data file', options=('/local/train/GFS/gfs.0p25.2020012600.f006.grib2',), value='/local/…"
      ]
     },
     "metadata": {},
     "output_type": "display_data"
    },
    {
     "name": "stderr",
     "output_type": "stream",
     "text": [
      "Ignoring index file '/local/train/GFS/gfs.0p25.2020012600.f006.grib2.923a8.idx' incompatible with GRIB file\n",
      "Ignoring index file '/local/train/GFS/gfs.0p25.2020012600.f006.grib2.923a8.idx' incompatible with GRIB file\n"
     ]
    },
    {
     "name": "stdout",
     "output_type": "stream",
     "text": [
      "Downloading 2020/20200126/gfs.0p25.2020012606.f006.grib2\n"
     ]
    },
    {
     "data": {
      "application/vnd.jupyter.widget-view+json": {
       "model_id": "939acdf52b1f4108a563aecc20904669",
       "version_major": 2,
       "version_minor": 0
      },
      "text/plain": [
       "Dropdown(description='data file', options=('/local/train/GFS/gfs.0p25.2020012606.f006.grib2',), value='/local/…"
      ]
     },
     "metadata": {},
     "output_type": "display_data"
    },
    {
     "name": "stderr",
     "output_type": "stream",
     "text": [
      "Ignoring index file '/local/train/GFS/gfs.0p25.2020012606.f006.grib2.923a8.idx' incompatible with GRIB file\n",
      "Ignoring index file '/local/train/GFS/gfs.0p25.2020012606.f006.grib2.923a8.idx' incompatible with GRIB file\n"
     ]
    },
    {
     "name": "stdout",
     "output_type": "stream",
     "text": [
      "Downloading 2020/20200126/gfs.0p25.2020012612.f006.grib2\n"
     ]
    },
    {
     "data": {
      "application/vnd.jupyter.widget-view+json": {
       "model_id": "d2d5313394fa412bb0751c14ff1135e8",
       "version_major": 2,
       "version_minor": 0
      },
      "text/plain": [
       "Dropdown(description='data file', options=('/local/train/GFS/gfs.0p25.2020012612.f006.grib2',), value='/local/…"
      ]
     },
     "metadata": {},
     "output_type": "display_data"
    },
    {
     "name": "stderr",
     "output_type": "stream",
     "text": [
      "Ignoring index file '/local/train/GFS/gfs.0p25.2020012612.f006.grib2.923a8.idx' incompatible with GRIB file\n",
      "Ignoring index file '/local/train/GFS/gfs.0p25.2020012612.f006.grib2.923a8.idx' incompatible with GRIB file\n"
     ]
    },
    {
     "name": "stdout",
     "output_type": "stream",
     "text": [
      "Downloading 2020/20200126/gfs.0p25.2020012618.f006.grib2\n"
     ]
    },
    {
     "data": {
      "application/vnd.jupyter.widget-view+json": {
       "model_id": "6dda3e6f676c4413ba6cff7c7ceb4799",
       "version_major": 2,
       "version_minor": 0
      },
      "text/plain": [
       "Dropdown(description='data file', options=('/local/train/GFS/gfs.0p25.2020012618.f006.grib2',), value='/local/…"
      ]
     },
     "metadata": {},
     "output_type": "display_data"
    },
    {
     "name": "stderr",
     "output_type": "stream",
     "text": [
      "Ignoring index file '/local/train/GFS/gfs.0p25.2020012618.f006.grib2.923a8.idx' incompatible with GRIB file\n",
      "Ignoring index file '/local/train/GFS/gfs.0p25.2020012618.f006.grib2.923a8.idx' incompatible with GRIB file\n"
     ]
    },
    {
     "name": "stdout",
     "output_type": "stream",
     "text": [
      "Downloading 2020/20200127/gfs.0p25.2020012700.f006.grib2\n"
     ]
    },
    {
     "data": {
      "application/vnd.jupyter.widget-view+json": {
       "model_id": "d712d4fa116c49af94418bf3f49485a2",
       "version_major": 2,
       "version_minor": 0
      },
      "text/plain": [
       "Dropdown(description='data file', options=('/local/train/GFS/gfs.0p25.2020012700.f006.grib2',), value='/local/…"
      ]
     },
     "metadata": {},
     "output_type": "display_data"
    },
    {
     "name": "stderr",
     "output_type": "stream",
     "text": [
      "Ignoring index file '/local/train/GFS/gfs.0p25.2020012700.f006.grib2.923a8.idx' incompatible with GRIB file\n",
      "Ignoring index file '/local/train/GFS/gfs.0p25.2020012700.f006.grib2.923a8.idx' incompatible with GRIB file\n"
     ]
    },
    {
     "name": "stdout",
     "output_type": "stream",
     "text": [
      "Downloading 2020/20200127/gfs.0p25.2020012706.f006.grib2\n"
     ]
    },
    {
     "data": {
      "application/vnd.jupyter.widget-view+json": {
       "model_id": "5b8a17c21ad6432d9e4a9517defa5be3",
       "version_major": 2,
       "version_minor": 0
      },
      "text/plain": [
       "Dropdown(description='data file', options=('/local/train/GFS/gfs.0p25.2020012706.f006.grib2',), value='/local/…"
      ]
     },
     "metadata": {},
     "output_type": "display_data"
    },
    {
     "name": "stderr",
     "output_type": "stream",
     "text": [
      "Ignoring index file '/local/train/GFS/gfs.0p25.2020012706.f006.grib2.923a8.idx' incompatible with GRIB file\n",
      "Ignoring index file '/local/train/GFS/gfs.0p25.2020012706.f006.grib2.923a8.idx' incompatible with GRIB file\n"
     ]
    },
    {
     "name": "stdout",
     "output_type": "stream",
     "text": [
      "Downloading 2020/20200127/gfs.0p25.2020012712.f006.grib2\n"
     ]
    },
    {
     "data": {
      "application/vnd.jupyter.widget-view+json": {
       "model_id": "4aa34474b28c4194a389ebfe5aeeebb6",
       "version_major": 2,
       "version_minor": 0
      },
      "text/plain": [
       "Dropdown(description='data file', options=('/local/train/GFS/gfs.0p25.2020012712.f006.grib2',), value='/local/…"
      ]
     },
     "metadata": {},
     "output_type": "display_data"
    },
    {
     "name": "stderr",
     "output_type": "stream",
     "text": [
      "Ignoring index file '/local/train/GFS/gfs.0p25.2020012712.f006.grib2.923a8.idx' incompatible with GRIB file\n",
      "Ignoring index file '/local/train/GFS/gfs.0p25.2020012712.f006.grib2.923a8.idx' incompatible with GRIB file\n"
     ]
    },
    {
     "name": "stdout",
     "output_type": "stream",
     "text": [
      "Downloading 2020/20200127/gfs.0p25.2020012718.f006.grib2\n"
     ]
    },
    {
     "data": {
      "application/vnd.jupyter.widget-view+json": {
       "model_id": "961d478d47324a22a638935b2f5d5875",
       "version_major": 2,
       "version_minor": 0
      },
      "text/plain": [
       "Dropdown(description='data file', options=('/local/train/GFS/gfs.0p25.2020012718.f006.grib2',), value='/local/…"
      ]
     },
     "metadata": {},
     "output_type": "display_data"
    },
    {
     "name": "stderr",
     "output_type": "stream",
     "text": [
      "Ignoring index file '/local/train/GFS/gfs.0p25.2020012718.f006.grib2.923a8.idx' incompatible with GRIB file\n",
      "Ignoring index file '/local/train/GFS/gfs.0p25.2020012718.f006.grib2.923a8.idx' incompatible with GRIB file\n"
     ]
    },
    {
     "name": "stdout",
     "output_type": "stream",
     "text": [
      "Downloading 2020/20200128/gfs.0p25.2020012800.f006.grib2\n"
     ]
    },
    {
     "data": {
      "application/vnd.jupyter.widget-view+json": {
       "model_id": "887edcb7f9a34ccdad11df13905be1bc",
       "version_major": 2,
       "version_minor": 0
      },
      "text/plain": [
       "Dropdown(description='data file', options=('/local/train/GFS/gfs.0p25.2020012800.f006.grib2',), value='/local/…"
      ]
     },
     "metadata": {},
     "output_type": "display_data"
    },
    {
     "name": "stderr",
     "output_type": "stream",
     "text": [
      "Ignoring index file '/local/train/GFS/gfs.0p25.2020012800.f006.grib2.923a8.idx' incompatible with GRIB file\n",
      "Ignoring index file '/local/train/GFS/gfs.0p25.2020012800.f006.grib2.923a8.idx' incompatible with GRIB file\n"
     ]
    },
    {
     "name": "stdout",
     "output_type": "stream",
     "text": [
      "Downloading 2020/20200128/gfs.0p25.2020012806.f006.grib2\n"
     ]
    },
    {
     "data": {
      "application/vnd.jupyter.widget-view+json": {
       "model_id": "eaf6a0af214a44b7ac1c09c70bc403af",
       "version_major": 2,
       "version_minor": 0
      },
      "text/plain": [
       "Dropdown(description='data file', options=('/local/train/GFS/gfs.0p25.2020012806.f006.grib2',), value='/local/…"
      ]
     },
     "metadata": {},
     "output_type": "display_data"
    },
    {
     "name": "stderr",
     "output_type": "stream",
     "text": [
      "Ignoring index file '/local/train/GFS/gfs.0p25.2020012806.f006.grib2.923a8.idx' incompatible with GRIB file\n",
      "Ignoring index file '/local/train/GFS/gfs.0p25.2020012806.f006.grib2.923a8.idx' incompatible with GRIB file\n"
     ]
    },
    {
     "name": "stdout",
     "output_type": "stream",
     "text": [
      "Downloading 2020/20200128/gfs.0p25.2020012812.f006.grib2\n"
     ]
    },
    {
     "data": {
      "application/vnd.jupyter.widget-view+json": {
       "model_id": "ca03a0a79dab465685a3532af9199e77",
       "version_major": 2,
       "version_minor": 0
      },
      "text/plain": [
       "Dropdown(description='data file', options=('/local/train/GFS/gfs.0p25.2020012812.f006.grib2',), value='/local/…"
      ]
     },
     "metadata": {},
     "output_type": "display_data"
    },
    {
     "name": "stderr",
     "output_type": "stream",
     "text": [
      "Ignoring index file '/local/train/GFS/gfs.0p25.2020012812.f006.grib2.923a8.idx' incompatible with GRIB file\n",
      "Ignoring index file '/local/train/GFS/gfs.0p25.2020012812.f006.grib2.923a8.idx' incompatible with GRIB file\n"
     ]
    },
    {
     "name": "stdout",
     "output_type": "stream",
     "text": [
      "Downloading 2020/20200128/gfs.0p25.2020012818.f006.grib2\n"
     ]
    },
    {
     "data": {
      "application/vnd.jupyter.widget-view+json": {
       "model_id": "ad0bbaf11e1e49128548bd42ae6854e1",
       "version_major": 2,
       "version_minor": 0
      },
      "text/plain": [
       "Dropdown(description='data file', options=('/local/train/GFS/gfs.0p25.2020012818.f006.grib2',), value='/local/…"
      ]
     },
     "metadata": {},
     "output_type": "display_data"
    },
    {
     "name": "stderr",
     "output_type": "stream",
     "text": [
      "Ignoring index file '/local/train/GFS/gfs.0p25.2020012818.f006.grib2.923a8.idx' incompatible with GRIB file\n",
      "Ignoring index file '/local/train/GFS/gfs.0p25.2020012818.f006.grib2.923a8.idx' incompatible with GRIB file\n"
     ]
    },
    {
     "name": "stdout",
     "output_type": "stream",
     "text": [
      "Downloading 2020/20200129/gfs.0p25.2020012900.f006.grib2\n"
     ]
    },
    {
     "data": {
      "application/vnd.jupyter.widget-view+json": {
       "model_id": "2ee318e3a3f941939c5c7d5937f3a18d",
       "version_major": 2,
       "version_minor": 0
      },
      "text/plain": [
       "Dropdown(description='data file', options=('/local/train/GFS/gfs.0p25.2020012900.f006.grib2',), value='/local/…"
      ]
     },
     "metadata": {},
     "output_type": "display_data"
    },
    {
     "name": "stderr",
     "output_type": "stream",
     "text": [
      "Ignoring index file '/local/train/GFS/gfs.0p25.2020012900.f006.grib2.923a8.idx' incompatible with GRIB file\n",
      "Ignoring index file '/local/train/GFS/gfs.0p25.2020012900.f006.grib2.923a8.idx' incompatible with GRIB file\n"
     ]
    },
    {
     "name": "stdout",
     "output_type": "stream",
     "text": [
      "Downloading 2020/20200129/gfs.0p25.2020012906.f006.grib2\n"
     ]
    },
    {
     "data": {
      "application/vnd.jupyter.widget-view+json": {
       "model_id": "5489c4d2c574426a9eebef488a248642",
       "version_major": 2,
       "version_minor": 0
      },
      "text/plain": [
       "Dropdown(description='data file', options=('/local/train/GFS/gfs.0p25.2020012906.f006.grib2',), value='/local/…"
      ]
     },
     "metadata": {},
     "output_type": "display_data"
    },
    {
     "name": "stderr",
     "output_type": "stream",
     "text": [
      "Ignoring index file '/local/train/GFS/gfs.0p25.2020012906.f006.grib2.923a8.idx' incompatible with GRIB file\n",
      "Ignoring index file '/local/train/GFS/gfs.0p25.2020012906.f006.grib2.923a8.idx' incompatible with GRIB file\n"
     ]
    },
    {
     "name": "stdout",
     "output_type": "stream",
     "text": [
      "Downloading 2020/20200129/gfs.0p25.2020012912.f006.grib2\n"
     ]
    },
    {
     "data": {
      "application/vnd.jupyter.widget-view+json": {
       "model_id": "04c8852dad6b4ced99e594028daac8f8",
       "version_major": 2,
       "version_minor": 0
      },
      "text/plain": [
       "Dropdown(description='data file', options=('/local/train/GFS/gfs.0p25.2020012912.f006.grib2',), value='/local/…"
      ]
     },
     "metadata": {},
     "output_type": "display_data"
    },
    {
     "name": "stderr",
     "output_type": "stream",
     "text": [
      "Ignoring index file '/local/train/GFS/gfs.0p25.2020012912.f006.grib2.923a8.idx' incompatible with GRIB file\n",
      "Ignoring index file '/local/train/GFS/gfs.0p25.2020012912.f006.grib2.923a8.idx' incompatible with GRIB file\n"
     ]
    },
    {
     "name": "stdout",
     "output_type": "stream",
     "text": [
      "Downloading 2020/20200129/gfs.0p25.2020012918.f006.grib2\n"
     ]
    },
    {
     "data": {
      "application/vnd.jupyter.widget-view+json": {
       "model_id": "1c281d2e859e44cbb1e91a9b58d3f9fa",
       "version_major": 2,
       "version_minor": 0
      },
      "text/plain": [
       "Dropdown(description='data file', options=('/local/train/GFS/gfs.0p25.2020012918.f006.grib2',), value='/local/…"
      ]
     },
     "metadata": {},
     "output_type": "display_data"
    },
    {
     "name": "stderr",
     "output_type": "stream",
     "text": [
      "Ignoring index file '/local/train/GFS/gfs.0p25.2020012918.f006.grib2.923a8.idx' incompatible with GRIB file\n",
      "Ignoring index file '/local/train/GFS/gfs.0p25.2020012918.f006.grib2.923a8.idx' incompatible with GRIB file\n"
     ]
    },
    {
     "name": "stdout",
     "output_type": "stream",
     "text": [
      "Downloading 2020/20200130/gfs.0p25.2020013000.f006.grib2\n"
     ]
    },
    {
     "data": {
      "application/vnd.jupyter.widget-view+json": {
       "model_id": "9f6071cf7f124c2b9251e2c5eb53cd05",
       "version_major": 2,
       "version_minor": 0
      },
      "text/plain": [
       "Dropdown(description='data file', options=('/local/train/GFS/gfs.0p25.2020013000.f006.grib2',), value='/local/…"
      ]
     },
     "metadata": {},
     "output_type": "display_data"
    },
    {
     "name": "stderr",
     "output_type": "stream",
     "text": [
      "Ignoring index file '/local/train/GFS/gfs.0p25.2020013000.f006.grib2.923a8.idx' incompatible with GRIB file\n",
      "Ignoring index file '/local/train/GFS/gfs.0p25.2020013000.f006.grib2.923a8.idx' incompatible with GRIB file\n"
     ]
    },
    {
     "name": "stdout",
     "output_type": "stream",
     "text": [
      "Downloading 2020/20200130/gfs.0p25.2020013006.f006.grib2\n"
     ]
    },
    {
     "data": {
      "application/vnd.jupyter.widget-view+json": {
       "model_id": "5e24c50ac3f847bf970a9ad5b7cd1bcd",
       "version_major": 2,
       "version_minor": 0
      },
      "text/plain": [
       "Dropdown(description='data file', options=('/local/train/GFS/gfs.0p25.2020013006.f006.grib2',), value='/local/…"
      ]
     },
     "metadata": {},
     "output_type": "display_data"
    },
    {
     "name": "stderr",
     "output_type": "stream",
     "text": [
      "Ignoring index file '/local/train/GFS/gfs.0p25.2020013006.f006.grib2.923a8.idx' incompatible with GRIB file\n",
      "Ignoring index file '/local/train/GFS/gfs.0p25.2020013006.f006.grib2.923a8.idx' incompatible with GRIB file\n"
     ]
    },
    {
     "name": "stdout",
     "output_type": "stream",
     "text": [
      "Downloading 2020/20200130/gfs.0p25.2020013012.f006.grib2\n"
     ]
    },
    {
     "data": {
      "application/vnd.jupyter.widget-view+json": {
       "model_id": "14dca904c24945e293d78b0bc39af658",
       "version_major": 2,
       "version_minor": 0
      },
      "text/plain": [
       "Dropdown(description='data file', options=('/local/train/GFS/gfs.0p25.2020013012.f006.grib2',), value='/local/…"
      ]
     },
     "metadata": {},
     "output_type": "display_data"
    },
    {
     "name": "stderr",
     "output_type": "stream",
     "text": [
      "Ignoring index file '/local/train/GFS/gfs.0p25.2020013012.f006.grib2.923a8.idx' incompatible with GRIB file\n",
      "Ignoring index file '/local/train/GFS/gfs.0p25.2020013012.f006.grib2.923a8.idx' incompatible with GRIB file\n"
     ]
    },
    {
     "name": "stdout",
     "output_type": "stream",
     "text": [
      "Downloading 2020/20200130/gfs.0p25.2020013018.f006.grib2\n"
     ]
    },
    {
     "data": {
      "application/vnd.jupyter.widget-view+json": {
       "model_id": "3069252a07f84b38b7599460e642f49b",
       "version_major": 2,
       "version_minor": 0
      },
      "text/plain": [
       "Dropdown(description='data file', options=('/local/train/GFS/gfs.0p25.2020013018.f006.grib2',), value='/local/…"
      ]
     },
     "metadata": {},
     "output_type": "display_data"
    },
    {
     "name": "stderr",
     "output_type": "stream",
     "text": [
      "Ignoring index file '/local/train/GFS/gfs.0p25.2020013018.f006.grib2.923a8.idx' incompatible with GRIB file\n",
      "Ignoring index file '/local/train/GFS/gfs.0p25.2020013018.f006.grib2.923a8.idx' incompatible with GRIB file\n"
     ]
    },
    {
     "name": "stdout",
     "output_type": "stream",
     "text": [
      "Downloading 2020/20200131/gfs.0p25.2020013100.f006.grib2\n"
     ]
    },
    {
     "data": {
      "application/vnd.jupyter.widget-view+json": {
       "model_id": "afe59f2e7b0a4e758aac5520b269a95d",
       "version_major": 2,
       "version_minor": 0
      },
      "text/plain": [
       "Dropdown(description='data file', options=('/local/train/GFS/gfs.0p25.2020013100.f006.grib2',), value='/local/…"
      ]
     },
     "metadata": {},
     "output_type": "display_data"
    },
    {
     "name": "stderr",
     "output_type": "stream",
     "text": [
      "Ignoring index file '/local/train/GFS/gfs.0p25.2020013100.f006.grib2.923a8.idx' incompatible with GRIB file\n",
      "Ignoring index file '/local/train/GFS/gfs.0p25.2020013100.f006.grib2.923a8.idx' incompatible with GRIB file\n"
     ]
    },
    {
     "name": "stdout",
     "output_type": "stream",
     "text": [
      "Downloading 2020/20200131/gfs.0p25.2020013106.f006.grib2\n"
     ]
    },
    {
     "data": {
      "application/vnd.jupyter.widget-view+json": {
       "model_id": "98a88f812d4248718b9dce7f1c934ac0",
       "version_major": 2,
       "version_minor": 0
      },
      "text/plain": [
       "Dropdown(description='data file', options=('/local/train/GFS/gfs.0p25.2020013106.f006.grib2',), value='/local/…"
      ]
     },
     "metadata": {},
     "output_type": "display_data"
    },
    {
     "name": "stderr",
     "output_type": "stream",
     "text": [
      "Ignoring index file '/local/train/GFS/gfs.0p25.2020013106.f006.grib2.923a8.idx' incompatible with GRIB file\n",
      "Ignoring index file '/local/train/GFS/gfs.0p25.2020013106.f006.grib2.923a8.idx' incompatible with GRIB file\n"
     ]
    },
    {
     "name": "stdout",
     "output_type": "stream",
     "text": [
      "Downloading 2020/20200131/gfs.0p25.2020013112.f006.grib2\n"
     ]
    },
    {
     "data": {
      "application/vnd.jupyter.widget-view+json": {
       "model_id": "6776ef014bd54b2fad8f90792cc7d4d6",
       "version_major": 2,
       "version_minor": 0
      },
      "text/plain": [
       "Dropdown(description='data file', options=('/local/train/GFS/gfs.0p25.2020013112.f006.grib2',), value='/local/…"
      ]
     },
     "metadata": {},
     "output_type": "display_data"
    },
    {
     "name": "stderr",
     "output_type": "stream",
     "text": [
      "Ignoring index file '/local/train/GFS/gfs.0p25.2020013112.f006.grib2.923a8.idx' incompatible with GRIB file\n",
      "Ignoring index file '/local/train/GFS/gfs.0p25.2020013112.f006.grib2.923a8.idx' incompatible with GRIB file\n"
     ]
    },
    {
     "name": "stdout",
     "output_type": "stream",
     "text": [
      "Downloading 2020/20200131/gfs.0p25.2020013118.f006.grib2\n"
     ]
    },
    {
     "data": {
      "application/vnd.jupyter.widget-view+json": {
       "model_id": "890dbafa5fe645d4bd2ce0482c33af9e",
       "version_major": 2,
       "version_minor": 0
      },
      "text/plain": [
       "Dropdown(description='data file', options=('/local/train/GFS/gfs.0p25.2020013118.f006.grib2',), value='/local/…"
      ]
     },
     "metadata": {},
     "output_type": "display_data"
    },
    {
     "name": "stderr",
     "output_type": "stream",
     "text": [
      "Ignoring index file '/local/train/GFS/gfs.0p25.2020013118.f006.grib2.923a8.idx' incompatible with GRIB file\n",
      "Ignoring index file '/local/train/GFS/gfs.0p25.2020013118.f006.grib2.923a8.idx' incompatible with GRIB file\n"
     ]
    },
    {
     "name": "stdout",
     "output_type": "stream",
     "text": [
      "Downloading 2020/20200201/gfs.0p25.2020020100.f006.grib2\n"
     ]
    },
    {
     "data": {
      "application/vnd.jupyter.widget-view+json": {
       "model_id": "4ea20285c79d4a10a1764ce263fcd510",
       "version_major": 2,
       "version_minor": 0
      },
      "text/plain": [
       "Dropdown(description='data file', options=('/local/train/GFS/gfs.0p25.2020020100.f006.grib2',), value='/local/…"
      ]
     },
     "metadata": {},
     "output_type": "display_data"
    },
    {
     "name": "stderr",
     "output_type": "stream",
     "text": [
      "Ignoring index file '/local/train/GFS/gfs.0p25.2020020100.f006.grib2.923a8.idx' incompatible with GRIB file\n",
      "Ignoring index file '/local/train/GFS/gfs.0p25.2020020100.f006.grib2.923a8.idx' incompatible with GRIB file\n"
     ]
    },
    {
     "name": "stdout",
     "output_type": "stream",
     "text": [
      "Downloading 2020/20200201/gfs.0p25.2020020106.f006.grib2\n"
     ]
    },
    {
     "data": {
      "application/vnd.jupyter.widget-view+json": {
       "model_id": "b39de9cec78e45bdb6faeca4452012d6",
       "version_major": 2,
       "version_minor": 0
      },
      "text/plain": [
       "Dropdown(description='data file', options=('/local/train/GFS/gfs.0p25.2020020106.f006.grib2',), value='/local/…"
      ]
     },
     "metadata": {},
     "output_type": "display_data"
    },
    {
     "name": "stderr",
     "output_type": "stream",
     "text": [
      "Ignoring index file '/local/train/GFS/gfs.0p25.2020020106.f006.grib2.923a8.idx' incompatible with GRIB file\n",
      "Ignoring index file '/local/train/GFS/gfs.0p25.2020020106.f006.grib2.923a8.idx' incompatible with GRIB file\n"
     ]
    },
    {
     "name": "stdout",
     "output_type": "stream",
     "text": [
      "Downloading 2020/20200201/gfs.0p25.2020020112.f006.grib2\n"
     ]
    },
    {
     "data": {
      "application/vnd.jupyter.widget-view+json": {
       "model_id": "3ca11ad8bfef4055ba6b97a44d6bdc0b",
       "version_major": 2,
       "version_minor": 0
      },
      "text/plain": [
       "Dropdown(description='data file', options=('/local/train/GFS/gfs.0p25.2020020112.f006.grib2',), value='/local/…"
      ]
     },
     "metadata": {},
     "output_type": "display_data"
    },
    {
     "name": "stderr",
     "output_type": "stream",
     "text": [
      "Ignoring index file '/local/train/GFS/gfs.0p25.2020020112.f006.grib2.923a8.idx' incompatible with GRIB file\n",
      "Ignoring index file '/local/train/GFS/gfs.0p25.2020020112.f006.grib2.923a8.idx' incompatible with GRIB file\n"
     ]
    },
    {
     "name": "stdout",
     "output_type": "stream",
     "text": [
      "Downloading 2020/20200201/gfs.0p25.2020020118.f006.grib2\n"
     ]
    },
    {
     "data": {
      "application/vnd.jupyter.widget-view+json": {
       "model_id": "01ef7fcb1ed2409bacb3095dcaed3c73",
       "version_major": 2,
       "version_minor": 0
      },
      "text/plain": [
       "Dropdown(description='data file', options=('/local/train/GFS/gfs.0p25.2020020118.f006.grib2',), value='/local/…"
      ]
     },
     "metadata": {},
     "output_type": "display_data"
    },
    {
     "name": "stderr",
     "output_type": "stream",
     "text": [
      "Ignoring index file '/local/train/GFS/gfs.0p25.2020020118.f006.grib2.923a8.idx' incompatible with GRIB file\n",
      "Ignoring index file '/local/train/GFS/gfs.0p25.2020020118.f006.grib2.923a8.idx' incompatible with GRIB file\n"
     ]
    },
    {
     "name": "stdout",
     "output_type": "stream",
     "text": [
      "Downloading 2020/20200202/gfs.0p25.2020020200.f006.grib2\n"
     ]
    },
    {
     "data": {
      "application/vnd.jupyter.widget-view+json": {
       "model_id": "a4056d6e0e9842bd81adaba34026f978",
       "version_major": 2,
       "version_minor": 0
      },
      "text/plain": [
       "Dropdown(description='data file', options=('/local/train/GFS/gfs.0p25.2020020200.f006.grib2',), value='/local/…"
      ]
     },
     "metadata": {},
     "output_type": "display_data"
    },
    {
     "name": "stderr",
     "output_type": "stream",
     "text": [
      "Ignoring index file '/local/train/GFS/gfs.0p25.2020020200.f006.grib2.923a8.idx' incompatible with GRIB file\n",
      "Ignoring index file '/local/train/GFS/gfs.0p25.2020020200.f006.grib2.923a8.idx' incompatible with GRIB file\n"
     ]
    },
    {
     "name": "stdout",
     "output_type": "stream",
     "text": [
      "Downloading 2020/20200202/gfs.0p25.2020020206.f006.grib2\n"
     ]
    },
    {
     "data": {
      "application/vnd.jupyter.widget-view+json": {
       "model_id": "16db154cb33a4219b3e7f981e712c4ca",
       "version_major": 2,
       "version_minor": 0
      },
      "text/plain": [
       "Dropdown(description='data file', options=('/local/train/GFS/gfs.0p25.2020020206.f006.grib2',), value='/local/…"
      ]
     },
     "metadata": {},
     "output_type": "display_data"
    },
    {
     "name": "stderr",
     "output_type": "stream",
     "text": [
      "Ignoring index file '/local/train/GFS/gfs.0p25.2020020206.f006.grib2.923a8.idx' incompatible with GRIB file\n",
      "Ignoring index file '/local/train/GFS/gfs.0p25.2020020206.f006.grib2.923a8.idx' incompatible with GRIB file\n"
     ]
    },
    {
     "name": "stdout",
     "output_type": "stream",
     "text": [
      "Downloading 2020/20200202/gfs.0p25.2020020212.f006.grib2\n"
     ]
    },
    {
     "data": {
      "application/vnd.jupyter.widget-view+json": {
       "model_id": "7548bf759f9f43e3828ac862a05ff8a1",
       "version_major": 2,
       "version_minor": 0
      },
      "text/plain": [
       "Dropdown(description='data file', options=('/local/train/GFS/gfs.0p25.2020020212.f006.grib2',), value='/local/…"
      ]
     },
     "metadata": {},
     "output_type": "display_data"
    },
    {
     "name": "stderr",
     "output_type": "stream",
     "text": [
      "Ignoring index file '/local/train/GFS/gfs.0p25.2020020212.f006.grib2.923a8.idx' incompatible with GRIB file\n",
      "Ignoring index file '/local/train/GFS/gfs.0p25.2020020212.f006.grib2.923a8.idx' incompatible with GRIB file\n"
     ]
    },
    {
     "name": "stdout",
     "output_type": "stream",
     "text": [
      "Downloading 2020/20200202/gfs.0p25.2020020218.f006.grib2\n"
     ]
    },
    {
     "data": {
      "application/vnd.jupyter.widget-view+json": {
       "model_id": "b145088da6f047f49bd33ecb9f201288",
       "version_major": 2,
       "version_minor": 0
      },
      "text/plain": [
       "Dropdown(description='data file', options=('/local/train/GFS/gfs.0p25.2020020218.f006.grib2',), value='/local/…"
      ]
     },
     "metadata": {},
     "output_type": "display_data"
    },
    {
     "name": "stderr",
     "output_type": "stream",
     "text": [
      "Ignoring index file '/local/train/GFS/gfs.0p25.2020020218.f006.grib2.923a8.idx' incompatible with GRIB file\n",
      "Ignoring index file '/local/train/GFS/gfs.0p25.2020020218.f006.grib2.923a8.idx' incompatible with GRIB file\n"
     ]
    },
    {
     "name": "stdout",
     "output_type": "stream",
     "text": [
      "Downloading 2020/20200203/gfs.0p25.2020020300.f006.grib2\n"
     ]
    },
    {
     "data": {
      "application/vnd.jupyter.widget-view+json": {
       "model_id": "21df10cfb736401c82f6d6da52447b28",
       "version_major": 2,
       "version_minor": 0
      },
      "text/plain": [
       "Dropdown(description='data file', options=('/local/train/GFS/gfs.0p25.2020020300.f006.grib2',), value='/local/…"
      ]
     },
     "metadata": {},
     "output_type": "display_data"
    },
    {
     "name": "stderr",
     "output_type": "stream",
     "text": [
      "Ignoring index file '/local/train/GFS/gfs.0p25.2020020300.f006.grib2.923a8.idx' incompatible with GRIB file\n",
      "Ignoring index file '/local/train/GFS/gfs.0p25.2020020300.f006.grib2.923a8.idx' incompatible with GRIB file\n"
     ]
    },
    {
     "name": "stdout",
     "output_type": "stream",
     "text": [
      "Downloading 2020/20200203/gfs.0p25.2020020306.f006.grib2\n"
     ]
    },
    {
     "data": {
      "application/vnd.jupyter.widget-view+json": {
       "model_id": "143dcee4301644b19b6a278db72f5ff0",
       "version_major": 2,
       "version_minor": 0
      },
      "text/plain": [
       "Dropdown(description='data file', options=('/local/train/GFS/gfs.0p25.2020020306.f006.grib2',), value='/local/…"
      ]
     },
     "metadata": {},
     "output_type": "display_data"
    },
    {
     "name": "stderr",
     "output_type": "stream",
     "text": [
      "Ignoring index file '/local/train/GFS/gfs.0p25.2020020306.f006.grib2.923a8.idx' incompatible with GRIB file\n",
      "Ignoring index file '/local/train/GFS/gfs.0p25.2020020306.f006.grib2.923a8.idx' incompatible with GRIB file\n"
     ]
    },
    {
     "name": "stdout",
     "output_type": "stream",
     "text": [
      "Downloading 2020/20200203/gfs.0p25.2020020312.f006.grib2\n"
     ]
    },
    {
     "data": {
      "application/vnd.jupyter.widget-view+json": {
       "model_id": "501c7acd74494b7685838f2907ae5931",
       "version_major": 2,
       "version_minor": 0
      },
      "text/plain": [
       "Dropdown(description='data file', options=('/local/train/GFS/gfs.0p25.2020020312.f006.grib2',), value='/local/…"
      ]
     },
     "metadata": {},
     "output_type": "display_data"
    },
    {
     "name": "stderr",
     "output_type": "stream",
     "text": [
      "Ignoring index file '/local/train/GFS/gfs.0p25.2020020312.f006.grib2.923a8.idx' incompatible with GRIB file\n",
      "Ignoring index file '/local/train/GFS/gfs.0p25.2020020312.f006.grib2.923a8.idx' incompatible with GRIB file\n"
     ]
    },
    {
     "name": "stdout",
     "output_type": "stream",
     "text": [
      "Downloading 2020/20200203/gfs.0p25.2020020318.f006.grib2\n"
     ]
    },
    {
     "data": {
      "application/vnd.jupyter.widget-view+json": {
       "model_id": "73cb5106efff4909aea2a7d594002e5f",
       "version_major": 2,
       "version_minor": 0
      },
      "text/plain": [
       "Dropdown(description='data file', options=('/local/train/GFS/gfs.0p25.2020020318.f006.grib2',), value='/local/…"
      ]
     },
     "metadata": {},
     "output_type": "display_data"
    },
    {
     "name": "stderr",
     "output_type": "stream",
     "text": [
      "Ignoring index file '/local/train/GFS/gfs.0p25.2020020318.f006.grib2.923a8.idx' incompatible with GRIB file\n",
      "Ignoring index file '/local/train/GFS/gfs.0p25.2020020318.f006.grib2.923a8.idx' incompatible with GRIB file\n"
     ]
    },
    {
     "name": "stdout",
     "output_type": "stream",
     "text": [
      "Downloading 2020/20200204/gfs.0p25.2020020400.f006.grib2\n"
     ]
    },
    {
     "data": {
      "application/vnd.jupyter.widget-view+json": {
       "model_id": "d0352944494e4d058f5062ca895882ac",
       "version_major": 2,
       "version_minor": 0
      },
      "text/plain": [
       "Dropdown(description='data file', options=('/local/train/GFS/gfs.0p25.2020020400.f006.grib2',), value='/local/…"
      ]
     },
     "metadata": {},
     "output_type": "display_data"
    },
    {
     "name": "stderr",
     "output_type": "stream",
     "text": [
      "Ignoring index file '/local/train/GFS/gfs.0p25.2020020400.f006.grib2.923a8.idx' incompatible with GRIB file\n",
      "Ignoring index file '/local/train/GFS/gfs.0p25.2020020400.f006.grib2.923a8.idx' incompatible with GRIB file\n"
     ]
    },
    {
     "name": "stdout",
     "output_type": "stream",
     "text": [
      "Downloading 2020/20200204/gfs.0p25.2020020406.f006.grib2\n"
     ]
    },
    {
     "data": {
      "application/vnd.jupyter.widget-view+json": {
       "model_id": "cae5bbc8ea1941238d242d9588cb8b07",
       "version_major": 2,
       "version_minor": 0
      },
      "text/plain": [
       "Dropdown(description='data file', options=('/local/train/GFS/gfs.0p25.2020020406.f006.grib2',), value='/local/…"
      ]
     },
     "metadata": {},
     "output_type": "display_data"
    },
    {
     "name": "stderr",
     "output_type": "stream",
     "text": [
      "Ignoring index file '/local/train/GFS/gfs.0p25.2020020406.f006.grib2.923a8.idx' incompatible with GRIB file\n",
      "Ignoring index file '/local/train/GFS/gfs.0p25.2020020406.f006.grib2.923a8.idx' incompatible with GRIB file\n"
     ]
    },
    {
     "name": "stdout",
     "output_type": "stream",
     "text": [
      "Downloading 2020/20200204/gfs.0p25.2020020412.f006.grib2\n"
     ]
    },
    {
     "data": {
      "application/vnd.jupyter.widget-view+json": {
       "model_id": "30cbefb74d4b4f61ab5918becb807c27",
       "version_major": 2,
       "version_minor": 0
      },
      "text/plain": [
       "Dropdown(description='data file', options=('/local/train/GFS/gfs.0p25.2020020412.f006.grib2',), value='/local/…"
      ]
     },
     "metadata": {},
     "output_type": "display_data"
    },
    {
     "name": "stderr",
     "output_type": "stream",
     "text": [
      "Ignoring index file '/local/train/GFS/gfs.0p25.2020020412.f006.grib2.923a8.idx' incompatible with GRIB file\n",
      "Ignoring index file '/local/train/GFS/gfs.0p25.2020020412.f006.grib2.923a8.idx' incompatible with GRIB file\n"
     ]
    },
    {
     "name": "stdout",
     "output_type": "stream",
     "text": [
      "Downloading 2020/20200204/gfs.0p25.2020020418.f006.grib2\n"
     ]
    },
    {
     "data": {
      "application/vnd.jupyter.widget-view+json": {
       "model_id": "2bce7164e7344a62a885962ab9814910",
       "version_major": 2,
       "version_minor": 0
      },
      "text/plain": [
       "Dropdown(description='data file', options=('/local/train/GFS/gfs.0p25.2020020418.f006.grib2',), value='/local/…"
      ]
     },
     "metadata": {},
     "output_type": "display_data"
    },
    {
     "name": "stderr",
     "output_type": "stream",
     "text": [
      "Ignoring index file '/local/train/GFS/gfs.0p25.2020020418.f006.grib2.923a8.idx' incompatible with GRIB file\n",
      "Ignoring index file '/local/train/GFS/gfs.0p25.2020020418.f006.grib2.923a8.idx' incompatible with GRIB file\n"
     ]
    },
    {
     "name": "stdout",
     "output_type": "stream",
     "text": [
      "Downloading 2020/20200205/gfs.0p25.2020020500.f006.grib2\n"
     ]
    },
    {
     "data": {
      "application/vnd.jupyter.widget-view+json": {
       "model_id": "c4e920ac5b9f4abc8e9d388bbac1e883",
       "version_major": 2,
       "version_minor": 0
      },
      "text/plain": [
       "Dropdown(description='data file', options=('/local/train/GFS/gfs.0p25.2020020500.f006.grib2',), value='/local/…"
      ]
     },
     "metadata": {},
     "output_type": "display_data"
    },
    {
     "name": "stderr",
     "output_type": "stream",
     "text": [
      "Ignoring index file '/local/train/GFS/gfs.0p25.2020020500.f006.grib2.923a8.idx' incompatible with GRIB file\n",
      "Ignoring index file '/local/train/GFS/gfs.0p25.2020020500.f006.grib2.923a8.idx' incompatible with GRIB file\n"
     ]
    },
    {
     "name": "stdout",
     "output_type": "stream",
     "text": [
      "Downloading 2020/20200205/gfs.0p25.2020020506.f006.grib2\n"
     ]
    },
    {
     "data": {
      "application/vnd.jupyter.widget-view+json": {
       "model_id": "ea76aec73b514ca0b57eb25c67aee6a5",
       "version_major": 2,
       "version_minor": 0
      },
      "text/plain": [
       "Dropdown(description='data file', options=('/local/train/GFS/gfs.0p25.2020020506.f006.grib2',), value='/local/…"
      ]
     },
     "metadata": {},
     "output_type": "display_data"
    },
    {
     "name": "stderr",
     "output_type": "stream",
     "text": [
      "Ignoring index file '/local/train/GFS/gfs.0p25.2020020506.f006.grib2.923a8.idx' incompatible with GRIB file\n",
      "Ignoring index file '/local/train/GFS/gfs.0p25.2020020506.f006.grib2.923a8.idx' incompatible with GRIB file\n"
     ]
    },
    {
     "name": "stdout",
     "output_type": "stream",
     "text": [
      "Downloading 2020/20200205/gfs.0p25.2020020512.f006.grib2\n"
     ]
    },
    {
     "data": {
      "application/vnd.jupyter.widget-view+json": {
       "model_id": "9be4c4388a5242f28453d25f1a295c33",
       "version_major": 2,
       "version_minor": 0
      },
      "text/plain": [
       "Dropdown(description='data file', options=('/local/train/GFS/gfs.0p25.2020020512.f006.grib2',), value='/local/…"
      ]
     },
     "metadata": {},
     "output_type": "display_data"
    },
    {
     "name": "stderr",
     "output_type": "stream",
     "text": [
      "Ignoring index file '/local/train/GFS/gfs.0p25.2020020512.f006.grib2.923a8.idx' incompatible with GRIB file\n",
      "Ignoring index file '/local/train/GFS/gfs.0p25.2020020512.f006.grib2.923a8.idx' incompatible with GRIB file\n"
     ]
    },
    {
     "name": "stdout",
     "output_type": "stream",
     "text": [
      "Downloading 2020/20200205/gfs.0p25.2020020518.f006.grib2\n"
     ]
    },
    {
     "data": {
      "application/vnd.jupyter.widget-view+json": {
       "model_id": "f44e51cc0aaf4692a11c4d2975d4a3b6",
       "version_major": 2,
       "version_minor": 0
      },
      "text/plain": [
       "Dropdown(description='data file', options=('/local/train/GFS/gfs.0p25.2020020518.f006.grib2',), value='/local/…"
      ]
     },
     "metadata": {},
     "output_type": "display_data"
    },
    {
     "name": "stderr",
     "output_type": "stream",
     "text": [
      "Ignoring index file '/local/train/GFS/gfs.0p25.2020020518.f006.grib2.923a8.idx' incompatible with GRIB file\n",
      "Ignoring index file '/local/train/GFS/gfs.0p25.2020020518.f006.grib2.923a8.idx' incompatible with GRIB file\n"
     ]
    },
    {
     "name": "stdout",
     "output_type": "stream",
     "text": [
      "Downloading 2020/20200206/gfs.0p25.2020020600.f006.grib2\n"
     ]
    },
    {
     "data": {
      "application/vnd.jupyter.widget-view+json": {
       "model_id": "185c45970a7c46469d108604a601c6c1",
       "version_major": 2,
       "version_minor": 0
      },
      "text/plain": [
       "Dropdown(description='data file', options=('/local/train/GFS/gfs.0p25.2020020600.f006.grib2',), value='/local/…"
      ]
     },
     "metadata": {},
     "output_type": "display_data"
    },
    {
     "name": "stderr",
     "output_type": "stream",
     "text": [
      "Ignoring index file '/local/train/GFS/gfs.0p25.2020020600.f006.grib2.923a8.idx' incompatible with GRIB file\n",
      "Ignoring index file '/local/train/GFS/gfs.0p25.2020020600.f006.grib2.923a8.idx' incompatible with GRIB file\n"
     ]
    },
    {
     "name": "stdout",
     "output_type": "stream",
     "text": [
      "Downloading 2020/20200206/gfs.0p25.2020020606.f006.grib2\n"
     ]
    },
    {
     "data": {
      "application/vnd.jupyter.widget-view+json": {
       "model_id": "16c76b52fe0e471fbb9c6e45f23c1d41",
       "version_major": 2,
       "version_minor": 0
      },
      "text/plain": [
       "Dropdown(description='data file', options=('/local/train/GFS/gfs.0p25.2020020606.f006.grib2',), value='/local/…"
      ]
     },
     "metadata": {},
     "output_type": "display_data"
    },
    {
     "name": "stderr",
     "output_type": "stream",
     "text": [
      "Ignoring index file '/local/train/GFS/gfs.0p25.2020020606.f006.grib2.923a8.idx' incompatible with GRIB file\n",
      "Ignoring index file '/local/train/GFS/gfs.0p25.2020020606.f006.grib2.923a8.idx' incompatible with GRIB file\n"
     ]
    },
    {
     "name": "stdout",
     "output_type": "stream",
     "text": [
      "Downloading 2020/20200206/gfs.0p25.2020020612.f006.grib2\n"
     ]
    },
    {
     "data": {
      "application/vnd.jupyter.widget-view+json": {
       "model_id": "e30984e700604e16b175c8740a8a9f5b",
       "version_major": 2,
       "version_minor": 0
      },
      "text/plain": [
       "Dropdown(description='data file', options=('/local/train/GFS/gfs.0p25.2020020612.f006.grib2',), value='/local/…"
      ]
     },
     "metadata": {},
     "output_type": "display_data"
    },
    {
     "name": "stderr",
     "output_type": "stream",
     "text": [
      "Ignoring index file '/local/train/GFS/gfs.0p25.2020020612.f006.grib2.923a8.idx' incompatible with GRIB file\n",
      "Ignoring index file '/local/train/GFS/gfs.0p25.2020020612.f006.grib2.923a8.idx' incompatible with GRIB file\n"
     ]
    },
    {
     "name": "stdout",
     "output_type": "stream",
     "text": [
      "Downloading 2020/20200206/gfs.0p25.2020020618.f006.grib2\n"
     ]
    },
    {
     "data": {
      "application/vnd.jupyter.widget-view+json": {
       "model_id": "2a20ad11d6684cbab70c3b86dda2a0af",
       "version_major": 2,
       "version_minor": 0
      },
      "text/plain": [
       "Dropdown(description='data file', options=('/local/train/GFS/gfs.0p25.2020020618.f006.grib2',), value='/local/…"
      ]
     },
     "metadata": {},
     "output_type": "display_data"
    },
    {
     "name": "stderr",
     "output_type": "stream",
     "text": [
      "Ignoring index file '/local/train/GFS/gfs.0p25.2020020618.f006.grib2.923a8.idx' incompatible with GRIB file\n",
      "Ignoring index file '/local/train/GFS/gfs.0p25.2020020618.f006.grib2.923a8.idx' incompatible with GRIB file\n"
     ]
    },
    {
     "name": "stdout",
     "output_type": "stream",
     "text": [
      "Downloading 2020/20200207/gfs.0p25.2020020700.f006.grib2\n"
     ]
    },
    {
     "data": {
      "application/vnd.jupyter.widget-view+json": {
       "model_id": "d67b0eb4bd8349f28e54bf2c031eb02e",
       "version_major": 2,
       "version_minor": 0
      },
      "text/plain": [
       "Dropdown(description='data file', options=('/local/train/GFS/gfs.0p25.2020020700.f006.grib2',), value='/local/…"
      ]
     },
     "metadata": {},
     "output_type": "display_data"
    },
    {
     "name": "stderr",
     "output_type": "stream",
     "text": [
      "Ignoring index file '/local/train/GFS/gfs.0p25.2020020700.f006.grib2.923a8.idx' incompatible with GRIB file\n",
      "Ignoring index file '/local/train/GFS/gfs.0p25.2020020700.f006.grib2.923a8.idx' incompatible with GRIB file\n"
     ]
    },
    {
     "name": "stdout",
     "output_type": "stream",
     "text": [
      "Downloading 2020/20200207/gfs.0p25.2020020706.f006.grib2\n"
     ]
    },
    {
     "data": {
      "application/vnd.jupyter.widget-view+json": {
       "model_id": "6c0c1ad56cbe406f88d4dbcb0ae07161",
       "version_major": 2,
       "version_minor": 0
      },
      "text/plain": [
       "Dropdown(description='data file', options=('/local/train/GFS/gfs.0p25.2020020706.f006.grib2',), value='/local/…"
      ]
     },
     "metadata": {},
     "output_type": "display_data"
    },
    {
     "name": "stderr",
     "output_type": "stream",
     "text": [
      "Ignoring index file '/local/train/GFS/gfs.0p25.2020020706.f006.grib2.923a8.idx' incompatible with GRIB file\n",
      "Ignoring index file '/local/train/GFS/gfs.0p25.2020020706.f006.grib2.923a8.idx' incompatible with GRIB file\n"
     ]
    },
    {
     "name": "stdout",
     "output_type": "stream",
     "text": [
      "Downloading 2020/20200207/gfs.0p25.2020020712.f006.grib2\n"
     ]
    },
    {
     "data": {
      "application/vnd.jupyter.widget-view+json": {
       "model_id": "258b8639604347d7bca6f50eb4c058c5",
       "version_major": 2,
       "version_minor": 0
      },
      "text/plain": [
       "Dropdown(description='data file', options=('/local/train/GFS/gfs.0p25.2020020712.f006.grib2',), value='/local/…"
      ]
     },
     "metadata": {},
     "output_type": "display_data"
    },
    {
     "name": "stderr",
     "output_type": "stream",
     "text": [
      "Ignoring index file '/local/train/GFS/gfs.0p25.2020020712.f006.grib2.923a8.idx' incompatible with GRIB file\n",
      "Ignoring index file '/local/train/GFS/gfs.0p25.2020020712.f006.grib2.923a8.idx' incompatible with GRIB file\n"
     ]
    },
    {
     "name": "stdout",
     "output_type": "stream",
     "text": [
      "Downloading 2020/20200207/gfs.0p25.2020020718.f006.grib2\n"
     ]
    },
    {
     "data": {
      "application/vnd.jupyter.widget-view+json": {
       "model_id": "6114f74c94424a05bec0d2345abfd0c9",
       "version_major": 2,
       "version_minor": 0
      },
      "text/plain": [
       "Dropdown(description='data file', options=('/local/train/GFS/gfs.0p25.2020020718.f006.grib2',), value='/local/…"
      ]
     },
     "metadata": {},
     "output_type": "display_data"
    },
    {
     "name": "stderr",
     "output_type": "stream",
     "text": [
      "Ignoring index file '/local/train/GFS/gfs.0p25.2020020718.f006.grib2.923a8.idx' incompatible with GRIB file\n",
      "Ignoring index file '/local/train/GFS/gfs.0p25.2020020718.f006.grib2.923a8.idx' incompatible with GRIB file\n"
     ]
    },
    {
     "name": "stdout",
     "output_type": "stream",
     "text": [
      "Downloading 2020/20200208/gfs.0p25.2020020800.f006.grib2\n"
     ]
    },
    {
     "data": {
      "application/vnd.jupyter.widget-view+json": {
       "model_id": "4f67e13f31a14006ac24156062a954db",
       "version_major": 2,
       "version_minor": 0
      },
      "text/plain": [
       "Dropdown(description='data file', options=('/local/train/GFS/gfs.0p25.2020020800.f006.grib2',), value='/local/…"
      ]
     },
     "metadata": {},
     "output_type": "display_data"
    },
    {
     "name": "stderr",
     "output_type": "stream",
     "text": [
      "Ignoring index file '/local/train/GFS/gfs.0p25.2020020800.f006.grib2.923a8.idx' incompatible with GRIB file\n",
      "Ignoring index file '/local/train/GFS/gfs.0p25.2020020800.f006.grib2.923a8.idx' incompatible with GRIB file\n"
     ]
    },
    {
     "name": "stdout",
     "output_type": "stream",
     "text": [
      "Downloading 2020/20200208/gfs.0p25.2020020806.f006.grib2\n"
     ]
    },
    {
     "data": {
      "application/vnd.jupyter.widget-view+json": {
       "model_id": "70e95d4df75c4c9ca6f417ce7d481138",
       "version_major": 2,
       "version_minor": 0
      },
      "text/plain": [
       "Dropdown(description='data file', options=('/local/train/GFS/gfs.0p25.2020020806.f006.grib2',), value='/local/…"
      ]
     },
     "metadata": {},
     "output_type": "display_data"
    },
    {
     "name": "stderr",
     "output_type": "stream",
     "text": [
      "Ignoring index file '/local/train/GFS/gfs.0p25.2020020806.f006.grib2.923a8.idx' incompatible with GRIB file\n",
      "Ignoring index file '/local/train/GFS/gfs.0p25.2020020806.f006.grib2.923a8.idx' incompatible with GRIB file\n"
     ]
    },
    {
     "name": "stdout",
     "output_type": "stream",
     "text": [
      "Downloading 2020/20200208/gfs.0p25.2020020812.f006.grib2\n"
     ]
    },
    {
     "data": {
      "application/vnd.jupyter.widget-view+json": {
       "model_id": "262d05f345ed4e7f88cdc4433dfb1f77",
       "version_major": 2,
       "version_minor": 0
      },
      "text/plain": [
       "Dropdown(description='data file', options=('/local/train/GFS/gfs.0p25.2020020812.f006.grib2',), value='/local/…"
      ]
     },
     "metadata": {},
     "output_type": "display_data"
    },
    {
     "name": "stderr",
     "output_type": "stream",
     "text": [
      "Ignoring index file '/local/train/GFS/gfs.0p25.2020020812.f006.grib2.923a8.idx' incompatible with GRIB file\n",
      "Ignoring index file '/local/train/GFS/gfs.0p25.2020020812.f006.grib2.923a8.idx' incompatible with GRIB file\n"
     ]
    },
    {
     "name": "stdout",
     "output_type": "stream",
     "text": [
      "Downloading 2020/20200208/gfs.0p25.2020020818.f006.grib2\n"
     ]
    },
    {
     "data": {
      "application/vnd.jupyter.widget-view+json": {
       "model_id": "352b58bb5dda4c08b3ed719b3fcb6100",
       "version_major": 2,
       "version_minor": 0
      },
      "text/plain": [
       "Dropdown(description='data file', options=('/local/train/GFS/gfs.0p25.2020020818.f006.grib2',), value='/local/…"
      ]
     },
     "metadata": {},
     "output_type": "display_data"
    },
    {
     "name": "stderr",
     "output_type": "stream",
     "text": [
      "Ignoring index file '/local/train/GFS/gfs.0p25.2020020818.f006.grib2.923a8.idx' incompatible with GRIB file\n",
      "Ignoring index file '/local/train/GFS/gfs.0p25.2020020818.f006.grib2.923a8.idx' incompatible with GRIB file\n"
     ]
    },
    {
     "name": "stdout",
     "output_type": "stream",
     "text": [
      "Downloading 2020/20200209/gfs.0p25.2020020900.f006.grib2\n"
     ]
    },
    {
     "data": {
      "application/vnd.jupyter.widget-view+json": {
       "model_id": "bda51e102aa444139c14541e27b5bea1",
       "version_major": 2,
       "version_minor": 0
      },
      "text/plain": [
       "Dropdown(description='data file', options=('/local/train/GFS/gfs.0p25.2020020900.f006.grib2',), value='/local/…"
      ]
     },
     "metadata": {},
     "output_type": "display_data"
    },
    {
     "name": "stderr",
     "output_type": "stream",
     "text": [
      "Ignoring index file '/local/train/GFS/gfs.0p25.2020020900.f006.grib2.923a8.idx' incompatible with GRIB file\n",
      "Ignoring index file '/local/train/GFS/gfs.0p25.2020020900.f006.grib2.923a8.idx' incompatible with GRIB file\n"
     ]
    },
    {
     "name": "stdout",
     "output_type": "stream",
     "text": [
      "Downloading 2020/20200209/gfs.0p25.2020020906.f006.grib2\n"
     ]
    },
    {
     "data": {
      "application/vnd.jupyter.widget-view+json": {
       "model_id": "e02e99d63b5948c48f44f01716fae0ff",
       "version_major": 2,
       "version_minor": 0
      },
      "text/plain": [
       "Dropdown(description='data file', options=('/local/train/GFS/gfs.0p25.2020020906.f006.grib2',), value='/local/…"
      ]
     },
     "metadata": {},
     "output_type": "display_data"
    },
    {
     "name": "stderr",
     "output_type": "stream",
     "text": [
      "Ignoring index file '/local/train/GFS/gfs.0p25.2020020906.f006.grib2.923a8.idx' incompatible with GRIB file\n",
      "Ignoring index file '/local/train/GFS/gfs.0p25.2020020906.f006.grib2.923a8.idx' incompatible with GRIB file\n"
     ]
    },
    {
     "name": "stdout",
     "output_type": "stream",
     "text": [
      "Downloading 2020/20200209/gfs.0p25.2020020912.f006.grib2\n"
     ]
    },
    {
     "data": {
      "application/vnd.jupyter.widget-view+json": {
       "model_id": "a6c9f34ca28f47ffa058da245cf4dfd0",
       "version_major": 2,
       "version_minor": 0
      },
      "text/plain": [
       "Dropdown(description='data file', options=('/local/train/GFS/gfs.0p25.2020020912.f006.grib2',), value='/local/…"
      ]
     },
     "metadata": {},
     "output_type": "display_data"
    },
    {
     "name": "stderr",
     "output_type": "stream",
     "text": [
      "Ignoring index file '/local/train/GFS/gfs.0p25.2020020912.f006.grib2.923a8.idx' incompatible with GRIB file\n",
      "Ignoring index file '/local/train/GFS/gfs.0p25.2020020912.f006.grib2.923a8.idx' incompatible with GRIB file\n"
     ]
    },
    {
     "name": "stdout",
     "output_type": "stream",
     "text": [
      "Downloading 2020/20200209/gfs.0p25.2020020918.f006.grib2\n"
     ]
    },
    {
     "data": {
      "application/vnd.jupyter.widget-view+json": {
       "model_id": "7ecaf621fad544df88df1fdd182905e9",
       "version_major": 2,
       "version_minor": 0
      },
      "text/plain": [
       "Dropdown(description='data file', options=('/local/train/GFS/gfs.0p25.2020020918.f006.grib2',), value='/local/…"
      ]
     },
     "metadata": {},
     "output_type": "display_data"
    },
    {
     "name": "stderr",
     "output_type": "stream",
     "text": [
      "Ignoring index file '/local/train/GFS/gfs.0p25.2020020918.f006.grib2.923a8.idx' incompatible with GRIB file\n",
      "Ignoring index file '/local/train/GFS/gfs.0p25.2020020918.f006.grib2.923a8.idx' incompatible with GRIB file\n"
     ]
    },
    {
     "name": "stdout",
     "output_type": "stream",
     "text": [
      "Downloading 2020/20200210/gfs.0p25.2020021000.f006.grib2\n"
     ]
    },
    {
     "data": {
      "application/vnd.jupyter.widget-view+json": {
       "model_id": "37d033de42d048b4811a45b56a693131",
       "version_major": 2,
       "version_minor": 0
      },
      "text/plain": [
       "Dropdown(description='data file', options=('/local/train/GFS/gfs.0p25.2020021000.f006.grib2',), value='/local/…"
      ]
     },
     "metadata": {},
     "output_type": "display_data"
    },
    {
     "name": "stderr",
     "output_type": "stream",
     "text": [
      "Ignoring index file '/local/train/GFS/gfs.0p25.2020021000.f006.grib2.923a8.idx' incompatible with GRIB file\n",
      "Ignoring index file '/local/train/GFS/gfs.0p25.2020021000.f006.grib2.923a8.idx' incompatible with GRIB file\n"
     ]
    },
    {
     "name": "stdout",
     "output_type": "stream",
     "text": [
      "Downloading 2020/20200210/gfs.0p25.2020021006.f006.grib2\n"
     ]
    },
    {
     "data": {
      "application/vnd.jupyter.widget-view+json": {
       "model_id": "535411515adb4253a9c93a8b9f2f0bb4",
       "version_major": 2,
       "version_minor": 0
      },
      "text/plain": [
       "Dropdown(description='data file', options=('/local/train/GFS/gfs.0p25.2020021006.f006.grib2',), value='/local/…"
      ]
     },
     "metadata": {},
     "output_type": "display_data"
    },
    {
     "name": "stderr",
     "output_type": "stream",
     "text": [
      "Ignoring index file '/local/train/GFS/gfs.0p25.2020021006.f006.grib2.923a8.idx' incompatible with GRIB file\n",
      "Ignoring index file '/local/train/GFS/gfs.0p25.2020021006.f006.grib2.923a8.idx' incompatible with GRIB file\n"
     ]
    },
    {
     "name": "stdout",
     "output_type": "stream",
     "text": [
      "Downloading 2020/20200210/gfs.0p25.2020021012.f006.grib2\n"
     ]
    },
    {
     "data": {
      "application/vnd.jupyter.widget-view+json": {
       "model_id": "225a8d59f8d24228b357a27542fbcd41",
       "version_major": 2,
       "version_minor": 0
      },
      "text/plain": [
       "Dropdown(description='data file', options=('/local/train/GFS/gfs.0p25.2020021012.f006.grib2',), value='/local/…"
      ]
     },
     "metadata": {},
     "output_type": "display_data"
    },
    {
     "name": "stderr",
     "output_type": "stream",
     "text": [
      "Ignoring index file '/local/train/GFS/gfs.0p25.2020021012.f006.grib2.923a8.idx' incompatible with GRIB file\n",
      "Ignoring index file '/local/train/GFS/gfs.0p25.2020021012.f006.grib2.923a8.idx' incompatible with GRIB file\n"
     ]
    },
    {
     "name": "stdout",
     "output_type": "stream",
     "text": [
      "Downloading 2020/20200210/gfs.0p25.2020021018.f006.grib2\n"
     ]
    },
    {
     "data": {
      "application/vnd.jupyter.widget-view+json": {
       "model_id": "781f588efc7f4f9ca792af452c5878a7",
       "version_major": 2,
       "version_minor": 0
      },
      "text/plain": [
       "Dropdown(description='data file', options=('/local/train/GFS/gfs.0p25.2020021018.f006.grib2',), value='/local/…"
      ]
     },
     "metadata": {},
     "output_type": "display_data"
    },
    {
     "name": "stderr",
     "output_type": "stream",
     "text": [
      "Ignoring index file '/local/train/GFS/gfs.0p25.2020021018.f006.grib2.923a8.idx' incompatible with GRIB file\n",
      "Ignoring index file '/local/train/GFS/gfs.0p25.2020021018.f006.grib2.923a8.idx' incompatible with GRIB file\n"
     ]
    },
    {
     "name": "stdout",
     "output_type": "stream",
     "text": [
      "Downloading 2020/20200211/gfs.0p25.2020021100.f006.grib2\n"
     ]
    },
    {
     "data": {
      "application/vnd.jupyter.widget-view+json": {
       "model_id": "7bf64ad9850648db908acf2754aceaa0",
       "version_major": 2,
       "version_minor": 0
      },
      "text/plain": [
       "Dropdown(description='data file', options=('/local/train/GFS/gfs.0p25.2020021100.f006.grib2',), value='/local/…"
      ]
     },
     "metadata": {},
     "output_type": "display_data"
    },
    {
     "name": "stderr",
     "output_type": "stream",
     "text": [
      "Ignoring index file '/local/train/GFS/gfs.0p25.2020021100.f006.grib2.923a8.idx' incompatible with GRIB file\n",
      "Ignoring index file '/local/train/GFS/gfs.0p25.2020021100.f006.grib2.923a8.idx' incompatible with GRIB file\n"
     ]
    },
    {
     "name": "stdout",
     "output_type": "stream",
     "text": [
      "Downloading 2020/20200211/gfs.0p25.2020021106.f006.grib2\n"
     ]
    },
    {
     "data": {
      "application/vnd.jupyter.widget-view+json": {
       "model_id": "059c4b0b580a42f48fd71574fa1b9ee2",
       "version_major": 2,
       "version_minor": 0
      },
      "text/plain": [
       "Dropdown(description='data file', options=('/local/train/GFS/gfs.0p25.2020021106.f006.grib2',), value='/local/…"
      ]
     },
     "metadata": {},
     "output_type": "display_data"
    },
    {
     "name": "stderr",
     "output_type": "stream",
     "text": [
      "Ignoring index file '/local/train/GFS/gfs.0p25.2020021106.f006.grib2.923a8.idx' incompatible with GRIB file\n",
      "Ignoring index file '/local/train/GFS/gfs.0p25.2020021106.f006.grib2.923a8.idx' incompatible with GRIB file\n"
     ]
    },
    {
     "name": "stdout",
     "output_type": "stream",
     "text": [
      "Downloading 2020/20200211/gfs.0p25.2020021112.f006.grib2\n"
     ]
    },
    {
     "data": {
      "application/vnd.jupyter.widget-view+json": {
       "model_id": "2dd8288307d44a9bb45711072e56c007",
       "version_major": 2,
       "version_minor": 0
      },
      "text/plain": [
       "Dropdown(description='data file', options=('/local/train/GFS/gfs.0p25.2020021112.f006.grib2',), value='/local/…"
      ]
     },
     "metadata": {},
     "output_type": "display_data"
    },
    {
     "name": "stderr",
     "output_type": "stream",
     "text": [
      "Ignoring index file '/local/train/GFS/gfs.0p25.2020021112.f006.grib2.923a8.idx' incompatible with GRIB file\n",
      "Ignoring index file '/local/train/GFS/gfs.0p25.2020021112.f006.grib2.923a8.idx' incompatible with GRIB file\n"
     ]
    },
    {
     "name": "stdout",
     "output_type": "stream",
     "text": [
      "Downloading 2020/20200211/gfs.0p25.2020021118.f006.grib2\n"
     ]
    },
    {
     "data": {
      "application/vnd.jupyter.widget-view+json": {
       "model_id": "72d1de3b1e954b9ea7aca0c90ea931f5",
       "version_major": 2,
       "version_minor": 0
      },
      "text/plain": [
       "Dropdown(description='data file', options=('/local/train/GFS/gfs.0p25.2020021118.f006.grib2',), value='/local/…"
      ]
     },
     "metadata": {},
     "output_type": "display_data"
    },
    {
     "name": "stderr",
     "output_type": "stream",
     "text": [
      "Ignoring index file '/local/train/GFS/gfs.0p25.2020021118.f006.grib2.923a8.idx' incompatible with GRIB file\n",
      "Ignoring index file '/local/train/GFS/gfs.0p25.2020021118.f006.grib2.923a8.idx' incompatible with GRIB file\n"
     ]
    },
    {
     "name": "stdout",
     "output_type": "stream",
     "text": [
      "Downloading 2020/20200212/gfs.0p25.2020021200.f006.grib2\n"
     ]
    },
    {
     "data": {
      "application/vnd.jupyter.widget-view+json": {
       "model_id": "0db3043c37004ce2bad6b7d0cfcc6d62",
       "version_major": 2,
       "version_minor": 0
      },
      "text/plain": [
       "Dropdown(description='data file', options=('/local/train/GFS/gfs.0p25.2020021200.f006.grib2',), value='/local/…"
      ]
     },
     "metadata": {},
     "output_type": "display_data"
    },
    {
     "name": "stderr",
     "output_type": "stream",
     "text": [
      "Ignoring index file '/local/train/GFS/gfs.0p25.2020021200.f006.grib2.923a8.idx' incompatible with GRIB file\n",
      "Ignoring index file '/local/train/GFS/gfs.0p25.2020021200.f006.grib2.923a8.idx' incompatible with GRIB file\n"
     ]
    },
    {
     "name": "stdout",
     "output_type": "stream",
     "text": [
      "Downloading 2020/20200212/gfs.0p25.2020021206.f006.grib2\n"
     ]
    },
    {
     "data": {
      "application/vnd.jupyter.widget-view+json": {
       "model_id": "e58ac8b604b6409db471740d2018f412",
       "version_major": 2,
       "version_minor": 0
      },
      "text/plain": [
       "Dropdown(description='data file', options=('/local/train/GFS/gfs.0p25.2020021206.f006.grib2',), value='/local/…"
      ]
     },
     "metadata": {},
     "output_type": "display_data"
    },
    {
     "name": "stderr",
     "output_type": "stream",
     "text": [
      "Ignoring index file '/local/train/GFS/gfs.0p25.2020021206.f006.grib2.923a8.idx' incompatible with GRIB file\n",
      "Ignoring index file '/local/train/GFS/gfs.0p25.2020021206.f006.grib2.923a8.idx' incompatible with GRIB file\n"
     ]
    },
    {
     "name": "stdout",
     "output_type": "stream",
     "text": [
      "Downloading 2020/20200212/gfs.0p25.2020021212.f006.grib2\n"
     ]
    },
    {
     "data": {
      "application/vnd.jupyter.widget-view+json": {
       "model_id": "335a318ca1e54fa5aa5cb0a3df71e818",
       "version_major": 2,
       "version_minor": 0
      },
      "text/plain": [
       "Dropdown(description='data file', options=('/local/train/GFS/gfs.0p25.2020021212.f006.grib2',), value='/local/…"
      ]
     },
     "metadata": {},
     "output_type": "display_data"
    },
    {
     "name": "stderr",
     "output_type": "stream",
     "text": [
      "Ignoring index file '/local/train/GFS/gfs.0p25.2020021212.f006.grib2.923a8.idx' incompatible with GRIB file\n",
      "Ignoring index file '/local/train/GFS/gfs.0p25.2020021212.f006.grib2.923a8.idx' incompatible with GRIB file\n"
     ]
    },
    {
     "name": "stdout",
     "output_type": "stream",
     "text": [
      "Downloading 2020/20200212/gfs.0p25.2020021218.f006.grib2\n"
     ]
    },
    {
     "data": {
      "application/vnd.jupyter.widget-view+json": {
       "model_id": "7bc1ea329dcb47a6ad339f683e4d6007",
       "version_major": 2,
       "version_minor": 0
      },
      "text/plain": [
       "Dropdown(description='data file', options=('/local/train/GFS/gfs.0p25.2020021218.f006.grib2',), value='/local/…"
      ]
     },
     "metadata": {},
     "output_type": "display_data"
    },
    {
     "name": "stderr",
     "output_type": "stream",
     "text": [
      "Ignoring index file '/local/train/GFS/gfs.0p25.2020021218.f006.grib2.923a8.idx' incompatible with GRIB file\n",
      "Ignoring index file '/local/train/GFS/gfs.0p25.2020021218.f006.grib2.923a8.idx' incompatible with GRIB file\n"
     ]
    },
    {
     "name": "stdout",
     "output_type": "stream",
     "text": [
      "Downloading 2020/20200213/gfs.0p25.2020021300.f006.grib2\n"
     ]
    },
    {
     "data": {
      "application/vnd.jupyter.widget-view+json": {
       "model_id": "3723dc8565294b77b3b44fe7fb8edbd2",
       "version_major": 2,
       "version_minor": 0
      },
      "text/plain": [
       "Dropdown(description='data file', options=('/local/train/GFS/gfs.0p25.2020021300.f006.grib2',), value='/local/…"
      ]
     },
     "metadata": {},
     "output_type": "display_data"
    },
    {
     "name": "stderr",
     "output_type": "stream",
     "text": [
      "Ignoring index file '/local/train/GFS/gfs.0p25.2020021300.f006.grib2.923a8.idx' incompatible with GRIB file\n",
      "Ignoring index file '/local/train/GFS/gfs.0p25.2020021300.f006.grib2.923a8.idx' incompatible with GRIB file\n"
     ]
    },
    {
     "name": "stdout",
     "output_type": "stream",
     "text": [
      "Downloading 2020/20200213/gfs.0p25.2020021306.f006.grib2\n"
     ]
    },
    {
     "data": {
      "application/vnd.jupyter.widget-view+json": {
       "model_id": "faa65dc0535a4105881b8a2aae567353",
       "version_major": 2,
       "version_minor": 0
      },
      "text/plain": [
       "Dropdown(description='data file', options=('/local/train/GFS/gfs.0p25.2020021306.f006.grib2',), value='/local/…"
      ]
     },
     "metadata": {},
     "output_type": "display_data"
    },
    {
     "name": "stderr",
     "output_type": "stream",
     "text": [
      "Ignoring index file '/local/train/GFS/gfs.0p25.2020021306.f006.grib2.923a8.idx' incompatible with GRIB file\n",
      "Ignoring index file '/local/train/GFS/gfs.0p25.2020021306.f006.grib2.923a8.idx' incompatible with GRIB file\n"
     ]
    },
    {
     "name": "stdout",
     "output_type": "stream",
     "text": [
      "Downloading 2020/20200213/gfs.0p25.2020021312.f006.grib2\n"
     ]
    },
    {
     "data": {
      "application/vnd.jupyter.widget-view+json": {
       "model_id": "b474a964f23b4b6cb6f884bede66daa0",
       "version_major": 2,
       "version_minor": 0
      },
      "text/plain": [
       "Dropdown(description='data file', options=('/local/train/GFS/gfs.0p25.2020021312.f006.grib2',), value='/local/…"
      ]
     },
     "metadata": {},
     "output_type": "display_data"
    },
    {
     "name": "stderr",
     "output_type": "stream",
     "text": [
      "Ignoring index file '/local/train/GFS/gfs.0p25.2020021312.f006.grib2.923a8.idx' incompatible with GRIB file\n",
      "Ignoring index file '/local/train/GFS/gfs.0p25.2020021312.f006.grib2.923a8.idx' incompatible with GRIB file\n"
     ]
    },
    {
     "name": "stdout",
     "output_type": "stream",
     "text": [
      "Downloading 2020/20200213/gfs.0p25.2020021318.f006.grib2\n"
     ]
    },
    {
     "data": {
      "application/vnd.jupyter.widget-view+json": {
       "model_id": "646c3332c18e43b8a64934d217dbe4bf",
       "version_major": 2,
       "version_minor": 0
      },
      "text/plain": [
       "Dropdown(description='data file', options=('/local/train/GFS/gfs.0p25.2020021318.f006.grib2',), value='/local/…"
      ]
     },
     "metadata": {},
     "output_type": "display_data"
    },
    {
     "name": "stderr",
     "output_type": "stream",
     "text": [
      "Ignoring index file '/local/train/GFS/gfs.0p25.2020021318.f006.grib2.923a8.idx' incompatible with GRIB file\n",
      "Ignoring index file '/local/train/GFS/gfs.0p25.2020021318.f006.grib2.923a8.idx' incompatible with GRIB file\n"
     ]
    },
    {
     "name": "stdout",
     "output_type": "stream",
     "text": [
      "Downloading 2020/20200214/gfs.0p25.2020021400.f006.grib2\n"
     ]
    },
    {
     "data": {
      "application/vnd.jupyter.widget-view+json": {
       "model_id": "863eee9322044d4ca90b2b3ff0b13abf",
       "version_major": 2,
       "version_minor": 0
      },
      "text/plain": [
       "Dropdown(description='data file', options=('/local/train/GFS/gfs.0p25.2020021400.f006.grib2',), value='/local/…"
      ]
     },
     "metadata": {},
     "output_type": "display_data"
    },
    {
     "name": "stderr",
     "output_type": "stream",
     "text": [
      "Ignoring index file '/local/train/GFS/gfs.0p25.2020021400.f006.grib2.923a8.idx' incompatible with GRIB file\n",
      "Ignoring index file '/local/train/GFS/gfs.0p25.2020021400.f006.grib2.923a8.idx' incompatible with GRIB file\n"
     ]
    },
    {
     "name": "stdout",
     "output_type": "stream",
     "text": [
      "Downloading 2020/20200214/gfs.0p25.2020021406.f006.grib2\n"
     ]
    },
    {
     "data": {
      "application/vnd.jupyter.widget-view+json": {
       "model_id": "bab1f1cc19f145c4b10503c70bf10aa5",
       "version_major": 2,
       "version_minor": 0
      },
      "text/plain": [
       "Dropdown(description='data file', options=('/local/train/GFS/gfs.0p25.2020021406.f006.grib2',), value='/local/…"
      ]
     },
     "metadata": {},
     "output_type": "display_data"
    },
    {
     "name": "stderr",
     "output_type": "stream",
     "text": [
      "Ignoring index file '/local/train/GFS/gfs.0p25.2020021406.f006.grib2.923a8.idx' incompatible with GRIB file\n",
      "Ignoring index file '/local/train/GFS/gfs.0p25.2020021406.f006.grib2.923a8.idx' incompatible with GRIB file\n"
     ]
    },
    {
     "name": "stdout",
     "output_type": "stream",
     "text": [
      "Downloading 2020/20200214/gfs.0p25.2020021412.f006.grib2\n"
     ]
    },
    {
     "data": {
      "application/vnd.jupyter.widget-view+json": {
       "model_id": "13517aef51c04951a609b10f40a59f72",
       "version_major": 2,
       "version_minor": 0
      },
      "text/plain": [
       "Dropdown(description='data file', options=('/local/train/GFS/gfs.0p25.2020021412.f006.grib2',), value='/local/…"
      ]
     },
     "metadata": {},
     "output_type": "display_data"
    },
    {
     "name": "stderr",
     "output_type": "stream",
     "text": [
      "Ignoring index file '/local/train/GFS/gfs.0p25.2020021412.f006.grib2.923a8.idx' incompatible with GRIB file\n",
      "Ignoring index file '/local/train/GFS/gfs.0p25.2020021412.f006.grib2.923a8.idx' incompatible with GRIB file\n"
     ]
    },
    {
     "name": "stdout",
     "output_type": "stream",
     "text": [
      "Downloading 2020/20200214/gfs.0p25.2020021418.f006.grib2\n"
     ]
    },
    {
     "data": {
      "application/vnd.jupyter.widget-view+json": {
       "model_id": "c95b498b1b20464eb1395927f9e6321d",
       "version_major": 2,
       "version_minor": 0
      },
      "text/plain": [
       "Dropdown(description='data file', options=('/local/train/GFS/gfs.0p25.2020021418.f006.grib2',), value='/local/…"
      ]
     },
     "metadata": {},
     "output_type": "display_data"
    },
    {
     "name": "stderr",
     "output_type": "stream",
     "text": [
      "Ignoring index file '/local/train/GFS/gfs.0p25.2020021418.f006.grib2.923a8.idx' incompatible with GRIB file\n",
      "Ignoring index file '/local/train/GFS/gfs.0p25.2020021418.f006.grib2.923a8.idx' incompatible with GRIB file\n"
     ]
    },
    {
     "name": "stdout",
     "output_type": "stream",
     "text": [
      "Downloading 2020/20200215/gfs.0p25.2020021500.f006.grib2\n"
     ]
    },
    {
     "data": {
      "application/vnd.jupyter.widget-view+json": {
       "model_id": "9642188a2baf4a688ebafd6b27ee88ee",
       "version_major": 2,
       "version_minor": 0
      },
      "text/plain": [
       "Dropdown(description='data file', options=('/local/train/GFS/gfs.0p25.2020021500.f006.grib2',), value='/local/…"
      ]
     },
     "metadata": {},
     "output_type": "display_data"
    },
    {
     "name": "stderr",
     "output_type": "stream",
     "text": [
      "Ignoring index file '/local/train/GFS/gfs.0p25.2020021500.f006.grib2.923a8.idx' incompatible with GRIB file\n",
      "Ignoring index file '/local/train/GFS/gfs.0p25.2020021500.f006.grib2.923a8.idx' incompatible with GRIB file\n"
     ]
    },
    {
     "name": "stdout",
     "output_type": "stream",
     "text": [
      "Downloading 2020/20200215/gfs.0p25.2020021506.f006.grib2\n"
     ]
    },
    {
     "data": {
      "application/vnd.jupyter.widget-view+json": {
       "model_id": "118bcd971e7f42d4b5cd85e61f5d862a",
       "version_major": 2,
       "version_minor": 0
      },
      "text/plain": [
       "Dropdown(description='data file', options=('/local/train/GFS/gfs.0p25.2020021506.f006.grib2',), value='/local/…"
      ]
     },
     "metadata": {},
     "output_type": "display_data"
    },
    {
     "name": "stderr",
     "output_type": "stream",
     "text": [
      "Ignoring index file '/local/train/GFS/gfs.0p25.2020021506.f006.grib2.923a8.idx' incompatible with GRIB file\n",
      "Ignoring index file '/local/train/GFS/gfs.0p25.2020021506.f006.grib2.923a8.idx' incompatible with GRIB file\n"
     ]
    },
    {
     "name": "stdout",
     "output_type": "stream",
     "text": [
      "Downloading 2020/20200215/gfs.0p25.2020021512.f006.grib2\n"
     ]
    },
    {
     "data": {
      "application/vnd.jupyter.widget-view+json": {
       "model_id": "dfd853a26b0b4454bec6666ade8951ab",
       "version_major": 2,
       "version_minor": 0
      },
      "text/plain": [
       "Dropdown(description='data file', options=('/local/train/GFS/gfs.0p25.2020021512.f006.grib2',), value='/local/…"
      ]
     },
     "metadata": {},
     "output_type": "display_data"
    },
    {
     "name": "stderr",
     "output_type": "stream",
     "text": [
      "Ignoring index file '/local/train/GFS/gfs.0p25.2020021512.f006.grib2.923a8.idx' incompatible with GRIB file\n",
      "Ignoring index file '/local/train/GFS/gfs.0p25.2020021512.f006.grib2.923a8.idx' incompatible with GRIB file\n"
     ]
    },
    {
     "name": "stdout",
     "output_type": "stream",
     "text": [
      "Downloading 2020/20200215/gfs.0p25.2020021518.f006.grib2\n"
     ]
    },
    {
     "data": {
      "application/vnd.jupyter.widget-view+json": {
       "model_id": "a91d5541314e46ecbd41d592176ef543",
       "version_major": 2,
       "version_minor": 0
      },
      "text/plain": [
       "Dropdown(description='data file', options=('/local/train/GFS/gfs.0p25.2020021518.f006.grib2',), value='/local/…"
      ]
     },
     "metadata": {},
     "output_type": "display_data"
    },
    {
     "name": "stderr",
     "output_type": "stream",
     "text": [
      "Ignoring index file '/local/train/GFS/gfs.0p25.2020021518.f006.grib2.923a8.idx' incompatible with GRIB file\n",
      "Ignoring index file '/local/train/GFS/gfs.0p25.2020021518.f006.grib2.923a8.idx' incompatible with GRIB file\n"
     ]
    },
    {
     "name": "stdout",
     "output_type": "stream",
     "text": [
      "Downloading 2020/20200216/gfs.0p25.2020021600.f006.grib2\n"
     ]
    },
    {
     "data": {
      "application/vnd.jupyter.widget-view+json": {
       "model_id": "be5c715aae28412a8b1aa2b6e698fab5",
       "version_major": 2,
       "version_minor": 0
      },
      "text/plain": [
       "Dropdown(description='data file', options=('/local/train/GFS/gfs.0p25.2020021600.f006.grib2',), value='/local/…"
      ]
     },
     "metadata": {},
     "output_type": "display_data"
    },
    {
     "name": "stderr",
     "output_type": "stream",
     "text": [
      "Ignoring index file '/local/train/GFS/gfs.0p25.2020021600.f006.grib2.923a8.idx' incompatible with GRIB file\n",
      "Ignoring index file '/local/train/GFS/gfs.0p25.2020021600.f006.grib2.923a8.idx' incompatible with GRIB file\n"
     ]
    },
    {
     "name": "stdout",
     "output_type": "stream",
     "text": [
      "Downloading 2020/20200216/gfs.0p25.2020021606.f006.grib2\n"
     ]
    },
    {
     "data": {
      "application/vnd.jupyter.widget-view+json": {
       "model_id": "6cd7f7fa03cf4ae19ce269ff9a0c24c9",
       "version_major": 2,
       "version_minor": 0
      },
      "text/plain": [
       "Dropdown(description='data file', options=('/local/train/GFS/gfs.0p25.2020021606.f006.grib2',), value='/local/…"
      ]
     },
     "metadata": {},
     "output_type": "display_data"
    },
    {
     "name": "stderr",
     "output_type": "stream",
     "text": [
      "Ignoring index file '/local/train/GFS/gfs.0p25.2020021606.f006.grib2.923a8.idx' incompatible with GRIB file\n",
      "Ignoring index file '/local/train/GFS/gfs.0p25.2020021606.f006.grib2.923a8.idx' incompatible with GRIB file\n"
     ]
    },
    {
     "name": "stdout",
     "output_type": "stream",
     "text": [
      "Downloading 2020/20200216/gfs.0p25.2020021612.f006.grib2\n"
     ]
    },
    {
     "data": {
      "application/vnd.jupyter.widget-view+json": {
       "model_id": "ecd4e396070841af9711aae67928787c",
       "version_major": 2,
       "version_minor": 0
      },
      "text/plain": [
       "Dropdown(description='data file', options=('/local/train/GFS/gfs.0p25.2020021612.f006.grib2',), value='/local/…"
      ]
     },
     "metadata": {},
     "output_type": "display_data"
    },
    {
     "name": "stderr",
     "output_type": "stream",
     "text": [
      "Ignoring index file '/local/train/GFS/gfs.0p25.2020021612.f006.grib2.923a8.idx' incompatible with GRIB file\n",
      "Ignoring index file '/local/train/GFS/gfs.0p25.2020021612.f006.grib2.923a8.idx' incompatible with GRIB file\n"
     ]
    },
    {
     "name": "stdout",
     "output_type": "stream",
     "text": [
      "Downloading 2020/20200216/gfs.0p25.2020021618.f006.grib2\n"
     ]
    },
    {
     "data": {
      "application/vnd.jupyter.widget-view+json": {
       "model_id": "94c9960294134ff99f0b27021bdcb3d0",
       "version_major": 2,
       "version_minor": 0
      },
      "text/plain": [
       "Dropdown(description='data file', options=('/local/train/GFS/gfs.0p25.2020021618.f006.grib2',), value='/local/…"
      ]
     },
     "metadata": {},
     "output_type": "display_data"
    },
    {
     "name": "stderr",
     "output_type": "stream",
     "text": [
      "Ignoring index file '/local/train/GFS/gfs.0p25.2020021618.f006.grib2.923a8.idx' incompatible with GRIB file\n",
      "Ignoring index file '/local/train/GFS/gfs.0p25.2020021618.f006.grib2.923a8.idx' incompatible with GRIB file\n"
     ]
    },
    {
     "name": "stdout",
     "output_type": "stream",
     "text": [
      "Downloading 2020/20200217/gfs.0p25.2020021700.f006.grib2\n"
     ]
    },
    {
     "data": {
      "application/vnd.jupyter.widget-view+json": {
       "model_id": "e8f65c05a0444a829e0bdbcdb994f6d3",
       "version_major": 2,
       "version_minor": 0
      },
      "text/plain": [
       "Dropdown(description='data file', options=('/local/train/GFS/gfs.0p25.2020021700.f006.grib2',), value='/local/…"
      ]
     },
     "metadata": {},
     "output_type": "display_data"
    },
    {
     "name": "stderr",
     "output_type": "stream",
     "text": [
      "Ignoring index file '/local/train/GFS/gfs.0p25.2020021700.f006.grib2.923a8.idx' incompatible with GRIB file\n",
      "Ignoring index file '/local/train/GFS/gfs.0p25.2020021700.f006.grib2.923a8.idx' incompatible with GRIB file\n"
     ]
    },
    {
     "name": "stdout",
     "output_type": "stream",
     "text": [
      "Downloading 2020/20200217/gfs.0p25.2020021706.f006.grib2\n"
     ]
    },
    {
     "data": {
      "application/vnd.jupyter.widget-view+json": {
       "model_id": "48b6fba806f54fbb8af90ec29d1500aa",
       "version_major": 2,
       "version_minor": 0
      },
      "text/plain": [
       "Dropdown(description='data file', options=('/local/train/GFS/gfs.0p25.2020021706.f006.grib2',), value='/local/…"
      ]
     },
     "metadata": {},
     "output_type": "display_data"
    },
    {
     "name": "stderr",
     "output_type": "stream",
     "text": [
      "Ignoring index file '/local/train/GFS/gfs.0p25.2020021706.f006.grib2.923a8.idx' incompatible with GRIB file\n",
      "Ignoring index file '/local/train/GFS/gfs.0p25.2020021706.f006.grib2.923a8.idx' incompatible with GRIB file\n"
     ]
    },
    {
     "name": "stdout",
     "output_type": "stream",
     "text": [
      "Downloading 2020/20200217/gfs.0p25.2020021712.f006.grib2\n"
     ]
    },
    {
     "data": {
      "application/vnd.jupyter.widget-view+json": {
       "model_id": "ce087cecb6c84a4fb7fadebb2b5cabca",
       "version_major": 2,
       "version_minor": 0
      },
      "text/plain": [
       "Dropdown(description='data file', options=('/local/train/GFS/gfs.0p25.2020021712.f006.grib2',), value='/local/…"
      ]
     },
     "metadata": {},
     "output_type": "display_data"
    },
    {
     "name": "stderr",
     "output_type": "stream",
     "text": [
      "Ignoring index file '/local/train/GFS/gfs.0p25.2020021712.f006.grib2.923a8.idx' incompatible with GRIB file\n",
      "Ignoring index file '/local/train/GFS/gfs.0p25.2020021712.f006.grib2.923a8.idx' incompatible with GRIB file\n"
     ]
    },
    {
     "name": "stdout",
     "output_type": "stream",
     "text": [
      "Downloading 2020/20200217/gfs.0p25.2020021718.f006.grib2\n"
     ]
    },
    {
     "data": {
      "application/vnd.jupyter.widget-view+json": {
       "model_id": "058524abf7e042afbe967ac482c3824f",
       "version_major": 2,
       "version_minor": 0
      },
      "text/plain": [
       "Dropdown(description='data file', options=('/local/train/GFS/gfs.0p25.2020021718.f006.grib2',), value='/local/…"
      ]
     },
     "metadata": {},
     "output_type": "display_data"
    },
    {
     "name": "stderr",
     "output_type": "stream",
     "text": [
      "Ignoring index file '/local/train/GFS/gfs.0p25.2020021718.f006.grib2.923a8.idx' incompatible with GRIB file\n",
      "Ignoring index file '/local/train/GFS/gfs.0p25.2020021718.f006.grib2.923a8.idx' incompatible with GRIB file\n"
     ]
    },
    {
     "name": "stdout",
     "output_type": "stream",
     "text": [
      "Downloading 2020/20200218/gfs.0p25.2020021800.f006.grib2\n"
     ]
    },
    {
     "data": {
      "application/vnd.jupyter.widget-view+json": {
       "model_id": "f56c87a561bc43a1bce8f728a72a4457",
       "version_major": 2,
       "version_minor": 0
      },
      "text/plain": [
       "Dropdown(description='data file', options=('/local/train/GFS/gfs.0p25.2020021800.f006.grib2',), value='/local/…"
      ]
     },
     "metadata": {},
     "output_type": "display_data"
    },
    {
     "name": "stderr",
     "output_type": "stream",
     "text": [
      "Ignoring index file '/local/train/GFS/gfs.0p25.2020021800.f006.grib2.923a8.idx' incompatible with GRIB file\n",
      "Ignoring index file '/local/train/GFS/gfs.0p25.2020021800.f006.grib2.923a8.idx' incompatible with GRIB file\n"
     ]
    },
    {
     "name": "stdout",
     "output_type": "stream",
     "text": [
      "Downloading 2020/20200218/gfs.0p25.2020021806.f006.grib2\n"
     ]
    },
    {
     "data": {
      "application/vnd.jupyter.widget-view+json": {
       "model_id": "87d624f60c7643debad4f7593aed4b8a",
       "version_major": 2,
       "version_minor": 0
      },
      "text/plain": [
       "Dropdown(description='data file', options=('/local/train/GFS/gfs.0p25.2020021806.f006.grib2',), value='/local/…"
      ]
     },
     "metadata": {},
     "output_type": "display_data"
    },
    {
     "name": "stderr",
     "output_type": "stream",
     "text": [
      "Ignoring index file '/local/train/GFS/gfs.0p25.2020021806.f006.grib2.923a8.idx' incompatible with GRIB file\n",
      "Ignoring index file '/local/train/GFS/gfs.0p25.2020021806.f006.grib2.923a8.idx' incompatible with GRIB file\n"
     ]
    },
    {
     "name": "stdout",
     "output_type": "stream",
     "text": [
      "Downloading 2020/20200218/gfs.0p25.2020021812.f006.grib2\n"
     ]
    },
    {
     "data": {
      "application/vnd.jupyter.widget-view+json": {
       "model_id": "8198d1b30ffe4e38a131adc7c76e0bda",
       "version_major": 2,
       "version_minor": 0
      },
      "text/plain": [
       "Dropdown(description='data file', options=('/local/train/GFS/gfs.0p25.2020021812.f006.grib2',), value='/local/…"
      ]
     },
     "metadata": {},
     "output_type": "display_data"
    },
    {
     "name": "stderr",
     "output_type": "stream",
     "text": [
      "Ignoring index file '/local/train/GFS/gfs.0p25.2020021812.f006.grib2.923a8.idx' incompatible with GRIB file\n",
      "Ignoring index file '/local/train/GFS/gfs.0p25.2020021812.f006.grib2.923a8.idx' incompatible with GRIB file\n"
     ]
    },
    {
     "name": "stdout",
     "output_type": "stream",
     "text": [
      "Downloading 2020/20200218/gfs.0p25.2020021818.f006.grib2\n"
     ]
    },
    {
     "data": {
      "application/vnd.jupyter.widget-view+json": {
       "model_id": "2a434561564d4bf49b35fabd75afd9e8",
       "version_major": 2,
       "version_minor": 0
      },
      "text/plain": [
       "Dropdown(description='data file', options=('/local/train/GFS/gfs.0p25.2020021818.f006.grib2',), value='/local/…"
      ]
     },
     "metadata": {},
     "output_type": "display_data"
    },
    {
     "name": "stderr",
     "output_type": "stream",
     "text": [
      "Ignoring index file '/local/train/GFS/gfs.0p25.2020021818.f006.grib2.923a8.idx' incompatible with GRIB file\n",
      "Ignoring index file '/local/train/GFS/gfs.0p25.2020021818.f006.grib2.923a8.idx' incompatible with GRIB file\n"
     ]
    },
    {
     "name": "stdout",
     "output_type": "stream",
     "text": [
      "Downloading 2020/20200219/gfs.0p25.2020021900.f006.grib2\n"
     ]
    },
    {
     "data": {
      "application/vnd.jupyter.widget-view+json": {
       "model_id": "b5cce6951024446f8a4e50a9259c3540",
       "version_major": 2,
       "version_minor": 0
      },
      "text/plain": [
       "Dropdown(description='data file', options=('/local/train/GFS/gfs.0p25.2020021900.f006.grib2',), value='/local/…"
      ]
     },
     "metadata": {},
     "output_type": "display_data"
    },
    {
     "name": "stderr",
     "output_type": "stream",
     "text": [
      "Ignoring index file '/local/train/GFS/gfs.0p25.2020021900.f006.grib2.923a8.idx' incompatible with GRIB file\n",
      "Ignoring index file '/local/train/GFS/gfs.0p25.2020021900.f006.grib2.923a8.idx' incompatible with GRIB file\n"
     ]
    },
    {
     "name": "stdout",
     "output_type": "stream",
     "text": [
      "Downloading 2020/20200219/gfs.0p25.2020021906.f006.grib2\n"
     ]
    },
    {
     "data": {
      "application/vnd.jupyter.widget-view+json": {
       "model_id": "adcecd4313dd4fa6afbe7dad401503e5",
       "version_major": 2,
       "version_minor": 0
      },
      "text/plain": [
       "Dropdown(description='data file', options=('/local/train/GFS/gfs.0p25.2020021906.f006.grib2',), value='/local/…"
      ]
     },
     "metadata": {},
     "output_type": "display_data"
    },
    {
     "name": "stderr",
     "output_type": "stream",
     "text": [
      "Ignoring index file '/local/train/GFS/gfs.0p25.2020021906.f006.grib2.923a8.idx' incompatible with GRIB file\n",
      "Ignoring index file '/local/train/GFS/gfs.0p25.2020021906.f006.grib2.923a8.idx' incompatible with GRIB file\n"
     ]
    },
    {
     "name": "stdout",
     "output_type": "stream",
     "text": [
      "Downloading 2020/20200219/gfs.0p25.2020021912.f006.grib2\n"
     ]
    },
    {
     "data": {
      "application/vnd.jupyter.widget-view+json": {
       "model_id": "532380c20f1f4b548bdc8b50509fa00f",
       "version_major": 2,
       "version_minor": 0
      },
      "text/plain": [
       "Dropdown(description='data file', options=('/local/train/GFS/gfs.0p25.2020021912.f006.grib2',), value='/local/…"
      ]
     },
     "metadata": {},
     "output_type": "display_data"
    },
    {
     "name": "stderr",
     "output_type": "stream",
     "text": [
      "Ignoring index file '/local/train/GFS/gfs.0p25.2020021912.f006.grib2.923a8.idx' incompatible with GRIB file\n",
      "Ignoring index file '/local/train/GFS/gfs.0p25.2020021912.f006.grib2.923a8.idx' incompatible with GRIB file\n"
     ]
    },
    {
     "name": "stdout",
     "output_type": "stream",
     "text": [
      "Downloading 2020/20200219/gfs.0p25.2020021918.f006.grib2\n"
     ]
    },
    {
     "data": {
      "application/vnd.jupyter.widget-view+json": {
       "model_id": "bb968387aa704c85b1b58a2f0abce539",
       "version_major": 2,
       "version_minor": 0
      },
      "text/plain": [
       "Dropdown(description='data file', options=('/local/train/GFS/gfs.0p25.2020021918.f006.grib2',), value='/local/…"
      ]
     },
     "metadata": {},
     "output_type": "display_data"
    },
    {
     "name": "stderr",
     "output_type": "stream",
     "text": [
      "Ignoring index file '/local/train/GFS/gfs.0p25.2020021918.f006.grib2.923a8.idx' incompatible with GRIB file\n",
      "Ignoring index file '/local/train/GFS/gfs.0p25.2020021918.f006.grib2.923a8.idx' incompatible with GRIB file\n"
     ]
    },
    {
     "name": "stdout",
     "output_type": "stream",
     "text": [
      "Downloading 2020/20200220/gfs.0p25.2020022000.f006.grib2\n"
     ]
    },
    {
     "data": {
      "application/vnd.jupyter.widget-view+json": {
       "model_id": "09b4e14be9a64a22a1bb68c3d71ded4b",
       "version_major": 2,
       "version_minor": 0
      },
      "text/plain": [
       "Dropdown(description='data file', options=('/local/train/GFS/gfs.0p25.2020022000.f006.grib2',), value='/local/…"
      ]
     },
     "metadata": {},
     "output_type": "display_data"
    },
    {
     "name": "stderr",
     "output_type": "stream",
     "text": [
      "Ignoring index file '/local/train/GFS/gfs.0p25.2020022000.f006.grib2.923a8.idx' incompatible with GRIB file\n",
      "Ignoring index file '/local/train/GFS/gfs.0p25.2020022000.f006.grib2.923a8.idx' incompatible with GRIB file\n"
     ]
    },
    {
     "name": "stdout",
     "output_type": "stream",
     "text": [
      "Downloading 2020/20200220/gfs.0p25.2020022006.f006.grib2\n"
     ]
    },
    {
     "data": {
      "application/vnd.jupyter.widget-view+json": {
       "model_id": "b54228a07db24e019dabfa1b833583df",
       "version_major": 2,
       "version_minor": 0
      },
      "text/plain": [
       "Dropdown(description='data file', options=('/local/train/GFS/gfs.0p25.2020022006.f006.grib2',), value='/local/…"
      ]
     },
     "metadata": {},
     "output_type": "display_data"
    },
    {
     "name": "stderr",
     "output_type": "stream",
     "text": [
      "Ignoring index file '/local/train/GFS/gfs.0p25.2020022006.f006.grib2.923a8.idx' incompatible with GRIB file\n",
      "Ignoring index file '/local/train/GFS/gfs.0p25.2020022006.f006.grib2.923a8.idx' incompatible with GRIB file\n"
     ]
    },
    {
     "name": "stdout",
     "output_type": "stream",
     "text": [
      "Downloading 2020/20200220/gfs.0p25.2020022012.f006.grib2\n"
     ]
    },
    {
     "data": {
      "application/vnd.jupyter.widget-view+json": {
       "model_id": "0473efd428f34789aa441d1273f53b99",
       "version_major": 2,
       "version_minor": 0
      },
      "text/plain": [
       "Dropdown(description='data file', options=('/local/train/GFS/gfs.0p25.2020022012.f006.grib2',), value='/local/…"
      ]
     },
     "metadata": {},
     "output_type": "display_data"
    },
    {
     "name": "stderr",
     "output_type": "stream",
     "text": [
      "Ignoring index file '/local/train/GFS/gfs.0p25.2020022012.f006.grib2.923a8.idx' incompatible with GRIB file\n",
      "Ignoring index file '/local/train/GFS/gfs.0p25.2020022012.f006.grib2.923a8.idx' incompatible with GRIB file\n"
     ]
    },
    {
     "name": "stdout",
     "output_type": "stream",
     "text": [
      "Downloading 2020/20200220/gfs.0p25.2020022018.f006.grib2\n"
     ]
    },
    {
     "data": {
      "application/vnd.jupyter.widget-view+json": {
       "model_id": "b9b37e442e294665bef1c9e67951deaa",
       "version_major": 2,
       "version_minor": 0
      },
      "text/plain": [
       "Dropdown(description='data file', options=('/local/train/GFS/gfs.0p25.2020022018.f006.grib2',), value='/local/…"
      ]
     },
     "metadata": {},
     "output_type": "display_data"
    },
    {
     "name": "stderr",
     "output_type": "stream",
     "text": [
      "Ignoring index file '/local/train/GFS/gfs.0p25.2020022018.f006.grib2.923a8.idx' incompatible with GRIB file\n",
      "Ignoring index file '/local/train/GFS/gfs.0p25.2020022018.f006.grib2.923a8.idx' incompatible with GRIB file\n"
     ]
    },
    {
     "name": "stdout",
     "output_type": "stream",
     "text": [
      "Downloading 2020/20200221/gfs.0p25.2020022100.f006.grib2\n"
     ]
    },
    {
     "data": {
      "application/vnd.jupyter.widget-view+json": {
       "model_id": "53eda81e12c14fffa5bcf185b525f0ef",
       "version_major": 2,
       "version_minor": 0
      },
      "text/plain": [
       "Dropdown(description='data file', options=('/local/train/GFS/gfs.0p25.2020022100.f006.grib2',), value='/local/…"
      ]
     },
     "metadata": {},
     "output_type": "display_data"
    },
    {
     "name": "stderr",
     "output_type": "stream",
     "text": [
      "Ignoring index file '/local/train/GFS/gfs.0p25.2020022100.f006.grib2.923a8.idx' incompatible with GRIB file\n",
      "Ignoring index file '/local/train/GFS/gfs.0p25.2020022100.f006.grib2.923a8.idx' incompatible with GRIB file\n"
     ]
    },
    {
     "name": "stdout",
     "output_type": "stream",
     "text": [
      "Downloading 2020/20200221/gfs.0p25.2020022106.f006.grib2\n"
     ]
    },
    {
     "data": {
      "application/vnd.jupyter.widget-view+json": {
       "model_id": "8004aad86da24769a1ec8302cb199feb",
       "version_major": 2,
       "version_minor": 0
      },
      "text/plain": [
       "Dropdown(description='data file', options=('/local/train/GFS/gfs.0p25.2020022106.f006.grib2',), value='/local/…"
      ]
     },
     "metadata": {},
     "output_type": "display_data"
    },
    {
     "name": "stderr",
     "output_type": "stream",
     "text": [
      "Ignoring index file '/local/train/GFS/gfs.0p25.2020022106.f006.grib2.923a8.idx' incompatible with GRIB file\n",
      "Ignoring index file '/local/train/GFS/gfs.0p25.2020022106.f006.grib2.923a8.idx' incompatible with GRIB file\n"
     ]
    },
    {
     "name": "stdout",
     "output_type": "stream",
     "text": [
      "Downloading 2020/20200221/gfs.0p25.2020022112.f006.grib2\n"
     ]
    },
    {
     "data": {
      "application/vnd.jupyter.widget-view+json": {
       "model_id": "b3e490dec252490ca901300640b834c3",
       "version_major": 2,
       "version_minor": 0
      },
      "text/plain": [
       "Dropdown(description='data file', options=('/local/train/GFS/gfs.0p25.2020022112.f006.grib2',), value='/local/…"
      ]
     },
     "metadata": {},
     "output_type": "display_data"
    },
    {
     "name": "stderr",
     "output_type": "stream",
     "text": [
      "Ignoring index file '/local/train/GFS/gfs.0p25.2020022112.f006.grib2.923a8.idx' incompatible with GRIB file\n",
      "Ignoring index file '/local/train/GFS/gfs.0p25.2020022112.f006.grib2.923a8.idx' incompatible with GRIB file\n"
     ]
    },
    {
     "name": "stdout",
     "output_type": "stream",
     "text": [
      "Downloading 2020/20200221/gfs.0p25.2020022118.f006.grib2\n"
     ]
    },
    {
     "data": {
      "application/vnd.jupyter.widget-view+json": {
       "model_id": "040b6e0dfcba41c5a8e7f820f6c2236e",
       "version_major": 2,
       "version_minor": 0
      },
      "text/plain": [
       "Dropdown(description='data file', options=('/local/train/GFS/gfs.0p25.2020022118.f006.grib2',), value='/local/…"
      ]
     },
     "metadata": {},
     "output_type": "display_data"
    },
    {
     "name": "stderr",
     "output_type": "stream",
     "text": [
      "Ignoring index file '/local/train/GFS/gfs.0p25.2020022118.f006.grib2.923a8.idx' incompatible with GRIB file\n",
      "Ignoring index file '/local/train/GFS/gfs.0p25.2020022118.f006.grib2.923a8.idx' incompatible with GRIB file\n"
     ]
    },
    {
     "name": "stdout",
     "output_type": "stream",
     "text": [
      "Downloading 2020/20200222/gfs.0p25.2020022200.f006.grib2\n"
     ]
    },
    {
     "data": {
      "application/vnd.jupyter.widget-view+json": {
       "model_id": "3724724d87d048e48b2a40a9cced23a4",
       "version_major": 2,
       "version_minor": 0
      },
      "text/plain": [
       "Dropdown(description='data file', options=('/local/train/GFS/gfs.0p25.2020022200.f006.grib2',), value='/local/…"
      ]
     },
     "metadata": {},
     "output_type": "display_data"
    },
    {
     "name": "stderr",
     "output_type": "stream",
     "text": [
      "Ignoring index file '/local/train/GFS/gfs.0p25.2020022200.f006.grib2.923a8.idx' incompatible with GRIB file\n",
      "Ignoring index file '/local/train/GFS/gfs.0p25.2020022200.f006.grib2.923a8.idx' incompatible with GRIB file\n"
     ]
    },
    {
     "name": "stdout",
     "output_type": "stream",
     "text": [
      "Downloading 2020/20200222/gfs.0p25.2020022206.f006.grib2\n"
     ]
    },
    {
     "data": {
      "application/vnd.jupyter.widget-view+json": {
       "model_id": "c851eb9e11af4e99949482af3f1ef1ad",
       "version_major": 2,
       "version_minor": 0
      },
      "text/plain": [
       "Dropdown(description='data file', options=('/local/train/GFS/gfs.0p25.2020022206.f006.grib2',), value='/local/…"
      ]
     },
     "metadata": {},
     "output_type": "display_data"
    },
    {
     "name": "stderr",
     "output_type": "stream",
     "text": [
      "Ignoring index file '/local/train/GFS/gfs.0p25.2020022206.f006.grib2.923a8.idx' incompatible with GRIB file\n",
      "Ignoring index file '/local/train/GFS/gfs.0p25.2020022206.f006.grib2.923a8.idx' incompatible with GRIB file\n"
     ]
    },
    {
     "name": "stdout",
     "output_type": "stream",
     "text": [
      "Downloading 2020/20200222/gfs.0p25.2020022212.f006.grib2\n"
     ]
    },
    {
     "data": {
      "application/vnd.jupyter.widget-view+json": {
       "model_id": "051f76a09a514e7883b2d95f39c52382",
       "version_major": 2,
       "version_minor": 0
      },
      "text/plain": [
       "Dropdown(description='data file', options=('/local/train/GFS/gfs.0p25.2020022212.f006.grib2',), value='/local/…"
      ]
     },
     "metadata": {},
     "output_type": "display_data"
    },
    {
     "name": "stderr",
     "output_type": "stream",
     "text": [
      "Ignoring index file '/local/train/GFS/gfs.0p25.2020022212.f006.grib2.923a8.idx' incompatible with GRIB file\n",
      "Ignoring index file '/local/train/GFS/gfs.0p25.2020022212.f006.grib2.923a8.idx' incompatible with GRIB file\n"
     ]
    },
    {
     "name": "stdout",
     "output_type": "stream",
     "text": [
      "Downloading 2020/20200222/gfs.0p25.2020022218.f006.grib2\n"
     ]
    },
    {
     "data": {
      "application/vnd.jupyter.widget-view+json": {
       "model_id": "504030bbf2c342e38628854966a65683",
       "version_major": 2,
       "version_minor": 0
      },
      "text/plain": [
       "Dropdown(description='data file', options=('/local/train/GFS/gfs.0p25.2020022218.f006.grib2',), value='/local/…"
      ]
     },
     "metadata": {},
     "output_type": "display_data"
    },
    {
     "name": "stderr",
     "output_type": "stream",
     "text": [
      "Ignoring index file '/local/train/GFS/gfs.0p25.2020022218.f006.grib2.923a8.idx' incompatible with GRIB file\n",
      "Ignoring index file '/local/train/GFS/gfs.0p25.2020022218.f006.grib2.923a8.idx' incompatible with GRIB file\n"
     ]
    },
    {
     "name": "stdout",
     "output_type": "stream",
     "text": [
      "Downloading 2020/20200223/gfs.0p25.2020022300.f006.grib2\n"
     ]
    },
    {
     "data": {
      "application/vnd.jupyter.widget-view+json": {
       "model_id": "647079a5ac254f5eb8d45b66b67844ab",
       "version_major": 2,
       "version_minor": 0
      },
      "text/plain": [
       "Dropdown(description='data file', options=('/local/train/GFS/gfs.0p25.2020022300.f006.grib2',), value='/local/…"
      ]
     },
     "metadata": {},
     "output_type": "display_data"
    },
    {
     "name": "stderr",
     "output_type": "stream",
     "text": [
      "Ignoring index file '/local/train/GFS/gfs.0p25.2020022300.f006.grib2.923a8.idx' incompatible with GRIB file\n",
      "Ignoring index file '/local/train/GFS/gfs.0p25.2020022300.f006.grib2.923a8.idx' incompatible with GRIB file\n"
     ]
    },
    {
     "name": "stdout",
     "output_type": "stream",
     "text": [
      "Downloading 2020/20200223/gfs.0p25.2020022306.f006.grib2\n"
     ]
    },
    {
     "data": {
      "application/vnd.jupyter.widget-view+json": {
       "model_id": "1e2925196af841e68903910cc9a55e12",
       "version_major": 2,
       "version_minor": 0
      },
      "text/plain": [
       "Dropdown(description='data file', options=('/local/train/GFS/gfs.0p25.2020022306.f006.grib2',), value='/local/…"
      ]
     },
     "metadata": {},
     "output_type": "display_data"
    },
    {
     "name": "stderr",
     "output_type": "stream",
     "text": [
      "Ignoring index file '/local/train/GFS/gfs.0p25.2020022306.f006.grib2.923a8.idx' incompatible with GRIB file\n",
      "Ignoring index file '/local/train/GFS/gfs.0p25.2020022306.f006.grib2.923a8.idx' incompatible with GRIB file\n"
     ]
    },
    {
     "name": "stdout",
     "output_type": "stream",
     "text": [
      "Downloading 2020/20200223/gfs.0p25.2020022312.f006.grib2\n"
     ]
    },
    {
     "data": {
      "application/vnd.jupyter.widget-view+json": {
       "model_id": "e24c5896855946a187a504c4aaf2b9a6",
       "version_major": 2,
       "version_minor": 0
      },
      "text/plain": [
       "Dropdown(description='data file', options=('/local/train/GFS/gfs.0p25.2020022312.f006.grib2',), value='/local/…"
      ]
     },
     "metadata": {},
     "output_type": "display_data"
    },
    {
     "name": "stderr",
     "output_type": "stream",
     "text": [
      "Ignoring index file '/local/train/GFS/gfs.0p25.2020022312.f006.grib2.923a8.idx' incompatible with GRIB file\n",
      "Ignoring index file '/local/train/GFS/gfs.0p25.2020022312.f006.grib2.923a8.idx' incompatible with GRIB file\n"
     ]
    },
    {
     "name": "stdout",
     "output_type": "stream",
     "text": [
      "Downloading 2020/20200223/gfs.0p25.2020022318.f006.grib2\n"
     ]
    },
    {
     "data": {
      "application/vnd.jupyter.widget-view+json": {
       "model_id": "67fcd4062c25433c803144dcdc46a234",
       "version_major": 2,
       "version_minor": 0
      },
      "text/plain": [
       "Dropdown(description='data file', options=('/local/train/GFS/gfs.0p25.2020022318.f006.grib2',), value='/local/…"
      ]
     },
     "metadata": {},
     "output_type": "display_data"
    },
    {
     "name": "stderr",
     "output_type": "stream",
     "text": [
      "Ignoring index file '/local/train/GFS/gfs.0p25.2020022318.f006.grib2.923a8.idx' incompatible with GRIB file\n",
      "Ignoring index file '/local/train/GFS/gfs.0p25.2020022318.f006.grib2.923a8.idx' incompatible with GRIB file\n"
     ]
    },
    {
     "name": "stdout",
     "output_type": "stream",
     "text": [
      "Downloading 2020/20200224/gfs.0p25.2020022400.f006.grib2\n"
     ]
    },
    {
     "data": {
      "application/vnd.jupyter.widget-view+json": {
       "model_id": "730687ecfef040cbba5ec0479bd585af",
       "version_major": 2,
       "version_minor": 0
      },
      "text/plain": [
       "Dropdown(description='data file', options=('/local/train/GFS/gfs.0p25.2020022400.f006.grib2',), value='/local/…"
      ]
     },
     "metadata": {},
     "output_type": "display_data"
    },
    {
     "name": "stderr",
     "output_type": "stream",
     "text": [
      "Ignoring index file '/local/train/GFS/gfs.0p25.2020022400.f006.grib2.923a8.idx' incompatible with GRIB file\n",
      "Ignoring index file '/local/train/GFS/gfs.0p25.2020022400.f006.grib2.923a8.idx' incompatible with GRIB file\n"
     ]
    },
    {
     "name": "stdout",
     "output_type": "stream",
     "text": [
      "Downloading 2020/20200224/gfs.0p25.2020022406.f006.grib2\n"
     ]
    },
    {
     "data": {
      "application/vnd.jupyter.widget-view+json": {
       "model_id": "1302572c29504bafaa7fbe54f4501f9b",
       "version_major": 2,
       "version_minor": 0
      },
      "text/plain": [
       "Dropdown(description='data file', options=('/local/train/GFS/gfs.0p25.2020022406.f006.grib2',), value='/local/…"
      ]
     },
     "metadata": {},
     "output_type": "display_data"
    },
    {
     "name": "stderr",
     "output_type": "stream",
     "text": [
      "Ignoring index file '/local/train/GFS/gfs.0p25.2020022406.f006.grib2.923a8.idx' incompatible with GRIB file\n",
      "Ignoring index file '/local/train/GFS/gfs.0p25.2020022406.f006.grib2.923a8.idx' incompatible with GRIB file\n"
     ]
    },
    {
     "name": "stdout",
     "output_type": "stream",
     "text": [
      "Downloading 2020/20200224/gfs.0p25.2020022412.f006.grib2\n"
     ]
    },
    {
     "data": {
      "application/vnd.jupyter.widget-view+json": {
       "model_id": "2203e5c05e474d2187a79dc4889fa9bb",
       "version_major": 2,
       "version_minor": 0
      },
      "text/plain": [
       "Dropdown(description='data file', options=('/local/train/GFS/gfs.0p25.2020022412.f006.grib2',), value='/local/…"
      ]
     },
     "metadata": {},
     "output_type": "display_data"
    },
    {
     "name": "stderr",
     "output_type": "stream",
     "text": [
      "Ignoring index file '/local/train/GFS/gfs.0p25.2020022412.f006.grib2.923a8.idx' incompatible with GRIB file\n",
      "Ignoring index file '/local/train/GFS/gfs.0p25.2020022412.f006.grib2.923a8.idx' incompatible with GRIB file\n"
     ]
    },
    {
     "name": "stdout",
     "output_type": "stream",
     "text": [
      "Downloading 2020/20200224/gfs.0p25.2020022418.f006.grib2\n"
     ]
    },
    {
     "data": {
      "application/vnd.jupyter.widget-view+json": {
       "model_id": "8b0cc92f846f4872a5a7b985da84c0ab",
       "version_major": 2,
       "version_minor": 0
      },
      "text/plain": [
       "Dropdown(description='data file', options=('/local/train/GFS/gfs.0p25.2020022418.f006.grib2',), value='/local/…"
      ]
     },
     "metadata": {},
     "output_type": "display_data"
    },
    {
     "name": "stderr",
     "output_type": "stream",
     "text": [
      "Ignoring index file '/local/train/GFS/gfs.0p25.2020022418.f006.grib2.923a8.idx' incompatible with GRIB file\n",
      "Ignoring index file '/local/train/GFS/gfs.0p25.2020022418.f006.grib2.923a8.idx' incompatible with GRIB file\n"
     ]
    },
    {
     "name": "stdout",
     "output_type": "stream",
     "text": [
      "Downloading 2020/20200225/gfs.0p25.2020022500.f006.grib2\n"
     ]
    },
    {
     "data": {
      "application/vnd.jupyter.widget-view+json": {
       "model_id": "ed71d363b4ee44e4a9d16e445c5c50bc",
       "version_major": 2,
       "version_minor": 0
      },
      "text/plain": [
       "Dropdown(description='data file', options=('/local/train/GFS/gfs.0p25.2020022500.f006.grib2',), value='/local/…"
      ]
     },
     "metadata": {},
     "output_type": "display_data"
    },
    {
     "name": "stderr",
     "output_type": "stream",
     "text": [
      "Ignoring index file '/local/train/GFS/gfs.0p25.2020022500.f006.grib2.923a8.idx' incompatible with GRIB file\n",
      "Ignoring index file '/local/train/GFS/gfs.0p25.2020022500.f006.grib2.923a8.idx' incompatible with GRIB file\n"
     ]
    },
    {
     "name": "stdout",
     "output_type": "stream",
     "text": [
      "Downloading 2020/20200225/gfs.0p25.2020022506.f006.grib2\n"
     ]
    },
    {
     "data": {
      "application/vnd.jupyter.widget-view+json": {
       "model_id": "d1d94f4d35c446488e556252c6730259",
       "version_major": 2,
       "version_minor": 0
      },
      "text/plain": [
       "Dropdown(description='data file', options=('/local/train/GFS/gfs.0p25.2020022506.f006.grib2',), value='/local/…"
      ]
     },
     "metadata": {},
     "output_type": "display_data"
    },
    {
     "name": "stderr",
     "output_type": "stream",
     "text": [
      "Ignoring index file '/local/train/GFS/gfs.0p25.2020022506.f006.grib2.923a8.idx' incompatible with GRIB file\n",
      "Ignoring index file '/local/train/GFS/gfs.0p25.2020022506.f006.grib2.923a8.idx' incompatible with GRIB file\n"
     ]
    },
    {
     "name": "stdout",
     "output_type": "stream",
     "text": [
      "Downloading 2020/20200225/gfs.0p25.2020022512.f006.grib2\n"
     ]
    },
    {
     "data": {
      "application/vnd.jupyter.widget-view+json": {
       "model_id": "2190b804c0f940f7b736b0f1a2663fd1",
       "version_major": 2,
       "version_minor": 0
      },
      "text/plain": [
       "Dropdown(description='data file', options=('/local/train/GFS/gfs.0p25.2020022512.f006.grib2',), value='/local/…"
      ]
     },
     "metadata": {},
     "output_type": "display_data"
    },
    {
     "name": "stderr",
     "output_type": "stream",
     "text": [
      "Ignoring index file '/local/train/GFS/gfs.0p25.2020022512.f006.grib2.923a8.idx' incompatible with GRIB file\n",
      "Ignoring index file '/local/train/GFS/gfs.0p25.2020022512.f006.grib2.923a8.idx' incompatible with GRIB file\n"
     ]
    },
    {
     "name": "stdout",
     "output_type": "stream",
     "text": [
      "Downloading 2020/20200225/gfs.0p25.2020022518.f006.grib2\n"
     ]
    },
    {
     "data": {
      "application/vnd.jupyter.widget-view+json": {
       "model_id": "ea0b680802b24e66a356c51069d54fb2",
       "version_major": 2,
       "version_minor": 0
      },
      "text/plain": [
       "Dropdown(description='data file', options=('/local/train/GFS/gfs.0p25.2020022518.f006.grib2',), value='/local/…"
      ]
     },
     "metadata": {},
     "output_type": "display_data"
    },
    {
     "name": "stderr",
     "output_type": "stream",
     "text": [
      "Ignoring index file '/local/train/GFS/gfs.0p25.2020022518.f006.grib2.923a8.idx' incompatible with GRIB file\n",
      "Ignoring index file '/local/train/GFS/gfs.0p25.2020022518.f006.grib2.923a8.idx' incompatible with GRIB file\n"
     ]
    },
    {
     "name": "stdout",
     "output_type": "stream",
     "text": [
      "Downloading 2020/20200226/gfs.0p25.2020022600.f006.grib2\n"
     ]
    },
    {
     "data": {
      "application/vnd.jupyter.widget-view+json": {
       "model_id": "1a5a36af5a2743c8a1fab9102905e92c",
       "version_major": 2,
       "version_minor": 0
      },
      "text/plain": [
       "Dropdown(description='data file', options=('/local/train/GFS/gfs.0p25.2020022600.f006.grib2',), value='/local/…"
      ]
     },
     "metadata": {},
     "output_type": "display_data"
    },
    {
     "name": "stderr",
     "output_type": "stream",
     "text": [
      "Ignoring index file '/local/train/GFS/gfs.0p25.2020022600.f006.grib2.923a8.idx' incompatible with GRIB file\n",
      "Ignoring index file '/local/train/GFS/gfs.0p25.2020022600.f006.grib2.923a8.idx' incompatible with GRIB file\n"
     ]
    },
    {
     "name": "stdout",
     "output_type": "stream",
     "text": [
      "Downloading 2020/20200226/gfs.0p25.2020022606.f006.grib2\n"
     ]
    },
    {
     "data": {
      "application/vnd.jupyter.widget-view+json": {
       "model_id": "1bc96bd947774518a7a1a2f7720fb2c0",
       "version_major": 2,
       "version_minor": 0
      },
      "text/plain": [
       "Dropdown(description='data file', options=('/local/train/GFS/gfs.0p25.2020022606.f006.grib2',), value='/local/…"
      ]
     },
     "metadata": {},
     "output_type": "display_data"
    },
    {
     "name": "stderr",
     "output_type": "stream",
     "text": [
      "Ignoring index file '/local/train/GFS/gfs.0p25.2020022606.f006.grib2.923a8.idx' incompatible with GRIB file\n",
      "Ignoring index file '/local/train/GFS/gfs.0p25.2020022606.f006.grib2.923a8.idx' incompatible with GRIB file\n"
     ]
    },
    {
     "name": "stdout",
     "output_type": "stream",
     "text": [
      "Downloading 2020/20200226/gfs.0p25.2020022612.f006.grib2\n"
     ]
    },
    {
     "data": {
      "application/vnd.jupyter.widget-view+json": {
       "model_id": "f465e9761e8e49ecae61eb452d431fe9",
       "version_major": 2,
       "version_minor": 0
      },
      "text/plain": [
       "Dropdown(description='data file', options=('/local/train/GFS/gfs.0p25.2020022612.f006.grib2',), value='/local/…"
      ]
     },
     "metadata": {},
     "output_type": "display_data"
    },
    {
     "name": "stderr",
     "output_type": "stream",
     "text": [
      "Ignoring index file '/local/train/GFS/gfs.0p25.2020022612.f006.grib2.923a8.idx' incompatible with GRIB file\n",
      "Ignoring index file '/local/train/GFS/gfs.0p25.2020022612.f006.grib2.923a8.idx' incompatible with GRIB file\n"
     ]
    },
    {
     "name": "stdout",
     "output_type": "stream",
     "text": [
      "Downloading 2020/20200226/gfs.0p25.2020022618.f006.grib2\n"
     ]
    },
    {
     "data": {
      "application/vnd.jupyter.widget-view+json": {
       "model_id": "f319b5d25f454eee855ecfbd75974b22",
       "version_major": 2,
       "version_minor": 0
      },
      "text/plain": [
       "Dropdown(description='data file', options=('/local/train/GFS/gfs.0p25.2020022618.f006.grib2',), value='/local/…"
      ]
     },
     "metadata": {},
     "output_type": "display_data"
    },
    {
     "name": "stderr",
     "output_type": "stream",
     "text": [
      "Ignoring index file '/local/train/GFS/gfs.0p25.2020022618.f006.grib2.923a8.idx' incompatible with GRIB file\n",
      "Ignoring index file '/local/train/GFS/gfs.0p25.2020022618.f006.grib2.923a8.idx' incompatible with GRIB file\n"
     ]
    },
    {
     "name": "stdout",
     "output_type": "stream",
     "text": [
      "Downloading 2020/20200227/gfs.0p25.2020022700.f006.grib2\n"
     ]
    },
    {
     "data": {
      "application/vnd.jupyter.widget-view+json": {
       "model_id": "57320aae921b4749a887912a1322bf20",
       "version_major": 2,
       "version_minor": 0
      },
      "text/plain": [
       "Dropdown(description='data file', options=('/local/train/GFS/gfs.0p25.2020022700.f006.grib2',), value='/local/…"
      ]
     },
     "metadata": {},
     "output_type": "display_data"
    },
    {
     "name": "stderr",
     "output_type": "stream",
     "text": [
      "Ignoring index file '/local/train/GFS/gfs.0p25.2020022700.f006.grib2.923a8.idx' incompatible with GRIB file\n",
      "Ignoring index file '/local/train/GFS/gfs.0p25.2020022700.f006.grib2.923a8.idx' incompatible with GRIB file\n"
     ]
    },
    {
     "name": "stdout",
     "output_type": "stream",
     "text": [
      "Downloading 2020/20200227/gfs.0p25.2020022706.f006.grib2\n"
     ]
    },
    {
     "data": {
      "application/vnd.jupyter.widget-view+json": {
       "model_id": "a5b47f258a7443d1bfac92dc91f1149a",
       "version_major": 2,
       "version_minor": 0
      },
      "text/plain": [
       "Dropdown(description='data file', options=('/local/train/GFS/gfs.0p25.2020022706.f006.grib2',), value='/local/…"
      ]
     },
     "metadata": {},
     "output_type": "display_data"
    },
    {
     "name": "stderr",
     "output_type": "stream",
     "text": [
      "Ignoring index file '/local/train/GFS/gfs.0p25.2020022706.f006.grib2.923a8.idx' incompatible with GRIB file\n",
      "Ignoring index file '/local/train/GFS/gfs.0p25.2020022706.f006.grib2.923a8.idx' incompatible with GRIB file\n"
     ]
    },
    {
     "name": "stdout",
     "output_type": "stream",
     "text": [
      "Downloading 2020/20200227/gfs.0p25.2020022712.f006.grib2\n"
     ]
    },
    {
     "data": {
      "application/vnd.jupyter.widget-view+json": {
       "model_id": "3c155e96e824409b8a796e5a1166c36b",
       "version_major": 2,
       "version_minor": 0
      },
      "text/plain": [
       "Dropdown(description='data file', options=('/local/train/GFS/gfs.0p25.2020022712.f006.grib2',), value='/local/…"
      ]
     },
     "metadata": {},
     "output_type": "display_data"
    },
    {
     "name": "stderr",
     "output_type": "stream",
     "text": [
      "Ignoring index file '/local/train/GFS/gfs.0p25.2020022712.f006.grib2.923a8.idx' incompatible with GRIB file\n",
      "Ignoring index file '/local/train/GFS/gfs.0p25.2020022712.f006.grib2.923a8.idx' incompatible with GRIB file\n"
     ]
    },
    {
     "name": "stdout",
     "output_type": "stream",
     "text": [
      "Downloading 2020/20200227/gfs.0p25.2020022718.f006.grib2\n"
     ]
    },
    {
     "data": {
      "application/vnd.jupyter.widget-view+json": {
       "model_id": "01b6b01a3c4b4d778080a285ff1850c3",
       "version_major": 2,
       "version_minor": 0
      },
      "text/plain": [
       "Dropdown(description='data file', options=('/local/train/GFS/gfs.0p25.2020022718.f006.grib2',), value='/local/…"
      ]
     },
     "metadata": {},
     "output_type": "display_data"
    },
    {
     "name": "stderr",
     "output_type": "stream",
     "text": [
      "Ignoring index file '/local/train/GFS/gfs.0p25.2020022718.f006.grib2.923a8.idx' incompatible with GRIB file\n",
      "Ignoring index file '/local/train/GFS/gfs.0p25.2020022718.f006.grib2.923a8.idx' incompatible with GRIB file\n"
     ]
    },
    {
     "name": "stdout",
     "output_type": "stream",
     "text": [
      "Downloading 2020/20200228/gfs.0p25.2020022800.f006.grib2\n"
     ]
    },
    {
     "data": {
      "application/vnd.jupyter.widget-view+json": {
       "model_id": "ee61eb8305174293aabba75f59690bb4",
       "version_major": 2,
       "version_minor": 0
      },
      "text/plain": [
       "Dropdown(description='data file', options=('/local/train/GFS/gfs.0p25.2020022800.f006.grib2',), value='/local/…"
      ]
     },
     "metadata": {},
     "output_type": "display_data"
    },
    {
     "name": "stderr",
     "output_type": "stream",
     "text": [
      "Ignoring index file '/local/train/GFS/gfs.0p25.2020022800.f006.grib2.923a8.idx' incompatible with GRIB file\n",
      "Ignoring index file '/local/train/GFS/gfs.0p25.2020022800.f006.grib2.923a8.idx' incompatible with GRIB file\n"
     ]
    },
    {
     "name": "stdout",
     "output_type": "stream",
     "text": [
      "Downloading 2020/20200228/gfs.0p25.2020022806.f006.grib2\n"
     ]
    },
    {
     "data": {
      "application/vnd.jupyter.widget-view+json": {
       "model_id": "238e88443e504a8d822b1ae24081e722",
       "version_major": 2,
       "version_minor": 0
      },
      "text/plain": [
       "Dropdown(description='data file', options=('/local/train/GFS/gfs.0p25.2020022806.f006.grib2',), value='/local/…"
      ]
     },
     "metadata": {},
     "output_type": "display_data"
    },
    {
     "name": "stderr",
     "output_type": "stream",
     "text": [
      "Ignoring index file '/local/train/GFS/gfs.0p25.2020022806.f006.grib2.923a8.idx' incompatible with GRIB file\n",
      "Ignoring index file '/local/train/GFS/gfs.0p25.2020022806.f006.grib2.923a8.idx' incompatible with GRIB file\n"
     ]
    },
    {
     "name": "stdout",
     "output_type": "stream",
     "text": [
      "Downloading 2020/20200228/gfs.0p25.2020022812.f006.grib2\n"
     ]
    },
    {
     "data": {
      "application/vnd.jupyter.widget-view+json": {
       "model_id": "9f2fbb0d2d81488e85cb42359dc59eb9",
       "version_major": 2,
       "version_minor": 0
      },
      "text/plain": [
       "Dropdown(description='data file', options=('/local/train/GFS/gfs.0p25.2020022812.f006.grib2',), value='/local/…"
      ]
     },
     "metadata": {},
     "output_type": "display_data"
    },
    {
     "name": "stderr",
     "output_type": "stream",
     "text": [
      "Ignoring index file '/local/train/GFS/gfs.0p25.2020022812.f006.grib2.923a8.idx' incompatible with GRIB file\n",
      "Ignoring index file '/local/train/GFS/gfs.0p25.2020022812.f006.grib2.923a8.idx' incompatible with GRIB file\n"
     ]
    },
    {
     "name": "stdout",
     "output_type": "stream",
     "text": [
      "Downloading 2020/20200228/gfs.0p25.2020022818.f006.grib2\n"
     ]
    },
    {
     "data": {
      "application/vnd.jupyter.widget-view+json": {
       "model_id": "bb051253293a41c9a9221a7c1ae3e12f",
       "version_major": 2,
       "version_minor": 0
      },
      "text/plain": [
       "Dropdown(description='data file', options=('/local/train/GFS/gfs.0p25.2020022818.f006.grib2',), value='/local/…"
      ]
     },
     "metadata": {},
     "output_type": "display_data"
    },
    {
     "name": "stderr",
     "output_type": "stream",
     "text": [
      "Ignoring index file '/local/train/GFS/gfs.0p25.2020022818.f006.grib2.923a8.idx' incompatible with GRIB file\n",
      "Ignoring index file '/local/train/GFS/gfs.0p25.2020022818.f006.grib2.923a8.idx' incompatible with GRIB file\n"
     ]
    },
    {
     "name": "stdout",
     "output_type": "stream",
     "text": [
      "Downloading 2020/20200229/gfs.0p25.2020022900.f006.grib2\n"
     ]
    },
    {
     "data": {
      "application/vnd.jupyter.widget-view+json": {
       "model_id": "2aa256a3e8b9425f8e7e468a32bb723a",
       "version_major": 2,
       "version_minor": 0
      },
      "text/plain": [
       "Dropdown(description='data file', options=('/local/train/GFS/gfs.0p25.2020022900.f006.grib2',), value='/local/…"
      ]
     },
     "metadata": {},
     "output_type": "display_data"
    },
    {
     "name": "stderr",
     "output_type": "stream",
     "text": [
      "Ignoring index file '/local/train/GFS/gfs.0p25.2020022900.f006.grib2.923a8.idx' incompatible with GRIB file\n",
      "Ignoring index file '/local/train/GFS/gfs.0p25.2020022900.f006.grib2.923a8.idx' incompatible with GRIB file\n"
     ]
    },
    {
     "name": "stdout",
     "output_type": "stream",
     "text": [
      "Downloading 2020/20200229/gfs.0p25.2020022906.f006.grib2\n"
     ]
    },
    {
     "data": {
      "application/vnd.jupyter.widget-view+json": {
       "model_id": "f8153cae670c45e595b08b6ee82cf9a2",
       "version_major": 2,
       "version_minor": 0
      },
      "text/plain": [
       "Dropdown(description='data file', options=('/local/train/GFS/gfs.0p25.2020022906.f006.grib2',), value='/local/…"
      ]
     },
     "metadata": {},
     "output_type": "display_data"
    },
    {
     "name": "stderr",
     "output_type": "stream",
     "text": [
      "Ignoring index file '/local/train/GFS/gfs.0p25.2020022906.f006.grib2.923a8.idx' incompatible with GRIB file\n",
      "Ignoring index file '/local/train/GFS/gfs.0p25.2020022906.f006.grib2.923a8.idx' incompatible with GRIB file\n"
     ]
    },
    {
     "name": "stdout",
     "output_type": "stream",
     "text": [
      "Downloading 2020/20200229/gfs.0p25.2020022912.f006.grib2\n"
     ]
    },
    {
     "data": {
      "application/vnd.jupyter.widget-view+json": {
       "model_id": "59f2dafdbc3a4e60a8599108f600ed13",
       "version_major": 2,
       "version_minor": 0
      },
      "text/plain": [
       "Dropdown(description='data file', options=('/local/train/GFS/gfs.0p25.2020022912.f006.grib2',), value='/local/…"
      ]
     },
     "metadata": {},
     "output_type": "display_data"
    },
    {
     "name": "stderr",
     "output_type": "stream",
     "text": [
      "Ignoring index file '/local/train/GFS/gfs.0p25.2020022912.f006.grib2.923a8.idx' incompatible with GRIB file\n",
      "Ignoring index file '/local/train/GFS/gfs.0p25.2020022912.f006.grib2.923a8.idx' incompatible with GRIB file\n"
     ]
    },
    {
     "name": "stdout",
     "output_type": "stream",
     "text": [
      "Downloading 2020/20200229/gfs.0p25.2020022918.f006.grib2\n"
     ]
    },
    {
     "data": {
      "application/vnd.jupyter.widget-view+json": {
       "model_id": "6554eac951f7446b8ab6330e0ed30a45",
       "version_major": 2,
       "version_minor": 0
      },
      "text/plain": [
       "Dropdown(description='data file', options=('/local/train/GFS/gfs.0p25.2020022918.f006.grib2',), value='/local/…"
      ]
     },
     "metadata": {},
     "output_type": "display_data"
    },
    {
     "name": "stderr",
     "output_type": "stream",
     "text": [
      "Ignoring index file '/local/train/GFS/gfs.0p25.2020022918.f006.grib2.923a8.idx' incompatible with GRIB file\n",
      "Ignoring index file '/local/train/GFS/gfs.0p25.2020022918.f006.grib2.923a8.idx' incompatible with GRIB file\n"
     ]
    },
    {
     "name": "stdout",
     "output_type": "stream",
     "text": [
      "Downloading 2020/20200230/gfs.0p25.2020023000.f006.grib2\n"
     ]
    },
    {
     "data": {
      "application/vnd.jupyter.widget-view+json": {
       "model_id": "76ca5d7bf1c342e798a06739db9af494",
       "version_major": 2,
       "version_minor": 0
      },
      "text/plain": [
       "Dropdown(description='data file', options=('/local/train/GFS/gfs.0p25.2020023000.f006.grib2',), value='/local/…"
      ]
     },
     "metadata": {},
     "output_type": "display_data"
    },
    {
     "name": "stderr",
     "output_type": "stream",
     "text": [
      "Can't create file '/local/train/GFS/gfs.0p25.2020023000.f006.grib2.923a8.idx'\n",
      "Traceback (most recent call last):\n",
      "  File \"/opt/conda/envs/capstone/lib/python3.9/site-packages/cfgrib/messages.py\", line 261, in itervalues\n",
      "    yield self.filestream.message_from_file(file, errors=errors)\n",
      "  File \"/opt/conda/envs/capstone/lib/python3.9/site-packages/cfgrib/messages.py\", line 328, in message_from_file\n",
      "    return Message.from_file(file, offset, **kwargs)\n",
      "  File \"/opt/conda/envs/capstone/lib/python3.9/site-packages/cfgrib/messages.py\", line 102, in from_file\n",
      "    raise EOFError(\"End of file: %r\" % file)\n",
      "EOFError: End of file: <_io.BufferedReader name='/local/train/GFS/gfs.0p25.2020023000.f006.grib2'>\n",
      "\n",
      "During handling of the above exception, another exception occurred:\n",
      "\n",
      "Traceback (most recent call last):\n",
      "  File \"/opt/conda/envs/capstone/lib/python3.9/site-packages/cfgrib/messages.py\", line 523, in from_indexpath_or_filestream\n",
      "    self = cls.from_fieldset(filestream, index_keys, computed_keys)\n",
      "  File \"/opt/conda/envs/capstone/lib/python3.9/site-packages/cfgrib/messages.py\", line 366, in from_fieldset\n",
      "    return cls.from_fieldset_and_iteritems(fieldset, iteritems, index_keys, computed_keys)\n",
      "  File \"/opt/conda/envs/capstone/lib/python3.9/site-packages/cfgrib/messages.py\", line 379, in from_fieldset_and_iteritems\n",
      "    for field_id, raw_field in iteritems:\n",
      "  File \"/opt/conda/envs/capstone/lib/python3.9/site-packages/cfgrib/messages.py\", line 279, in __iter__\n",
      "    for message in self.itervalues():\n",
      "  File \"/opt/conda/envs/capstone/lib/python3.9/site-packages/cfgrib/messages.py\", line 265, in itervalues\n",
      "    raise EOFError(\"No valid message found: %r\" % self.filestream.path)\n",
      "EOFError: No valid message found: '/local/train/GFS/gfs.0p25.2020023000.f006.grib2'\n",
      "Can't read index file '/local/train/GFS/gfs.0p25.2020023000.f006.grib2.923a8.idx'\n",
      "Traceback (most recent call last):\n",
      "  File \"/opt/conda/envs/capstone/lib/python3.9/site-packages/cfgrib/messages.py\", line 532, in from_indexpath_or_filestream\n",
      "    index_mtime = os.path.getmtime(indexpath)\n",
      "  File \"/opt/conda/envs/capstone/lib/python3.9/genericpath.py\", line 55, in getmtime\n",
      "    return os.stat(filename).st_mtime\n",
      "FileNotFoundError: [Errno 2] No such file or directory: '/local/train/GFS/gfs.0p25.2020023000.f006.grib2.923a8.idx'\n"
     ]
    },
    {
     "name": "stdout",
     "output_type": "stream",
     "text": [
      "Downloading 2020/20200230/gfs.0p25.2020023006.f006.grib2\n"
     ]
    },
    {
     "data": {
      "application/vnd.jupyter.widget-view+json": {
       "model_id": "ae442103d7e049239fcdd4d45935d565",
       "version_major": 2,
       "version_minor": 0
      },
      "text/plain": [
       "Dropdown(description='data file', options=('/local/train/GFS/gfs.0p25.2020023006.f006.grib2',), value='/local/…"
      ]
     },
     "metadata": {},
     "output_type": "display_data"
    },
    {
     "name": "stderr",
     "output_type": "stream",
     "text": [
      "Can't create file '/local/train/GFS/gfs.0p25.2020023006.f006.grib2.923a8.idx'\n",
      "Traceback (most recent call last):\n",
      "  File \"/opt/conda/envs/capstone/lib/python3.9/site-packages/cfgrib/messages.py\", line 261, in itervalues\n",
      "    yield self.filestream.message_from_file(file, errors=errors)\n",
      "  File \"/opt/conda/envs/capstone/lib/python3.9/site-packages/cfgrib/messages.py\", line 328, in message_from_file\n",
      "    return Message.from_file(file, offset, **kwargs)\n",
      "  File \"/opt/conda/envs/capstone/lib/python3.9/site-packages/cfgrib/messages.py\", line 102, in from_file\n",
      "    raise EOFError(\"End of file: %r\" % file)\n",
      "EOFError: End of file: <_io.BufferedReader name='/local/train/GFS/gfs.0p25.2020023006.f006.grib2'>\n",
      "\n",
      "During handling of the above exception, another exception occurred:\n",
      "\n",
      "Traceback (most recent call last):\n",
      "  File \"/opt/conda/envs/capstone/lib/python3.9/site-packages/cfgrib/messages.py\", line 523, in from_indexpath_or_filestream\n",
      "    self = cls.from_fieldset(filestream, index_keys, computed_keys)\n",
      "  File \"/opt/conda/envs/capstone/lib/python3.9/site-packages/cfgrib/messages.py\", line 366, in from_fieldset\n",
      "    return cls.from_fieldset_and_iteritems(fieldset, iteritems, index_keys, computed_keys)\n",
      "  File \"/opt/conda/envs/capstone/lib/python3.9/site-packages/cfgrib/messages.py\", line 379, in from_fieldset_and_iteritems\n",
      "    for field_id, raw_field in iteritems:\n",
      "  File \"/opt/conda/envs/capstone/lib/python3.9/site-packages/cfgrib/messages.py\", line 279, in __iter__\n",
      "    for message in self.itervalues():\n",
      "  File \"/opt/conda/envs/capstone/lib/python3.9/site-packages/cfgrib/messages.py\", line 265, in itervalues\n",
      "    raise EOFError(\"No valid message found: %r\" % self.filestream.path)\n",
      "EOFError: No valid message found: '/local/train/GFS/gfs.0p25.2020023006.f006.grib2'\n",
      "Can't read index file '/local/train/GFS/gfs.0p25.2020023006.f006.grib2.923a8.idx'\n",
      "Traceback (most recent call last):\n",
      "  File \"/opt/conda/envs/capstone/lib/python3.9/site-packages/cfgrib/messages.py\", line 532, in from_indexpath_or_filestream\n",
      "    index_mtime = os.path.getmtime(indexpath)\n",
      "  File \"/opt/conda/envs/capstone/lib/python3.9/genericpath.py\", line 55, in getmtime\n",
      "    return os.stat(filename).st_mtime\n",
      "FileNotFoundError: [Errno 2] No such file or directory: '/local/train/GFS/gfs.0p25.2020023006.f006.grib2.923a8.idx'\n"
     ]
    },
    {
     "name": "stdout",
     "output_type": "stream",
     "text": [
      "Downloading 2020/20200230/gfs.0p25.2020023012.f006.grib2\n"
     ]
    },
    {
     "data": {
      "application/vnd.jupyter.widget-view+json": {
       "model_id": "6a29b05ce0714d298f531141fe28e8d9",
       "version_major": 2,
       "version_minor": 0
      },
      "text/plain": [
       "Dropdown(description='data file', options=('/local/train/GFS/gfs.0p25.2020023012.f006.grib2',), value='/local/…"
      ]
     },
     "metadata": {},
     "output_type": "display_data"
    },
    {
     "name": "stderr",
     "output_type": "stream",
     "text": [
      "Can't create file '/local/train/GFS/gfs.0p25.2020023012.f006.grib2.923a8.idx'\n",
      "Traceback (most recent call last):\n",
      "  File \"/opt/conda/envs/capstone/lib/python3.9/site-packages/cfgrib/messages.py\", line 261, in itervalues\n",
      "    yield self.filestream.message_from_file(file, errors=errors)\n",
      "  File \"/opt/conda/envs/capstone/lib/python3.9/site-packages/cfgrib/messages.py\", line 328, in message_from_file\n",
      "    return Message.from_file(file, offset, **kwargs)\n",
      "  File \"/opt/conda/envs/capstone/lib/python3.9/site-packages/cfgrib/messages.py\", line 102, in from_file\n",
      "    raise EOFError(\"End of file: %r\" % file)\n",
      "EOFError: End of file: <_io.BufferedReader name='/local/train/GFS/gfs.0p25.2020023012.f006.grib2'>\n",
      "\n",
      "During handling of the above exception, another exception occurred:\n",
      "\n",
      "Traceback (most recent call last):\n",
      "  File \"/opt/conda/envs/capstone/lib/python3.9/site-packages/cfgrib/messages.py\", line 523, in from_indexpath_or_filestream\n",
      "    self = cls.from_fieldset(filestream, index_keys, computed_keys)\n",
      "  File \"/opt/conda/envs/capstone/lib/python3.9/site-packages/cfgrib/messages.py\", line 366, in from_fieldset\n",
      "    return cls.from_fieldset_and_iteritems(fieldset, iteritems, index_keys, computed_keys)\n",
      "  File \"/opt/conda/envs/capstone/lib/python3.9/site-packages/cfgrib/messages.py\", line 379, in from_fieldset_and_iteritems\n",
      "    for field_id, raw_field in iteritems:\n",
      "  File \"/opt/conda/envs/capstone/lib/python3.9/site-packages/cfgrib/messages.py\", line 279, in __iter__\n",
      "    for message in self.itervalues():\n",
      "  File \"/opt/conda/envs/capstone/lib/python3.9/site-packages/cfgrib/messages.py\", line 265, in itervalues\n",
      "    raise EOFError(\"No valid message found: %r\" % self.filestream.path)\n",
      "EOFError: No valid message found: '/local/train/GFS/gfs.0p25.2020023012.f006.grib2'\n",
      "Can't read index file '/local/train/GFS/gfs.0p25.2020023012.f006.grib2.923a8.idx'\n",
      "Traceback (most recent call last):\n",
      "  File \"/opt/conda/envs/capstone/lib/python3.9/site-packages/cfgrib/messages.py\", line 532, in from_indexpath_or_filestream\n",
      "    index_mtime = os.path.getmtime(indexpath)\n",
      "  File \"/opt/conda/envs/capstone/lib/python3.9/genericpath.py\", line 55, in getmtime\n",
      "    return os.stat(filename).st_mtime\n",
      "FileNotFoundError: [Errno 2] No such file or directory: '/local/train/GFS/gfs.0p25.2020023012.f006.grib2.923a8.idx'\n"
     ]
    },
    {
     "name": "stdout",
     "output_type": "stream",
     "text": [
      "Downloading 2020/20200230/gfs.0p25.2020023018.f006.grib2\n"
     ]
    },
    {
     "data": {
      "application/vnd.jupyter.widget-view+json": {
       "model_id": "3a362ae2cda2462ca0d720fc9bbaa91e",
       "version_major": 2,
       "version_minor": 0
      },
      "text/plain": [
       "Dropdown(description='data file', options=('/local/train/GFS/gfs.0p25.2020023018.f006.grib2',), value='/local/…"
      ]
     },
     "metadata": {},
     "output_type": "display_data"
    },
    {
     "name": "stderr",
     "output_type": "stream",
     "text": [
      "Can't create file '/local/train/GFS/gfs.0p25.2020023018.f006.grib2.923a8.idx'\n",
      "Traceback (most recent call last):\n",
      "  File \"/opt/conda/envs/capstone/lib/python3.9/site-packages/cfgrib/messages.py\", line 261, in itervalues\n",
      "    yield self.filestream.message_from_file(file, errors=errors)\n",
      "  File \"/opt/conda/envs/capstone/lib/python3.9/site-packages/cfgrib/messages.py\", line 328, in message_from_file\n",
      "    return Message.from_file(file, offset, **kwargs)\n",
      "  File \"/opt/conda/envs/capstone/lib/python3.9/site-packages/cfgrib/messages.py\", line 102, in from_file\n",
      "    raise EOFError(\"End of file: %r\" % file)\n",
      "EOFError: End of file: <_io.BufferedReader name='/local/train/GFS/gfs.0p25.2020023018.f006.grib2'>\n",
      "\n",
      "During handling of the above exception, another exception occurred:\n",
      "\n",
      "Traceback (most recent call last):\n",
      "  File \"/opt/conda/envs/capstone/lib/python3.9/site-packages/cfgrib/messages.py\", line 523, in from_indexpath_or_filestream\n",
      "    self = cls.from_fieldset(filestream, index_keys, computed_keys)\n",
      "  File \"/opt/conda/envs/capstone/lib/python3.9/site-packages/cfgrib/messages.py\", line 366, in from_fieldset\n",
      "    return cls.from_fieldset_and_iteritems(fieldset, iteritems, index_keys, computed_keys)\n",
      "  File \"/opt/conda/envs/capstone/lib/python3.9/site-packages/cfgrib/messages.py\", line 379, in from_fieldset_and_iteritems\n",
      "    for field_id, raw_field in iteritems:\n",
      "  File \"/opt/conda/envs/capstone/lib/python3.9/site-packages/cfgrib/messages.py\", line 279, in __iter__\n",
      "    for message in self.itervalues():\n",
      "  File \"/opt/conda/envs/capstone/lib/python3.9/site-packages/cfgrib/messages.py\", line 265, in itervalues\n",
      "    raise EOFError(\"No valid message found: %r\" % self.filestream.path)\n",
      "EOFError: No valid message found: '/local/train/GFS/gfs.0p25.2020023018.f006.grib2'\n",
      "Can't read index file '/local/train/GFS/gfs.0p25.2020023018.f006.grib2.923a8.idx'\n",
      "Traceback (most recent call last):\n",
      "  File \"/opt/conda/envs/capstone/lib/python3.9/site-packages/cfgrib/messages.py\", line 532, in from_indexpath_or_filestream\n",
      "    index_mtime = os.path.getmtime(indexpath)\n",
      "  File \"/opt/conda/envs/capstone/lib/python3.9/genericpath.py\", line 55, in getmtime\n",
      "    return os.stat(filename).st_mtime\n",
      "FileNotFoundError: [Errno 2] No such file or directory: '/local/train/GFS/gfs.0p25.2020023018.f006.grib2.923a8.idx'\n"
     ]
    },
    {
     "name": "stdout",
     "output_type": "stream",
     "text": [
      "Downloading 2020/20200231/gfs.0p25.2020023100.f006.grib2\n"
     ]
    },
    {
     "data": {
      "application/vnd.jupyter.widget-view+json": {
       "model_id": "cfea49daf97b458d947c5faa65c2acad",
       "version_major": 2,
       "version_minor": 0
      },
      "text/plain": [
       "Dropdown(description='data file', options=('/local/train/GFS/gfs.0p25.2020023100.f006.grib2',), value='/local/…"
      ]
     },
     "metadata": {},
     "output_type": "display_data"
    },
    {
     "name": "stderr",
     "output_type": "stream",
     "text": [
      "Can't create file '/local/train/GFS/gfs.0p25.2020023100.f006.grib2.923a8.idx'\n",
      "Traceback (most recent call last):\n",
      "  File \"/opt/conda/envs/capstone/lib/python3.9/site-packages/cfgrib/messages.py\", line 261, in itervalues\n",
      "    yield self.filestream.message_from_file(file, errors=errors)\n",
      "  File \"/opt/conda/envs/capstone/lib/python3.9/site-packages/cfgrib/messages.py\", line 328, in message_from_file\n",
      "    return Message.from_file(file, offset, **kwargs)\n",
      "  File \"/opt/conda/envs/capstone/lib/python3.9/site-packages/cfgrib/messages.py\", line 102, in from_file\n",
      "    raise EOFError(\"End of file: %r\" % file)\n",
      "EOFError: End of file: <_io.BufferedReader name='/local/train/GFS/gfs.0p25.2020023100.f006.grib2'>\n",
      "\n",
      "During handling of the above exception, another exception occurred:\n",
      "\n",
      "Traceback (most recent call last):\n",
      "  File \"/opt/conda/envs/capstone/lib/python3.9/site-packages/cfgrib/messages.py\", line 523, in from_indexpath_or_filestream\n",
      "    self = cls.from_fieldset(filestream, index_keys, computed_keys)\n",
      "  File \"/opt/conda/envs/capstone/lib/python3.9/site-packages/cfgrib/messages.py\", line 366, in from_fieldset\n",
      "    return cls.from_fieldset_and_iteritems(fieldset, iteritems, index_keys, computed_keys)\n",
      "  File \"/opt/conda/envs/capstone/lib/python3.9/site-packages/cfgrib/messages.py\", line 379, in from_fieldset_and_iteritems\n",
      "    for field_id, raw_field in iteritems:\n",
      "  File \"/opt/conda/envs/capstone/lib/python3.9/site-packages/cfgrib/messages.py\", line 279, in __iter__\n",
      "    for message in self.itervalues():\n",
      "  File \"/opt/conda/envs/capstone/lib/python3.9/site-packages/cfgrib/messages.py\", line 265, in itervalues\n",
      "    raise EOFError(\"No valid message found: %r\" % self.filestream.path)\n",
      "EOFError: No valid message found: '/local/train/GFS/gfs.0p25.2020023100.f006.grib2'\n",
      "Can't read index file '/local/train/GFS/gfs.0p25.2020023100.f006.grib2.923a8.idx'\n",
      "Traceback (most recent call last):\n",
      "  File \"/opt/conda/envs/capstone/lib/python3.9/site-packages/cfgrib/messages.py\", line 532, in from_indexpath_or_filestream\n",
      "    index_mtime = os.path.getmtime(indexpath)\n",
      "  File \"/opt/conda/envs/capstone/lib/python3.9/genericpath.py\", line 55, in getmtime\n",
      "    return os.stat(filename).st_mtime\n",
      "FileNotFoundError: [Errno 2] No such file or directory: '/local/train/GFS/gfs.0p25.2020023100.f006.grib2.923a8.idx'\n"
     ]
    },
    {
     "name": "stdout",
     "output_type": "stream",
     "text": [
      "Downloading 2020/20200231/gfs.0p25.2020023106.f006.grib2\n"
     ]
    },
    {
     "data": {
      "application/vnd.jupyter.widget-view+json": {
       "model_id": "d8d8566a61794fe4aee589a1b880c5ff",
       "version_major": 2,
       "version_minor": 0
      },
      "text/plain": [
       "Dropdown(description='data file', options=('/local/train/GFS/gfs.0p25.2020023106.f006.grib2',), value='/local/…"
      ]
     },
     "metadata": {},
     "output_type": "display_data"
    },
    {
     "name": "stderr",
     "output_type": "stream",
     "text": [
      "Can't create file '/local/train/GFS/gfs.0p25.2020023106.f006.grib2.923a8.idx'\n",
      "Traceback (most recent call last):\n",
      "  File \"/opt/conda/envs/capstone/lib/python3.9/site-packages/cfgrib/messages.py\", line 261, in itervalues\n",
      "    yield self.filestream.message_from_file(file, errors=errors)\n",
      "  File \"/opt/conda/envs/capstone/lib/python3.9/site-packages/cfgrib/messages.py\", line 328, in message_from_file\n",
      "    return Message.from_file(file, offset, **kwargs)\n",
      "  File \"/opt/conda/envs/capstone/lib/python3.9/site-packages/cfgrib/messages.py\", line 102, in from_file\n",
      "    raise EOFError(\"End of file: %r\" % file)\n",
      "EOFError: End of file: <_io.BufferedReader name='/local/train/GFS/gfs.0p25.2020023106.f006.grib2'>\n",
      "\n",
      "During handling of the above exception, another exception occurred:\n",
      "\n",
      "Traceback (most recent call last):\n",
      "  File \"/opt/conda/envs/capstone/lib/python3.9/site-packages/cfgrib/messages.py\", line 523, in from_indexpath_or_filestream\n",
      "    self = cls.from_fieldset(filestream, index_keys, computed_keys)\n",
      "  File \"/opt/conda/envs/capstone/lib/python3.9/site-packages/cfgrib/messages.py\", line 366, in from_fieldset\n",
      "    return cls.from_fieldset_and_iteritems(fieldset, iteritems, index_keys, computed_keys)\n",
      "  File \"/opt/conda/envs/capstone/lib/python3.9/site-packages/cfgrib/messages.py\", line 379, in from_fieldset_and_iteritems\n",
      "    for field_id, raw_field in iteritems:\n",
      "  File \"/opt/conda/envs/capstone/lib/python3.9/site-packages/cfgrib/messages.py\", line 279, in __iter__\n",
      "    for message in self.itervalues():\n",
      "  File \"/opt/conda/envs/capstone/lib/python3.9/site-packages/cfgrib/messages.py\", line 265, in itervalues\n",
      "    raise EOFError(\"No valid message found: %r\" % self.filestream.path)\n",
      "EOFError: No valid message found: '/local/train/GFS/gfs.0p25.2020023106.f006.grib2'\n",
      "Can't read index file '/local/train/GFS/gfs.0p25.2020023106.f006.grib2.923a8.idx'\n",
      "Traceback (most recent call last):\n",
      "  File \"/opt/conda/envs/capstone/lib/python3.9/site-packages/cfgrib/messages.py\", line 532, in from_indexpath_or_filestream\n",
      "    index_mtime = os.path.getmtime(indexpath)\n",
      "  File \"/opt/conda/envs/capstone/lib/python3.9/genericpath.py\", line 55, in getmtime\n",
      "    return os.stat(filename).st_mtime\n",
      "FileNotFoundError: [Errno 2] No such file or directory: '/local/train/GFS/gfs.0p25.2020023106.f006.grib2.923a8.idx'\n"
     ]
    },
    {
     "name": "stdout",
     "output_type": "stream",
     "text": [
      "Downloading 2020/20200231/gfs.0p25.2020023112.f006.grib2\n"
     ]
    },
    {
     "data": {
      "application/vnd.jupyter.widget-view+json": {
       "model_id": "8d037d3f33dd4612aa53efedbafe3b7e",
       "version_major": 2,
       "version_minor": 0
      },
      "text/plain": [
       "Dropdown(description='data file', options=('/local/train/GFS/gfs.0p25.2020023112.f006.grib2',), value='/local/…"
      ]
     },
     "metadata": {},
     "output_type": "display_data"
    },
    {
     "name": "stderr",
     "output_type": "stream",
     "text": [
      "Can't create file '/local/train/GFS/gfs.0p25.2020023112.f006.grib2.923a8.idx'\n",
      "Traceback (most recent call last):\n",
      "  File \"/opt/conda/envs/capstone/lib/python3.9/site-packages/cfgrib/messages.py\", line 261, in itervalues\n",
      "    yield self.filestream.message_from_file(file, errors=errors)\n",
      "  File \"/opt/conda/envs/capstone/lib/python3.9/site-packages/cfgrib/messages.py\", line 328, in message_from_file\n",
      "    return Message.from_file(file, offset, **kwargs)\n",
      "  File \"/opt/conda/envs/capstone/lib/python3.9/site-packages/cfgrib/messages.py\", line 102, in from_file\n",
      "    raise EOFError(\"End of file: %r\" % file)\n",
      "EOFError: End of file: <_io.BufferedReader name='/local/train/GFS/gfs.0p25.2020023112.f006.grib2'>\n",
      "\n",
      "During handling of the above exception, another exception occurred:\n",
      "\n",
      "Traceback (most recent call last):\n",
      "  File \"/opt/conda/envs/capstone/lib/python3.9/site-packages/cfgrib/messages.py\", line 523, in from_indexpath_or_filestream\n",
      "    self = cls.from_fieldset(filestream, index_keys, computed_keys)\n",
      "  File \"/opt/conda/envs/capstone/lib/python3.9/site-packages/cfgrib/messages.py\", line 366, in from_fieldset\n",
      "    return cls.from_fieldset_and_iteritems(fieldset, iteritems, index_keys, computed_keys)\n",
      "  File \"/opt/conda/envs/capstone/lib/python3.9/site-packages/cfgrib/messages.py\", line 379, in from_fieldset_and_iteritems\n",
      "    for field_id, raw_field in iteritems:\n",
      "  File \"/opt/conda/envs/capstone/lib/python3.9/site-packages/cfgrib/messages.py\", line 279, in __iter__\n",
      "    for message in self.itervalues():\n",
      "  File \"/opt/conda/envs/capstone/lib/python3.9/site-packages/cfgrib/messages.py\", line 265, in itervalues\n",
      "    raise EOFError(\"No valid message found: %r\" % self.filestream.path)\n",
      "EOFError: No valid message found: '/local/train/GFS/gfs.0p25.2020023112.f006.grib2'\n",
      "Can't read index file '/local/train/GFS/gfs.0p25.2020023112.f006.grib2.923a8.idx'\n",
      "Traceback (most recent call last):\n",
      "  File \"/opt/conda/envs/capstone/lib/python3.9/site-packages/cfgrib/messages.py\", line 532, in from_indexpath_or_filestream\n",
      "    index_mtime = os.path.getmtime(indexpath)\n",
      "  File \"/opt/conda/envs/capstone/lib/python3.9/genericpath.py\", line 55, in getmtime\n",
      "    return os.stat(filename).st_mtime\n",
      "FileNotFoundError: [Errno 2] No such file or directory: '/local/train/GFS/gfs.0p25.2020023112.f006.grib2.923a8.idx'\n"
     ]
    },
    {
     "name": "stdout",
     "output_type": "stream",
     "text": [
      "Downloading 2020/20200231/gfs.0p25.2020023118.f006.grib2\n"
     ]
    },
    {
     "data": {
      "application/vnd.jupyter.widget-view+json": {
       "model_id": "8f10259b7f9349c481520edb384f5373",
       "version_major": 2,
       "version_minor": 0
      },
      "text/plain": [
       "Dropdown(description='data file', options=('/local/train/GFS/gfs.0p25.2020023118.f006.grib2',), value='/local/…"
      ]
     },
     "metadata": {},
     "output_type": "display_data"
    },
    {
     "name": "stderr",
     "output_type": "stream",
     "text": [
      "Can't create file '/local/train/GFS/gfs.0p25.2020023118.f006.grib2.923a8.idx'\n",
      "Traceback (most recent call last):\n",
      "  File \"/opt/conda/envs/capstone/lib/python3.9/site-packages/cfgrib/messages.py\", line 261, in itervalues\n",
      "    yield self.filestream.message_from_file(file, errors=errors)\n",
      "  File \"/opt/conda/envs/capstone/lib/python3.9/site-packages/cfgrib/messages.py\", line 328, in message_from_file\n",
      "    return Message.from_file(file, offset, **kwargs)\n",
      "  File \"/opt/conda/envs/capstone/lib/python3.9/site-packages/cfgrib/messages.py\", line 102, in from_file\n",
      "    raise EOFError(\"End of file: %r\" % file)\n",
      "EOFError: End of file: <_io.BufferedReader name='/local/train/GFS/gfs.0p25.2020023118.f006.grib2'>\n",
      "\n",
      "During handling of the above exception, another exception occurred:\n",
      "\n",
      "Traceback (most recent call last):\n",
      "  File \"/opt/conda/envs/capstone/lib/python3.9/site-packages/cfgrib/messages.py\", line 523, in from_indexpath_or_filestream\n",
      "    self = cls.from_fieldset(filestream, index_keys, computed_keys)\n",
      "  File \"/opt/conda/envs/capstone/lib/python3.9/site-packages/cfgrib/messages.py\", line 366, in from_fieldset\n",
      "    return cls.from_fieldset_and_iteritems(fieldset, iteritems, index_keys, computed_keys)\n",
      "  File \"/opt/conda/envs/capstone/lib/python3.9/site-packages/cfgrib/messages.py\", line 379, in from_fieldset_and_iteritems\n",
      "    for field_id, raw_field in iteritems:\n",
      "  File \"/opt/conda/envs/capstone/lib/python3.9/site-packages/cfgrib/messages.py\", line 279, in __iter__\n",
      "    for message in self.itervalues():\n",
      "  File \"/opt/conda/envs/capstone/lib/python3.9/site-packages/cfgrib/messages.py\", line 265, in itervalues\n",
      "    raise EOFError(\"No valid message found: %r\" % self.filestream.path)\n",
      "EOFError: No valid message found: '/local/train/GFS/gfs.0p25.2020023118.f006.grib2'\n",
      "Can't read index file '/local/train/GFS/gfs.0p25.2020023118.f006.grib2.923a8.idx'\n",
      "Traceback (most recent call last):\n",
      "  File \"/opt/conda/envs/capstone/lib/python3.9/site-packages/cfgrib/messages.py\", line 532, in from_indexpath_or_filestream\n",
      "    index_mtime = os.path.getmtime(indexpath)\n",
      "  File \"/opt/conda/envs/capstone/lib/python3.9/genericpath.py\", line 55, in getmtime\n",
      "    return os.stat(filename).st_mtime\n",
      "FileNotFoundError: [Errno 2] No such file or directory: '/local/train/GFS/gfs.0p25.2020023118.f006.grib2.923a8.idx'\n"
     ]
    },
    {
     "name": "stdout",
     "output_type": "stream",
     "text": [
      "Downloading 2020/20200301/gfs.0p25.2020030100.f006.grib2\n"
     ]
    },
    {
     "data": {
      "application/vnd.jupyter.widget-view+json": {
       "model_id": "f9f92369811147c48620db8826e4d715",
       "version_major": 2,
       "version_minor": 0
      },
      "text/plain": [
       "Dropdown(description='data file', options=('/local/train/GFS/gfs.0p25.2020030100.f006.grib2',), value='/local/…"
      ]
     },
     "metadata": {},
     "output_type": "display_data"
    },
    {
     "name": "stderr",
     "output_type": "stream",
     "text": [
      "Ignoring index file '/local/train/GFS/gfs.0p25.2020030100.f006.grib2.923a8.idx' incompatible with GRIB file\n",
      "Ignoring index file '/local/train/GFS/gfs.0p25.2020030100.f006.grib2.923a8.idx' incompatible with GRIB file\n"
     ]
    },
    {
     "name": "stdout",
     "output_type": "stream",
     "text": [
      "Downloading 2020/20200301/gfs.0p25.2020030106.f006.grib2\n"
     ]
    },
    {
     "data": {
      "application/vnd.jupyter.widget-view+json": {
       "model_id": "c2da4819679040b5a3893c0ac3ab63c5",
       "version_major": 2,
       "version_minor": 0
      },
      "text/plain": [
       "Dropdown(description='data file', options=('/local/train/GFS/gfs.0p25.2020030106.f006.grib2',), value='/local/…"
      ]
     },
     "metadata": {},
     "output_type": "display_data"
    },
    {
     "name": "stderr",
     "output_type": "stream",
     "text": [
      "Ignoring index file '/local/train/GFS/gfs.0p25.2020030106.f006.grib2.923a8.idx' incompatible with GRIB file\n",
      "Ignoring index file '/local/train/GFS/gfs.0p25.2020030106.f006.grib2.923a8.idx' incompatible with GRIB file\n"
     ]
    },
    {
     "name": "stdout",
     "output_type": "stream",
     "text": [
      "Downloading 2020/20200301/gfs.0p25.2020030112.f006.grib2\n"
     ]
    },
    {
     "data": {
      "application/vnd.jupyter.widget-view+json": {
       "model_id": "7242f15dc2564a52bd569fd89efa6fa6",
       "version_major": 2,
       "version_minor": 0
      },
      "text/plain": [
       "Dropdown(description='data file', options=('/local/train/GFS/gfs.0p25.2020030112.f006.grib2',), value='/local/…"
      ]
     },
     "metadata": {},
     "output_type": "display_data"
    },
    {
     "name": "stderr",
     "output_type": "stream",
     "text": [
      "Ignoring index file '/local/train/GFS/gfs.0p25.2020030112.f006.grib2.923a8.idx' incompatible with GRIB file\n",
      "Ignoring index file '/local/train/GFS/gfs.0p25.2020030112.f006.grib2.923a8.idx' incompatible with GRIB file\n"
     ]
    },
    {
     "name": "stdout",
     "output_type": "stream",
     "text": [
      "Downloading 2020/20200301/gfs.0p25.2020030118.f006.grib2\n"
     ]
    },
    {
     "data": {
      "application/vnd.jupyter.widget-view+json": {
       "model_id": "0c4693eb6a584906b47f16cc8ad62209",
       "version_major": 2,
       "version_minor": 0
      },
      "text/plain": [
       "Dropdown(description='data file', options=('/local/train/GFS/gfs.0p25.2020030118.f006.grib2',), value='/local/…"
      ]
     },
     "metadata": {},
     "output_type": "display_data"
    },
    {
     "name": "stderr",
     "output_type": "stream",
     "text": [
      "Ignoring index file '/local/train/GFS/gfs.0p25.2020030118.f006.grib2.923a8.idx' incompatible with GRIB file\n",
      "Ignoring index file '/local/train/GFS/gfs.0p25.2020030118.f006.grib2.923a8.idx' incompatible with GRIB file\n"
     ]
    },
    {
     "name": "stdout",
     "output_type": "stream",
     "text": [
      "Downloading 2020/20200302/gfs.0p25.2020030200.f006.grib2\n"
     ]
    },
    {
     "data": {
      "application/vnd.jupyter.widget-view+json": {
       "model_id": "3e1b75d7dbb64ea3b8cbd24480273f80",
       "version_major": 2,
       "version_minor": 0
      },
      "text/plain": [
       "Dropdown(description='data file', options=('/local/train/GFS/gfs.0p25.2020030200.f006.grib2',), value='/local/…"
      ]
     },
     "metadata": {},
     "output_type": "display_data"
    },
    {
     "name": "stderr",
     "output_type": "stream",
     "text": [
      "Ignoring index file '/local/train/GFS/gfs.0p25.2020030200.f006.grib2.923a8.idx' incompatible with GRIB file\n",
      "Ignoring index file '/local/train/GFS/gfs.0p25.2020030200.f006.grib2.923a8.idx' incompatible with GRIB file\n"
     ]
    },
    {
     "name": "stdout",
     "output_type": "stream",
     "text": [
      "Downloading 2020/20200302/gfs.0p25.2020030206.f006.grib2\n"
     ]
    },
    {
     "data": {
      "application/vnd.jupyter.widget-view+json": {
       "model_id": "3f0a14b8726340c8b5ee5efae88aee0c",
       "version_major": 2,
       "version_minor": 0
      },
      "text/plain": [
       "Dropdown(description='data file', options=('/local/train/GFS/gfs.0p25.2020030206.f006.grib2',), value='/local/…"
      ]
     },
     "metadata": {},
     "output_type": "display_data"
    },
    {
     "name": "stderr",
     "output_type": "stream",
     "text": [
      "Ignoring index file '/local/train/GFS/gfs.0p25.2020030206.f006.grib2.923a8.idx' incompatible with GRIB file\n",
      "Ignoring index file '/local/train/GFS/gfs.0p25.2020030206.f006.grib2.923a8.idx' incompatible with GRIB file\n"
     ]
    },
    {
     "name": "stdout",
     "output_type": "stream",
     "text": [
      "Downloading 2020/20200302/gfs.0p25.2020030212.f006.grib2\n"
     ]
    },
    {
     "data": {
      "application/vnd.jupyter.widget-view+json": {
       "model_id": "97fa71b917334e0381abd9a37b64fd9a",
       "version_major": 2,
       "version_minor": 0
      },
      "text/plain": [
       "Dropdown(description='data file', options=('/local/train/GFS/gfs.0p25.2020030212.f006.grib2',), value='/local/…"
      ]
     },
     "metadata": {},
     "output_type": "display_data"
    },
    {
     "name": "stderr",
     "output_type": "stream",
     "text": [
      "Ignoring index file '/local/train/GFS/gfs.0p25.2020030212.f006.grib2.923a8.idx' incompatible with GRIB file\n",
      "Ignoring index file '/local/train/GFS/gfs.0p25.2020030212.f006.grib2.923a8.idx' incompatible with GRIB file\n"
     ]
    },
    {
     "name": "stdout",
     "output_type": "stream",
     "text": [
      "Downloading 2020/20200302/gfs.0p25.2020030218.f006.grib2\n"
     ]
    },
    {
     "data": {
      "application/vnd.jupyter.widget-view+json": {
       "model_id": "17c45173df1e4305a924d5629663e8fd",
       "version_major": 2,
       "version_minor": 0
      },
      "text/plain": [
       "Dropdown(description='data file', options=('/local/train/GFS/gfs.0p25.2020030218.f006.grib2',), value='/local/…"
      ]
     },
     "metadata": {},
     "output_type": "display_data"
    },
    {
     "name": "stderr",
     "output_type": "stream",
     "text": [
      "Ignoring index file '/local/train/GFS/gfs.0p25.2020030218.f006.grib2.923a8.idx' incompatible with GRIB file\n",
      "Ignoring index file '/local/train/GFS/gfs.0p25.2020030218.f006.grib2.923a8.idx' incompatible with GRIB file\n"
     ]
    },
    {
     "name": "stdout",
     "output_type": "stream",
     "text": [
      "Downloading 2020/20200303/gfs.0p25.2020030300.f006.grib2\n"
     ]
    },
    {
     "data": {
      "application/vnd.jupyter.widget-view+json": {
       "model_id": "d3dca3f40b634105b50d88729b43f8ce",
       "version_major": 2,
       "version_minor": 0
      },
      "text/plain": [
       "Dropdown(description='data file', options=('/local/train/GFS/gfs.0p25.2020030300.f006.grib2',), value='/local/…"
      ]
     },
     "metadata": {},
     "output_type": "display_data"
    },
    {
     "name": "stderr",
     "output_type": "stream",
     "text": [
      "Ignoring index file '/local/train/GFS/gfs.0p25.2020030300.f006.grib2.923a8.idx' incompatible with GRIB file\n",
      "Ignoring index file '/local/train/GFS/gfs.0p25.2020030300.f006.grib2.923a8.idx' incompatible with GRIB file\n"
     ]
    },
    {
     "name": "stdout",
     "output_type": "stream",
     "text": [
      "Downloading 2020/20200303/gfs.0p25.2020030306.f006.grib2\n"
     ]
    },
    {
     "data": {
      "application/vnd.jupyter.widget-view+json": {
       "model_id": "453c90c7f2234fa9ab30ce368de934f5",
       "version_major": 2,
       "version_minor": 0
      },
      "text/plain": [
       "Dropdown(description='data file', options=('/local/train/GFS/gfs.0p25.2020030306.f006.grib2',), value='/local/…"
      ]
     },
     "metadata": {},
     "output_type": "display_data"
    },
    {
     "name": "stderr",
     "output_type": "stream",
     "text": [
      "Ignoring index file '/local/train/GFS/gfs.0p25.2020030306.f006.grib2.923a8.idx' incompatible with GRIB file\n",
      "Ignoring index file '/local/train/GFS/gfs.0p25.2020030306.f006.grib2.923a8.idx' incompatible with GRIB file\n"
     ]
    },
    {
     "name": "stdout",
     "output_type": "stream",
     "text": [
      "Downloading 2020/20200303/gfs.0p25.2020030312.f006.grib2\n"
     ]
    },
    {
     "data": {
      "application/vnd.jupyter.widget-view+json": {
       "model_id": "781e5ed1719547b294d02c7359a23ca6",
       "version_major": 2,
       "version_minor": 0
      },
      "text/plain": [
       "Dropdown(description='data file', options=('/local/train/GFS/gfs.0p25.2020030312.f006.grib2',), value='/local/…"
      ]
     },
     "metadata": {},
     "output_type": "display_data"
    },
    {
     "name": "stderr",
     "output_type": "stream",
     "text": [
      "Ignoring index file '/local/train/GFS/gfs.0p25.2020030312.f006.grib2.923a8.idx' incompatible with GRIB file\n",
      "Ignoring index file '/local/train/GFS/gfs.0p25.2020030312.f006.grib2.923a8.idx' incompatible with GRIB file\n"
     ]
    },
    {
     "name": "stdout",
     "output_type": "stream",
     "text": [
      "Downloading 2020/20200303/gfs.0p25.2020030318.f006.grib2\n"
     ]
    },
    {
     "data": {
      "application/vnd.jupyter.widget-view+json": {
       "model_id": "f1ba54310e6a469faa19f489675257a3",
       "version_major": 2,
       "version_minor": 0
      },
      "text/plain": [
       "Dropdown(description='data file', options=('/local/train/GFS/gfs.0p25.2020030318.f006.grib2',), value='/local/…"
      ]
     },
     "metadata": {},
     "output_type": "display_data"
    },
    {
     "name": "stderr",
     "output_type": "stream",
     "text": [
      "Ignoring index file '/local/train/GFS/gfs.0p25.2020030318.f006.grib2.923a8.idx' incompatible with GRIB file\n",
      "Ignoring index file '/local/train/GFS/gfs.0p25.2020030318.f006.grib2.923a8.idx' incompatible with GRIB file\n"
     ]
    },
    {
     "name": "stdout",
     "output_type": "stream",
     "text": [
      "Downloading 2020/20200304/gfs.0p25.2020030400.f006.grib2\n"
     ]
    },
    {
     "data": {
      "application/vnd.jupyter.widget-view+json": {
       "model_id": "3ed3c32021f4416baf335dae25266b17",
       "version_major": 2,
       "version_minor": 0
      },
      "text/plain": [
       "Dropdown(description='data file', options=('/local/train/GFS/gfs.0p25.2020030400.f006.grib2',), value='/local/…"
      ]
     },
     "metadata": {},
     "output_type": "display_data"
    },
    {
     "name": "stderr",
     "output_type": "stream",
     "text": [
      "Ignoring index file '/local/train/GFS/gfs.0p25.2020030400.f006.grib2.923a8.idx' incompatible with GRIB file\n",
      "Ignoring index file '/local/train/GFS/gfs.0p25.2020030400.f006.grib2.923a8.idx' incompatible with GRIB file\n"
     ]
    },
    {
     "name": "stdout",
     "output_type": "stream",
     "text": [
      "Downloading 2020/20200304/gfs.0p25.2020030406.f006.grib2\n"
     ]
    },
    {
     "data": {
      "application/vnd.jupyter.widget-view+json": {
       "model_id": "cf8ac61e513b4b50aaa275c0b6d76142",
       "version_major": 2,
       "version_minor": 0
      },
      "text/plain": [
       "Dropdown(description='data file', options=('/local/train/GFS/gfs.0p25.2020030406.f006.grib2',), value='/local/…"
      ]
     },
     "metadata": {},
     "output_type": "display_data"
    },
    {
     "name": "stderr",
     "output_type": "stream",
     "text": [
      "Ignoring index file '/local/train/GFS/gfs.0p25.2020030406.f006.grib2.923a8.idx' incompatible with GRIB file\n",
      "Ignoring index file '/local/train/GFS/gfs.0p25.2020030406.f006.grib2.923a8.idx' incompatible with GRIB file\n"
     ]
    },
    {
     "name": "stdout",
     "output_type": "stream",
     "text": [
      "Downloading 2020/20200304/gfs.0p25.2020030412.f006.grib2\n"
     ]
    },
    {
     "data": {
      "application/vnd.jupyter.widget-view+json": {
       "model_id": "b944b2b5e6b14a97817a77b6cfad1df3",
       "version_major": 2,
       "version_minor": 0
      },
      "text/plain": [
       "Dropdown(description='data file', options=('/local/train/GFS/gfs.0p25.2020030412.f006.grib2',), value='/local/…"
      ]
     },
     "metadata": {},
     "output_type": "display_data"
    },
    {
     "name": "stderr",
     "output_type": "stream",
     "text": [
      "Ignoring index file '/local/train/GFS/gfs.0p25.2020030412.f006.grib2.923a8.idx' incompatible with GRIB file\n",
      "Ignoring index file '/local/train/GFS/gfs.0p25.2020030412.f006.grib2.923a8.idx' incompatible with GRIB file\n"
     ]
    },
    {
     "name": "stdout",
     "output_type": "stream",
     "text": [
      "Downloading 2020/20200304/gfs.0p25.2020030418.f006.grib2\n"
     ]
    },
    {
     "data": {
      "application/vnd.jupyter.widget-view+json": {
       "model_id": "7d064de8a49c4379af9201a363c6bf66",
       "version_major": 2,
       "version_minor": 0
      },
      "text/plain": [
       "Dropdown(description='data file', options=('/local/train/GFS/gfs.0p25.2020030418.f006.grib2',), value='/local/…"
      ]
     },
     "metadata": {},
     "output_type": "display_data"
    },
    {
     "name": "stderr",
     "output_type": "stream",
     "text": [
      "Ignoring index file '/local/train/GFS/gfs.0p25.2020030418.f006.grib2.923a8.idx' incompatible with GRIB file\n",
      "Ignoring index file '/local/train/GFS/gfs.0p25.2020030418.f006.grib2.923a8.idx' incompatible with GRIB file\n"
     ]
    },
    {
     "name": "stdout",
     "output_type": "stream",
     "text": [
      "Downloading 2020/20200305/gfs.0p25.2020030500.f006.grib2\n"
     ]
    },
    {
     "data": {
      "application/vnd.jupyter.widget-view+json": {
       "model_id": "2d3fdc6f698a47468d41d614aea81d38",
       "version_major": 2,
       "version_minor": 0
      },
      "text/plain": [
       "Dropdown(description='data file', options=('/local/train/GFS/gfs.0p25.2020030500.f006.grib2',), value='/local/…"
      ]
     },
     "metadata": {},
     "output_type": "display_data"
    },
    {
     "name": "stderr",
     "output_type": "stream",
     "text": [
      "Ignoring index file '/local/train/GFS/gfs.0p25.2020030500.f006.grib2.923a8.idx' incompatible with GRIB file\n",
      "Ignoring index file '/local/train/GFS/gfs.0p25.2020030500.f006.grib2.923a8.idx' incompatible with GRIB file\n"
     ]
    },
    {
     "name": "stdout",
     "output_type": "stream",
     "text": [
      "Downloading 2020/20200305/gfs.0p25.2020030506.f006.grib2\n"
     ]
    },
    {
     "data": {
      "application/vnd.jupyter.widget-view+json": {
       "model_id": "fa73f716d40f4c39b5cd1ac628b7b8bd",
       "version_major": 2,
       "version_minor": 0
      },
      "text/plain": [
       "Dropdown(description='data file', options=('/local/train/GFS/gfs.0p25.2020030506.f006.grib2',), value='/local/…"
      ]
     },
     "metadata": {},
     "output_type": "display_data"
    },
    {
     "name": "stderr",
     "output_type": "stream",
     "text": [
      "Ignoring index file '/local/train/GFS/gfs.0p25.2020030506.f006.grib2.923a8.idx' incompatible with GRIB file\n",
      "Ignoring index file '/local/train/GFS/gfs.0p25.2020030506.f006.grib2.923a8.idx' incompatible with GRIB file\n"
     ]
    },
    {
     "name": "stdout",
     "output_type": "stream",
     "text": [
      "Downloading 2020/20200305/gfs.0p25.2020030512.f006.grib2\n"
     ]
    },
    {
     "data": {
      "application/vnd.jupyter.widget-view+json": {
       "model_id": "c96479e5987a437f958db325bd1bbbc4",
       "version_major": 2,
       "version_minor": 0
      },
      "text/plain": [
       "Dropdown(description='data file', options=('/local/train/GFS/gfs.0p25.2020030512.f006.grib2',), value='/local/…"
      ]
     },
     "metadata": {},
     "output_type": "display_data"
    },
    {
     "name": "stderr",
     "output_type": "stream",
     "text": [
      "Ignoring index file '/local/train/GFS/gfs.0p25.2020030512.f006.grib2.923a8.idx' incompatible with GRIB file\n",
      "Ignoring index file '/local/train/GFS/gfs.0p25.2020030512.f006.grib2.923a8.idx' incompatible with GRIB file\n"
     ]
    },
    {
     "name": "stdout",
     "output_type": "stream",
     "text": [
      "Downloading 2020/20200305/gfs.0p25.2020030518.f006.grib2\n"
     ]
    },
    {
     "data": {
      "application/vnd.jupyter.widget-view+json": {
       "model_id": "0ddf08a3a6d94a23ba131884c1688372",
       "version_major": 2,
       "version_minor": 0
      },
      "text/plain": [
       "Dropdown(description='data file', options=('/local/train/GFS/gfs.0p25.2020030518.f006.grib2',), value='/local/…"
      ]
     },
     "metadata": {},
     "output_type": "display_data"
    },
    {
     "name": "stderr",
     "output_type": "stream",
     "text": [
      "Ignoring index file '/local/train/GFS/gfs.0p25.2020030518.f006.grib2.923a8.idx' incompatible with GRIB file\n",
      "Ignoring index file '/local/train/GFS/gfs.0p25.2020030518.f006.grib2.923a8.idx' incompatible with GRIB file\n"
     ]
    },
    {
     "name": "stdout",
     "output_type": "stream",
     "text": [
      "Downloading 2020/20200306/gfs.0p25.2020030600.f006.grib2\n"
     ]
    },
    {
     "data": {
      "application/vnd.jupyter.widget-view+json": {
       "model_id": "be57e5e9fb884b4884abeba9550a0fe7",
       "version_major": 2,
       "version_minor": 0
      },
      "text/plain": [
       "Dropdown(description='data file', options=('/local/train/GFS/gfs.0p25.2020030600.f006.grib2',), value='/local/…"
      ]
     },
     "metadata": {},
     "output_type": "display_data"
    },
    {
     "name": "stderr",
     "output_type": "stream",
     "text": [
      "Ignoring index file '/local/train/GFS/gfs.0p25.2020030600.f006.grib2.923a8.idx' incompatible with GRIB file\n",
      "Ignoring index file '/local/train/GFS/gfs.0p25.2020030600.f006.grib2.923a8.idx' incompatible with GRIB file\n"
     ]
    },
    {
     "name": "stdout",
     "output_type": "stream",
     "text": [
      "Downloading 2020/20200306/gfs.0p25.2020030606.f006.grib2\n"
     ]
    },
    {
     "data": {
      "application/vnd.jupyter.widget-view+json": {
       "model_id": "493943fb29884b38a27e2a1660d61cba",
       "version_major": 2,
       "version_minor": 0
      },
      "text/plain": [
       "Dropdown(description='data file', options=('/local/train/GFS/gfs.0p25.2020030606.f006.grib2',), value='/local/…"
      ]
     },
     "metadata": {},
     "output_type": "display_data"
    },
    {
     "name": "stderr",
     "output_type": "stream",
     "text": [
      "Ignoring index file '/local/train/GFS/gfs.0p25.2020030606.f006.grib2.923a8.idx' incompatible with GRIB file\n",
      "Ignoring index file '/local/train/GFS/gfs.0p25.2020030606.f006.grib2.923a8.idx' incompatible with GRIB file\n"
     ]
    },
    {
     "name": "stdout",
     "output_type": "stream",
     "text": [
      "Downloading 2020/20200306/gfs.0p25.2020030612.f006.grib2\n"
     ]
    },
    {
     "data": {
      "application/vnd.jupyter.widget-view+json": {
       "model_id": "79ce1c8fc02944bab4cc20c50c0555b2",
       "version_major": 2,
       "version_minor": 0
      },
      "text/plain": [
       "Dropdown(description='data file', options=('/local/train/GFS/gfs.0p25.2020030612.f006.grib2',), value='/local/…"
      ]
     },
     "metadata": {},
     "output_type": "display_data"
    },
    {
     "name": "stderr",
     "output_type": "stream",
     "text": [
      "Ignoring index file '/local/train/GFS/gfs.0p25.2020030612.f006.grib2.923a8.idx' incompatible with GRIB file\n",
      "Ignoring index file '/local/train/GFS/gfs.0p25.2020030612.f006.grib2.923a8.idx' incompatible with GRIB file\n"
     ]
    },
    {
     "name": "stdout",
     "output_type": "stream",
     "text": [
      "Downloading 2020/20200306/gfs.0p25.2020030618.f006.grib2\n"
     ]
    },
    {
     "data": {
      "application/vnd.jupyter.widget-view+json": {
       "model_id": "cbceab7f1fbc4ecf823b0f6aec501a80",
       "version_major": 2,
       "version_minor": 0
      },
      "text/plain": [
       "Dropdown(description='data file', options=('/local/train/GFS/gfs.0p25.2020030618.f006.grib2',), value='/local/…"
      ]
     },
     "metadata": {},
     "output_type": "display_data"
    },
    {
     "name": "stderr",
     "output_type": "stream",
     "text": [
      "Ignoring index file '/local/train/GFS/gfs.0p25.2020030618.f006.grib2.923a8.idx' incompatible with GRIB file\n",
      "Ignoring index file '/local/train/GFS/gfs.0p25.2020030618.f006.grib2.923a8.idx' incompatible with GRIB file\n"
     ]
    },
    {
     "name": "stdout",
     "output_type": "stream",
     "text": [
      "Downloading 2020/20200307/gfs.0p25.2020030700.f006.grib2\n"
     ]
    },
    {
     "data": {
      "application/vnd.jupyter.widget-view+json": {
       "model_id": "7c808966396f46bb8d30ae87185741d6",
       "version_major": 2,
       "version_minor": 0
      },
      "text/plain": [
       "Dropdown(description='data file', options=('/local/train/GFS/gfs.0p25.2020030700.f006.grib2',), value='/local/…"
      ]
     },
     "metadata": {},
     "output_type": "display_data"
    },
    {
     "name": "stderr",
     "output_type": "stream",
     "text": [
      "Ignoring index file '/local/train/GFS/gfs.0p25.2020030700.f006.grib2.923a8.idx' incompatible with GRIB file\n",
      "Ignoring index file '/local/train/GFS/gfs.0p25.2020030700.f006.grib2.923a8.idx' incompatible with GRIB file\n"
     ]
    },
    {
     "name": "stdout",
     "output_type": "stream",
     "text": [
      "Downloading 2020/20200307/gfs.0p25.2020030706.f006.grib2\n"
     ]
    },
    {
     "data": {
      "application/vnd.jupyter.widget-view+json": {
       "model_id": "4dbbc6d27f594e659a3b80918666d652",
       "version_major": 2,
       "version_minor": 0
      },
      "text/plain": [
       "Dropdown(description='data file', options=('/local/train/GFS/gfs.0p25.2020030706.f006.grib2',), value='/local/…"
      ]
     },
     "metadata": {},
     "output_type": "display_data"
    },
    {
     "name": "stderr",
     "output_type": "stream",
     "text": [
      "Ignoring index file '/local/train/GFS/gfs.0p25.2020030706.f006.grib2.923a8.idx' incompatible with GRIB file\n",
      "Ignoring index file '/local/train/GFS/gfs.0p25.2020030706.f006.grib2.923a8.idx' incompatible with GRIB file\n"
     ]
    },
    {
     "name": "stdout",
     "output_type": "stream",
     "text": [
      "Downloading 2020/20200307/gfs.0p25.2020030712.f006.grib2\n"
     ]
    },
    {
     "data": {
      "application/vnd.jupyter.widget-view+json": {
       "model_id": "de17ef42418b4bae94b4857978ca1a59",
       "version_major": 2,
       "version_minor": 0
      },
      "text/plain": [
       "Dropdown(description='data file', options=('/local/train/GFS/gfs.0p25.2020030712.f006.grib2',), value='/local/…"
      ]
     },
     "metadata": {},
     "output_type": "display_data"
    },
    {
     "name": "stderr",
     "output_type": "stream",
     "text": [
      "Ignoring index file '/local/train/GFS/gfs.0p25.2020030712.f006.grib2.923a8.idx' incompatible with GRIB file\n",
      "Ignoring index file '/local/train/GFS/gfs.0p25.2020030712.f006.grib2.923a8.idx' incompatible with GRIB file\n"
     ]
    },
    {
     "name": "stdout",
     "output_type": "stream",
     "text": [
      "Downloading 2020/20200307/gfs.0p25.2020030718.f006.grib2\n"
     ]
    },
    {
     "data": {
      "application/vnd.jupyter.widget-view+json": {
       "model_id": "5ba390edb40f4e3fa431e6390b4d860a",
       "version_major": 2,
       "version_minor": 0
      },
      "text/plain": [
       "Dropdown(description='data file', options=('/local/train/GFS/gfs.0p25.2020030718.f006.grib2',), value='/local/…"
      ]
     },
     "metadata": {},
     "output_type": "display_data"
    },
    {
     "name": "stderr",
     "output_type": "stream",
     "text": [
      "Ignoring index file '/local/train/GFS/gfs.0p25.2020030718.f006.grib2.923a8.idx' incompatible with GRIB file\n",
      "Ignoring index file '/local/train/GFS/gfs.0p25.2020030718.f006.grib2.923a8.idx' incompatible with GRIB file\n"
     ]
    },
    {
     "name": "stdout",
     "output_type": "stream",
     "text": [
      "Downloading 2020/20200308/gfs.0p25.2020030800.f006.grib2\n"
     ]
    },
    {
     "data": {
      "application/vnd.jupyter.widget-view+json": {
       "model_id": "2d79c103b17746cd969bfa68c6bd7f1f",
       "version_major": 2,
       "version_minor": 0
      },
      "text/plain": [
       "Dropdown(description='data file', options=('/local/train/GFS/gfs.0p25.2020030800.f006.grib2',), value='/local/…"
      ]
     },
     "metadata": {},
     "output_type": "display_data"
    },
    {
     "name": "stderr",
     "output_type": "stream",
     "text": [
      "Ignoring index file '/local/train/GFS/gfs.0p25.2020030800.f006.grib2.923a8.idx' incompatible with GRIB file\n",
      "Ignoring index file '/local/train/GFS/gfs.0p25.2020030800.f006.grib2.923a8.idx' incompatible with GRIB file\n"
     ]
    },
    {
     "name": "stdout",
     "output_type": "stream",
     "text": [
      "Downloading 2020/20200308/gfs.0p25.2020030806.f006.grib2\n"
     ]
    },
    {
     "data": {
      "application/vnd.jupyter.widget-view+json": {
       "model_id": "12fb2afcd6ca497cbbea68709a549342",
       "version_major": 2,
       "version_minor": 0
      },
      "text/plain": [
       "Dropdown(description='data file', options=('/local/train/GFS/gfs.0p25.2020030806.f006.grib2',), value='/local/…"
      ]
     },
     "metadata": {},
     "output_type": "display_data"
    },
    {
     "name": "stderr",
     "output_type": "stream",
     "text": [
      "Ignoring index file '/local/train/GFS/gfs.0p25.2020030806.f006.grib2.923a8.idx' incompatible with GRIB file\n",
      "Ignoring index file '/local/train/GFS/gfs.0p25.2020030806.f006.grib2.923a8.idx' incompatible with GRIB file\n"
     ]
    },
    {
     "name": "stdout",
     "output_type": "stream",
     "text": [
      "Downloading 2020/20200308/gfs.0p25.2020030812.f006.grib2\n"
     ]
    },
    {
     "data": {
      "application/vnd.jupyter.widget-view+json": {
       "model_id": "1a0601b5a2914e01a3e50746aefa7411",
       "version_major": 2,
       "version_minor": 0
      },
      "text/plain": [
       "Dropdown(description='data file', options=('/local/train/GFS/gfs.0p25.2020030812.f006.grib2',), value='/local/…"
      ]
     },
     "metadata": {},
     "output_type": "display_data"
    },
    {
     "name": "stderr",
     "output_type": "stream",
     "text": [
      "Ignoring index file '/local/train/GFS/gfs.0p25.2020030812.f006.grib2.923a8.idx' incompatible with GRIB file\n",
      "Ignoring index file '/local/train/GFS/gfs.0p25.2020030812.f006.grib2.923a8.idx' incompatible with GRIB file\n"
     ]
    },
    {
     "name": "stdout",
     "output_type": "stream",
     "text": [
      "Downloading 2020/20200308/gfs.0p25.2020030818.f006.grib2\n"
     ]
    },
    {
     "data": {
      "application/vnd.jupyter.widget-view+json": {
       "model_id": "5490a3f206e8422ba79d61768a8970ce",
       "version_major": 2,
       "version_minor": 0
      },
      "text/plain": [
       "Dropdown(description='data file', options=('/local/train/GFS/gfs.0p25.2020030818.f006.grib2',), value='/local/…"
      ]
     },
     "metadata": {},
     "output_type": "display_data"
    },
    {
     "name": "stderr",
     "output_type": "stream",
     "text": [
      "Ignoring index file '/local/train/GFS/gfs.0p25.2020030818.f006.grib2.923a8.idx' incompatible with GRIB file\n",
      "Ignoring index file '/local/train/GFS/gfs.0p25.2020030818.f006.grib2.923a8.idx' incompatible with GRIB file\n"
     ]
    },
    {
     "name": "stdout",
     "output_type": "stream",
     "text": [
      "Downloading 2020/20200309/gfs.0p25.2020030900.f006.grib2\n"
     ]
    },
    {
     "data": {
      "application/vnd.jupyter.widget-view+json": {
       "model_id": "78616ad5207344d6a166e86519474e78",
       "version_major": 2,
       "version_minor": 0
      },
      "text/plain": [
       "Dropdown(description='data file', options=('/local/train/GFS/gfs.0p25.2020030900.f006.grib2',), value='/local/…"
      ]
     },
     "metadata": {},
     "output_type": "display_data"
    },
    {
     "name": "stderr",
     "output_type": "stream",
     "text": [
      "Ignoring index file '/local/train/GFS/gfs.0p25.2020030900.f006.grib2.923a8.idx' incompatible with GRIB file\n",
      "Ignoring index file '/local/train/GFS/gfs.0p25.2020030900.f006.grib2.923a8.idx' incompatible with GRIB file\n"
     ]
    },
    {
     "name": "stdout",
     "output_type": "stream",
     "text": [
      "Downloading 2020/20200309/gfs.0p25.2020030906.f006.grib2\n"
     ]
    },
    {
     "data": {
      "application/vnd.jupyter.widget-view+json": {
       "model_id": "329f9c0183c94dad99250d5f22d03afe",
       "version_major": 2,
       "version_minor": 0
      },
      "text/plain": [
       "Dropdown(description='data file', options=('/local/train/GFS/gfs.0p25.2020030906.f006.grib2',), value='/local/…"
      ]
     },
     "metadata": {},
     "output_type": "display_data"
    },
    {
     "name": "stderr",
     "output_type": "stream",
     "text": [
      "Ignoring index file '/local/train/GFS/gfs.0p25.2020030906.f006.grib2.923a8.idx' incompatible with GRIB file\n",
      "Ignoring index file '/local/train/GFS/gfs.0p25.2020030906.f006.grib2.923a8.idx' incompatible with GRIB file\n"
     ]
    },
    {
     "name": "stdout",
     "output_type": "stream",
     "text": [
      "Downloading 2020/20200309/gfs.0p25.2020030912.f006.grib2\n"
     ]
    },
    {
     "data": {
      "application/vnd.jupyter.widget-view+json": {
       "model_id": "2f8694c4edbe43d28c90ab33966c717d",
       "version_major": 2,
       "version_minor": 0
      },
      "text/plain": [
       "Dropdown(description='data file', options=('/local/train/GFS/gfs.0p25.2020030912.f006.grib2',), value='/local/…"
      ]
     },
     "metadata": {},
     "output_type": "display_data"
    },
    {
     "name": "stderr",
     "output_type": "stream",
     "text": [
      "Ignoring index file '/local/train/GFS/gfs.0p25.2020030912.f006.grib2.923a8.idx' incompatible with GRIB file\n",
      "Ignoring index file '/local/train/GFS/gfs.0p25.2020030912.f006.grib2.923a8.idx' incompatible with GRIB file\n"
     ]
    },
    {
     "name": "stdout",
     "output_type": "stream",
     "text": [
      "Downloading 2020/20200309/gfs.0p25.2020030918.f006.grib2\n"
     ]
    },
    {
     "data": {
      "application/vnd.jupyter.widget-view+json": {
       "model_id": "267948f05d0a4a228d6b24bd466589fd",
       "version_major": 2,
       "version_minor": 0
      },
      "text/plain": [
       "Dropdown(description='data file', options=('/local/train/GFS/gfs.0p25.2020030918.f006.grib2',), value='/local/…"
      ]
     },
     "metadata": {},
     "output_type": "display_data"
    },
    {
     "name": "stderr",
     "output_type": "stream",
     "text": [
      "Ignoring index file '/local/train/GFS/gfs.0p25.2020030918.f006.grib2.923a8.idx' incompatible with GRIB file\n",
      "Ignoring index file '/local/train/GFS/gfs.0p25.2020030918.f006.grib2.923a8.idx' incompatible with GRIB file\n"
     ]
    },
    {
     "name": "stdout",
     "output_type": "stream",
     "text": [
      "Downloading 2020/20200310/gfs.0p25.2020031000.f006.grib2\n"
     ]
    },
    {
     "data": {
      "application/vnd.jupyter.widget-view+json": {
       "model_id": "b44e3da8ef09497a8b7316e77ce81cca",
       "version_major": 2,
       "version_minor": 0
      },
      "text/plain": [
       "Dropdown(description='data file', options=('/local/train/GFS/gfs.0p25.2020031000.f006.grib2',), value='/local/…"
      ]
     },
     "metadata": {},
     "output_type": "display_data"
    },
    {
     "name": "stderr",
     "output_type": "stream",
     "text": [
      "Ignoring index file '/local/train/GFS/gfs.0p25.2020031000.f006.grib2.923a8.idx' incompatible with GRIB file\n",
      "Ignoring index file '/local/train/GFS/gfs.0p25.2020031000.f006.grib2.923a8.idx' incompatible with GRIB file\n"
     ]
    },
    {
     "name": "stdout",
     "output_type": "stream",
     "text": [
      "Downloading 2020/20200310/gfs.0p25.2020031006.f006.grib2\n"
     ]
    },
    {
     "data": {
      "application/vnd.jupyter.widget-view+json": {
       "model_id": "3f49bac3d579473c9826dc4e506bd4c6",
       "version_major": 2,
       "version_minor": 0
      },
      "text/plain": [
       "Dropdown(description='data file', options=('/local/train/GFS/gfs.0p25.2020031006.f006.grib2',), value='/local/…"
      ]
     },
     "metadata": {},
     "output_type": "display_data"
    },
    {
     "name": "stderr",
     "output_type": "stream",
     "text": [
      "Ignoring index file '/local/train/GFS/gfs.0p25.2020031006.f006.grib2.923a8.idx' incompatible with GRIB file\n",
      "Ignoring index file '/local/train/GFS/gfs.0p25.2020031006.f006.grib2.923a8.idx' incompatible with GRIB file\n"
     ]
    },
    {
     "name": "stdout",
     "output_type": "stream",
     "text": [
      "Downloading 2020/20200310/gfs.0p25.2020031012.f006.grib2\n"
     ]
    },
    {
     "data": {
      "application/vnd.jupyter.widget-view+json": {
       "model_id": "3863cf1c95e74f01a63debdcfdb888e3",
       "version_major": 2,
       "version_minor": 0
      },
      "text/plain": [
       "Dropdown(description='data file', options=('/local/train/GFS/gfs.0p25.2020031012.f006.grib2',), value='/local/…"
      ]
     },
     "metadata": {},
     "output_type": "display_data"
    },
    {
     "name": "stderr",
     "output_type": "stream",
     "text": [
      "Ignoring index file '/local/train/GFS/gfs.0p25.2020031012.f006.grib2.923a8.idx' incompatible with GRIB file\n",
      "Ignoring index file '/local/train/GFS/gfs.0p25.2020031012.f006.grib2.923a8.idx' incompatible with GRIB file\n"
     ]
    },
    {
     "name": "stdout",
     "output_type": "stream",
     "text": [
      "Downloading 2020/20200310/gfs.0p25.2020031018.f006.grib2\n"
     ]
    },
    {
     "data": {
      "application/vnd.jupyter.widget-view+json": {
       "model_id": "4cddcd339e774834be6cc3ce96708d40",
       "version_major": 2,
       "version_minor": 0
      },
      "text/plain": [
       "Dropdown(description='data file', options=('/local/train/GFS/gfs.0p25.2020031018.f006.grib2',), value='/local/…"
      ]
     },
     "metadata": {},
     "output_type": "display_data"
    },
    {
     "name": "stderr",
     "output_type": "stream",
     "text": [
      "Ignoring index file '/local/train/GFS/gfs.0p25.2020031018.f006.grib2.923a8.idx' incompatible with GRIB file\n",
      "Ignoring index file '/local/train/GFS/gfs.0p25.2020031018.f006.grib2.923a8.idx' incompatible with GRIB file\n"
     ]
    },
    {
     "name": "stdout",
     "output_type": "stream",
     "text": [
      "Downloading 2020/20200311/gfs.0p25.2020031100.f006.grib2\n"
     ]
    },
    {
     "data": {
      "application/vnd.jupyter.widget-view+json": {
       "model_id": "c674c15faf2143c99e3b18948238ef8b",
       "version_major": 2,
       "version_minor": 0
      },
      "text/plain": [
       "Dropdown(description='data file', options=('/local/train/GFS/gfs.0p25.2020031100.f006.grib2',), value='/local/…"
      ]
     },
     "metadata": {},
     "output_type": "display_data"
    },
    {
     "name": "stderr",
     "output_type": "stream",
     "text": [
      "Ignoring index file '/local/train/GFS/gfs.0p25.2020031100.f006.grib2.923a8.idx' incompatible with GRIB file\n",
      "Ignoring index file '/local/train/GFS/gfs.0p25.2020031100.f006.grib2.923a8.idx' incompatible with GRIB file\n"
     ]
    },
    {
     "name": "stdout",
     "output_type": "stream",
     "text": [
      "Downloading 2020/20200311/gfs.0p25.2020031106.f006.grib2\n"
     ]
    },
    {
     "data": {
      "application/vnd.jupyter.widget-view+json": {
       "model_id": "1130357b216e4dd5a612a4efa8230bf0",
       "version_major": 2,
       "version_minor": 0
      },
      "text/plain": [
       "Dropdown(description='data file', options=('/local/train/GFS/gfs.0p25.2020031106.f006.grib2',), value='/local/…"
      ]
     },
     "metadata": {},
     "output_type": "display_data"
    },
    {
     "name": "stderr",
     "output_type": "stream",
     "text": [
      "Ignoring index file '/local/train/GFS/gfs.0p25.2020031106.f006.grib2.923a8.idx' incompatible with GRIB file\n",
      "Ignoring index file '/local/train/GFS/gfs.0p25.2020031106.f006.grib2.923a8.idx' incompatible with GRIB file\n"
     ]
    },
    {
     "name": "stdout",
     "output_type": "stream",
     "text": [
      "Downloading 2020/20200311/gfs.0p25.2020031112.f006.grib2\n"
     ]
    },
    {
     "data": {
      "application/vnd.jupyter.widget-view+json": {
       "model_id": "09c237802cc5484fa890c0911e190849",
       "version_major": 2,
       "version_minor": 0
      },
      "text/plain": [
       "Dropdown(description='data file', options=('/local/train/GFS/gfs.0p25.2020031112.f006.grib2',), value='/local/…"
      ]
     },
     "metadata": {},
     "output_type": "display_data"
    },
    {
     "name": "stderr",
     "output_type": "stream",
     "text": [
      "Ignoring index file '/local/train/GFS/gfs.0p25.2020031112.f006.grib2.923a8.idx' incompatible with GRIB file\n",
      "Ignoring index file '/local/train/GFS/gfs.0p25.2020031112.f006.grib2.923a8.idx' incompatible with GRIB file\n"
     ]
    },
    {
     "name": "stdout",
     "output_type": "stream",
     "text": [
      "Downloading 2020/20200311/gfs.0p25.2020031118.f006.grib2\n"
     ]
    },
    {
     "data": {
      "application/vnd.jupyter.widget-view+json": {
       "model_id": "fecd95177a4d489b90e82c2a3d73a67e",
       "version_major": 2,
       "version_minor": 0
      },
      "text/plain": [
       "Dropdown(description='data file', options=('/local/train/GFS/gfs.0p25.2020031118.f006.grib2',), value='/local/…"
      ]
     },
     "metadata": {},
     "output_type": "display_data"
    },
    {
     "name": "stderr",
     "output_type": "stream",
     "text": [
      "Ignoring index file '/local/train/GFS/gfs.0p25.2020031118.f006.grib2.923a8.idx' incompatible with GRIB file\n",
      "Ignoring index file '/local/train/GFS/gfs.0p25.2020031118.f006.grib2.923a8.idx' incompatible with GRIB file\n"
     ]
    },
    {
     "name": "stdout",
     "output_type": "stream",
     "text": [
      "Downloading 2020/20200312/gfs.0p25.2020031200.f006.grib2\n"
     ]
    },
    {
     "data": {
      "application/vnd.jupyter.widget-view+json": {
       "model_id": "9ab73ba61e7845f5b24e0b8e4e6ea02b",
       "version_major": 2,
       "version_minor": 0
      },
      "text/plain": [
       "Dropdown(description='data file', options=('/local/train/GFS/gfs.0p25.2020031200.f006.grib2',), value='/local/…"
      ]
     },
     "metadata": {},
     "output_type": "display_data"
    },
    {
     "name": "stderr",
     "output_type": "stream",
     "text": [
      "Ignoring index file '/local/train/GFS/gfs.0p25.2020031200.f006.grib2.923a8.idx' incompatible with GRIB file\n",
      "Ignoring index file '/local/train/GFS/gfs.0p25.2020031200.f006.grib2.923a8.idx' incompatible with GRIB file\n"
     ]
    },
    {
     "name": "stdout",
     "output_type": "stream",
     "text": [
      "Downloading 2020/20200312/gfs.0p25.2020031206.f006.grib2\n"
     ]
    },
    {
     "data": {
      "application/vnd.jupyter.widget-view+json": {
       "model_id": "04b5a2cc1b4c4ece8f39a29da1e352e8",
       "version_major": 2,
       "version_minor": 0
      },
      "text/plain": [
       "Dropdown(description='data file', options=('/local/train/GFS/gfs.0p25.2020031206.f006.grib2',), value='/local/…"
      ]
     },
     "metadata": {},
     "output_type": "display_data"
    },
    {
     "name": "stderr",
     "output_type": "stream",
     "text": [
      "Ignoring index file '/local/train/GFS/gfs.0p25.2020031206.f006.grib2.923a8.idx' incompatible with GRIB file\n",
      "Ignoring index file '/local/train/GFS/gfs.0p25.2020031206.f006.grib2.923a8.idx' incompatible with GRIB file\n"
     ]
    },
    {
     "name": "stdout",
     "output_type": "stream",
     "text": [
      "Downloading 2020/20200312/gfs.0p25.2020031212.f006.grib2\n"
     ]
    },
    {
     "data": {
      "application/vnd.jupyter.widget-view+json": {
       "model_id": "89e622a93a9c479190fbbf67abf4a820",
       "version_major": 2,
       "version_minor": 0
      },
      "text/plain": [
       "Dropdown(description='data file', options=('/local/train/GFS/gfs.0p25.2020031212.f006.grib2',), value='/local/…"
      ]
     },
     "metadata": {},
     "output_type": "display_data"
    },
    {
     "name": "stderr",
     "output_type": "stream",
     "text": [
      "Ignoring index file '/local/train/GFS/gfs.0p25.2020031212.f006.grib2.923a8.idx' incompatible with GRIB file\n",
      "Ignoring index file '/local/train/GFS/gfs.0p25.2020031212.f006.grib2.923a8.idx' incompatible with GRIB file\n"
     ]
    },
    {
     "name": "stdout",
     "output_type": "stream",
     "text": [
      "Downloading 2020/20200312/gfs.0p25.2020031218.f006.grib2\n"
     ]
    },
    {
     "data": {
      "application/vnd.jupyter.widget-view+json": {
       "model_id": "1eca249a429948ee86f904192f4f5ade",
       "version_major": 2,
       "version_minor": 0
      },
      "text/plain": [
       "Dropdown(description='data file', options=('/local/train/GFS/gfs.0p25.2020031218.f006.grib2',), value='/local/…"
      ]
     },
     "metadata": {},
     "output_type": "display_data"
    },
    {
     "name": "stderr",
     "output_type": "stream",
     "text": [
      "Ignoring index file '/local/train/GFS/gfs.0p25.2020031218.f006.grib2.923a8.idx' incompatible with GRIB file\n",
      "Ignoring index file '/local/train/GFS/gfs.0p25.2020031218.f006.grib2.923a8.idx' incompatible with GRIB file\n"
     ]
    },
    {
     "name": "stdout",
     "output_type": "stream",
     "text": [
      "Downloading 2020/20200313/gfs.0p25.2020031300.f006.grib2\n"
     ]
    },
    {
     "data": {
      "application/vnd.jupyter.widget-view+json": {
       "model_id": "dc2b486249e64fd4a95d54e38287814a",
       "version_major": 2,
       "version_minor": 0
      },
      "text/plain": [
       "Dropdown(description='data file', options=('/local/train/GFS/gfs.0p25.2020031300.f006.grib2',), value='/local/…"
      ]
     },
     "metadata": {},
     "output_type": "display_data"
    },
    {
     "name": "stderr",
     "output_type": "stream",
     "text": [
      "Ignoring index file '/local/train/GFS/gfs.0p25.2020031300.f006.grib2.923a8.idx' incompatible with GRIB file\n",
      "Ignoring index file '/local/train/GFS/gfs.0p25.2020031300.f006.grib2.923a8.idx' incompatible with GRIB file\n"
     ]
    },
    {
     "name": "stdout",
     "output_type": "stream",
     "text": [
      "Downloading 2020/20200313/gfs.0p25.2020031306.f006.grib2\n"
     ]
    },
    {
     "data": {
      "application/vnd.jupyter.widget-view+json": {
       "model_id": "6304f405f8a2459480a6f52124920b3c",
       "version_major": 2,
       "version_minor": 0
      },
      "text/plain": [
       "Dropdown(description='data file', options=('/local/train/GFS/gfs.0p25.2020031306.f006.grib2',), value='/local/…"
      ]
     },
     "metadata": {},
     "output_type": "display_data"
    },
    {
     "name": "stderr",
     "output_type": "stream",
     "text": [
      "Ignoring index file '/local/train/GFS/gfs.0p25.2020031306.f006.grib2.923a8.idx' incompatible with GRIB file\n",
      "Ignoring index file '/local/train/GFS/gfs.0p25.2020031306.f006.grib2.923a8.idx' incompatible with GRIB file\n"
     ]
    },
    {
     "name": "stdout",
     "output_type": "stream",
     "text": [
      "Downloading 2020/20200313/gfs.0p25.2020031312.f006.grib2\n"
     ]
    },
    {
     "data": {
      "application/vnd.jupyter.widget-view+json": {
       "model_id": "e4bc84f5811a490aa3baa0ce315b6812",
       "version_major": 2,
       "version_minor": 0
      },
      "text/plain": [
       "Dropdown(description='data file', options=('/local/train/GFS/gfs.0p25.2020031312.f006.grib2',), value='/local/…"
      ]
     },
     "metadata": {},
     "output_type": "display_data"
    },
    {
     "name": "stderr",
     "output_type": "stream",
     "text": [
      "Ignoring index file '/local/train/GFS/gfs.0p25.2020031312.f006.grib2.923a8.idx' incompatible with GRIB file\n",
      "Ignoring index file '/local/train/GFS/gfs.0p25.2020031312.f006.grib2.923a8.idx' incompatible with GRIB file\n"
     ]
    },
    {
     "name": "stdout",
     "output_type": "stream",
     "text": [
      "Downloading 2020/20200313/gfs.0p25.2020031318.f006.grib2\n"
     ]
    },
    {
     "data": {
      "application/vnd.jupyter.widget-view+json": {
       "model_id": "1aa6cbd0d96a443995a0a2d59862f4d9",
       "version_major": 2,
       "version_minor": 0
      },
      "text/plain": [
       "Dropdown(description='data file', options=('/local/train/GFS/gfs.0p25.2020031318.f006.grib2',), value='/local/…"
      ]
     },
     "metadata": {},
     "output_type": "display_data"
    },
    {
     "name": "stderr",
     "output_type": "stream",
     "text": [
      "Ignoring index file '/local/train/GFS/gfs.0p25.2020031318.f006.grib2.923a8.idx' incompatible with GRIB file\n",
      "Ignoring index file '/local/train/GFS/gfs.0p25.2020031318.f006.grib2.923a8.idx' incompatible with GRIB file\n"
     ]
    },
    {
     "name": "stdout",
     "output_type": "stream",
     "text": [
      "Downloading 2020/20200314/gfs.0p25.2020031400.f006.grib2\n"
     ]
    },
    {
     "data": {
      "application/vnd.jupyter.widget-view+json": {
       "model_id": "4e7cb975089c4373a4de473d735badb1",
       "version_major": 2,
       "version_minor": 0
      },
      "text/plain": [
       "Dropdown(description='data file', options=('/local/train/GFS/gfs.0p25.2020031400.f006.grib2',), value='/local/…"
      ]
     },
     "metadata": {},
     "output_type": "display_data"
    },
    {
     "name": "stderr",
     "output_type": "stream",
     "text": [
      "Ignoring index file '/local/train/GFS/gfs.0p25.2020031400.f006.grib2.923a8.idx' incompatible with GRIB file\n",
      "Ignoring index file '/local/train/GFS/gfs.0p25.2020031400.f006.grib2.923a8.idx' incompatible with GRIB file\n"
     ]
    },
    {
     "name": "stdout",
     "output_type": "stream",
     "text": [
      "Downloading 2020/20200314/gfs.0p25.2020031406.f006.grib2\n"
     ]
    },
    {
     "data": {
      "application/vnd.jupyter.widget-view+json": {
       "model_id": "c47500d2b71a40119b7aa2288863cf90",
       "version_major": 2,
       "version_minor": 0
      },
      "text/plain": [
       "Dropdown(description='data file', options=('/local/train/GFS/gfs.0p25.2020031406.f006.grib2',), value='/local/…"
      ]
     },
     "metadata": {},
     "output_type": "display_data"
    },
    {
     "name": "stderr",
     "output_type": "stream",
     "text": [
      "Ignoring index file '/local/train/GFS/gfs.0p25.2020031406.f006.grib2.923a8.idx' incompatible with GRIB file\n",
      "Ignoring index file '/local/train/GFS/gfs.0p25.2020031406.f006.grib2.923a8.idx' incompatible with GRIB file\n"
     ]
    },
    {
     "name": "stdout",
     "output_type": "stream",
     "text": [
      "Downloading 2020/20200314/gfs.0p25.2020031412.f006.grib2\n"
     ]
    },
    {
     "data": {
      "application/vnd.jupyter.widget-view+json": {
       "model_id": "cac3982c6b2042a8a5d092b4448763e2",
       "version_major": 2,
       "version_minor": 0
      },
      "text/plain": [
       "Dropdown(description='data file', options=('/local/train/GFS/gfs.0p25.2020031412.f006.grib2',), value='/local/…"
      ]
     },
     "metadata": {},
     "output_type": "display_data"
    },
    {
     "name": "stderr",
     "output_type": "stream",
     "text": [
      "Ignoring index file '/local/train/GFS/gfs.0p25.2020031412.f006.grib2.923a8.idx' incompatible with GRIB file\n",
      "Ignoring index file '/local/train/GFS/gfs.0p25.2020031412.f006.grib2.923a8.idx' incompatible with GRIB file\n"
     ]
    },
    {
     "name": "stdout",
     "output_type": "stream",
     "text": [
      "Downloading 2020/20200314/gfs.0p25.2020031418.f006.grib2\n"
     ]
    },
    {
     "data": {
      "application/vnd.jupyter.widget-view+json": {
       "model_id": "dd71124786094bf5917c446e0a79b00e",
       "version_major": 2,
       "version_minor": 0
      },
      "text/plain": [
       "Dropdown(description='data file', options=('/local/train/GFS/gfs.0p25.2020031418.f006.grib2',), value='/local/…"
      ]
     },
     "metadata": {},
     "output_type": "display_data"
    },
    {
     "name": "stderr",
     "output_type": "stream",
     "text": [
      "Ignoring index file '/local/train/GFS/gfs.0p25.2020031418.f006.grib2.923a8.idx' incompatible with GRIB file\n",
      "Ignoring index file '/local/train/GFS/gfs.0p25.2020031418.f006.grib2.923a8.idx' incompatible with GRIB file\n"
     ]
    },
    {
     "name": "stdout",
     "output_type": "stream",
     "text": [
      "Downloading 2020/20200315/gfs.0p25.2020031500.f006.grib2\n"
     ]
    },
    {
     "data": {
      "application/vnd.jupyter.widget-view+json": {
       "model_id": "68fe449b5aa64676b66998ac1ec6d56b",
       "version_major": 2,
       "version_minor": 0
      },
      "text/plain": [
       "Dropdown(description='data file', options=('/local/train/GFS/gfs.0p25.2020031500.f006.grib2',), value='/local/…"
      ]
     },
     "metadata": {},
     "output_type": "display_data"
    },
    {
     "name": "stderr",
     "output_type": "stream",
     "text": [
      "Ignoring index file '/local/train/GFS/gfs.0p25.2020031500.f006.grib2.923a8.idx' incompatible with GRIB file\n",
      "Ignoring index file '/local/train/GFS/gfs.0p25.2020031500.f006.grib2.923a8.idx' incompatible with GRIB file\n"
     ]
    },
    {
     "name": "stdout",
     "output_type": "stream",
     "text": [
      "Downloading 2020/20200315/gfs.0p25.2020031506.f006.grib2\n"
     ]
    },
    {
     "data": {
      "application/vnd.jupyter.widget-view+json": {
       "model_id": "9c87877412084b1fb5c3de62e92519bb",
       "version_major": 2,
       "version_minor": 0
      },
      "text/plain": [
       "Dropdown(description='data file', options=('/local/train/GFS/gfs.0p25.2020031506.f006.grib2',), value='/local/…"
      ]
     },
     "metadata": {},
     "output_type": "display_data"
    },
    {
     "name": "stderr",
     "output_type": "stream",
     "text": [
      "Ignoring index file '/local/train/GFS/gfs.0p25.2020031506.f006.grib2.923a8.idx' incompatible with GRIB file\n",
      "Ignoring index file '/local/train/GFS/gfs.0p25.2020031506.f006.grib2.923a8.idx' incompatible with GRIB file\n"
     ]
    },
    {
     "name": "stdout",
     "output_type": "stream",
     "text": [
      "Downloading 2020/20200315/gfs.0p25.2020031512.f006.grib2\n"
     ]
    },
    {
     "data": {
      "application/vnd.jupyter.widget-view+json": {
       "model_id": "4170d334bb904579b21f17bbd030b6a6",
       "version_major": 2,
       "version_minor": 0
      },
      "text/plain": [
       "Dropdown(description='data file', options=('/local/train/GFS/gfs.0p25.2020031512.f006.grib2',), value='/local/…"
      ]
     },
     "metadata": {},
     "output_type": "display_data"
    },
    {
     "name": "stderr",
     "output_type": "stream",
     "text": [
      "Ignoring index file '/local/train/GFS/gfs.0p25.2020031512.f006.grib2.923a8.idx' incompatible with GRIB file\n",
      "Ignoring index file '/local/train/GFS/gfs.0p25.2020031512.f006.grib2.923a8.idx' incompatible with GRIB file\n"
     ]
    },
    {
     "name": "stdout",
     "output_type": "stream",
     "text": [
      "Downloading 2020/20200315/gfs.0p25.2020031518.f006.grib2\n"
     ]
    },
    {
     "data": {
      "application/vnd.jupyter.widget-view+json": {
       "model_id": "66b99b2fccbc4096b9a628b25954a842",
       "version_major": 2,
       "version_minor": 0
      },
      "text/plain": [
       "Dropdown(description='data file', options=('/local/train/GFS/gfs.0p25.2020031518.f006.grib2',), value='/local/…"
      ]
     },
     "metadata": {},
     "output_type": "display_data"
    },
    {
     "name": "stderr",
     "output_type": "stream",
     "text": [
      "Ignoring index file '/local/train/GFS/gfs.0p25.2020031518.f006.grib2.923a8.idx' incompatible with GRIB file\n",
      "Ignoring index file '/local/train/GFS/gfs.0p25.2020031518.f006.grib2.923a8.idx' incompatible with GRIB file\n"
     ]
    },
    {
     "name": "stdout",
     "output_type": "stream",
     "text": [
      "Downloading 2020/20200316/gfs.0p25.2020031600.f006.grib2\n"
     ]
    },
    {
     "data": {
      "application/vnd.jupyter.widget-view+json": {
       "model_id": "87b2c0a6921e406b9180619560d4bd72",
       "version_major": 2,
       "version_minor": 0
      },
      "text/plain": [
       "Dropdown(description='data file', options=('/local/train/GFS/gfs.0p25.2020031600.f006.grib2',), value='/local/…"
      ]
     },
     "metadata": {},
     "output_type": "display_data"
    },
    {
     "name": "stderr",
     "output_type": "stream",
     "text": [
      "Ignoring index file '/local/train/GFS/gfs.0p25.2020031600.f006.grib2.923a8.idx' incompatible with GRIB file\n",
      "Ignoring index file '/local/train/GFS/gfs.0p25.2020031600.f006.grib2.923a8.idx' incompatible with GRIB file\n"
     ]
    },
    {
     "name": "stdout",
     "output_type": "stream",
     "text": [
      "Downloading 2020/20200316/gfs.0p25.2020031606.f006.grib2\n"
     ]
    },
    {
     "data": {
      "application/vnd.jupyter.widget-view+json": {
       "model_id": "f63c738fadf3496ca5fc768312e407e9",
       "version_major": 2,
       "version_minor": 0
      },
      "text/plain": [
       "Dropdown(description='data file', options=('/local/train/GFS/gfs.0p25.2020031606.f006.grib2',), value='/local/…"
      ]
     },
     "metadata": {},
     "output_type": "display_data"
    },
    {
     "name": "stderr",
     "output_type": "stream",
     "text": [
      "Ignoring index file '/local/train/GFS/gfs.0p25.2020031606.f006.grib2.923a8.idx' incompatible with GRIB file\n",
      "Ignoring index file '/local/train/GFS/gfs.0p25.2020031606.f006.grib2.923a8.idx' incompatible with GRIB file\n"
     ]
    }
   ],
   "source": [
    "%%time\n",
    "#Iterate through all file names. \n",
    "# for year in ['2018', '2019', '2020']: \n",
    "#     for month in ['01', '02', '03', '04', '05', '06', '07', '08', '09', '10', '11', '12']: \n",
    "#         for day in ['01', '02', '03', '04', '05', '06', '07', '08', '09', '10', '11', '12', '13', '14', '15', '16', '17', '18', '19', '20', '21', '22', '23', '24', '25', '26', '27', '28', '29', '30', '31']: \n",
    "#             for time in ['00', '06', '12', '18']: \n",
    "\n",
    "\n",
    "years = ['2020']\n",
    "months = ['01', '02', '03', '04', '05', '06', '07', '08', '09', '10', '11', '12']\n",
    "days = ['01', '02', '03', '04', '05', '06', '07', '08', '09', '10', '11', '12', '13', '14', '15', '16', '17', '18', '19', '20', '21', '22', '23', '24', '25', '26', '27', '28', '29', '30', '31']\n",
    "times = ['00', '06', '12', '18']\n",
    "\n",
    "run_gfs_pipeline(years, months, days, times)"
   ]
  },
  {
   "cell_type": "code",
   "execution_count": null,
   "id": "e78d9233-9e8f-416e-b228-65fbebcaca41",
   "metadata": {},
   "outputs": [],
   "source": [
    "# %%time\n",
    "# #Now try to parellize the for loops \n",
    "# years = ['2018']\n",
    "# months = ['02']\n",
    "# days = ['01']\n",
    "# times = ['00', '06', '12', '18']\n",
    "\n",
    "# args = (years, months, days, times)\n",
    "\n",
    "# def pool_handler(): \n",
    "#     p = Pool(4)\n",
    "#     p.map(run_gfs_pipeline, args)\n",
    "    \n",
    "# if __name__ == '__main__':\n",
    "#     pool_handler()\n"
   ]
  },
  {
   "cell_type": "code",
   "execution_count": null,
   "id": "0944bb0e-36c3-4a62-8b5a-8f46b8500e87",
   "metadata": {},
   "outputs": [],
   "source": [
    "# %%time\n",
    "# #Multiprocessing\n",
    "# # #Now try to parellize the for loops \n",
    "# years = ['2018']\n",
    "# months = ['02']\n",
    "# days = ['01']\n",
    "# times = ['00', '06', '12', '18']\n",
    "\n",
    "# args = (years, months, days, times)\n",
    "\n",
    "# task = ProcessWithLogAndControls(target=run_gfs_pipeline, args=(args), name=\"GFS Pipeline\")\n",
    "# task.run()"
   ]
  },
  {
   "cell_type": "code",
   "execution_count": null,
   "id": "9738daaf-8dee-4995-971c-15c3500174fc",
   "metadata": {},
   "outputs": [],
   "source": []
  },
  {
   "cell_type": "markdown",
   "id": "d1acb5e8-4a9f-4adf-9d53-2f6bddde9d5f",
   "metadata": {},
   "source": [
    " #### Now to download the files"
   ]
  },
  {
   "cell_type": "code",
   "execution_count": null,
   "id": "4e266283-82c6-4b8d-865c-d13e3f5f3363",
   "metadata": {},
   "outputs": [],
   "source": [
    "#TODOs: \n",
    "# Do this for each region and concatenate the 3 dataframes into one dataframe. (Do we want to add column with region labeled?). \n",
    "# Create strings for each possible filename (i.e. 01 through 31 for 01 through 12 months for 2018 to 2020 years). \n",
    "# Use Srishti's S3 bucket and add a test csv file to the bucket (so we don't have to store locally). \n",
    "# Pull file download, df creation, df to csv save to s3 (forecast time) and file deletion into one loop function (based on dates above). Quick exit if error bc date doesn't exist (i.e. 31).\n",
    "# Make sure we can pass tuples or some combination for level and variable name into function so that we can quickly change variables included. \n",
    "# Add a timeit call to understand how long it takes to run end-to-end pipeline. "
   ]
  },
  {
   "cell_type": "code",
   "execution_count": 4,
   "id": "07ae6ff3-ae96-45ae-b915-679bc86e9df7",
   "metadata": {},
   "outputs": [
    {
     "data": {
      "text/html": [
       "<div>\n",
       "<style scoped>\n",
       "    .dataframe tbody tr th:only-of-type {\n",
       "        vertical-align: middle;\n",
       "    }\n",
       "\n",
       "    .dataframe tbody tr th {\n",
       "        vertical-align: top;\n",
       "    }\n",
       "\n",
       "    .dataframe thead th {\n",
       "        text-align: right;\n",
       "    }\n",
       "</style>\n",
       "<table border=\"1\" class=\"dataframe\">\n",
       "  <thead>\n",
       "    <tr style=\"text-align: right;\">\n",
       "      <th></th>\n",
       "      <th>date</th>\n",
       "    </tr>\n",
       "  </thead>\n",
       "  <tbody>\n",
       "  </tbody>\n",
       "</table>\n",
       "</div>"
      ],
      "text/plain": [
       "Empty DataFrame\n",
       "Columns: [date]\n",
       "Index: []"
      ]
     },
     "execution_count": 4,
     "metadata": {},
     "output_type": "execute_result"
    }
   ],
   "source": [
    "out_parquet =  'gfs.0p25.' + '2020' + '01' + '01' + '.f006.parquet'\n",
    "filepath = '../train/GFS/parquet/' + out_parquet\n",
    "test_df = pd.read_parquet(filepath, engine='pyarrow')\n",
    "test_df"
   ]
  },
  {
   "cell_type": "code",
   "execution_count": null,
   "id": "371e6827-d83e-4280-8772-8cb37abeafd7",
   "metadata": {},
   "outputs": [],
   "source": [
    "['t_surface12']"
   ]
  },
  {
   "cell_type": "code",
   "execution_count": 5,
   "id": "195353ab-2763-4a2f-bc97-390674b3df50",
   "metadata": {},
   "outputs": [],
   "source": [
    "with open(filepath, 'rb') as data:\n",
    "    s3.upload_fileobj(data, 'capstone-particulate-storage', out_parquet)"
   ]
  },
  {
   "cell_type": "code",
   "execution_count": null,
   "id": "df4a0cdd-0f87-44ae-9277-13a120da0ad7",
   "metadata": {},
   "outputs": [],
   "source": [
    "test_df.shape"
   ]
  },
  {
   "cell_type": "code",
   "execution_count": null,
   "id": "61b44850-5446-4643-ae18-c83fc1c1796f",
   "metadata": {},
   "outputs": [],
   "source": [
    "pd.set_option('display.max_rows', 100)\n",
    "test_df.to_csv('test.csv')"
   ]
  },
  {
   "cell_type": "code",
   "execution_count": null,
   "id": "c2cb4405-dbd3-47fc-b479-9a51f7718bb3",
   "metadata": {},
   "outputs": [],
   "source": [
    "my_array_data = io.BytesIO()\n",
    "pickle.dump(test_df, my_array_data)\n",
    "my_array_data.seek(0)\n",
    "s3.upload_fileobj(my_array_data, 'particulate-articulate-capstone','gfs_test.pkl')"
   ]
  },
  {
   "cell_type": "code",
   "execution_count": null,
   "id": "f638bf8c-2199-4e02-87ec-7ccc4a438ef9",
   "metadata": {},
   "outputs": [],
   "source": [
    "#Try to download \n",
    "s3 = boto3.client('s3', config=Config(signature_version=UNSIGNED))\n",
    "s3.download_file('particulate-articulate-capstone', 'trial1maiac.pkl', 'trial1maiac.pkl')"
   ]
  },
  {
   "cell_type": "code",
   "execution_count": null,
   "id": "449bcd82-0f17-474c-8d98-645490fb3a48",
   "metadata": {},
   "outputs": [],
   "source": [
    "!pwd"
   ]
  },
  {
   "cell_type": "code",
   "execution_count": null,
   "id": "d0c2d9c6-e9b4-436b-8025-a2c4bd343221",
   "metadata": {},
   "outputs": [],
   "source": [
    "test_df = pd.read_pickle('../train/train/gfs.0p25.20180201.f006.parquet')\n",
    "test_df"
   ]
  },
  {
   "cell_type": "code",
   "execution_count": null,
   "id": "31f1b487-e8b1-4692-9d75-b61ad6165b0a",
   "metadata": {},
   "outputs": [],
   "source": []
  }
 ],
 "metadata": {
  "kernelspec": {
   "display_name": "Python 3 (ipykernel)",
   "language": "python",
   "name": "python3"
  },
  "language_info": {
   "codemirror_mode": {
    "name": "ipython",
    "version": 3
   },
   "file_extension": ".py",
   "mimetype": "text/x-python",
   "name": "python",
   "nbconvert_exporter": "python",
   "pygments_lexer": "ipython3",
   "version": "3.9.10"
  }
 },
 "nbformat": 4,
 "nbformat_minor": 5
}
