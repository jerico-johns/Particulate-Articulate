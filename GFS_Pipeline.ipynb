{
 "cells": [
  {
   "cell_type": "markdown",
   "id": "f55c3d7f-0caf-4b4d-93ac-7a33609a3c78",
   "metadata": {},
   "source": [
    "# Ingest NCEP GFS 0.25 Degree Data for 6 hour forecasts. "
   ]
  },
  {
   "cell_type": "markdown",
   "id": "4a13cbc7-04cb-48bf-9f35-b9670e4446c3",
   "metadata": {},
   "source": [
    "#### 1.) Conda package installations to environment and importing appropriate libraries. "
   ]
  },
  {
   "cell_type": "code",
   "execution_count": null,
   "id": "faa2bc19",
   "metadata": {},
   "outputs": [],
   "source": [
    "# conda install -c conda-forge gdal\n",
    "# conda install -c conda-forge geopandas\n",
    "# conda install -c conda-forge earthpy\n",
    "# conda install -c conda-forge cloudpathlib\n",
    "# conda install -c conda-forge pyhdf\n",
    "# conda install -c anaconda basemap\n",
    "\n",
    "#conda install -c conda-forge ipywidgets\n",
    "#conda install -c conda-forge cartopy\n",
    "\n",
    "## For IO dependencies in xarray \n",
    "#conda install -c conda-forge xarray dask netCDF4 bottleneck\n",
    "#conda install -c conda-forge cfgrib\n",
    "#conda install -c conda-forge pygrib\n",
    "#conda install -c yt87 pywgrib2_xr\n",
    "\n",
    "## For writing / reading parquet files \n",
    "#conda install -c conda-forge pyarrow\n",
    "\n",
    "#For s3 \n",
    "#conda install -c conda-forge boto3\n",
    "\n",
    "#For timing \n",
    "#conda install -c conda-forge profilehooks"
   ]
  },
  {
   "cell_type": "code",
   "execution_count": 1,
   "id": "52e56688-186f-4277-b544-9f03b27ceb91",
   "metadata": {},
   "outputs": [
    {
     "name": "stdout",
     "output_type": "stream",
     "text": [
      "Python 3.9.10\n"
     ]
    }
   ],
   "source": [
    "!python --version"
   ]
  },
  {
   "cell_type": "code",
   "execution_count": 1,
   "id": "4d3b12cb",
   "metadata": {},
   "outputs": [
    {
     "name": "stderr",
     "output_type": "stream",
     "text": [
      "<frozen importlib._bootstrap>:228: RuntimeWarning: scipy._lib.messagestream.MessageStream size changed, may indicate binary incompatibility. Expected 56 from C header, got 64 from PyObject\n"
     ]
    }
   ],
   "source": [
    "#Import Packages. \n",
    "import sys\n",
    "import os\n",
    "import requests\n",
    "import warnings\n",
    "import glob\n",
    "import time\n",
    "import re\n",
    "from functools import reduce\n",
    "\n",
    "import matplotlib.pyplot as plt\n",
    "import seaborn as sns\n",
    "import numpy.ma as ma\n",
    "import numpy as np\n",
    "#from shapely.geometry import mapping, box\n",
    "import geopandas as gpd\n",
    "import earthpy as et\n",
    "import earthpy.spatial as es\n",
    "import earthpy.plot as ep\n",
    "from osgeo import gdal\n",
    "import pandas as pd\n",
    "\n",
    "#GFS data\n",
    "import xarray # used for reading the data.\n",
    "import xarray_extras.csv # used for writing data to csv format. \n",
    "import pygrib\n",
    "import xarray # used for reading the data.\n",
    "import ipywidgets as widgets\n",
    "import matplotlib.pyplot as plt # used to plot the data.\n",
    "import ipywidgets as widgets # For ease in selecting variables.\n",
    "import cartopy.crs as ccrs # Used to georeference data.\n",
    "\n",
    "#For writing to s3\n",
    "import boto3\n",
    "from botocore import UNSIGNED\n",
    "from botocore.config import Config\n",
    "import io\n",
    "import pickle\n",
    "\n",
    "#For timing function\n",
    "from profilehooks import profile\n",
    "\n",
    "#For multiprocessing of function\n",
    "import multiprocessing\n",
    "from multiprocessing import Pool\n",
    "\n",
    "\n",
    "# #from cloudpathlib import S3Path, S3Client\n",
    "# from pyhdf.SD import SD, SDC\n",
    "\n",
    "warnings.simplefilter('ignore')"
   ]
  },
  {
   "cell_type": "code",
   "execution_count": 3,
   "id": "a3ad8770-f561-455b-b040-ad494e3e865f",
   "metadata": {},
   "outputs": [
    {
     "name": "stdout",
     "output_type": "stream",
     "text": [
      "Number of cpu :  4\n"
     ]
    }
   ],
   "source": [
    "#Get number of CPUs\n",
    "print(\"Number of cpu : \", multiprocessing.cpu_count())"
   ]
  },
  {
   "cell_type": "code",
   "execution_count": 2,
   "id": "4d4921a1-3e5c-4c0c-aded-61fd426b0646",
   "metadata": {},
   "outputs": [],
   "source": [
    "s3 = boto3.client('s3')"
   ]
  },
  {
   "cell_type": "markdown",
   "id": "14cfdfaa-0a14-4dd2-a9de-43a5f2034b28",
   "metadata": {},
   "source": [
    "#### Process grid_metadata.csv to get updated lat, lon bounds for a 5km x 5km labeled grid. Pull in grid ID for each. "
   ]
  },
  {
   "cell_type": "code",
   "execution_count": 3,
   "id": "df2f378b-a271-4c2d-9c33-d6261c66e17a",
   "metadata": {},
   "outputs": [
    {
     "data": {
      "text/html": [
       "<div>\n",
       "<style scoped>\n",
       "    .dataframe tbody tr th:only-of-type {\n",
       "        vertical-align: middle;\n",
       "    }\n",
       "\n",
       "    .dataframe tbody tr th {\n",
       "        vertical-align: top;\n",
       "    }\n",
       "\n",
       "    .dataframe thead th {\n",
       "        text-align: right;\n",
       "    }\n",
       "</style>\n",
       "<table border=\"1\" class=\"dataframe\">\n",
       "  <thead>\n",
       "    <tr style=\"text-align: right;\">\n",
       "      <th></th>\n",
       "      <th>grid_id</th>\n",
       "      <th>min_lat</th>\n",
       "      <th>max_lat</th>\n",
       "      <th>min_lon</th>\n",
       "      <th>max_lon</th>\n",
       "    </tr>\n",
       "  </thead>\n",
       "  <tbody>\n",
       "    <tr>\n",
       "      <th>0</th>\n",
       "      <td>1X116</td>\n",
       "      <td>24.827661</td>\n",
       "      <td>25.168369</td>\n",
       "      <td>301.330849</td>\n",
       "      <td>301.675764</td>\n",
       "    </tr>\n",
       "    <tr>\n",
       "      <th>1</th>\n",
       "      <td>1Z2W7</td>\n",
       "      <td>28.396645</td>\n",
       "      <td>28.736092</td>\n",
       "      <td>257.109616</td>\n",
       "      <td>257.454532</td>\n",
       "    </tr>\n",
       "    <tr>\n",
       "      <th>2</th>\n",
       "      <td>3S31A</td>\n",
       "      <td>33.645584</td>\n",
       "      <td>33.982902</td>\n",
       "      <td>61.916175</td>\n",
       "      <td>62.171259</td>\n",
       "    </tr>\n",
       "    <tr>\n",
       "      <th>3</th>\n",
       "      <td>6EIL6</td>\n",
       "      <td>28.396645</td>\n",
       "      <td>28.736092</td>\n",
       "      <td>256.885037</td>\n",
       "      <td>257.229953</td>\n",
       "    </tr>\n",
       "    <tr>\n",
       "      <th>4</th>\n",
       "      <td>7334C</td>\n",
       "      <td>28.396645</td>\n",
       "      <td>28.736092</td>\n",
       "      <td>256.929953</td>\n",
       "      <td>257.274869</td>\n",
       "    </tr>\n",
       "    <tr>\n",
       "      <th>5</th>\n",
       "      <td>78V83</td>\n",
       "      <td>28.396645</td>\n",
       "      <td>28.736092</td>\n",
       "      <td>256.750290</td>\n",
       "      <td>257.095206</td>\n",
       "    </tr>\n",
       "    <tr>\n",
       "      <th>6</th>\n",
       "      <td>7F1D1</td>\n",
       "      <td>28.436092</td>\n",
       "      <td>28.775526</td>\n",
       "      <td>256.929953</td>\n",
       "      <td>257.274869</td>\n",
       "    </tr>\n",
       "    <tr>\n",
       "      <th>7</th>\n",
       "      <td>8KNI6</td>\n",
       "      <td>28.317704</td>\n",
       "      <td>28.657182</td>\n",
       "      <td>257.109616</td>\n",
       "      <td>257.454532</td>\n",
       "    </tr>\n",
       "    <tr>\n",
       "      <th>8</th>\n",
       "      <td>90BZ1</td>\n",
       "      <td>24.868369</td>\n",
       "      <td>25.209064</td>\n",
       "      <td>301.375764</td>\n",
       "      <td>301.720680</td>\n",
       "    </tr>\n",
       "    <tr>\n",
       "      <th>9</th>\n",
       "      <td>90S79</td>\n",
       "      <td>28.475526</td>\n",
       "      <td>28.814944</td>\n",
       "      <td>257.019784</td>\n",
       "      <td>257.364700</td>\n",
       "    </tr>\n",
       "    <tr>\n",
       "      <th>10</th>\n",
       "      <td>9Q6TA</td>\n",
       "      <td>24.909064</td>\n",
       "      <td>25.249745</td>\n",
       "      <td>301.375764</td>\n",
       "      <td>301.720680</td>\n",
       "    </tr>\n",
       "    <tr>\n",
       "      <th>11</th>\n",
       "      <td>A2FBI</td>\n",
       "      <td>33.832011</td>\n",
       "      <td>34.169248</td>\n",
       "      <td>62.455164</td>\n",
       "      <td>62.710249</td>\n",
       "    </tr>\n",
       "    <tr>\n",
       "      <th>12</th>\n",
       "      <td>A7UCQ</td>\n",
       "      <td>28.436092</td>\n",
       "      <td>28.775526</td>\n",
       "      <td>257.064700</td>\n",
       "      <td>257.409616</td>\n",
       "    </tr>\n",
       "    <tr>\n",
       "      <th>13</th>\n",
       "      <td>AZJ0Z</td>\n",
       "      <td>28.554347</td>\n",
       "      <td>28.893736</td>\n",
       "      <td>257.064700</td>\n",
       "      <td>257.409616</td>\n",
       "    </tr>\n",
       "    <tr>\n",
       "      <th>14</th>\n",
       "      <td>C7PGV</td>\n",
       "      <td>28.357182</td>\n",
       "      <td>28.696645</td>\n",
       "      <td>257.019784</td>\n",
       "      <td>257.364700</td>\n",
       "    </tr>\n",
       "    <tr>\n",
       "      <th>15</th>\n",
       "      <td>CPR0W</td>\n",
       "      <td>28.514944</td>\n",
       "      <td>28.854347</td>\n",
       "      <td>257.109616</td>\n",
       "      <td>257.454532</td>\n",
       "    </tr>\n",
       "    <tr>\n",
       "      <th>16</th>\n",
       "      <td>D72OT</td>\n",
       "      <td>28.554347</td>\n",
       "      <td>28.893736</td>\n",
       "      <td>256.974869</td>\n",
       "      <td>257.319784</td>\n",
       "    </tr>\n",
       "    <tr>\n",
       "      <th>17</th>\n",
       "      <td>D7S1G</td>\n",
       "      <td>28.514944</td>\n",
       "      <td>28.854347</td>\n",
       "      <td>257.154532</td>\n",
       "      <td>257.499448</td>\n",
       "    </tr>\n",
       "    <tr>\n",
       "      <th>18</th>\n",
       "      <td>DHO4M</td>\n",
       "      <td>34.018031</td>\n",
       "      <td>34.355185</td>\n",
       "      <td>61.511933</td>\n",
       "      <td>61.767018</td>\n",
       "    </tr>\n",
       "    <tr>\n",
       "      <th>19</th>\n",
       "      <td>DJN0F</td>\n",
       "      <td>33.943672</td>\n",
       "      <td>34.280859</td>\n",
       "      <td>62.230586</td>\n",
       "      <td>62.485670</td>\n",
       "    </tr>\n",
       "    <tr>\n",
       "      <th>20</th>\n",
       "      <td>E2AUK</td>\n",
       "      <td>28.436092</td>\n",
       "      <td>28.775526</td>\n",
       "      <td>256.840121</td>\n",
       "      <td>257.185037</td>\n",
       "    </tr>\n",
       "    <tr>\n",
       "      <th>21</th>\n",
       "      <td>E5P9N</td>\n",
       "      <td>33.832011</td>\n",
       "      <td>34.169248</td>\n",
       "      <td>62.365333</td>\n",
       "      <td>62.620417</td>\n",
       "    </tr>\n",
       "    <tr>\n",
       "      <th>22</th>\n",
       "      <td>FRITQ</td>\n",
       "      <td>33.682902</td>\n",
       "      <td>34.020203</td>\n",
       "      <td>61.691596</td>\n",
       "      <td>61.946681</td>\n",
       "    </tr>\n",
       "    <tr>\n",
       "      <th>23</th>\n",
       "      <td>GAC6R</td>\n",
       "      <td>28.593736</td>\n",
       "      <td>28.933110</td>\n",
       "      <td>256.929953</td>\n",
       "      <td>257.274869</td>\n",
       "    </tr>\n",
       "    <tr>\n",
       "      <th>24</th>\n",
       "      <td>GJLB2</td>\n",
       "      <td>28.317704</td>\n",
       "      <td>28.657182</td>\n",
       "      <td>256.929953</td>\n",
       "      <td>257.274869</td>\n",
       "    </tr>\n",
       "    <tr>\n",
       "      <th>25</th>\n",
       "      <td>GVQXS</td>\n",
       "      <td>28.514944</td>\n",
       "      <td>28.854347</td>\n",
       "      <td>257.019784</td>\n",
       "      <td>257.364700</td>\n",
       "    </tr>\n",
       "    <tr>\n",
       "      <th>26</th>\n",
       "      <td>H96P6</td>\n",
       "      <td>34.018031</td>\n",
       "      <td>34.355185</td>\n",
       "      <td>61.332270</td>\n",
       "      <td>61.587354</td>\n",
       "    </tr>\n",
       "    <tr>\n",
       "      <th>27</th>\n",
       "      <td>HANW9</td>\n",
       "      <td>28.396645</td>\n",
       "      <td>28.736092</td>\n",
       "      <td>257.019784</td>\n",
       "      <td>257.364700</td>\n",
       "    </tr>\n",
       "    <tr>\n",
       "      <th>28</th>\n",
       "      <td>HM74A</td>\n",
       "      <td>28.514944</td>\n",
       "      <td>28.854347</td>\n",
       "      <td>256.929953</td>\n",
       "      <td>257.274869</td>\n",
       "    </tr>\n",
       "    <tr>\n",
       "      <th>29</th>\n",
       "      <td>IUMEZ</td>\n",
       "      <td>28.475526</td>\n",
       "      <td>28.814944</td>\n",
       "      <td>257.064700</td>\n",
       "      <td>257.409616</td>\n",
       "    </tr>\n",
       "    <tr>\n",
       "      <th>30</th>\n",
       "      <td>KW43U</td>\n",
       "      <td>24.868369</td>\n",
       "      <td>25.209064</td>\n",
       "      <td>301.420680</td>\n",
       "      <td>301.765596</td>\n",
       "    </tr>\n",
       "    <tr>\n",
       "      <th>31</th>\n",
       "      <td>KZ9W9</td>\n",
       "      <td>28.475526</td>\n",
       "      <td>28.814944</td>\n",
       "      <td>256.974869</td>\n",
       "      <td>257.319784</td>\n",
       "    </tr>\n",
       "    <tr>\n",
       "      <th>32</th>\n",
       "      <td>NE7BV</td>\n",
       "      <td>28.672469</td>\n",
       "      <td>29.011813</td>\n",
       "      <td>256.929953</td>\n",
       "      <td>257.274869</td>\n",
       "    </tr>\n",
       "    <tr>\n",
       "      <th>33</th>\n",
       "      <td>P8JA5</td>\n",
       "      <td>28.396645</td>\n",
       "      <td>28.736092</td>\n",
       "      <td>257.064700</td>\n",
       "      <td>257.409616</td>\n",
       "    </tr>\n",
       "    <tr>\n",
       "      <th>34</th>\n",
       "      <td>PG3MI</td>\n",
       "      <td>33.906468</td>\n",
       "      <td>34.243672</td>\n",
       "      <td>61.646681</td>\n",
       "      <td>61.901765</td>\n",
       "    </tr>\n",
       "    <tr>\n",
       "      <th>35</th>\n",
       "      <td>PJNW1</td>\n",
       "      <td>28.554347</td>\n",
       "      <td>28.893736</td>\n",
       "      <td>257.019784</td>\n",
       "      <td>257.364700</td>\n",
       "    </tr>\n",
       "    <tr>\n",
       "      <th>36</th>\n",
       "      <td>PW0JT</td>\n",
       "      <td>28.514944</td>\n",
       "      <td>28.854347</td>\n",
       "      <td>256.750290</td>\n",
       "      <td>257.095206</td>\n",
       "    </tr>\n",
       "    <tr>\n",
       "      <th>37</th>\n",
       "      <td>QJHW4</td>\n",
       "      <td>34.203641</td>\n",
       "      <td>34.540714</td>\n",
       "      <td>61.332270</td>\n",
       "      <td>61.587354</td>\n",
       "    </tr>\n",
       "    <tr>\n",
       "      <th>38</th>\n",
       "      <td>S77YN</td>\n",
       "      <td>28.554347</td>\n",
       "      <td>28.893736</td>\n",
       "      <td>256.885037</td>\n",
       "      <td>257.229953</td>\n",
       "    </tr>\n",
       "    <tr>\n",
       "      <th>39</th>\n",
       "      <td>SZLMT</td>\n",
       "      <td>28.514944</td>\n",
       "      <td>28.854347</td>\n",
       "      <td>256.974869</td>\n",
       "      <td>257.319784</td>\n",
       "    </tr>\n",
       "    <tr>\n",
       "      <th>40</th>\n",
       "      <td>UC74Z</td>\n",
       "      <td>28.357182</td>\n",
       "      <td>28.696645</td>\n",
       "      <td>257.109616</td>\n",
       "      <td>257.454532</td>\n",
       "    </tr>\n",
       "    <tr>\n",
       "      <th>41</th>\n",
       "      <td>VBLD0</td>\n",
       "      <td>33.720203</td>\n",
       "      <td>34.057489</td>\n",
       "      <td>61.646681</td>\n",
       "      <td>61.901765</td>\n",
       "    </tr>\n",
       "    <tr>\n",
       "      <th>42</th>\n",
       "      <td>VR4WG</td>\n",
       "      <td>24.909064</td>\n",
       "      <td>25.249745</td>\n",
       "      <td>301.330849</td>\n",
       "      <td>301.675764</td>\n",
       "    </tr>\n",
       "    <tr>\n",
       "      <th>43</th>\n",
       "      <td>VXNN3</td>\n",
       "      <td>28.633110</td>\n",
       "      <td>28.972469</td>\n",
       "      <td>256.974869</td>\n",
       "      <td>257.319784</td>\n",
       "    </tr>\n",
       "    <tr>\n",
       "      <th>44</th>\n",
       "      <td>VYH7U</td>\n",
       "      <td>28.593736</td>\n",
       "      <td>28.933110</td>\n",
       "      <td>256.885037</td>\n",
       "      <td>257.229953</td>\n",
       "    </tr>\n",
       "    <tr>\n",
       "      <th>45</th>\n",
       "      <td>WT52R</td>\n",
       "      <td>33.757489</td>\n",
       "      <td>34.094758</td>\n",
       "      <td>62.994154</td>\n",
       "      <td>63.249238</td>\n",
       "    </tr>\n",
       "    <tr>\n",
       "      <th>46</th>\n",
       "      <td>WZNCR</td>\n",
       "      <td>28.396645</td>\n",
       "      <td>28.736092</td>\n",
       "      <td>256.974869</td>\n",
       "      <td>257.319784</td>\n",
       "    </tr>\n",
       "    <tr>\n",
       "      <th>47</th>\n",
       "      <td>X5DKW</td>\n",
       "      <td>33.869248</td>\n",
       "      <td>34.206468</td>\n",
       "      <td>62.275501</td>\n",
       "      <td>62.530586</td>\n",
       "    </tr>\n",
       "    <tr>\n",
       "      <th>48</th>\n",
       "      <td>XJF9O</td>\n",
       "      <td>24.868369</td>\n",
       "      <td>25.209064</td>\n",
       "      <td>301.330849</td>\n",
       "      <td>301.675764</td>\n",
       "    </tr>\n",
       "    <tr>\n",
       "      <th>49</th>\n",
       "      <td>XNLVD</td>\n",
       "      <td>24.949745</td>\n",
       "      <td>25.290413</td>\n",
       "      <td>301.330849</td>\n",
       "      <td>301.675764</td>\n",
       "    </tr>\n",
       "    <tr>\n",
       "      <th>50</th>\n",
       "      <td>YHOPV</td>\n",
       "      <td>28.475526</td>\n",
       "      <td>28.814944</td>\n",
       "      <td>257.109616</td>\n",
       "      <td>257.454532</td>\n",
       "    </tr>\n",
       "    <tr>\n",
       "      <th>51</th>\n",
       "      <td>ZF3ZW</td>\n",
       "      <td>28.514944</td>\n",
       "      <td>28.854347</td>\n",
       "      <td>256.885037</td>\n",
       "      <td>257.229953</td>\n",
       "    </tr>\n",
       "    <tr>\n",
       "      <th>52</th>\n",
       "      <td>ZP1FZ</td>\n",
       "      <td>33.980859</td>\n",
       "      <td>34.318031</td>\n",
       "      <td>62.006007</td>\n",
       "      <td>62.261091</td>\n",
       "    </tr>\n",
       "    <tr>\n",
       "      <th>53</th>\n",
       "      <td>ZZ8JF</td>\n",
       "      <td>33.496149</td>\n",
       "      <td>33.833532</td>\n",
       "      <td>62.544996</td>\n",
       "      <td>62.800080</td>\n",
       "    </tr>\n",
       "  </tbody>\n",
       "</table>\n",
       "</div>"
      ],
      "text/plain": [
       "   grid_id    min_lat    max_lat     min_lon     max_lon\n",
       "0    1X116  24.827661  25.168369  301.330849  301.675764\n",
       "1    1Z2W7  28.396645  28.736092  257.109616  257.454532\n",
       "2    3S31A  33.645584  33.982902   61.916175   62.171259\n",
       "3    6EIL6  28.396645  28.736092  256.885037  257.229953\n",
       "4    7334C  28.396645  28.736092  256.929953  257.274869\n",
       "5    78V83  28.396645  28.736092  256.750290  257.095206\n",
       "6    7F1D1  28.436092  28.775526  256.929953  257.274869\n",
       "7    8KNI6  28.317704  28.657182  257.109616  257.454532\n",
       "8    90BZ1  24.868369  25.209064  301.375764  301.720680\n",
       "9    90S79  28.475526  28.814944  257.019784  257.364700\n",
       "10   9Q6TA  24.909064  25.249745  301.375764  301.720680\n",
       "11   A2FBI  33.832011  34.169248   62.455164   62.710249\n",
       "12   A7UCQ  28.436092  28.775526  257.064700  257.409616\n",
       "13   AZJ0Z  28.554347  28.893736  257.064700  257.409616\n",
       "14   C7PGV  28.357182  28.696645  257.019784  257.364700\n",
       "15   CPR0W  28.514944  28.854347  257.109616  257.454532\n",
       "16   D72OT  28.554347  28.893736  256.974869  257.319784\n",
       "17   D7S1G  28.514944  28.854347  257.154532  257.499448\n",
       "18   DHO4M  34.018031  34.355185   61.511933   61.767018\n",
       "19   DJN0F  33.943672  34.280859   62.230586   62.485670\n",
       "20   E2AUK  28.436092  28.775526  256.840121  257.185037\n",
       "21   E5P9N  33.832011  34.169248   62.365333   62.620417\n",
       "22   FRITQ  33.682902  34.020203   61.691596   61.946681\n",
       "23   GAC6R  28.593736  28.933110  256.929953  257.274869\n",
       "24   GJLB2  28.317704  28.657182  256.929953  257.274869\n",
       "25   GVQXS  28.514944  28.854347  257.019784  257.364700\n",
       "26   H96P6  34.018031  34.355185   61.332270   61.587354\n",
       "27   HANW9  28.396645  28.736092  257.019784  257.364700\n",
       "28   HM74A  28.514944  28.854347  256.929953  257.274869\n",
       "29   IUMEZ  28.475526  28.814944  257.064700  257.409616\n",
       "30   KW43U  24.868369  25.209064  301.420680  301.765596\n",
       "31   KZ9W9  28.475526  28.814944  256.974869  257.319784\n",
       "32   NE7BV  28.672469  29.011813  256.929953  257.274869\n",
       "33   P8JA5  28.396645  28.736092  257.064700  257.409616\n",
       "34   PG3MI  33.906468  34.243672   61.646681   61.901765\n",
       "35   PJNW1  28.554347  28.893736  257.019784  257.364700\n",
       "36   PW0JT  28.514944  28.854347  256.750290  257.095206\n",
       "37   QJHW4  34.203641  34.540714   61.332270   61.587354\n",
       "38   S77YN  28.554347  28.893736  256.885037  257.229953\n",
       "39   SZLMT  28.514944  28.854347  256.974869  257.319784\n",
       "40   UC74Z  28.357182  28.696645  257.109616  257.454532\n",
       "41   VBLD0  33.720203  34.057489   61.646681   61.901765\n",
       "42   VR4WG  24.909064  25.249745  301.330849  301.675764\n",
       "43   VXNN3  28.633110  28.972469  256.974869  257.319784\n",
       "44   VYH7U  28.593736  28.933110  256.885037  257.229953\n",
       "45   WT52R  33.757489  34.094758   62.994154   63.249238\n",
       "46   WZNCR  28.396645  28.736092  256.974869  257.319784\n",
       "47   X5DKW  33.869248  34.206468   62.275501   62.530586\n",
       "48   XJF9O  24.868369  25.209064  301.330849  301.675764\n",
       "49   XNLVD  24.949745  25.290413  301.330849  301.675764\n",
       "50   YHOPV  28.475526  28.814944  257.109616  257.454532\n",
       "51   ZF3ZW  28.514944  28.854347  256.885037  257.229953\n",
       "52   ZP1FZ  33.980859  34.318031   62.006007   62.261091\n",
       "53   ZZ8JF  33.496149  33.833532   62.544996   62.800080"
      ]
     },
     "execution_count": 3,
     "metadata": {},
     "output_type": "execute_result"
    }
   ],
   "source": [
    "df_grids = pd.read_csv('../capstone/grid_metadata.csv')\n",
    "\n",
    "final_grid_ids = []\n",
    "final_min_lats = []\n",
    "final_max_lats = []\n",
    "final_min_lons = []\n",
    "final_max_lons = []\n",
    "\n",
    "#Note order is lon, lat for each of the comma separated values\n",
    "for index, row in df_grids.iterrows(): \n",
    "    lons = []\n",
    "    lats = []\n",
    "    grid_id = row['grid_id']\n",
    "    nums = row['wkt'][10:-2]\n",
    "    nums = nums.replace(',','')\n",
    "    pairs = nums.split(' ')\n",
    "    for i in range(10): \n",
    "        if i % 2 == 0: \n",
    "            lons.append(pairs[i])\n",
    "        else: \n",
    "            lats.append(pairs[i])\n",
    "    \n",
    "    # Adding +/- 0.125 guarantees we get at least 1, 0.25 degree forecast in the appropriate area (given GFS scale is larger than Sat. scale). \n",
    "    min_lat = float(min(lats)) - 0.15\n",
    "    max_lat = float(max(lats)) + 0.15\n",
    "    # Match our 0 to 360 longitudes in GFS data, vs the -180 to +180 longitudes here. \n",
    "    min_lon = float(min(lons)) + 180.00 - 0.15\n",
    "    max_lon = float(max(lons)) + 180.00 + 0.15\n",
    "    \n",
    "    #Now append the appropriate scraped data to our lists to put into a dataframe. \n",
    "    final_grid_ids.append(grid_id)\n",
    "    final_min_lats.append(min_lat)\n",
    "    final_max_lats.append(max_lat)\n",
    "    final_min_lons.append(min_lon)\n",
    "    final_max_lons.append(max_lon) \n",
    "                        \n",
    "    \n",
    "    \n",
    "df_grids_clean = pd.DataFrame(columns = ['grid_id', 'min_lat', 'max_lat', 'min_lon', 'max_lon'])\n",
    "\n",
    "\n",
    "df_grids_clean['grid_id'] = final_grid_ids \n",
    "df_grids_clean['min_lat'] = final_min_lats\n",
    "df_grids_clean['max_lat'] = final_max_lats\n",
    "df_grids_clean['min_lon'] = final_min_lons\n",
    "df_grids_clean['max_lon'] = final_max_lons\n",
    "\n",
    "    \n",
    "df_grids_clean\n",
    "        "
   ]
  },
  {
   "cell_type": "code",
   "execution_count": 4,
   "id": "f195e556-2572-40b7-abe3-3320c9a21860",
   "metadata": {},
   "outputs": [],
   "source": [
    "#Define lat/lon bounds of our regions of interest. \n",
    "#Note: We must convert the original lon bounds of -180, 180 --> 0, 360 to match the GFS data format. \n",
    "\n",
    "#Los Angeles\n",
    "la_min_lat = 30.01\n",
    "la_max_lat = 40.00\n",
    "la_min_lon = 49.46\n",
    "la_max_lon = 76.06\n",
    "la_bounds = [la_min_lat, la_max_lat, la_min_lon, la_max_lon]\n",
    "\n",
    "#Tapei\n",
    "tp_min_lat = 20.01\n",
    "tp_max_lat = 30.00\n",
    "tp_min_lon = 297.07\n",
    "tp_max_lon = 318.55\n",
    "tp_bounds = [tp_min_lat, tp_max_lat, tp_min_lon, tp_max_lon]\n",
    "\n",
    "#Delhi\n",
    "dl_min_lat = 20.01\n",
    "dl_max_lat = 30.00\n",
    "dl_min_lon = 243.85\n",
    "dl_max_lon = 260.82\n",
    "dl_bounds = [dl_min_lat, dl_max_lat, dl_min_lon, dl_max_lon]"
   ]
  },
  {
   "cell_type": "code",
   "execution_count": 5,
   "id": "f4347c97-44da-4fe8-874e-4ac6f8a3d6cd",
   "metadata": {},
   "outputs": [],
   "source": [
    "#Filter by appropriate lat/lon bounds\n",
    "def subset_dataset(dataset, min_lat, max_lat, min_lon, max_lon): \n",
    "    '''Takes a dataset and bounding coordinates and returns a filtered subset for the region of interest'''\n",
    "    mask_lat = np.logical_and(dataset.coords['latitude'] >= min_lat, dataset.coords['latitude'] <= max_lat)\n",
    "    mask_lon = np.logical_and(dataset.coords['longitude'] >= min_lon, dataset.coords['longitude'] <= max_lon)\n",
    "    ds_filt = dataset.where(mask_lat & mask_lon, drop = True)\n",
    "    return ds_filt"
   ]
  },
  {
   "cell_type": "code",
   "execution_count": 6,
   "id": "8653bcc3-4530-4967-aad6-23884387ff73",
   "metadata": {},
   "outputs": [],
   "source": [
    "def dataset_to_df(dataset, level, var_name, grid_id, time): \n",
    "    '''Convert xarray Dataset to Dataframe, Drop Unecessary Columns, Add Grid ID, and Rename Columns'''\n",
    "    df = dataset.to_dataframe(name = var_name)\n",
    "    df = df.drop(columns = [level, 'time', 'step', 'valid_time'])\n",
    "    df.insert(0, 'grid_id', grid_id)\n",
    "    df = df.rename(columns = {\"t\" : \"t_surface\" + time, \"hpbl\" : \"pbl_surface\" + time, \"landn\" : \"landn_surface\" + time, \"hindex\" : \"hindex_surface\" + time, \"gust\" : \"gust_surface\" + time, \n",
    "                              \"r\" : \"r_atmosphere\" + time, \"pwat\": \"pwat_atmosphere\" + time, \n",
    "                              \"u\" : \"u_pbl\" + time, \"v\": \"v_pbl\" + time, \"VRATE\" : \"vrate_pbl\" + time})\n",
    "    return df"
   ]
  },
  {
   "cell_type": "markdown",
   "id": "7081fec6-d1fb-4338-81d7-158ed7a71256",
   "metadata": {},
   "source": [
    "#### 2.) Download data from NCAR servers. "
   ]
  },
  {
   "cell_type": "code",
   "execution_count": 7,
   "id": "510f2bb0-8abe-474c-b7a9-e84985ae2c12",
   "metadata": {},
   "outputs": [],
   "source": [
    " ## First, we need to authenticate\n",
    "try:\n",
    "    import getpass\n",
    "    input = getpass.getpass\n",
    "except:\n",
    "    try:\n",
    "        input = raw_input\n",
    "    except:\n",
    "        pass"
   ]
  },
  {
   "cell_type": "code",
   "execution_count": 8,
   "id": "655d56a8-e57c-4377-a915-e87c42e79cbb",
   "metadata": {},
   "outputs": [
    {
     "name": "stdin",
     "output_type": "stream",
     "text": [
      "password:  ···········\n"
     ]
    }
   ],
   "source": [
    "## Now, we need your password.\n",
    "pswd = input('password: ')"
   ]
  },
  {
   "cell_type": "code",
   "execution_count": 9,
   "id": "eb2d97c9-2936-4b01-ba49-b6a11f271fbb",
   "metadata": {},
   "outputs": [],
   "source": [
    "values = {'email' : 'jericojohns@berkeley.edu', 'passwd' : pswd, 'action' : 'login'}\n",
    "login_url = 'https://rda.ucar.edu/cgi-bin/login'"
   ]
  },
  {
   "cell_type": "code",
   "execution_count": 10,
   "id": "08b1ff73-c160-4e64-8d30-d2c70a47a842",
   "metadata": {},
   "outputs": [],
   "source": [
    "ret = requests.post(login_url, data=values)\n",
    "if ret.status_code != 200:\n",
    "    print('Bad Authentication')\n",
    "    print(ret.text)\n",
    "    exit(1)"
   ]
  },
  {
   "cell_type": "code",
   "execution_count": 11,
   "id": "a89d207e-e3ef-4d9b-b6c2-fbf349c19374",
   "metadata": {},
   "outputs": [],
   "source": [
    "dspath = 'https://rda.ucar.edu/data/ds084.1/'\n",
    "save_dir = '/local/train/GFS/'\n",
    "filelist = []"
   ]
  },
  {
   "cell_type": "code",
   "execution_count": 29,
   "id": "4cbbb568-038a-46fa-a68c-75f489ef8f7b",
   "metadata": {},
   "outputs": [
    {
     "name": "stdout",
     "output_type": "stream",
     "text": [
      "Downloading 2019/20190613/gfs.0p25.2019061300.f006.grib2\n"
     ]
    },
    {
     "data": {
      "application/vnd.jupyter.widget-view+json": {
       "model_id": "6310b7f767f8470f8dcab35d578771b3",
       "version_major": 2,
       "version_minor": 0
      },
      "text/plain": [
       "Dropdown(description='data file', options=('/local/train/GFS/gfs.0p25.2019061300.f006.grib2',), value='/local/…"
      ]
     },
     "metadata": {},
     "output_type": "display_data"
    },
    {
     "data": {
      "text/plain": [
       "Data variables:\n",
       "    vis      (latitude, longitude) float32 ...\n",
       "    gust     (latitude, longitude) float32 ...\n",
       "    hindex   (latitude, longitude) float32 ...\n",
       "    sp       (latitude, longitude) float32 ...\n",
       "    orog     (latitude, longitude) float32 ...\n",
       "    t        (latitude, longitude) float32 ...\n",
       "    sdwe     (latitude, longitude) float32 ...\n",
       "    sde      (latitude, longitude) float32 ...\n",
       "    pevpr    (latitude, longitude) float32 ...\n",
       "    cpofp    (latitude, longitude) float32 ...\n",
       "    cprat    (latitude, longitude) float32 ...\n",
       "    prate    (latitude, longitude) float32 ...\n",
       "    csnow    (latitude, longitude) float32 ...\n",
       "    cicep    (latitude, longitude) float32 ...\n",
       "    cfrzr    (latitude, longitude) float32 ...\n",
       "    crain    (latitude, longitude) float32 ...\n",
       "    wilt     (latitude, longitude) float32 ...\n",
       "    fldcp    (latitude, longitude) float32 ...\n",
       "    SUNSD    (latitude, longitude) float32 ...\n",
       "    lftx     (latitude, longitude) float32 ...\n",
       "    cape     (latitude, longitude) float32 ...\n",
       "    cin      (latitude, longitude) float32 ...\n",
       "    4lftx    (latitude, longitude) float32 ...\n",
       "    hpbl     (latitude, longitude) float32 ...\n",
       "    lsm      (latitude, longitude) float32 ...\n",
       "    siconc   (latitude, longitude) float32 ..."
      ]
     },
     "execution_count": 29,
     "metadata": {},
     "output_type": "execute_result"
    }
   ],
   "source": [
    "#For identifying variable names and layers\n",
    "file = '2019' + '/' + '2019' + '06' + '13' + '/gfs.0p25.' + '2019' + '06' + '13' + '00' + '.f006.grib2'\n",
    "filename = dspath + file\n",
    "outfile = save_dir + os.path.basename(filename) \n",
    "print('Downloading', file)\n",
    "req = requests.get(filename, cookies = ret.cookies, allow_redirects=True)\n",
    "open(outfile, 'wb').write(req.content)\n",
    "filelist_arr = [save_dir + os.path.basename(file)]\n",
    "selected_file = widgets.Dropdown(options=filelist_arr, description='data file')\n",
    "display(selected_file)\n",
    "\n",
    "#Now we use xarray to open the file by the type_of_level we are interested in \n",
    "type_of_level1 = 'surface' # for Temperature and Planetary Boundary Layer Height\n",
    "ds_level_surface = xarray.open_dataset(selected_file.value, filter_by_keys={'typeOfLevel': type_of_level1, 'stepType': 'instant'}, engine=\"cfgrib\")\n",
    "(ds_level_surface.data_vars)\n"
   ]
  },
  {
   "cell_type": "code",
   "execution_count": 19,
   "id": "fbb6bfc3-f3e2-4faa-9a0f-98da34a9b107",
   "metadata": {},
   "outputs": [
    {
     "name": "stdout",
     "output_type": "stream",
     "text": [
      "Data variables:\n",
      "    u        (latitude, longitude) float32 ...\n",
      "    v        (latitude, longitude) float32 ...\n",
      "    VRATE    (latitude, longitude) float32 ...\n"
     ]
    }
   ],
   "source": [
    "xarray.set_options(display_expand_attrs = True, display_expand_data_vars = True, display_width = 200, display_max_rows = 200)\n",
    "print(ds_level_surface.data_vars)"
   ]
  },
  {
   "cell_type": "markdown",
   "id": "85ffcb97-91d5-48ad-ace2-64655666d1ac",
   "metadata": {},
   "source": [
    "### Figure out why data is corrupting. "
   ]
  },
  {
   "cell_type": "code",
   "execution_count": null,
   "id": "ba21d5c5-c2a7-4332-8868-0abd6d299151",
   "metadata": {},
   "outputs": [],
   "source": [
    "# year = '2019'\n",
    "# month = '06'\n",
    "# day = '13'\n",
    "# time  = '00'\n",
    "# final_df = pd.DataFrame()\n",
    "\n",
    "# #Now we use xarray to open the file by the type_of_level we are interested in \n",
    "# type_of_level1 = 'surface' # for Temperature and Planetary Boundary Layer Height, land cover, haines index, max surface wind speed \n",
    "# type_of_level2 = 'atmosphereSingleLayer' # for Relative Humidity and preciptable water\n",
    "# type_of_level3 = 'planetaryBoundaryLayer' # For U and V wind, and ventilation rate\n",
    "# ds_level_surface = xarray.open_dataset(selected_file.value, filter_by_keys={'typeOfLevel': type_of_level1, 'stepType': 'instant'}, engine=\"cfgrib\")\n",
    "# ds_level_atmosphere = xarray.open_dataset(selected_file.value, filter_by_keys={'typeOfLevel': type_of_level2}, engine=\"cfgrib\")\n",
    "# ds_level_pbl = xarray.open_dataset(selected_file.value, filter_by_keys={'typeOfLevel': type_of_level3}, engine=\"cfgrib\")\n",
    "\n",
    "# #Define surface variable names\n",
    "# var_t = 't' #Temperature (K) \n",
    "# var_hpbl = 'hpbl' #Planetary Boundary Layer Height (m)\n",
    "# #var_landn = 'landn' #Land cover (0=sea, 1=land) (Proportion)\n",
    "# var_hindex = 'hindex' #Haines index (fire index) \n",
    "# var_gust = 'gust' #Wind speed (gust) (m s-1)\n",
    "\n",
    "# #Define atmosphere single Layer variables\n",
    "# var_r = 'r' #Relative Humidity %\n",
    "# var_pwat = 'pwat' #Precipitable water (kg m-2)\n",
    "\n",
    "# #Planetary Boundary Layer\n",
    "# var_u = 'u' #u-component of wind (m s-1)\n",
    "# var_v = 'v' #v-component of wind (m s-1)\n",
    "# var_VRATE = 'VRATE' #Ventilation rate (m2 s-1)\n",
    "\n",
    "# #Define filtered datasets (for each variable). \n",
    "# #Surface \n",
    "# ds_t = ds_level_surface[var_t] \n",
    "# ds_hpbl = ds_level_surface[var_hpbl]\n",
    "# #ds_landn = ds_level_surface[var_landn]\n",
    "# ds_hindex = ds_level_surface[var_hindex]\n",
    "# ds_gust = ds_level_surface[var_gust]\n",
    "\n",
    "# #Atmosphere\n",
    "# ds_r = ds_level_atmosphere[var_r]\n",
    "# ds_pwat = ds_level_atmosphere[var_pwat]\n",
    "\n",
    "# #Planetary Boundary Layer\n",
    "# ds_u = ds_level_pbl[var_u]\n",
    "# ds_v = ds_level_pbl[var_v]\n",
    "# ds_VRATE =ds_level_pbl[var_VRATE]\n",
    "\n",
    "\n",
    "# #Initialize empty dataframe to append each regional dataframe to\n",
    "# daily_df = pd.DataFrame()\n",
    "# for index, row in df_grids_clean.iterrows(): \n",
    "#     grid_id = row['grid_id']\n",
    "#     min_lat = row['min_lat']\n",
    "#     max_lat = row['max_lat']\n",
    "#     min_lon = row['min_lon']\n",
    "#     max_lon = row['max_lon']\n",
    "\n",
    "#     #Filter to bounds of 5x5km regions of interest. \n",
    "#     #Surface\n",
    "#     ds_t_filt = subset_dataset(ds_t, min_lat, max_lat, min_lon, max_lon)\n",
    "#     ds_hpbl_filt = subset_dataset(ds_hpbl, min_lat, max_lat, min_lon, max_lon)\n",
    "#     # ds_landn_filt = subset_dataset(ds_landn, min_lat, max_lat, min_lon, max_lon)\n",
    "#     ds_hindex_filt = subset_dataset(ds_hindex, min_lat, max_lat, min_lon, max_lon)\n",
    "#     ds_gust_filt = subset_dataset(ds_gust, min_lat, max_lat, min_lon, max_lon)\n",
    "\n",
    "#     #Atmosphere\n",
    "#     ds_r_filt = subset_dataset(ds_r, min_lat, max_lat, min_lon, max_lon)\n",
    "#     ds_pwat_filt = subset_dataset(ds_pwat, min_lat, max_lat, min_lon, max_lon)\n",
    "\n",
    "#     #PBL\n",
    "#     ds_u_filt = subset_dataset(ds_u, min_lat, max_lat, min_lon, max_lon)\n",
    "#     ds_v_filt = subset_dataset(ds_v, min_lat, max_lat, min_lon, max_lon)\n",
    "#     ds_VRATE_filt = subset_dataset(ds_VRATE, min_lat, max_lat, min_lon, max_lon)\n",
    "\n",
    "\n",
    "#     #Make sure we preserve the type of level (atmospheric) of the observation to preserve metadata within the variable names\n",
    "#     ##Surface\n",
    "#     df_t = dataset_to_df(ds_t_filt, 'surface', var_t, grid_id, time)\n",
    "#     df_hpbl = dataset_to_df(ds_hpbl_filt, 'surface', var_hpbl, grid_id, time)\n",
    "#     # df_landn = dataset_to_df(ds_landn_filt, 'surface', var_landn, grid_id, time)\n",
    "#     df_hindex = dataset_to_df(ds_hindex_filt, 'surface', var_hindex, grid_id, time)\n",
    "#     df_gust = dataset_to_df(ds_gust_filt, 'surface', var_gust, grid_id, time)\n",
    "\n",
    "#     #Atmosphere\n",
    "#     df_r = dataset_to_df(ds_r_filt, 'atmosphereSingleLayer', var_r, grid_id, time)\n",
    "#     df_pwat = dataset_to_df(ds_pwat_filt, 'atmosphereSingleLayer', var_pwat, grid_id, time)\n",
    "\n",
    "#     #PBL\n",
    "#     df_u = dataset_to_df(ds_u_filt, 'planetaryBoundaryLayer', var_u, grid_id, time)\n",
    "#     df_v = dataset_to_df(ds_v_filt, 'planetaryBoundaryLayer', var_v, grid_id, time)\n",
    "#     df_VRATE = dataset_to_df(ds_VRATE_filt, 'planetaryBoundaryLayer', var_VRATE, grid_id, time)\n",
    "\n",
    "\n",
    "#     #Now join all fields into same df\n",
    "#     data_frames = [df_t, df_hpbl, df_hindex, df_gust, df_r, df_pwat, df_u, df_v, df_VRATE]\n",
    "\n",
    "#     joined_df_current = reduce(lambda left,right: pd.merge(left,right, on=[\"latitude\", \"longitude\", \"grid_id\"],\n",
    "#                         how = 'left'), data_frames)\n",
    "\n",
    "#     # joined_df_current = pd.merge(df_t, df_pbl, on = [\"latitude\", \"longitude\", \"grid_id\"], how = \"left\")\n",
    "#     # joined_df_current = pd.merge(joined_df_current, df_r, on = [\"latitude\", \"longitude\", \"grid_id\"], how = \"left\")\n",
    "\n",
    "#     #Now concatenate current dataframe into final dataframe\n",
    "#     if daily_df.empty: \n",
    "#         daily_df = joined_df_current\n",
    "#     else: \n",
    "#         daily_df = pd.concat([daily_df, joined_df_current], axis = 0)\n",
    "\n",
    "#      #Now we delete the .grib2 file so as to save memory. Otherwise, we'd be storing ~1tb of data. \n",
    "#     if os.path.exists(outfile):\n",
    "#         os.remove(outfile)\n",
    "#     if os.path.exists(outfile + '.923a8.idx'):\n",
    "#         os.remove(outfile + '.923a8.idx')\n",
    "\n",
    "#     #Join the different forecast time dataframes together so that we have one column per forecast time. \n",
    "#     if final_df.empty: \n",
    "#         final_df = daily_df\n",
    "#     else: \n",
    "#         final_df = pd.merge(final_df, daily_df, on = [\"latitude\", \"longitude\", \"grid_id\"], how = \"left\")\n",
    "\n",
    "# #final_df = final_df.groupby(by = 'grid_id').mean()\n",
    "# final_df.insert(0, 'date', year + '-' + month + '-' + day)\n",
    "# #final_df.reset_index(drop=True, inplace=True)\n",
    "\n",
    "\n",
    "# #Convert to final_df to parquet, with the appropriate metadata in file name (will extract as field names later). \n",
    "# out_parquet =  'gfs.0p25.' + year + month + day + '.f006.parquet'\n",
    "# final_df\n",
    "# #For now just upload to s3\n",
    "# # filepath = '../train/GFS/parquet/' + out_parquet\n",
    "# # final_df.to_parquet(path = filepath, engine = 'pyarrow')"
   ]
  },
  {
   "cell_type": "code",
   "execution_count": 31,
   "id": "7470ac63-2aaa-4842-8a3e-e4d1f19d1203",
   "metadata": {},
   "outputs": [],
   "source": [
    "def run_gfs_pipeline(years, months, days, times): \n",
    "    '''Pipeline the GFS data for specified times and specified variables, at the specified levels.\n",
    "       Output will be a parquet file with 1 row per unique lat/lon combination (within regions of interest). \n",
    "       Forecast times will be added column-wise so that there are 4 forecasts per variable per day per row.'''\n",
    "    for year in years: \n",
    "        for month in months: \n",
    "            for day in days: \n",
    "                final_df = pd.DataFrame()\n",
    "                for time in times:\n",
    "                    #In case file doesn't exist for a given date / time, continue to next day/time. \n",
    "                    try: \n",
    "                        #Download .glib2 file (temporarily) to scrape the desired fields. We will delete after use. \n",
    "                        file = year + '/' + year + month + day + '/gfs.0p25.' + year + month + day + time + '.f006.grib2'\n",
    "                        filename = dspath + file\n",
    "                        outfile = save_dir + os.path.basename(filename) \n",
    "                        print('Downloading', file)\n",
    "                        req = requests.get(filename, cookies = ret.cookies, allow_redirects=True)\n",
    "                        open(outfile, 'wb').write(req.content)\n",
    "                        filelist_arr = [save_dir + os.path.basename(file)]\n",
    "                        selected_file = widgets.Dropdown(options=filelist_arr, description='data file')\n",
    "                        display(selected_file)\n",
    "\n",
    "                        #Now we use xarray to open the file by the type_of_level we are interested in \n",
    "                        type_of_level1 = 'surface' # for Temperature and Planetary Boundary Layer Height, land cover, haines index, max surface wind speed \n",
    "                        type_of_level2 = 'atmosphereSingleLayer' # for Relative Humidity and preciptable water\n",
    "                        type_of_level3 = 'planetaryBoundaryLayer' # For U and V wind, and ventilation rate\n",
    "                        ds_level_surface = xarray.open_dataset(selected_file.value, filter_by_keys={'typeOfLevel': type_of_level1, 'stepType': 'instant'}, engine=\"cfgrib\")\n",
    "                        ds_level_atmosphere = xarray.open_dataset(selected_file.value, filter_by_keys={'typeOfLevel': type_of_level2}, engine=\"cfgrib\")\n",
    "                        ds_level_pbl = xarray.open_dataset(selected_file.value, filter_by_keys={'typeOfLevel': type_of_level3}, engine=\"cfgrib\")\n",
    "\n",
    "                        #Define surface variable names\n",
    "                        var_t = 't' #Temperature (K) \n",
    "                        var_hpbl = 'hpbl' #Planetary Boundary Layer Height (m)\n",
    "                        # var_landn = 'landn' #Land cover (0=sea, 1=land) (Proportion)\n",
    "                        var_hindex = 'hindex' #Haines index (fire index) \n",
    "                        var_gust = 'gust' #Wind speed (gust) (m s-1)\n",
    "\n",
    "                        #Define atmosphere single Layer variables\n",
    "                        var_r = 'r' #Relative Humidity %\n",
    "                        var_pwat = 'pwat' #Precipitable water (kg m-2)\n",
    "\n",
    "                        #Planetary Boundary Layer\n",
    "                        var_u = 'u' #u-component of wind (m s-1)\n",
    "                        var_v = 'v' #v-component of wind (m s-1)\n",
    "                        var_VRATE = 'VRATE' #Ventilation rate (m2 s-1)\n",
    "\n",
    "                        #Define filtered datasets (for each variable). \n",
    "                        #Surface \n",
    "                        ds_t = ds_level_surface[var_t] \n",
    "                        ds_hpbl = ds_level_surface[var_hpbl]\n",
    "                        # ds_landn = ds_level_surface[var_landn]\n",
    "                        ds_hindex = ds_level_surface[var_hindex]\n",
    "                        ds_gust = ds_level_surface[var_gust]\n",
    "\n",
    "                        #Atmosphere\n",
    "                        ds_r = ds_level_atmosphere[var_r]\n",
    "                        ds_pwat = ds_level_atmosphere[var_pwat]\n",
    "\n",
    "                        #Planetary Boundary Layer\n",
    "                        ds_u = ds_level_pbl[var_u]\n",
    "                        ds_v = ds_level_pbl[var_v]\n",
    "                        ds_VRATE =ds_level_pbl[var_VRATE]\n",
    "\n",
    "\n",
    "                        #Initialize empty dataframe to append each regional dataframe to\n",
    "                        daily_df = pd.DataFrame()\n",
    "                        for index, row in df_grids_clean.iterrows(): \n",
    "                            grid_id = row['grid_id']\n",
    "                            min_lat = row['min_lat']\n",
    "                            max_lat = row['max_lat']\n",
    "                            min_lon = row['min_lon']\n",
    "                            max_lon = row['max_lon']\n",
    "\n",
    "                            #Filter to bounds of 5x5km regions of interest. \n",
    "                            #Surface\n",
    "                            ds_t_filt = subset_dataset(ds_t, min_lat, max_lat, min_lon, max_lon)\n",
    "                            ds_hpbl_filt = subset_dataset(ds_hpbl, min_lat, max_lat, min_lon, max_lon)\n",
    "                            # ds_landn_filt = subset_dataset(ds_landn, min_lat, max_lat, min_lon, max_lon)\n",
    "                            ds_hindex_filt = subset_dataset(ds_hindex, min_lat, max_lat, min_lon, max_lon)\n",
    "                            ds_gust_filt = subset_dataset(ds_gust, min_lat, max_lat, min_lon, max_lon)\n",
    "\n",
    "                            #Atmosphere\n",
    "                            ds_r_filt = subset_dataset(ds_r, min_lat, max_lat, min_lon, max_lon)\n",
    "                            ds_pwat_filt = subset_dataset(ds_pwat, min_lat, max_lat, min_lon, max_lon)\n",
    "\n",
    "                            #PBL\n",
    "                            ds_u_filt = subset_dataset(ds_u, min_lat, max_lat, min_lon, max_lon)\n",
    "                            ds_v_filt = subset_dataset(ds_v, min_lat, max_lat, min_lon, max_lon)\n",
    "                            ds_VRATE_filt = subset_dataset(ds_VRATE, min_lat, max_lat, min_lon, max_lon)\n",
    "\n",
    "\n",
    "                            #Make sure we preserve the type of level (atmospheric) of the observation to preserve metadata within the variable names\n",
    "                            ##Surface\n",
    "                            df_t = dataset_to_df(ds_t_filt, 'surface', var_t, grid_id, time)\n",
    "                            df_hpbl = dataset_to_df(ds_hpbl_filt, 'surface', var_hpbl, grid_id, time)\n",
    "                            # df_landn = dataset_to_df(ds_landn_filt, 'surface', var_landn, grid_id, time)\n",
    "                            df_hindex = dataset_to_df(ds_hindex_filt, 'surface', var_hindex, grid_id, time)\n",
    "                            df_gust = dataset_to_df(ds_gust_filt, 'surface', var_gust, grid_id, time)\n",
    "\n",
    "                            #Atmosphere\n",
    "                            df_r = dataset_to_df(ds_r_filt, 'atmosphereSingleLayer', var_r, grid_id, time)\n",
    "                            df_pwat = dataset_to_df(ds_pwat_filt, 'atmosphereSingleLayer', var_pwat, grid_id, time)\n",
    "\n",
    "                            #PBL\n",
    "                            df_u = dataset_to_df(ds_u_filt, 'planetaryBoundaryLayer', var_u, grid_id, time)\n",
    "                            df_v = dataset_to_df(ds_v_filt, 'planetaryBoundaryLayer', var_v, grid_id, time)\n",
    "                            df_VRATE = dataset_to_df(ds_VRATE_filt, 'planetaryBoundaryLayer', var_VRATE, grid_id, time)\n",
    "\n",
    "\n",
    "                            #Now join all fields into same df\n",
    "                            data_frames = [df_t, df_hpbl, df_hindex, df_gust, df_r, df_pwat, df_u, df_v, df_VRATE]\n",
    "\n",
    "                            joined_df_current = reduce(lambda left,right: pd.merge(left,right, on=[\"latitude\", \"longitude\", \"grid_id\"],\n",
    "                                                how = 'left'), data_frames)\n",
    "\n",
    "                            # joined_df_current = pd.merge(df_t, df_pbl, on = [\"latitude\", \"longitude\", \"grid_id\"], how = \"left\")\n",
    "                            # joined_df_current = pd.merge(joined_df_current, df_r, on = [\"latitude\", \"longitude\", \"grid_id\"], how = \"left\")\n",
    "\n",
    "                            #Now concatenate current dataframe into final dataframe\n",
    "                            if daily_df.empty: \n",
    "                                daily_df = joined_df_current\n",
    "                            else: \n",
    "                                daily_df = pd.concat([daily_df, joined_df_current], axis = 0)\n",
    "\n",
    "                         #Now we delete the .grib2 file so as to save memory. Otherwise, we'd be storing ~1tb of data. \n",
    "                        if os.path.exists(outfile):\n",
    "                            os.remove(outfile)\n",
    "                        if os.path.exists(outfile + '.923a8.idx'):\n",
    "                            os.remove(outfile + '.923a8.idx')\n",
    "\n",
    "                        #Join the different forecast time dataframes together so that we have one column per forecast time. \n",
    "                        if final_df.empty: \n",
    "                            final_df = daily_df\n",
    "                        else: \n",
    "                            final_df = pd.merge(final_df, daily_df, on = [\"latitude\", \"longitude\", \"grid_id\"], how = \"left\")\n",
    "                    except: \n",
    "                        continue\n",
    "                try: \n",
    "                    #final_df = final_df.groupby(by = 'grid_id').mean()\n",
    "                    final_df.insert(0, 'date', year + '-' + month + '-' + day)\n",
    "                    #final_df.reset_index(drop=True, inplace=True)\n",
    "\n",
    "\n",
    "                    #Convert to final_df to parquet, with the appropriate metadata in file name (will extract as field names later). \n",
    "                    out_parquet =  'gfs.0p25.' + year + month + day + '.f006.parquet'\n",
    "\n",
    "                    #For now just upload to s3\n",
    "                    filepath = '../train/GFS/parquet/' + out_parquet\n",
    "                    final_df.to_parquet(path = filepath, engine = 'pyarrow')\n",
    "\n",
    "                    #Put file in read mode so we can upload to s3 / Databricks storage bucket. \n",
    "                    with open(filepath, 'rb') as data:\n",
    "                        s3.upload_fileobj(data, 'capstone-particulate-storage', out_parquet)\n",
    "                        \n",
    "                except: \n",
    "                    continue\n",
    "\n",
    "                        \n",
    "    print(\"Pipeline complete.\")"
   ]
  },
  {
   "cell_type": "code",
   "execution_count": null,
   "id": "e1cb7c67-58e9-4a2a-b7aa-5d64facb4bc8",
   "metadata": {},
   "outputs": [
    {
     "name": "stdout",
     "output_type": "stream",
     "text": [
      "Downloading 2019/20190701/gfs.0p25.2019070100.f006.grib2\n"
     ]
    },
    {
     "data": {
      "application/vnd.jupyter.widget-view+json": {
       "model_id": "f648b73ff05242b1978f6594692b4b6d",
       "version_major": 2,
       "version_minor": 0
      },
      "text/plain": [
       "Dropdown(description='data file', options=('/local/train/GFS/gfs.0p25.2019070100.f006.grib2',), value='/local/…"
      ]
     },
     "metadata": {},
     "output_type": "display_data"
    },
    {
     "name": "stderr",
     "output_type": "stream",
     "text": [
      "Ignoring index file '/local/train/GFS/gfs.0p25.2019070100.f006.grib2.923a8.idx' incompatible with GRIB file\n",
      "Ignoring index file '/local/train/GFS/gfs.0p25.2019070100.f006.grib2.923a8.idx' incompatible with GRIB file\n"
     ]
    },
    {
     "name": "stdout",
     "output_type": "stream",
     "text": [
      "Downloading 2019/20190701/gfs.0p25.2019070106.f006.grib2\n"
     ]
    },
    {
     "data": {
      "application/vnd.jupyter.widget-view+json": {
       "model_id": "7fd9768a85fc4892a6f148bfeaf25051",
       "version_major": 2,
       "version_minor": 0
      },
      "text/plain": [
       "Dropdown(description='data file', options=('/local/train/GFS/gfs.0p25.2019070106.f006.grib2',), value='/local/…"
      ]
     },
     "metadata": {},
     "output_type": "display_data"
    },
    {
     "name": "stderr",
     "output_type": "stream",
     "text": [
      "Ignoring index file '/local/train/GFS/gfs.0p25.2019070106.f006.grib2.923a8.idx' incompatible with GRIB file\n",
      "Ignoring index file '/local/train/GFS/gfs.0p25.2019070106.f006.grib2.923a8.idx' incompatible with GRIB file\n"
     ]
    },
    {
     "name": "stdout",
     "output_type": "stream",
     "text": [
      "Downloading 2019/20190701/gfs.0p25.2019070112.f006.grib2\n"
     ]
    },
    {
     "data": {
      "application/vnd.jupyter.widget-view+json": {
       "model_id": "9acc4bd47d9041f6af73107bd2173a1c",
       "version_major": 2,
       "version_minor": 0
      },
      "text/plain": [
       "Dropdown(description='data file', options=('/local/train/GFS/gfs.0p25.2019070112.f006.grib2',), value='/local/…"
      ]
     },
     "metadata": {},
     "output_type": "display_data"
    },
    {
     "name": "stderr",
     "output_type": "stream",
     "text": [
      "Ignoring index file '/local/train/GFS/gfs.0p25.2019070112.f006.grib2.923a8.idx' incompatible with GRIB file\n",
      "Ignoring index file '/local/train/GFS/gfs.0p25.2019070112.f006.grib2.923a8.idx' incompatible with GRIB file\n"
     ]
    },
    {
     "name": "stdout",
     "output_type": "stream",
     "text": [
      "Downloading 2019/20190701/gfs.0p25.2019070118.f006.grib2\n"
     ]
    },
    {
     "data": {
      "application/vnd.jupyter.widget-view+json": {
       "model_id": "b680092b82e6475f995395a46e11e69d",
       "version_major": 2,
       "version_minor": 0
      },
      "text/plain": [
       "Dropdown(description='data file', options=('/local/train/GFS/gfs.0p25.2019070118.f006.grib2',), value='/local/…"
      ]
     },
     "metadata": {},
     "output_type": "display_data"
    },
    {
     "name": "stderr",
     "output_type": "stream",
     "text": [
      "Ignoring index file '/local/train/GFS/gfs.0p25.2019070118.f006.grib2.923a8.idx' incompatible with GRIB file\n",
      "Ignoring index file '/local/train/GFS/gfs.0p25.2019070118.f006.grib2.923a8.idx' incompatible with GRIB file\n"
     ]
    },
    {
     "name": "stdout",
     "output_type": "stream",
     "text": [
      "Downloading 2019/20190702/gfs.0p25.2019070200.f006.grib2\n"
     ]
    },
    {
     "data": {
      "application/vnd.jupyter.widget-view+json": {
       "model_id": "54b2c8bd63754612ba7e9d7e8de99656",
       "version_major": 2,
       "version_minor": 0
      },
      "text/plain": [
       "Dropdown(description='data file', options=('/local/train/GFS/gfs.0p25.2019070200.f006.grib2',), value='/local/…"
      ]
     },
     "metadata": {},
     "output_type": "display_data"
    },
    {
     "name": "stderr",
     "output_type": "stream",
     "text": [
      "Ignoring index file '/local/train/GFS/gfs.0p25.2019070200.f006.grib2.923a8.idx' incompatible with GRIB file\n",
      "Ignoring index file '/local/train/GFS/gfs.0p25.2019070200.f006.grib2.923a8.idx' incompatible with GRIB file\n"
     ]
    },
    {
     "name": "stdout",
     "output_type": "stream",
     "text": [
      "Downloading 2019/20190702/gfs.0p25.2019070206.f006.grib2\n"
     ]
    },
    {
     "data": {
      "application/vnd.jupyter.widget-view+json": {
       "model_id": "7e4bd77be9984964bb48cb600afb4663",
       "version_major": 2,
       "version_minor": 0
      },
      "text/plain": [
       "Dropdown(description='data file', options=('/local/train/GFS/gfs.0p25.2019070206.f006.grib2',), value='/local/…"
      ]
     },
     "metadata": {},
     "output_type": "display_data"
    },
    {
     "name": "stderr",
     "output_type": "stream",
     "text": [
      "Ignoring index file '/local/train/GFS/gfs.0p25.2019070206.f006.grib2.923a8.idx' incompatible with GRIB file\n",
      "Ignoring index file '/local/train/GFS/gfs.0p25.2019070206.f006.grib2.923a8.idx' incompatible with GRIB file\n"
     ]
    },
    {
     "name": "stdout",
     "output_type": "stream",
     "text": [
      "Downloading 2019/20190702/gfs.0p25.2019070212.f006.grib2\n"
     ]
    },
    {
     "data": {
      "application/vnd.jupyter.widget-view+json": {
       "model_id": "38e3294b9b88463d946cdbde30f31414",
       "version_major": 2,
       "version_minor": 0
      },
      "text/plain": [
       "Dropdown(description='data file', options=('/local/train/GFS/gfs.0p25.2019070212.f006.grib2',), value='/local/…"
      ]
     },
     "metadata": {},
     "output_type": "display_data"
    },
    {
     "name": "stderr",
     "output_type": "stream",
     "text": [
      "Ignoring index file '/local/train/GFS/gfs.0p25.2019070212.f006.grib2.923a8.idx' incompatible with GRIB file\n",
      "Ignoring index file '/local/train/GFS/gfs.0p25.2019070212.f006.grib2.923a8.idx' incompatible with GRIB file\n"
     ]
    },
    {
     "name": "stdout",
     "output_type": "stream",
     "text": [
      "Downloading 2019/20190702/gfs.0p25.2019070218.f006.grib2\n"
     ]
    },
    {
     "data": {
      "application/vnd.jupyter.widget-view+json": {
       "model_id": "9a156d5e4feb43afa1b7007aaa747e4d",
       "version_major": 2,
       "version_minor": 0
      },
      "text/plain": [
       "Dropdown(description='data file', options=('/local/train/GFS/gfs.0p25.2019070218.f006.grib2',), value='/local/…"
      ]
     },
     "metadata": {},
     "output_type": "display_data"
    },
    {
     "name": "stderr",
     "output_type": "stream",
     "text": [
      "Ignoring index file '/local/train/GFS/gfs.0p25.2019070218.f006.grib2.923a8.idx' incompatible with GRIB file\n",
      "Ignoring index file '/local/train/GFS/gfs.0p25.2019070218.f006.grib2.923a8.idx' incompatible with GRIB file\n"
     ]
    },
    {
     "name": "stdout",
     "output_type": "stream",
     "text": [
      "Downloading 2019/20190703/gfs.0p25.2019070300.f006.grib2\n"
     ]
    },
    {
     "data": {
      "application/vnd.jupyter.widget-view+json": {
       "model_id": "9672754fdc4c474fb89d19d52f8d29d3",
       "version_major": 2,
       "version_minor": 0
      },
      "text/plain": [
       "Dropdown(description='data file', options=('/local/train/GFS/gfs.0p25.2019070300.f006.grib2',), value='/local/…"
      ]
     },
     "metadata": {},
     "output_type": "display_data"
    },
    {
     "name": "stderr",
     "output_type": "stream",
     "text": [
      "Ignoring index file '/local/train/GFS/gfs.0p25.2019070300.f006.grib2.923a8.idx' incompatible with GRIB file\n",
      "Ignoring index file '/local/train/GFS/gfs.0p25.2019070300.f006.grib2.923a8.idx' incompatible with GRIB file\n"
     ]
    },
    {
     "name": "stdout",
     "output_type": "stream",
     "text": [
      "Downloading 2019/20190703/gfs.0p25.2019070306.f006.grib2\n"
     ]
    },
    {
     "data": {
      "application/vnd.jupyter.widget-view+json": {
       "model_id": "a129f718e3714ffda2517526be835a31",
       "version_major": 2,
       "version_minor": 0
      },
      "text/plain": [
       "Dropdown(description='data file', options=('/local/train/GFS/gfs.0p25.2019070306.f006.grib2',), value='/local/…"
      ]
     },
     "metadata": {},
     "output_type": "display_data"
    },
    {
     "name": "stderr",
     "output_type": "stream",
     "text": [
      "Ignoring index file '/local/train/GFS/gfs.0p25.2019070306.f006.grib2.923a8.idx' incompatible with GRIB file\n",
      "Ignoring index file '/local/train/GFS/gfs.0p25.2019070306.f006.grib2.923a8.idx' incompatible with GRIB file\n"
     ]
    },
    {
     "name": "stdout",
     "output_type": "stream",
     "text": [
      "Downloading 2019/20190703/gfs.0p25.2019070312.f006.grib2\n"
     ]
    },
    {
     "data": {
      "application/vnd.jupyter.widget-view+json": {
       "model_id": "d512431c8a1744108ce49bc163b8808d",
       "version_major": 2,
       "version_minor": 0
      },
      "text/plain": [
       "Dropdown(description='data file', options=('/local/train/GFS/gfs.0p25.2019070312.f006.grib2',), value='/local/…"
      ]
     },
     "metadata": {},
     "output_type": "display_data"
    },
    {
     "name": "stderr",
     "output_type": "stream",
     "text": [
      "Ignoring index file '/local/train/GFS/gfs.0p25.2019070312.f006.grib2.923a8.idx' incompatible with GRIB file\n",
      "Ignoring index file '/local/train/GFS/gfs.0p25.2019070312.f006.grib2.923a8.idx' incompatible with GRIB file\n"
     ]
    },
    {
     "name": "stdout",
     "output_type": "stream",
     "text": [
      "Downloading 2019/20190703/gfs.0p25.2019070318.f006.grib2\n"
     ]
    },
    {
     "data": {
      "application/vnd.jupyter.widget-view+json": {
       "model_id": "f232b639d218421ab136f0accde289e0",
       "version_major": 2,
       "version_minor": 0
      },
      "text/plain": [
       "Dropdown(description='data file', options=('/local/train/GFS/gfs.0p25.2019070318.f006.grib2',), value='/local/…"
      ]
     },
     "metadata": {},
     "output_type": "display_data"
    },
    {
     "name": "stderr",
     "output_type": "stream",
     "text": [
      "Ignoring index file '/local/train/GFS/gfs.0p25.2019070318.f006.grib2.923a8.idx' incompatible with GRIB file\n",
      "Ignoring index file '/local/train/GFS/gfs.0p25.2019070318.f006.grib2.923a8.idx' incompatible with GRIB file\n"
     ]
    },
    {
     "name": "stdout",
     "output_type": "stream",
     "text": [
      "Downloading 2019/20190704/gfs.0p25.2019070400.f006.grib2\n"
     ]
    },
    {
     "data": {
      "application/vnd.jupyter.widget-view+json": {
       "model_id": "c0a29b5db9a4444193f0d01e7ec5d2a0",
       "version_major": 2,
       "version_minor": 0
      },
      "text/plain": [
       "Dropdown(description='data file', options=('/local/train/GFS/gfs.0p25.2019070400.f006.grib2',), value='/local/…"
      ]
     },
     "metadata": {},
     "output_type": "display_data"
    },
    {
     "name": "stderr",
     "output_type": "stream",
     "text": [
      "Ignoring index file '/local/train/GFS/gfs.0p25.2019070400.f006.grib2.923a8.idx' incompatible with GRIB file\n",
      "Ignoring index file '/local/train/GFS/gfs.0p25.2019070400.f006.grib2.923a8.idx' incompatible with GRIB file\n"
     ]
    },
    {
     "name": "stdout",
     "output_type": "stream",
     "text": [
      "Downloading 2019/20190704/gfs.0p25.2019070406.f006.grib2\n"
     ]
    },
    {
     "data": {
      "application/vnd.jupyter.widget-view+json": {
       "model_id": "71a09318cc8948bd9ce3a5058c2a2456",
       "version_major": 2,
       "version_minor": 0
      },
      "text/plain": [
       "Dropdown(description='data file', options=('/local/train/GFS/gfs.0p25.2019070406.f006.grib2',), value='/local/…"
      ]
     },
     "metadata": {},
     "output_type": "display_data"
    },
    {
     "name": "stderr",
     "output_type": "stream",
     "text": [
      "Ignoring index file '/local/train/GFS/gfs.0p25.2019070406.f006.grib2.923a8.idx' incompatible with GRIB file\n",
      "Ignoring index file '/local/train/GFS/gfs.0p25.2019070406.f006.grib2.923a8.idx' incompatible with GRIB file\n"
     ]
    },
    {
     "name": "stdout",
     "output_type": "stream",
     "text": [
      "Downloading 2019/20190704/gfs.0p25.2019070412.f006.grib2\n"
     ]
    },
    {
     "data": {
      "application/vnd.jupyter.widget-view+json": {
       "model_id": "59f93f0787ab4797968d45190ebe95aa",
       "version_major": 2,
       "version_minor": 0
      },
      "text/plain": [
       "Dropdown(description='data file', options=('/local/train/GFS/gfs.0p25.2019070412.f006.grib2',), value='/local/…"
      ]
     },
     "metadata": {},
     "output_type": "display_data"
    },
    {
     "name": "stderr",
     "output_type": "stream",
     "text": [
      "Ignoring index file '/local/train/GFS/gfs.0p25.2019070412.f006.grib2.923a8.idx' incompatible with GRIB file\n",
      "Ignoring index file '/local/train/GFS/gfs.0p25.2019070412.f006.grib2.923a8.idx' incompatible with GRIB file\n"
     ]
    },
    {
     "name": "stdout",
     "output_type": "stream",
     "text": [
      "Downloading 2019/20190704/gfs.0p25.2019070418.f006.grib2\n"
     ]
    },
    {
     "data": {
      "application/vnd.jupyter.widget-view+json": {
       "model_id": "55bbabccc8344050b7b8153d8a5b5378",
       "version_major": 2,
       "version_minor": 0
      },
      "text/plain": [
       "Dropdown(description='data file', options=('/local/train/GFS/gfs.0p25.2019070418.f006.grib2',), value='/local/…"
      ]
     },
     "metadata": {},
     "output_type": "display_data"
    },
    {
     "name": "stderr",
     "output_type": "stream",
     "text": [
      "Ignoring index file '/local/train/GFS/gfs.0p25.2019070418.f006.grib2.923a8.idx' incompatible with GRIB file\n",
      "Ignoring index file '/local/train/GFS/gfs.0p25.2019070418.f006.grib2.923a8.idx' incompatible with GRIB file\n"
     ]
    },
    {
     "name": "stdout",
     "output_type": "stream",
     "text": [
      "Downloading 2019/20190705/gfs.0p25.2019070500.f006.grib2\n"
     ]
    },
    {
     "data": {
      "application/vnd.jupyter.widget-view+json": {
       "model_id": "5862877b8b3d4f91acc8210d7c00bc25",
       "version_major": 2,
       "version_minor": 0
      },
      "text/plain": [
       "Dropdown(description='data file', options=('/local/train/GFS/gfs.0p25.2019070500.f006.grib2',), value='/local/…"
      ]
     },
     "metadata": {},
     "output_type": "display_data"
    },
    {
     "name": "stderr",
     "output_type": "stream",
     "text": [
      "Ignoring index file '/local/train/GFS/gfs.0p25.2019070500.f006.grib2.923a8.idx' incompatible with GRIB file\n",
      "Ignoring index file '/local/train/GFS/gfs.0p25.2019070500.f006.grib2.923a8.idx' incompatible with GRIB file\n"
     ]
    },
    {
     "name": "stdout",
     "output_type": "stream",
     "text": [
      "Downloading 2019/20190705/gfs.0p25.2019070506.f006.grib2\n"
     ]
    },
    {
     "data": {
      "application/vnd.jupyter.widget-view+json": {
       "model_id": "ab6ea811aa7f4171b08c889310a4bf11",
       "version_major": 2,
       "version_minor": 0
      },
      "text/plain": [
       "Dropdown(description='data file', options=('/local/train/GFS/gfs.0p25.2019070506.f006.grib2',), value='/local/…"
      ]
     },
     "metadata": {},
     "output_type": "display_data"
    },
    {
     "name": "stderr",
     "output_type": "stream",
     "text": [
      "Ignoring index file '/local/train/GFS/gfs.0p25.2019070506.f006.grib2.923a8.idx' incompatible with GRIB file\n",
      "Ignoring index file '/local/train/GFS/gfs.0p25.2019070506.f006.grib2.923a8.idx' incompatible with GRIB file\n"
     ]
    },
    {
     "name": "stdout",
     "output_type": "stream",
     "text": [
      "Downloading 2019/20190705/gfs.0p25.2019070512.f006.grib2\n"
     ]
    },
    {
     "data": {
      "application/vnd.jupyter.widget-view+json": {
       "model_id": "7ee1dd7de3424a5fabf8a59eed571ffb",
       "version_major": 2,
       "version_minor": 0
      },
      "text/plain": [
       "Dropdown(description='data file', options=('/local/train/GFS/gfs.0p25.2019070512.f006.grib2',), value='/local/…"
      ]
     },
     "metadata": {},
     "output_type": "display_data"
    },
    {
     "name": "stderr",
     "output_type": "stream",
     "text": [
      "Ignoring index file '/local/train/GFS/gfs.0p25.2019070512.f006.grib2.923a8.idx' incompatible with GRIB file\n",
      "Ignoring index file '/local/train/GFS/gfs.0p25.2019070512.f006.grib2.923a8.idx' incompatible with GRIB file\n"
     ]
    },
    {
     "name": "stdout",
     "output_type": "stream",
     "text": [
      "Downloading 2019/20190705/gfs.0p25.2019070518.f006.grib2\n"
     ]
    },
    {
     "data": {
      "application/vnd.jupyter.widget-view+json": {
       "model_id": "8f8c9f5859df4241991d56710deb0c48",
       "version_major": 2,
       "version_minor": 0
      },
      "text/plain": [
       "Dropdown(description='data file', options=('/local/train/GFS/gfs.0p25.2019070518.f006.grib2',), value='/local/…"
      ]
     },
     "metadata": {},
     "output_type": "display_data"
    },
    {
     "name": "stderr",
     "output_type": "stream",
     "text": [
      "Ignoring index file '/local/train/GFS/gfs.0p25.2019070518.f006.grib2.923a8.idx' incompatible with GRIB file\n",
      "Ignoring index file '/local/train/GFS/gfs.0p25.2019070518.f006.grib2.923a8.idx' incompatible with GRIB file\n"
     ]
    },
    {
     "name": "stdout",
     "output_type": "stream",
     "text": [
      "Downloading 2019/20190706/gfs.0p25.2019070600.f006.grib2\n"
     ]
    },
    {
     "data": {
      "application/vnd.jupyter.widget-view+json": {
       "model_id": "6194f1c7c53e4a13be615cc9b8a36009",
       "version_major": 2,
       "version_minor": 0
      },
      "text/plain": [
       "Dropdown(description='data file', options=('/local/train/GFS/gfs.0p25.2019070600.f006.grib2',), value='/local/…"
      ]
     },
     "metadata": {},
     "output_type": "display_data"
    },
    {
     "name": "stderr",
     "output_type": "stream",
     "text": [
      "Ignoring index file '/local/train/GFS/gfs.0p25.2019070600.f006.grib2.923a8.idx' incompatible with GRIB file\n",
      "Ignoring index file '/local/train/GFS/gfs.0p25.2019070600.f006.grib2.923a8.idx' incompatible with GRIB file\n"
     ]
    },
    {
     "name": "stdout",
     "output_type": "stream",
     "text": [
      "Downloading 2019/20190706/gfs.0p25.2019070606.f006.grib2\n"
     ]
    },
    {
     "data": {
      "application/vnd.jupyter.widget-view+json": {
       "model_id": "607c1a231b764d389de2913a3d4fecbe",
       "version_major": 2,
       "version_minor": 0
      },
      "text/plain": [
       "Dropdown(description='data file', options=('/local/train/GFS/gfs.0p25.2019070606.f006.grib2',), value='/local/…"
      ]
     },
     "metadata": {},
     "output_type": "display_data"
    },
    {
     "name": "stderr",
     "output_type": "stream",
     "text": [
      "Ignoring index file '/local/train/GFS/gfs.0p25.2019070606.f006.grib2.923a8.idx' incompatible with GRIB file\n",
      "Ignoring index file '/local/train/GFS/gfs.0p25.2019070606.f006.grib2.923a8.idx' incompatible with GRIB file\n"
     ]
    },
    {
     "name": "stdout",
     "output_type": "stream",
     "text": [
      "Downloading 2019/20190706/gfs.0p25.2019070612.f006.grib2\n"
     ]
    },
    {
     "data": {
      "application/vnd.jupyter.widget-view+json": {
       "model_id": "76d627ccc1d74496bb28afb64034589d",
       "version_major": 2,
       "version_minor": 0
      },
      "text/plain": [
       "Dropdown(description='data file', options=('/local/train/GFS/gfs.0p25.2019070612.f006.grib2',), value='/local/…"
      ]
     },
     "metadata": {},
     "output_type": "display_data"
    },
    {
     "name": "stderr",
     "output_type": "stream",
     "text": [
      "Ignoring index file '/local/train/GFS/gfs.0p25.2019070612.f006.grib2.923a8.idx' incompatible with GRIB file\n",
      "Ignoring index file '/local/train/GFS/gfs.0p25.2019070612.f006.grib2.923a8.idx' incompatible with GRIB file\n"
     ]
    },
    {
     "name": "stdout",
     "output_type": "stream",
     "text": [
      "Downloading 2019/20190706/gfs.0p25.2019070618.f006.grib2\n"
     ]
    },
    {
     "data": {
      "application/vnd.jupyter.widget-view+json": {
       "model_id": "69196738afce47c5840f7394f4faafcf",
       "version_major": 2,
       "version_minor": 0
      },
      "text/plain": [
       "Dropdown(description='data file', options=('/local/train/GFS/gfs.0p25.2019070618.f006.grib2',), value='/local/…"
      ]
     },
     "metadata": {},
     "output_type": "display_data"
    },
    {
     "name": "stderr",
     "output_type": "stream",
     "text": [
      "Ignoring index file '/local/train/GFS/gfs.0p25.2019070618.f006.grib2.923a8.idx' incompatible with GRIB file\n",
      "Ignoring index file '/local/train/GFS/gfs.0p25.2019070618.f006.grib2.923a8.idx' incompatible with GRIB file\n"
     ]
    },
    {
     "name": "stdout",
     "output_type": "stream",
     "text": [
      "Downloading 2019/20190707/gfs.0p25.2019070700.f006.grib2\n"
     ]
    },
    {
     "data": {
      "application/vnd.jupyter.widget-view+json": {
       "model_id": "ff2611cb7e634a44a1fdcef8db467777",
       "version_major": 2,
       "version_minor": 0
      },
      "text/plain": [
       "Dropdown(description='data file', options=('/local/train/GFS/gfs.0p25.2019070700.f006.grib2',), value='/local/…"
      ]
     },
     "metadata": {},
     "output_type": "display_data"
    },
    {
     "name": "stderr",
     "output_type": "stream",
     "text": [
      "Ignoring index file '/local/train/GFS/gfs.0p25.2019070700.f006.grib2.923a8.idx' incompatible with GRIB file\n",
      "Ignoring index file '/local/train/GFS/gfs.0p25.2019070700.f006.grib2.923a8.idx' incompatible with GRIB file\n"
     ]
    },
    {
     "name": "stdout",
     "output_type": "stream",
     "text": [
      "Downloading 2019/20190707/gfs.0p25.2019070706.f006.grib2\n"
     ]
    },
    {
     "data": {
      "application/vnd.jupyter.widget-view+json": {
       "model_id": "a412125c1388456aa0cb25e13e255630",
       "version_major": 2,
       "version_minor": 0
      },
      "text/plain": [
       "Dropdown(description='data file', options=('/local/train/GFS/gfs.0p25.2019070706.f006.grib2',), value='/local/…"
      ]
     },
     "metadata": {},
     "output_type": "display_data"
    },
    {
     "name": "stderr",
     "output_type": "stream",
     "text": [
      "Ignoring index file '/local/train/GFS/gfs.0p25.2019070706.f006.grib2.923a8.idx' incompatible with GRIB file\n",
      "Ignoring index file '/local/train/GFS/gfs.0p25.2019070706.f006.grib2.923a8.idx' incompatible with GRIB file\n"
     ]
    },
    {
     "name": "stdout",
     "output_type": "stream",
     "text": [
      "Downloading 2019/20190707/gfs.0p25.2019070712.f006.grib2\n"
     ]
    },
    {
     "data": {
      "application/vnd.jupyter.widget-view+json": {
       "model_id": "d8062c28cfd548bb921b15671aacb5fb",
       "version_major": 2,
       "version_minor": 0
      },
      "text/plain": [
       "Dropdown(description='data file', options=('/local/train/GFS/gfs.0p25.2019070712.f006.grib2',), value='/local/…"
      ]
     },
     "metadata": {},
     "output_type": "display_data"
    },
    {
     "name": "stderr",
     "output_type": "stream",
     "text": [
      "Ignoring index file '/local/train/GFS/gfs.0p25.2019070712.f006.grib2.923a8.idx' incompatible with GRIB file\n",
      "Ignoring index file '/local/train/GFS/gfs.0p25.2019070712.f006.grib2.923a8.idx' incompatible with GRIB file\n"
     ]
    },
    {
     "name": "stdout",
     "output_type": "stream",
     "text": [
      "Downloading 2019/20190707/gfs.0p25.2019070718.f006.grib2\n"
     ]
    },
    {
     "data": {
      "application/vnd.jupyter.widget-view+json": {
       "model_id": "d4552af2bf9e40989e55966b534e261c",
       "version_major": 2,
       "version_minor": 0
      },
      "text/plain": [
       "Dropdown(description='data file', options=('/local/train/GFS/gfs.0p25.2019070718.f006.grib2',), value='/local/…"
      ]
     },
     "metadata": {},
     "output_type": "display_data"
    },
    {
     "name": "stderr",
     "output_type": "stream",
     "text": [
      "Ignoring index file '/local/train/GFS/gfs.0p25.2019070718.f006.grib2.923a8.idx' incompatible with GRIB file\n",
      "Ignoring index file '/local/train/GFS/gfs.0p25.2019070718.f006.grib2.923a8.idx' incompatible with GRIB file\n"
     ]
    },
    {
     "name": "stdout",
     "output_type": "stream",
     "text": [
      "Downloading 2019/20190708/gfs.0p25.2019070800.f006.grib2\n"
     ]
    },
    {
     "data": {
      "application/vnd.jupyter.widget-view+json": {
       "model_id": "54c773392ac74b82aafe711aa54b8c18",
       "version_major": 2,
       "version_minor": 0
      },
      "text/plain": [
       "Dropdown(description='data file', options=('/local/train/GFS/gfs.0p25.2019070800.f006.grib2',), value='/local/…"
      ]
     },
     "metadata": {},
     "output_type": "display_data"
    },
    {
     "name": "stderr",
     "output_type": "stream",
     "text": [
      "Ignoring index file '/local/train/GFS/gfs.0p25.2019070800.f006.grib2.923a8.idx' incompatible with GRIB file\n",
      "Ignoring index file '/local/train/GFS/gfs.0p25.2019070800.f006.grib2.923a8.idx' incompatible with GRIB file\n"
     ]
    },
    {
     "name": "stdout",
     "output_type": "stream",
     "text": [
      "Downloading 2019/20190708/gfs.0p25.2019070806.f006.grib2\n"
     ]
    },
    {
     "data": {
      "application/vnd.jupyter.widget-view+json": {
       "model_id": "2848e4853d4348fea1b2280a686ceafb",
       "version_major": 2,
       "version_minor": 0
      },
      "text/plain": [
       "Dropdown(description='data file', options=('/local/train/GFS/gfs.0p25.2019070806.f006.grib2',), value='/local/…"
      ]
     },
     "metadata": {},
     "output_type": "display_data"
    },
    {
     "name": "stderr",
     "output_type": "stream",
     "text": [
      "Ignoring index file '/local/train/GFS/gfs.0p25.2019070806.f006.grib2.923a8.idx' incompatible with GRIB file\n",
      "Ignoring index file '/local/train/GFS/gfs.0p25.2019070806.f006.grib2.923a8.idx' incompatible with GRIB file\n"
     ]
    },
    {
     "name": "stdout",
     "output_type": "stream",
     "text": [
      "Downloading 2019/20190708/gfs.0p25.2019070812.f006.grib2\n"
     ]
    },
    {
     "data": {
      "application/vnd.jupyter.widget-view+json": {
       "model_id": "56c56c3f1a6447388fd2f49cc05820fe",
       "version_major": 2,
       "version_minor": 0
      },
      "text/plain": [
       "Dropdown(description='data file', options=('/local/train/GFS/gfs.0p25.2019070812.f006.grib2',), value='/local/…"
      ]
     },
     "metadata": {},
     "output_type": "display_data"
    },
    {
     "name": "stderr",
     "output_type": "stream",
     "text": [
      "Ignoring index file '/local/train/GFS/gfs.0p25.2019070812.f006.grib2.923a8.idx' incompatible with GRIB file\n",
      "Ignoring index file '/local/train/GFS/gfs.0p25.2019070812.f006.grib2.923a8.idx' incompatible with GRIB file\n"
     ]
    },
    {
     "name": "stdout",
     "output_type": "stream",
     "text": [
      "Downloading 2019/20190708/gfs.0p25.2019070818.f006.grib2\n"
     ]
    },
    {
     "data": {
      "application/vnd.jupyter.widget-view+json": {
       "model_id": "a341f1ca92c04123a8a948091914e29d",
       "version_major": 2,
       "version_minor": 0
      },
      "text/plain": [
       "Dropdown(description='data file', options=('/local/train/GFS/gfs.0p25.2019070818.f006.grib2',), value='/local/…"
      ]
     },
     "metadata": {},
     "output_type": "display_data"
    },
    {
     "name": "stderr",
     "output_type": "stream",
     "text": [
      "Ignoring index file '/local/train/GFS/gfs.0p25.2019070818.f006.grib2.923a8.idx' incompatible with GRIB file\n",
      "Ignoring index file '/local/train/GFS/gfs.0p25.2019070818.f006.grib2.923a8.idx' incompatible with GRIB file\n"
     ]
    },
    {
     "name": "stdout",
     "output_type": "stream",
     "text": [
      "Downloading 2019/20190709/gfs.0p25.2019070900.f006.grib2\n"
     ]
    },
    {
     "data": {
      "application/vnd.jupyter.widget-view+json": {
       "model_id": "f9a6816f608a4b44aa78557f5a9463db",
       "version_major": 2,
       "version_minor": 0
      },
      "text/plain": [
       "Dropdown(description='data file', options=('/local/train/GFS/gfs.0p25.2019070900.f006.grib2',), value='/local/…"
      ]
     },
     "metadata": {},
     "output_type": "display_data"
    },
    {
     "name": "stderr",
     "output_type": "stream",
     "text": [
      "Ignoring index file '/local/train/GFS/gfs.0p25.2019070900.f006.grib2.923a8.idx' incompatible with GRIB file\n",
      "Ignoring index file '/local/train/GFS/gfs.0p25.2019070900.f006.grib2.923a8.idx' incompatible with GRIB file\n"
     ]
    },
    {
     "name": "stdout",
     "output_type": "stream",
     "text": [
      "Downloading 2019/20190709/gfs.0p25.2019070906.f006.grib2\n"
     ]
    },
    {
     "data": {
      "application/vnd.jupyter.widget-view+json": {
       "model_id": "4e14fee95aca4c6dbcc6ae179f88089c",
       "version_major": 2,
       "version_minor": 0
      },
      "text/plain": [
       "Dropdown(description='data file', options=('/local/train/GFS/gfs.0p25.2019070906.f006.grib2',), value='/local/…"
      ]
     },
     "metadata": {},
     "output_type": "display_data"
    },
    {
     "name": "stderr",
     "output_type": "stream",
     "text": [
      "Ignoring index file '/local/train/GFS/gfs.0p25.2019070906.f006.grib2.923a8.idx' incompatible with GRIB file\n",
      "Ignoring index file '/local/train/GFS/gfs.0p25.2019070906.f006.grib2.923a8.idx' incompatible with GRIB file\n"
     ]
    },
    {
     "name": "stdout",
     "output_type": "stream",
     "text": [
      "Downloading 2019/20190709/gfs.0p25.2019070912.f006.grib2\n"
     ]
    },
    {
     "data": {
      "application/vnd.jupyter.widget-view+json": {
       "model_id": "ba77852bd41e4a72a254cc946981dacc",
       "version_major": 2,
       "version_minor": 0
      },
      "text/plain": [
       "Dropdown(description='data file', options=('/local/train/GFS/gfs.0p25.2019070912.f006.grib2',), value='/local/…"
      ]
     },
     "metadata": {},
     "output_type": "display_data"
    },
    {
     "name": "stderr",
     "output_type": "stream",
     "text": [
      "Ignoring index file '/local/train/GFS/gfs.0p25.2019070912.f006.grib2.923a8.idx' incompatible with GRIB file\n",
      "Ignoring index file '/local/train/GFS/gfs.0p25.2019070912.f006.grib2.923a8.idx' incompatible with GRIB file\n"
     ]
    },
    {
     "name": "stdout",
     "output_type": "stream",
     "text": [
      "Downloading 2019/20190709/gfs.0p25.2019070918.f006.grib2\n"
     ]
    },
    {
     "data": {
      "application/vnd.jupyter.widget-view+json": {
       "model_id": "05e8c6b26e4a4be2bbaaf6c50c0131d6",
       "version_major": 2,
       "version_minor": 0
      },
      "text/plain": [
       "Dropdown(description='data file', options=('/local/train/GFS/gfs.0p25.2019070918.f006.grib2',), value='/local/…"
      ]
     },
     "metadata": {},
     "output_type": "display_data"
    },
    {
     "name": "stderr",
     "output_type": "stream",
     "text": [
      "Ignoring index file '/local/train/GFS/gfs.0p25.2019070918.f006.grib2.923a8.idx' incompatible with GRIB file\n",
      "Ignoring index file '/local/train/GFS/gfs.0p25.2019070918.f006.grib2.923a8.idx' incompatible with GRIB file\n"
     ]
    },
    {
     "name": "stdout",
     "output_type": "stream",
     "text": [
      "Downloading 2019/20190710/gfs.0p25.2019071000.f006.grib2\n"
     ]
    },
    {
     "data": {
      "application/vnd.jupyter.widget-view+json": {
       "model_id": "a5d12a0a481341c992201b706063875c",
       "version_major": 2,
       "version_minor": 0
      },
      "text/plain": [
       "Dropdown(description='data file', options=('/local/train/GFS/gfs.0p25.2019071000.f006.grib2',), value='/local/…"
      ]
     },
     "metadata": {},
     "output_type": "display_data"
    },
    {
     "name": "stderr",
     "output_type": "stream",
     "text": [
      "Ignoring index file '/local/train/GFS/gfs.0p25.2019071000.f006.grib2.923a8.idx' incompatible with GRIB file\n",
      "Ignoring index file '/local/train/GFS/gfs.0p25.2019071000.f006.grib2.923a8.idx' incompatible with GRIB file\n"
     ]
    },
    {
     "name": "stdout",
     "output_type": "stream",
     "text": [
      "Downloading 2019/20190710/gfs.0p25.2019071006.f006.grib2\n"
     ]
    },
    {
     "data": {
      "application/vnd.jupyter.widget-view+json": {
       "model_id": "7c75171fe0b24538874bce716ace46cf",
       "version_major": 2,
       "version_minor": 0
      },
      "text/plain": [
       "Dropdown(description='data file', options=('/local/train/GFS/gfs.0p25.2019071006.f006.grib2',), value='/local/…"
      ]
     },
     "metadata": {},
     "output_type": "display_data"
    },
    {
     "name": "stderr",
     "output_type": "stream",
     "text": [
      "Ignoring index file '/local/train/GFS/gfs.0p25.2019071006.f006.grib2.923a8.idx' incompatible with GRIB file\n",
      "Ignoring index file '/local/train/GFS/gfs.0p25.2019071006.f006.grib2.923a8.idx' incompatible with GRIB file\n"
     ]
    },
    {
     "name": "stdout",
     "output_type": "stream",
     "text": [
      "Downloading 2019/20190710/gfs.0p25.2019071012.f006.grib2\n"
     ]
    },
    {
     "data": {
      "application/vnd.jupyter.widget-view+json": {
       "model_id": "7859866db1d84ab5a705aa79cc04868d",
       "version_major": 2,
       "version_minor": 0
      },
      "text/plain": [
       "Dropdown(description='data file', options=('/local/train/GFS/gfs.0p25.2019071012.f006.grib2',), value='/local/…"
      ]
     },
     "metadata": {},
     "output_type": "display_data"
    },
    {
     "name": "stderr",
     "output_type": "stream",
     "text": [
      "Ignoring index file '/local/train/GFS/gfs.0p25.2019071012.f006.grib2.923a8.idx' incompatible with GRIB file\n",
      "Ignoring index file '/local/train/GFS/gfs.0p25.2019071012.f006.grib2.923a8.idx' incompatible with GRIB file\n"
     ]
    },
    {
     "name": "stdout",
     "output_type": "stream",
     "text": [
      "Downloading 2019/20190710/gfs.0p25.2019071018.f006.grib2\n"
     ]
    },
    {
     "data": {
      "application/vnd.jupyter.widget-view+json": {
       "model_id": "c76b3a78629d477d8a39c3e1e7c6d87e",
       "version_major": 2,
       "version_minor": 0
      },
      "text/plain": [
       "Dropdown(description='data file', options=('/local/train/GFS/gfs.0p25.2019071018.f006.grib2',), value='/local/…"
      ]
     },
     "metadata": {},
     "output_type": "display_data"
    },
    {
     "name": "stderr",
     "output_type": "stream",
     "text": [
      "Ignoring index file '/local/train/GFS/gfs.0p25.2019071018.f006.grib2.923a8.idx' incompatible with GRIB file\n",
      "Ignoring index file '/local/train/GFS/gfs.0p25.2019071018.f006.grib2.923a8.idx' incompatible with GRIB file\n"
     ]
    },
    {
     "name": "stdout",
     "output_type": "stream",
     "text": [
      "Downloading 2019/20190711/gfs.0p25.2019071100.f006.grib2\n"
     ]
    },
    {
     "data": {
      "application/vnd.jupyter.widget-view+json": {
       "model_id": "cf4657a92e1441fe89eeacf62697722f",
       "version_major": 2,
       "version_minor": 0
      },
      "text/plain": [
       "Dropdown(description='data file', options=('/local/train/GFS/gfs.0p25.2019071100.f006.grib2',), value='/local/…"
      ]
     },
     "metadata": {},
     "output_type": "display_data"
    },
    {
     "name": "stderr",
     "output_type": "stream",
     "text": [
      "Ignoring index file '/local/train/GFS/gfs.0p25.2019071100.f006.grib2.923a8.idx' incompatible with GRIB file\n",
      "Ignoring index file '/local/train/GFS/gfs.0p25.2019071100.f006.grib2.923a8.idx' incompatible with GRIB file\n"
     ]
    },
    {
     "name": "stdout",
     "output_type": "stream",
     "text": [
      "Downloading 2019/20190711/gfs.0p25.2019071106.f006.grib2\n"
     ]
    },
    {
     "data": {
      "application/vnd.jupyter.widget-view+json": {
       "model_id": "1944f24245294b59aafe694ee8579a2b",
       "version_major": 2,
       "version_minor": 0
      },
      "text/plain": [
       "Dropdown(description='data file', options=('/local/train/GFS/gfs.0p25.2019071106.f006.grib2',), value='/local/…"
      ]
     },
     "metadata": {},
     "output_type": "display_data"
    },
    {
     "name": "stderr",
     "output_type": "stream",
     "text": [
      "Ignoring index file '/local/train/GFS/gfs.0p25.2019071106.f006.grib2.923a8.idx' incompatible with GRIB file\n",
      "Ignoring index file '/local/train/GFS/gfs.0p25.2019071106.f006.grib2.923a8.idx' incompatible with GRIB file\n"
     ]
    },
    {
     "name": "stdout",
     "output_type": "stream",
     "text": [
      "Downloading 2019/20190711/gfs.0p25.2019071112.f006.grib2\n"
     ]
    },
    {
     "data": {
      "application/vnd.jupyter.widget-view+json": {
       "model_id": "b91fa4f543754253a5e25e1eaa639790",
       "version_major": 2,
       "version_minor": 0
      },
      "text/plain": [
       "Dropdown(description='data file', options=('/local/train/GFS/gfs.0p25.2019071112.f006.grib2',), value='/local/…"
      ]
     },
     "metadata": {},
     "output_type": "display_data"
    },
    {
     "name": "stderr",
     "output_type": "stream",
     "text": [
      "Ignoring index file '/local/train/GFS/gfs.0p25.2019071112.f006.grib2.923a8.idx' incompatible with GRIB file\n",
      "Ignoring index file '/local/train/GFS/gfs.0p25.2019071112.f006.grib2.923a8.idx' incompatible with GRIB file\n"
     ]
    },
    {
     "name": "stdout",
     "output_type": "stream",
     "text": [
      "Downloading 2019/20190711/gfs.0p25.2019071118.f006.grib2\n"
     ]
    },
    {
     "data": {
      "application/vnd.jupyter.widget-view+json": {
       "model_id": "96f7ace80fa9469980f8029755a4c385",
       "version_major": 2,
       "version_minor": 0
      },
      "text/plain": [
       "Dropdown(description='data file', options=('/local/train/GFS/gfs.0p25.2019071118.f006.grib2',), value='/local/…"
      ]
     },
     "metadata": {},
     "output_type": "display_data"
    },
    {
     "name": "stderr",
     "output_type": "stream",
     "text": [
      "Ignoring index file '/local/train/GFS/gfs.0p25.2019071118.f006.grib2.923a8.idx' incompatible with GRIB file\n",
      "Ignoring index file '/local/train/GFS/gfs.0p25.2019071118.f006.grib2.923a8.idx' incompatible with GRIB file\n"
     ]
    },
    {
     "name": "stdout",
     "output_type": "stream",
     "text": [
      "Downloading 2019/20190712/gfs.0p25.2019071200.f006.grib2\n"
     ]
    },
    {
     "data": {
      "application/vnd.jupyter.widget-view+json": {
       "model_id": "4e4b0b55b2004875b5bb8fcca5735a58",
       "version_major": 2,
       "version_minor": 0
      },
      "text/plain": [
       "Dropdown(description='data file', options=('/local/train/GFS/gfs.0p25.2019071200.f006.grib2',), value='/local/…"
      ]
     },
     "metadata": {},
     "output_type": "display_data"
    },
    {
     "name": "stderr",
     "output_type": "stream",
     "text": [
      "Ignoring index file '/local/train/GFS/gfs.0p25.2019071200.f006.grib2.923a8.idx' incompatible with GRIB file\n",
      "Ignoring index file '/local/train/GFS/gfs.0p25.2019071200.f006.grib2.923a8.idx' incompatible with GRIB file\n"
     ]
    },
    {
     "name": "stdout",
     "output_type": "stream",
     "text": [
      "Downloading 2019/20190712/gfs.0p25.2019071206.f006.grib2\n"
     ]
    },
    {
     "data": {
      "application/vnd.jupyter.widget-view+json": {
       "model_id": "e6498c84edb642988fcde020d8de2a30",
       "version_major": 2,
       "version_minor": 0
      },
      "text/plain": [
       "Dropdown(description='data file', options=('/local/train/GFS/gfs.0p25.2019071206.f006.grib2',), value='/local/…"
      ]
     },
     "metadata": {},
     "output_type": "display_data"
    },
    {
     "name": "stderr",
     "output_type": "stream",
     "text": [
      "Ignoring index file '/local/train/GFS/gfs.0p25.2019071206.f006.grib2.923a8.idx' incompatible with GRIB file\n",
      "Ignoring index file '/local/train/GFS/gfs.0p25.2019071206.f006.grib2.923a8.idx' incompatible with GRIB file\n"
     ]
    },
    {
     "name": "stdout",
     "output_type": "stream",
     "text": [
      "Downloading 2019/20190712/gfs.0p25.2019071212.f006.grib2\n"
     ]
    },
    {
     "data": {
      "application/vnd.jupyter.widget-view+json": {
       "model_id": "a8b21ffdfc274062a2b61747a258ebbc",
       "version_major": 2,
       "version_minor": 0
      },
      "text/plain": [
       "Dropdown(description='data file', options=('/local/train/GFS/gfs.0p25.2019071212.f006.grib2',), value='/local/…"
      ]
     },
     "metadata": {},
     "output_type": "display_data"
    },
    {
     "name": "stderr",
     "output_type": "stream",
     "text": [
      "Ignoring index file '/local/train/GFS/gfs.0p25.2019071212.f006.grib2.923a8.idx' incompatible with GRIB file\n",
      "Ignoring index file '/local/train/GFS/gfs.0p25.2019071212.f006.grib2.923a8.idx' incompatible with GRIB file\n"
     ]
    },
    {
     "name": "stdout",
     "output_type": "stream",
     "text": [
      "Downloading 2019/20190712/gfs.0p25.2019071218.f006.grib2\n"
     ]
    },
    {
     "data": {
      "application/vnd.jupyter.widget-view+json": {
       "model_id": "5aa4cfeac1a9406c81cd0d67b6046ac1",
       "version_major": 2,
       "version_minor": 0
      },
      "text/plain": [
       "Dropdown(description='data file', options=('/local/train/GFS/gfs.0p25.2019071218.f006.grib2',), value='/local/…"
      ]
     },
     "metadata": {},
     "output_type": "display_data"
    },
    {
     "name": "stderr",
     "output_type": "stream",
     "text": [
      "Ignoring index file '/local/train/GFS/gfs.0p25.2019071218.f006.grib2.923a8.idx' incompatible with GRIB file\n",
      "Ignoring index file '/local/train/GFS/gfs.0p25.2019071218.f006.grib2.923a8.idx' incompatible with GRIB file\n"
     ]
    },
    {
     "name": "stdout",
     "output_type": "stream",
     "text": [
      "Downloading 2019/20190713/gfs.0p25.2019071300.f006.grib2\n"
     ]
    },
    {
     "data": {
      "application/vnd.jupyter.widget-view+json": {
       "model_id": "8fe6c2a612a1486c80f028a6f1435556",
       "version_major": 2,
       "version_minor": 0
      },
      "text/plain": [
       "Dropdown(description='data file', options=('/local/train/GFS/gfs.0p25.2019071300.f006.grib2',), value='/local/…"
      ]
     },
     "metadata": {},
     "output_type": "display_data"
    },
    {
     "name": "stderr",
     "output_type": "stream",
     "text": [
      "Ignoring index file '/local/train/GFS/gfs.0p25.2019071300.f006.grib2.923a8.idx' incompatible with GRIB file\n",
      "Ignoring index file '/local/train/GFS/gfs.0p25.2019071300.f006.grib2.923a8.idx' incompatible with GRIB file\n"
     ]
    },
    {
     "name": "stdout",
     "output_type": "stream",
     "text": [
      "Downloading 2019/20190713/gfs.0p25.2019071306.f006.grib2\n"
     ]
    },
    {
     "data": {
      "application/vnd.jupyter.widget-view+json": {
       "model_id": "f1137cac3aea4739ab2d7cf42d9436b7",
       "version_major": 2,
       "version_minor": 0
      },
      "text/plain": [
       "Dropdown(description='data file', options=('/local/train/GFS/gfs.0p25.2019071306.f006.grib2',), value='/local/…"
      ]
     },
     "metadata": {},
     "output_type": "display_data"
    },
    {
     "name": "stderr",
     "output_type": "stream",
     "text": [
      "Ignoring index file '/local/train/GFS/gfs.0p25.2019071306.f006.grib2.923a8.idx' incompatible with GRIB file\n",
      "Ignoring index file '/local/train/GFS/gfs.0p25.2019071306.f006.grib2.923a8.idx' incompatible with GRIB file\n"
     ]
    },
    {
     "name": "stdout",
     "output_type": "stream",
     "text": [
      "Downloading 2019/20190713/gfs.0p25.2019071312.f006.grib2\n"
     ]
    },
    {
     "data": {
      "application/vnd.jupyter.widget-view+json": {
       "model_id": "fdddc3c0aa9e4107a9f6b298a7969172",
       "version_major": 2,
       "version_minor": 0
      },
      "text/plain": [
       "Dropdown(description='data file', options=('/local/train/GFS/gfs.0p25.2019071312.f006.grib2',), value='/local/…"
      ]
     },
     "metadata": {},
     "output_type": "display_data"
    },
    {
     "name": "stderr",
     "output_type": "stream",
     "text": [
      "Ignoring index file '/local/train/GFS/gfs.0p25.2019071312.f006.grib2.923a8.idx' incompatible with GRIB file\n",
      "Ignoring index file '/local/train/GFS/gfs.0p25.2019071312.f006.grib2.923a8.idx' incompatible with GRIB file\n"
     ]
    },
    {
     "name": "stdout",
     "output_type": "stream",
     "text": [
      "Downloading 2019/20190713/gfs.0p25.2019071318.f006.grib2\n"
     ]
    },
    {
     "data": {
      "application/vnd.jupyter.widget-view+json": {
       "model_id": "d0655a2a06f54df5917df2849d51deb4",
       "version_major": 2,
       "version_minor": 0
      },
      "text/plain": [
       "Dropdown(description='data file', options=('/local/train/GFS/gfs.0p25.2019071318.f006.grib2',), value='/local/…"
      ]
     },
     "metadata": {},
     "output_type": "display_data"
    },
    {
     "name": "stderr",
     "output_type": "stream",
     "text": [
      "Ignoring index file '/local/train/GFS/gfs.0p25.2019071318.f006.grib2.923a8.idx' incompatible with GRIB file\n",
      "Ignoring index file '/local/train/GFS/gfs.0p25.2019071318.f006.grib2.923a8.idx' incompatible with GRIB file\n"
     ]
    },
    {
     "name": "stdout",
     "output_type": "stream",
     "text": [
      "Downloading 2019/20190714/gfs.0p25.2019071400.f006.grib2\n"
     ]
    },
    {
     "data": {
      "application/vnd.jupyter.widget-view+json": {
       "model_id": "c01e3df86ba5458fb0599b171f148dfc",
       "version_major": 2,
       "version_minor": 0
      },
      "text/plain": [
       "Dropdown(description='data file', options=('/local/train/GFS/gfs.0p25.2019071400.f006.grib2',), value='/local/…"
      ]
     },
     "metadata": {},
     "output_type": "display_data"
    },
    {
     "name": "stderr",
     "output_type": "stream",
     "text": [
      "Ignoring index file '/local/train/GFS/gfs.0p25.2019071400.f006.grib2.923a8.idx' incompatible with GRIB file\n",
      "Ignoring index file '/local/train/GFS/gfs.0p25.2019071400.f006.grib2.923a8.idx' incompatible with GRIB file\n"
     ]
    },
    {
     "name": "stdout",
     "output_type": "stream",
     "text": [
      "Downloading 2019/20190714/gfs.0p25.2019071406.f006.grib2\n"
     ]
    },
    {
     "data": {
      "application/vnd.jupyter.widget-view+json": {
       "model_id": "d2ebb8af29074619bbe0b291ef31dcbe",
       "version_major": 2,
       "version_minor": 0
      },
      "text/plain": [
       "Dropdown(description='data file', options=('/local/train/GFS/gfs.0p25.2019071406.f006.grib2',), value='/local/…"
      ]
     },
     "metadata": {},
     "output_type": "display_data"
    },
    {
     "name": "stderr",
     "output_type": "stream",
     "text": [
      "Ignoring index file '/local/train/GFS/gfs.0p25.2019071406.f006.grib2.923a8.idx' incompatible with GRIB file\n",
      "Ignoring index file '/local/train/GFS/gfs.0p25.2019071406.f006.grib2.923a8.idx' incompatible with GRIB file\n"
     ]
    },
    {
     "name": "stdout",
     "output_type": "stream",
     "text": [
      "Downloading 2019/20190714/gfs.0p25.2019071412.f006.grib2\n"
     ]
    },
    {
     "data": {
      "application/vnd.jupyter.widget-view+json": {
       "model_id": "718937a8a50b43e883d3fe4637a4e6f5",
       "version_major": 2,
       "version_minor": 0
      },
      "text/plain": [
       "Dropdown(description='data file', options=('/local/train/GFS/gfs.0p25.2019071412.f006.grib2',), value='/local/…"
      ]
     },
     "metadata": {},
     "output_type": "display_data"
    },
    {
     "name": "stderr",
     "output_type": "stream",
     "text": [
      "Ignoring index file '/local/train/GFS/gfs.0p25.2019071412.f006.grib2.923a8.idx' incompatible with GRIB file\n",
      "Ignoring index file '/local/train/GFS/gfs.0p25.2019071412.f006.grib2.923a8.idx' incompatible with GRIB file\n"
     ]
    },
    {
     "name": "stdout",
     "output_type": "stream",
     "text": [
      "Downloading 2019/20190714/gfs.0p25.2019071418.f006.grib2\n"
     ]
    },
    {
     "data": {
      "application/vnd.jupyter.widget-view+json": {
       "model_id": "89cfd9b1704c40e19c5c6ffdcf02384e",
       "version_major": 2,
       "version_minor": 0
      },
      "text/plain": [
       "Dropdown(description='data file', options=('/local/train/GFS/gfs.0p25.2019071418.f006.grib2',), value='/local/…"
      ]
     },
     "metadata": {},
     "output_type": "display_data"
    },
    {
     "name": "stderr",
     "output_type": "stream",
     "text": [
      "Ignoring index file '/local/train/GFS/gfs.0p25.2019071418.f006.grib2.923a8.idx' incompatible with GRIB file\n",
      "Ignoring index file '/local/train/GFS/gfs.0p25.2019071418.f006.grib2.923a8.idx' incompatible with GRIB file\n"
     ]
    },
    {
     "name": "stdout",
     "output_type": "stream",
     "text": [
      "Downloading 2019/20190715/gfs.0p25.2019071500.f006.grib2\n"
     ]
    },
    {
     "data": {
      "application/vnd.jupyter.widget-view+json": {
       "model_id": "88a440dae54848a2a68d0772616c0a7a",
       "version_major": 2,
       "version_minor": 0
      },
      "text/plain": [
       "Dropdown(description='data file', options=('/local/train/GFS/gfs.0p25.2019071500.f006.grib2',), value='/local/…"
      ]
     },
     "metadata": {},
     "output_type": "display_data"
    },
    {
     "name": "stderr",
     "output_type": "stream",
     "text": [
      "Ignoring index file '/local/train/GFS/gfs.0p25.2019071500.f006.grib2.923a8.idx' incompatible with GRIB file\n",
      "Ignoring index file '/local/train/GFS/gfs.0p25.2019071500.f006.grib2.923a8.idx' incompatible with GRIB file\n"
     ]
    },
    {
     "name": "stdout",
     "output_type": "stream",
     "text": [
      "Downloading 2019/20190715/gfs.0p25.2019071506.f006.grib2\n"
     ]
    },
    {
     "data": {
      "application/vnd.jupyter.widget-view+json": {
       "model_id": "c1b7b86998224629b9c15d62480124fe",
       "version_major": 2,
       "version_minor": 0
      },
      "text/plain": [
       "Dropdown(description='data file', options=('/local/train/GFS/gfs.0p25.2019071506.f006.grib2',), value='/local/…"
      ]
     },
     "metadata": {},
     "output_type": "display_data"
    },
    {
     "name": "stderr",
     "output_type": "stream",
     "text": [
      "Ignoring index file '/local/train/GFS/gfs.0p25.2019071506.f006.grib2.923a8.idx' incompatible with GRIB file\n",
      "Ignoring index file '/local/train/GFS/gfs.0p25.2019071506.f006.grib2.923a8.idx' incompatible with GRIB file\n"
     ]
    },
    {
     "name": "stdout",
     "output_type": "stream",
     "text": [
      "Downloading 2019/20190715/gfs.0p25.2019071512.f006.grib2\n"
     ]
    },
    {
     "data": {
      "application/vnd.jupyter.widget-view+json": {
       "model_id": "ab477d3a0f6a4440a4ce7a93ad0b1665",
       "version_major": 2,
       "version_minor": 0
      },
      "text/plain": [
       "Dropdown(description='data file', options=('/local/train/GFS/gfs.0p25.2019071512.f006.grib2',), value='/local/…"
      ]
     },
     "metadata": {},
     "output_type": "display_data"
    },
    {
     "name": "stderr",
     "output_type": "stream",
     "text": [
      "Ignoring index file '/local/train/GFS/gfs.0p25.2019071512.f006.grib2.923a8.idx' incompatible with GRIB file\n",
      "Ignoring index file '/local/train/GFS/gfs.0p25.2019071512.f006.grib2.923a8.idx' incompatible with GRIB file\n"
     ]
    },
    {
     "name": "stdout",
     "output_type": "stream",
     "text": [
      "Downloading 2019/20190715/gfs.0p25.2019071518.f006.grib2\n"
     ]
    },
    {
     "data": {
      "application/vnd.jupyter.widget-view+json": {
       "model_id": "470069c8d6804f829a5a1063c81a5a7c",
       "version_major": 2,
       "version_minor": 0
      },
      "text/plain": [
       "Dropdown(description='data file', options=('/local/train/GFS/gfs.0p25.2019071518.f006.grib2',), value='/local/…"
      ]
     },
     "metadata": {},
     "output_type": "display_data"
    },
    {
     "name": "stderr",
     "output_type": "stream",
     "text": [
      "Ignoring index file '/local/train/GFS/gfs.0p25.2019071518.f006.grib2.923a8.idx' incompatible with GRIB file\n",
      "Ignoring index file '/local/train/GFS/gfs.0p25.2019071518.f006.grib2.923a8.idx' incompatible with GRIB file\n"
     ]
    },
    {
     "name": "stdout",
     "output_type": "stream",
     "text": [
      "Downloading 2019/20190716/gfs.0p25.2019071600.f006.grib2\n"
     ]
    },
    {
     "data": {
      "application/vnd.jupyter.widget-view+json": {
       "model_id": "f23194f36b1d40d48affd0dbdcfdcbd0",
       "version_major": 2,
       "version_minor": 0
      },
      "text/plain": [
       "Dropdown(description='data file', options=('/local/train/GFS/gfs.0p25.2019071600.f006.grib2',), value='/local/…"
      ]
     },
     "metadata": {},
     "output_type": "display_data"
    },
    {
     "name": "stderr",
     "output_type": "stream",
     "text": [
      "Ignoring index file '/local/train/GFS/gfs.0p25.2019071600.f006.grib2.923a8.idx' incompatible with GRIB file\n",
      "Ignoring index file '/local/train/GFS/gfs.0p25.2019071600.f006.grib2.923a8.idx' incompatible with GRIB file\n"
     ]
    },
    {
     "name": "stdout",
     "output_type": "stream",
     "text": [
      "Downloading 2019/20190716/gfs.0p25.2019071606.f006.grib2\n"
     ]
    },
    {
     "data": {
      "application/vnd.jupyter.widget-view+json": {
       "model_id": "61edf904572b482a9a7c8d6238e009f3",
       "version_major": 2,
       "version_minor": 0
      },
      "text/plain": [
       "Dropdown(description='data file', options=('/local/train/GFS/gfs.0p25.2019071606.f006.grib2',), value='/local/…"
      ]
     },
     "metadata": {},
     "output_type": "display_data"
    },
    {
     "name": "stderr",
     "output_type": "stream",
     "text": [
      "Ignoring index file '/local/train/GFS/gfs.0p25.2019071606.f006.grib2.923a8.idx' incompatible with GRIB file\n",
      "Ignoring index file '/local/train/GFS/gfs.0p25.2019071606.f006.grib2.923a8.idx' incompatible with GRIB file\n"
     ]
    },
    {
     "name": "stdout",
     "output_type": "stream",
     "text": [
      "Downloading 2019/20190716/gfs.0p25.2019071612.f006.grib2\n"
     ]
    },
    {
     "data": {
      "application/vnd.jupyter.widget-view+json": {
       "model_id": "16a45637e1c94c4e85714cbe18fedf36",
       "version_major": 2,
       "version_minor": 0
      },
      "text/plain": [
       "Dropdown(description='data file', options=('/local/train/GFS/gfs.0p25.2019071612.f006.grib2',), value='/local/…"
      ]
     },
     "metadata": {},
     "output_type": "display_data"
    },
    {
     "name": "stderr",
     "output_type": "stream",
     "text": [
      "Ignoring index file '/local/train/GFS/gfs.0p25.2019071612.f006.grib2.923a8.idx' incompatible with GRIB file\n",
      "Ignoring index file '/local/train/GFS/gfs.0p25.2019071612.f006.grib2.923a8.idx' incompatible with GRIB file\n"
     ]
    },
    {
     "name": "stdout",
     "output_type": "stream",
     "text": [
      "Downloading 2019/20190716/gfs.0p25.2019071618.f006.grib2\n"
     ]
    },
    {
     "data": {
      "application/vnd.jupyter.widget-view+json": {
       "model_id": "9a093f33defb400ebbdc408ab318340b",
       "version_major": 2,
       "version_minor": 0
      },
      "text/plain": [
       "Dropdown(description='data file', options=('/local/train/GFS/gfs.0p25.2019071618.f006.grib2',), value='/local/…"
      ]
     },
     "metadata": {},
     "output_type": "display_data"
    },
    {
     "name": "stderr",
     "output_type": "stream",
     "text": [
      "Ignoring index file '/local/train/GFS/gfs.0p25.2019071618.f006.grib2.923a8.idx' incompatible with GRIB file\n",
      "Ignoring index file '/local/train/GFS/gfs.0p25.2019071618.f006.grib2.923a8.idx' incompatible with GRIB file\n"
     ]
    },
    {
     "name": "stdout",
     "output_type": "stream",
     "text": [
      "Downloading 2019/20190717/gfs.0p25.2019071700.f006.grib2\n"
     ]
    }
   ],
   "source": [
    "%%time\n",
    "#Iterate through all file names. \n",
    "# for year in ['2018', '2019', '2020']: \n",
    "#     for month in ['01', '02', '03', '04', '05', '06', '07', '08', '09', '10', '11', '12']: \n",
    "#         for day in ['01', '02', '03', '04', '05', '06', '07', '08', '09', '10', '11', '12', '13', '14', '15', '16', '17', '18', '19', '20', '21', '22', '23', '24', '25', '26', '27', '28', '29', '30', '31']: \n",
    "#             for time in ['00', '06', '12', '18']: \n",
    "\n",
    "\n",
    "years = ['2019']\n",
    "months = ['07','08', '09', '10', '11', '12']\n",
    "days = ['01', '02', '03', '04', '05', '06', '07', '08', '09', '10', '11', '12', '13', '14', '15', '16', '17', '18', '19', '20', '21', '22', '23', '24', '25', '26', '27', '28', '29', '30', '31']\n",
    "times = ['00', '06', '12', '18']\n",
    "\n",
    "run_gfs_pipeline(years, months, days, times)"
   ]
  },
  {
   "cell_type": "code",
   "execution_count": null,
   "id": "e78d9233-9e8f-416e-b228-65fbebcaca41",
   "metadata": {},
   "outputs": [],
   "source": [
    "# %%time\n",
    "# #Now try to parellize the for loops \n",
    "# years = ['2018']\n",
    "# months = ['02']\n",
    "# days = ['01']\n",
    "# times = ['00', '06', '12', '18']\n",
    "\n",
    "# args = (years, months, days, times)\n",
    "\n",
    "# def pool_handler(): \n",
    "#     p = Pool(4)\n",
    "#     p.map(run_gfs_pipeline, args)\n",
    "    \n",
    "# if __name__ == '__main__':\n",
    "#     pool_handler()\n"
   ]
  },
  {
   "cell_type": "code",
   "execution_count": null,
   "id": "0944bb0e-36c3-4a62-8b5a-8f46b8500e87",
   "metadata": {},
   "outputs": [],
   "source": [
    "# %%time\n",
    "# #Multiprocessing\n",
    "# # #Now try to parellize the for loops \n",
    "# years = ['2018']\n",
    "# months = ['02']\n",
    "# days = ['01']\n",
    "# times = ['00', '06', '12', '18']\n",
    "\n",
    "# args = (years, months, days, times)\n",
    "\n",
    "# task = ProcessWithLogAndControls(target=run_gfs_pipeline, args=(args), name=\"GFS Pipeline\")\n",
    "# task.run()"
   ]
  },
  {
   "cell_type": "code",
   "execution_count": null,
   "id": "9738daaf-8dee-4995-971c-15c3500174fc",
   "metadata": {},
   "outputs": [],
   "source": []
  },
  {
   "cell_type": "markdown",
   "id": "d1acb5e8-4a9f-4adf-9d53-2f6bddde9d5f",
   "metadata": {},
   "source": [
    " #### Now to download the files"
   ]
  },
  {
   "cell_type": "code",
   "execution_count": null,
   "id": "4e266283-82c6-4b8d-865c-d13e3f5f3363",
   "metadata": {},
   "outputs": [],
   "source": [
    "#TODOs: \n",
    "# Do this for each region and concatenate the 3 dataframes into one dataframe. (Do we want to add column with region labeled?). \n",
    "# Create strings for each possible filename (i.e. 01 through 31 for 01 through 12 months for 2018 to 2020 years). \n",
    "# Use Srishti's S3 bucket and add a test csv file to the bucket (so we don't have to store locally). \n",
    "# Pull file download, df creation, df to csv save to s3 (forecast time) and file deletion into one loop function (based on dates above). Quick exit if error bc date doesn't exist (i.e. 31).\n",
    "# Make sure we can pass tuples or some combination for level and variable name into function so that we can quickly change variables included. \n",
    "# Add a timeit call to understand how long it takes to run end-to-end pipeline. "
   ]
  },
  {
   "cell_type": "code",
   "execution_count": 34,
   "id": "07ae6ff3-ae96-45ae-b915-679bc86e9df7",
   "metadata": {},
   "outputs": [
    {
     "data": {
      "text/html": [
       "<div>\n",
       "<style scoped>\n",
       "    .dataframe tbody tr th:only-of-type {\n",
       "        vertical-align: middle;\n",
       "    }\n",
       "\n",
       "    .dataframe tbody tr th {\n",
       "        vertical-align: top;\n",
       "    }\n",
       "\n",
       "    .dataframe thead th {\n",
       "        text-align: right;\n",
       "    }\n",
       "</style>\n",
       "<table border=\"1\" class=\"dataframe\">\n",
       "  <thead>\n",
       "    <tr style=\"text-align: right;\">\n",
       "      <th></th>\n",
       "      <th></th>\n",
       "      <th>date</th>\n",
       "      <th>grid_id</th>\n",
       "      <th>t_surface00</th>\n",
       "      <th>pbl_surface00</th>\n",
       "      <th>hindex_surface00</th>\n",
       "      <th>gust_surface00</th>\n",
       "      <th>r_atmosphere00</th>\n",
       "      <th>pwat_atmosphere00</th>\n",
       "      <th>u_pbl00</th>\n",
       "      <th>v_pbl00</th>\n",
       "      <th>...</th>\n",
       "      <th>vrate_pbl12</th>\n",
       "      <th>t_surface18</th>\n",
       "      <th>pbl_surface18</th>\n",
       "      <th>hindex_surface18</th>\n",
       "      <th>gust_surface18</th>\n",
       "      <th>r_atmosphere18</th>\n",
       "      <th>pwat_atmosphere18</th>\n",
       "      <th>u_pbl18</th>\n",
       "      <th>v_pbl18</th>\n",
       "      <th>vrate_pbl18</th>\n",
       "    </tr>\n",
       "    <tr>\n",
       "      <th>latitude</th>\n",
       "      <th>longitude</th>\n",
       "      <th></th>\n",
       "      <th></th>\n",
       "      <th></th>\n",
       "      <th></th>\n",
       "      <th></th>\n",
       "      <th></th>\n",
       "      <th></th>\n",
       "      <th></th>\n",
       "      <th></th>\n",
       "      <th></th>\n",
       "      <th></th>\n",
       "      <th></th>\n",
       "      <th></th>\n",
       "      <th></th>\n",
       "      <th></th>\n",
       "      <th></th>\n",
       "      <th></th>\n",
       "      <th></th>\n",
       "      <th></th>\n",
       "      <th></th>\n",
       "      <th></th>\n",
       "    </tr>\n",
       "  </thead>\n",
       "  <tbody>\n",
       "    <tr>\n",
       "      <th>25.00</th>\n",
       "      <th>301.50</th>\n",
       "      <td>2019-06-13</td>\n",
       "      <td>1X116</td>\n",
       "      <td>300.215790</td>\n",
       "      <td>978.826843</td>\n",
       "      <td>NaN</td>\n",
       "      <td>4.700011</td>\n",
       "      <td>44.0</td>\n",
       "      <td>40.700001</td>\n",
       "      <td>-4.9302</td>\n",
       "      <td>-0.262259</td>\n",
       "      <td>...</td>\n",
       "      <td>5000.0</td>\n",
       "      <td>300.282898</td>\n",
       "      <td>877.404663</td>\n",
       "      <td>NaN</td>\n",
       "      <td>5.527215</td>\n",
       "      <td>36.0</td>\n",
       "      <td>35.700001</td>\n",
       "      <td>-5.750403</td>\n",
       "      <td>-0.1078</td>\n",
       "      <td>5000.0</td>\n",
       "    </tr>\n",
       "    <tr>\n",
       "      <th>28.50</th>\n",
       "      <th>257.25</th>\n",
       "      <td>2019-06-13</td>\n",
       "      <td>1Z2W7</td>\n",
       "      <td>297.115784</td>\n",
       "      <td>125.626816</td>\n",
       "      <td>5.0</td>\n",
       "      <td>3.400011</td>\n",
       "      <td>30.0</td>\n",
       "      <td>25.299999</td>\n",
       "      <td>-2.9302</td>\n",
       "      <td>1.937741</td>\n",
       "      <td>...</td>\n",
       "      <td>6000.0</td>\n",
       "      <td>310.082886</td>\n",
       "      <td>2283.164795</td>\n",
       "      <td>6.0</td>\n",
       "      <td>4.127215</td>\n",
       "      <td>27.0</td>\n",
       "      <td>23.900000</td>\n",
       "      <td>-1.150403</td>\n",
       "      <td>3.3922</td>\n",
       "      <td>8000.0</td>\n",
       "    </tr>\n",
       "    <tr>\n",
       "      <th>33.75</th>\n",
       "      <th>62.00</th>\n",
       "      <td>2019-06-13</td>\n",
       "      <td>3S31A</td>\n",
       "      <td>316.815796</td>\n",
       "      <td>616.106812</td>\n",
       "      <td>6.0</td>\n",
       "      <td>5.500010</td>\n",
       "      <td>8.0</td>\n",
       "      <td>6.000000</td>\n",
       "      <td>-1.2302</td>\n",
       "      <td>-5.662259</td>\n",
       "      <td>...</td>\n",
       "      <td>4000.0</td>\n",
       "      <td>290.482880</td>\n",
       "      <td>108.284676</td>\n",
       "      <td>5.0</td>\n",
       "      <td>7.627215</td>\n",
       "      <td>10.0</td>\n",
       "      <td>7.700000</td>\n",
       "      <td>-2.950403</td>\n",
       "      <td>-7.2078</td>\n",
       "      <td>1000.0</td>\n",
       "    </tr>\n",
       "    <tr>\n",
       "      <th rowspan=\"2\" valign=\"top\">28.50</th>\n",
       "      <th>257.00</th>\n",
       "      <td>2019-06-13</td>\n",
       "      <td>6EIL6</td>\n",
       "      <td>299.215790</td>\n",
       "      <td>574.186829</td>\n",
       "      <td>5.0</td>\n",
       "      <td>10.300011</td>\n",
       "      <td>31.0</td>\n",
       "      <td>27.100000</td>\n",
       "      <td>-7.5302</td>\n",
       "      <td>7.537741</td>\n",
       "      <td>...</td>\n",
       "      <td>9000.0</td>\n",
       "      <td>312.482880</td>\n",
       "      <td>2738.524658</td>\n",
       "      <td>6.0</td>\n",
       "      <td>3.827215</td>\n",
       "      <td>26.0</td>\n",
       "      <td>24.299999</td>\n",
       "      <td>-1.650403</td>\n",
       "      <td>2.8922</td>\n",
       "      <td>9000.0</td>\n",
       "    </tr>\n",
       "    <tr>\n",
       "      <th>257.00</th>\n",
       "      <td>2019-06-13</td>\n",
       "      <td>7334C</td>\n",
       "      <td>299.215790</td>\n",
       "      <td>574.186829</td>\n",
       "      <td>5.0</td>\n",
       "      <td>10.300011</td>\n",
       "      <td>31.0</td>\n",
       "      <td>27.100000</td>\n",
       "      <td>-7.5302</td>\n",
       "      <td>7.537741</td>\n",
       "      <td>...</td>\n",
       "      <td>9000.0</td>\n",
       "      <td>312.482880</td>\n",
       "      <td>2738.524658</td>\n",
       "      <td>6.0</td>\n",
       "      <td>3.827215</td>\n",
       "      <td>26.0</td>\n",
       "      <td>24.299999</td>\n",
       "      <td>-1.650403</td>\n",
       "      <td>2.8922</td>\n",
       "      <td>9000.0</td>\n",
       "    </tr>\n",
       "    <tr>\n",
       "      <th>...</th>\n",
       "      <th>...</th>\n",
       "      <td>...</td>\n",
       "      <td>...</td>\n",
       "      <td>...</td>\n",
       "      <td>...</td>\n",
       "      <td>...</td>\n",
       "      <td>...</td>\n",
       "      <td>...</td>\n",
       "      <td>...</td>\n",
       "      <td>...</td>\n",
       "      <td>...</td>\n",
       "      <td>...</td>\n",
       "      <td>...</td>\n",
       "      <td>...</td>\n",
       "      <td>...</td>\n",
       "      <td>...</td>\n",
       "      <td>...</td>\n",
       "      <td>...</td>\n",
       "      <td>...</td>\n",
       "      <td>...</td>\n",
       "      <td>...</td>\n",
       "      <td>...</td>\n",
       "    </tr>\n",
       "    <tr>\n",
       "      <th>28.75</th>\n",
       "      <th>257.00</th>\n",
       "      <td>2019-06-13</td>\n",
       "      <td>ZF3ZW</td>\n",
       "      <td>300.615784</td>\n",
       "      <td>444.026825</td>\n",
       "      <td>5.0</td>\n",
       "      <td>3.700011</td>\n",
       "      <td>32.0</td>\n",
       "      <td>28.299999</td>\n",
       "      <td>-3.0302</td>\n",
       "      <td>0.937741</td>\n",
       "      <td>...</td>\n",
       "      <td>6000.0</td>\n",
       "      <td>314.382874</td>\n",
       "      <td>2922.044678</td>\n",
       "      <td>6.0</td>\n",
       "      <td>2.627215</td>\n",
       "      <td>23.0</td>\n",
       "      <td>22.700001</td>\n",
       "      <td>-1.550403</td>\n",
       "      <td>2.4922</td>\n",
       "      <td>9000.0</td>\n",
       "    </tr>\n",
       "    <tr>\n",
       "      <th>34.25</th>\n",
       "      <th>62.25</th>\n",
       "      <td>2019-06-13</td>\n",
       "      <td>ZP1FZ</td>\n",
       "      <td>319.215790</td>\n",
       "      <td>930.906799</td>\n",
       "      <td>6.0</td>\n",
       "      <td>2.900011</td>\n",
       "      <td>9.0</td>\n",
       "      <td>7.400000</td>\n",
       "      <td>-0.3302</td>\n",
       "      <td>-2.262259</td>\n",
       "      <td>...</td>\n",
       "      <td>0.0</td>\n",
       "      <td>288.482880</td>\n",
       "      <td>24.444679</td>\n",
       "      <td>6.0</td>\n",
       "      <td>3.027215</td>\n",
       "      <td>12.0</td>\n",
       "      <td>9.500000</td>\n",
       "      <td>-1.650403</td>\n",
       "      <td>-1.5078</td>\n",
       "      <td>0.0</td>\n",
       "    </tr>\n",
       "    <tr>\n",
       "      <th>34.00</th>\n",
       "      <th>62.25</th>\n",
       "      <td>2019-06-13</td>\n",
       "      <td>ZP1FZ</td>\n",
       "      <td>315.515778</td>\n",
       "      <td>624.026794</td>\n",
       "      <td>6.0</td>\n",
       "      <td>4.600011</td>\n",
       "      <td>8.0</td>\n",
       "      <td>6.100000</td>\n",
       "      <td>-2.2302</td>\n",
       "      <td>-4.062259</td>\n",
       "      <td>...</td>\n",
       "      <td>0.0</td>\n",
       "      <td>287.982880</td>\n",
       "      <td>31.164679</td>\n",
       "      <td>5.0</td>\n",
       "      <td>3.727215</td>\n",
       "      <td>10.0</td>\n",
       "      <td>7.200000</td>\n",
       "      <td>-2.050403</td>\n",
       "      <td>-2.9078</td>\n",
       "      <td>0.0</td>\n",
       "    </tr>\n",
       "    <tr>\n",
       "      <th>33.75</th>\n",
       "      <th>62.75</th>\n",
       "      <td>2019-06-13</td>\n",
       "      <td>ZZ8JF</td>\n",
       "      <td>315.215790</td>\n",
       "      <td>1910.426758</td>\n",
       "      <td>5.0</td>\n",
       "      <td>2.100011</td>\n",
       "      <td>7.0</td>\n",
       "      <td>4.200000</td>\n",
       "      <td>0.6698</td>\n",
       "      <td>2.137741</td>\n",
       "      <td>...</td>\n",
       "      <td>0.0</td>\n",
       "      <td>283.482880</td>\n",
       "      <td>24.604679</td>\n",
       "      <td>5.0</td>\n",
       "      <td>3.227215</td>\n",
       "      <td>8.0</td>\n",
       "      <td>5.200000</td>\n",
       "      <td>-1.350403</td>\n",
       "      <td>-2.5078</td>\n",
       "      <td>0.0</td>\n",
       "    </tr>\n",
       "    <tr>\n",
       "      <th>33.50</th>\n",
       "      <th>62.75</th>\n",
       "      <td>2019-06-13</td>\n",
       "      <td>ZZ8JF</td>\n",
       "      <td>321.415771</td>\n",
       "      <td>1896.106812</td>\n",
       "      <td>5.0</td>\n",
       "      <td>2.700011</td>\n",
       "      <td>6.0</td>\n",
       "      <td>4.700000</td>\n",
       "      <td>0.4698</td>\n",
       "      <td>2.637741</td>\n",
       "      <td>...</td>\n",
       "      <td>0.0</td>\n",
       "      <td>287.882874</td>\n",
       "      <td>43.004681</td>\n",
       "      <td>5.0</td>\n",
       "      <td>4.527215</td>\n",
       "      <td>8.0</td>\n",
       "      <td>6.000000</td>\n",
       "      <td>-2.250403</td>\n",
       "      <td>-4.0078</td>\n",
       "      <td>0.0</td>\n",
       "    </tr>\n",
       "  </tbody>\n",
       "</table>\n",
       "<p>84 rows × 38 columns</p>\n",
       "</div>"
      ],
      "text/plain": [
       "                          date grid_id  t_surface00  pbl_surface00  \\\n",
       "latitude longitude                                                   \n",
       "25.00    301.50     2019-06-13   1X116   300.215790     978.826843   \n",
       "28.50    257.25     2019-06-13   1Z2W7   297.115784     125.626816   \n",
       "33.75    62.00      2019-06-13   3S31A   316.815796     616.106812   \n",
       "28.50    257.00     2019-06-13   6EIL6   299.215790     574.186829   \n",
       "         257.00     2019-06-13   7334C   299.215790     574.186829   \n",
       "...                        ...     ...          ...            ...   \n",
       "28.75    257.00     2019-06-13   ZF3ZW   300.615784     444.026825   \n",
       "34.25    62.25      2019-06-13   ZP1FZ   319.215790     930.906799   \n",
       "34.00    62.25      2019-06-13   ZP1FZ   315.515778     624.026794   \n",
       "33.75    62.75      2019-06-13   ZZ8JF   315.215790    1910.426758   \n",
       "33.50    62.75      2019-06-13   ZZ8JF   321.415771    1896.106812   \n",
       "\n",
       "                    hindex_surface00  gust_surface00  r_atmosphere00  \\\n",
       "latitude longitude                                                     \n",
       "25.00    301.50                  NaN        4.700011            44.0   \n",
       "28.50    257.25                  5.0        3.400011            30.0   \n",
       "33.75    62.00                   6.0        5.500010             8.0   \n",
       "28.50    257.00                  5.0       10.300011            31.0   \n",
       "         257.00                  5.0       10.300011            31.0   \n",
       "...                              ...             ...             ...   \n",
       "28.75    257.00                  5.0        3.700011            32.0   \n",
       "34.25    62.25                   6.0        2.900011             9.0   \n",
       "34.00    62.25                   6.0        4.600011             8.0   \n",
       "33.75    62.75                   5.0        2.100011             7.0   \n",
       "33.50    62.75                   5.0        2.700011             6.0   \n",
       "\n",
       "                    pwat_atmosphere00  u_pbl00   v_pbl00  ...  vrate_pbl12  \\\n",
       "latitude longitude                                        ...                \n",
       "25.00    301.50             40.700001  -4.9302 -0.262259  ...       5000.0   \n",
       "28.50    257.25             25.299999  -2.9302  1.937741  ...       6000.0   \n",
       "33.75    62.00               6.000000  -1.2302 -5.662259  ...       4000.0   \n",
       "28.50    257.00             27.100000  -7.5302  7.537741  ...       9000.0   \n",
       "         257.00             27.100000  -7.5302  7.537741  ...       9000.0   \n",
       "...                               ...      ...       ...  ...          ...   \n",
       "28.75    257.00             28.299999  -3.0302  0.937741  ...       6000.0   \n",
       "34.25    62.25               7.400000  -0.3302 -2.262259  ...          0.0   \n",
       "34.00    62.25               6.100000  -2.2302 -4.062259  ...          0.0   \n",
       "33.75    62.75               4.200000   0.6698  2.137741  ...          0.0   \n",
       "33.50    62.75               4.700000   0.4698  2.637741  ...          0.0   \n",
       "\n",
       "                    t_surface18  pbl_surface18  hindex_surface18  \\\n",
       "latitude longitude                                                 \n",
       "25.00    301.50      300.282898     877.404663               NaN   \n",
       "28.50    257.25      310.082886    2283.164795               6.0   \n",
       "33.75    62.00       290.482880     108.284676               5.0   \n",
       "28.50    257.00      312.482880    2738.524658               6.0   \n",
       "         257.00      312.482880    2738.524658               6.0   \n",
       "...                         ...            ...               ...   \n",
       "28.75    257.00      314.382874    2922.044678               6.0   \n",
       "34.25    62.25       288.482880      24.444679               6.0   \n",
       "34.00    62.25       287.982880      31.164679               5.0   \n",
       "33.75    62.75       283.482880      24.604679               5.0   \n",
       "33.50    62.75       287.882874      43.004681               5.0   \n",
       "\n",
       "                    gust_surface18  r_atmosphere18  pwat_atmosphere18  \\\n",
       "latitude longitude                                                      \n",
       "25.00    301.50           5.527215            36.0          35.700001   \n",
       "28.50    257.25           4.127215            27.0          23.900000   \n",
       "33.75    62.00            7.627215            10.0           7.700000   \n",
       "28.50    257.00           3.827215            26.0          24.299999   \n",
       "         257.00           3.827215            26.0          24.299999   \n",
       "...                            ...             ...                ...   \n",
       "28.75    257.00           2.627215            23.0          22.700001   \n",
       "34.25    62.25            3.027215            12.0           9.500000   \n",
       "34.00    62.25            3.727215            10.0           7.200000   \n",
       "33.75    62.75            3.227215             8.0           5.200000   \n",
       "33.50    62.75            4.527215             8.0           6.000000   \n",
       "\n",
       "                     u_pbl18  v_pbl18  vrate_pbl18  \n",
       "latitude longitude                                  \n",
       "25.00    301.50    -5.750403  -0.1078       5000.0  \n",
       "28.50    257.25    -1.150403   3.3922       8000.0  \n",
       "33.75    62.00     -2.950403  -7.2078       1000.0  \n",
       "28.50    257.00    -1.650403   2.8922       9000.0  \n",
       "         257.00    -1.650403   2.8922       9000.0  \n",
       "...                      ...      ...          ...  \n",
       "28.75    257.00    -1.550403   2.4922       9000.0  \n",
       "34.25    62.25     -1.650403  -1.5078          0.0  \n",
       "34.00    62.25     -2.050403  -2.9078          0.0  \n",
       "33.75    62.75     -1.350403  -2.5078          0.0  \n",
       "33.50    62.75     -2.250403  -4.0078          0.0  \n",
       "\n",
       "[84 rows x 38 columns]"
      ]
     },
     "execution_count": 34,
     "metadata": {},
     "output_type": "execute_result"
    }
   ],
   "source": [
    "out_parquet =  'gfs.0p25.' + '2019' + '06' + '13' + '.f006.parquet'\n",
    "filepath = '../train/GFS/parquet/' + out_parquet\n",
    "test_df = pd.read_parquet(filepath, engine='pyarrow')\n",
    "test_df"
   ]
  },
  {
   "cell_type": "code",
   "execution_count": 14,
   "id": "371e6827-d83e-4280-8772-8cb37abeafd7",
   "metadata": {},
   "outputs": [
    {
     "data": {
      "text/plain": [
       "latitude  longitude\n",
       "25.00     301.50       301.441498\n",
       "28.50     257.25       317.941498\n",
       "33.75     62.00        290.741516\n",
       "28.50     257.00       319.741516\n",
       "          257.00       319.741516\n",
       "                          ...    \n",
       "28.75     257.00       318.141510\n",
       "34.25     62.25        291.941498\n",
       "34.00     62.25        289.041504\n",
       "33.75     62.75        284.841492\n",
       "33.50     62.75        289.941498\n",
       "Name: t_surface12, Length: 84, dtype: float32"
      ]
     },
     "execution_count": 14,
     "metadata": {},
     "output_type": "execute_result"
    }
   ],
   "source": [
    "['t_surface12']"
   ]
  },
  {
   "cell_type": "code",
   "execution_count": null,
   "id": "df4a0cdd-0f87-44ae-9277-13a120da0ad7",
   "metadata": {},
   "outputs": [],
   "source": [
    "test_df.shape"
   ]
  },
  {
   "cell_type": "code",
   "execution_count": null,
   "id": "61b44850-5446-4643-ae18-c83fc1c1796f",
   "metadata": {},
   "outputs": [],
   "source": [
    "pd.set_option('display.max_rows', 100)\n",
    "test_df.to_csv('test.csv')"
   ]
  },
  {
   "cell_type": "code",
   "execution_count": null,
   "id": "c2cb4405-dbd3-47fc-b479-9a51f7718bb3",
   "metadata": {},
   "outputs": [],
   "source": [
    "my_array_data = io.BytesIO()\n",
    "pickle.dump(test_df, my_array_data)\n",
    "my_array_data.seek(0)\n",
    "s3.upload_fileobj(my_array_data, 'particulate-articulate-capstone','gfs_test.pkl')"
   ]
  },
  {
   "cell_type": "code",
   "execution_count": null,
   "id": "f638bf8c-2199-4e02-87ec-7ccc4a438ef9",
   "metadata": {},
   "outputs": [],
   "source": [
    "#Try to download \n",
    "s3 = boto3.client('s3', config=Config(signature_version=UNSIGNED))\n",
    "s3.download_file('particulate-articulate-capstone', 'trial1maiac.pkl', 'trial1maiac.pkl')"
   ]
  },
  {
   "cell_type": "code",
   "execution_count": null,
   "id": "449bcd82-0f17-474c-8d98-645490fb3a48",
   "metadata": {},
   "outputs": [],
   "source": [
    "!pwd"
   ]
  },
  {
   "cell_type": "code",
   "execution_count": null,
   "id": "d0c2d9c6-e9b4-436b-8025-a2c4bd343221",
   "metadata": {},
   "outputs": [],
   "source": [
    "test_df = pd.read_pickle('../train/train/gfs.0p25.20180201.f006.parquet')\n",
    "test_df"
   ]
  },
  {
   "cell_type": "code",
   "execution_count": null,
   "id": "31f1b487-e8b1-4692-9d75-b61ad6165b0a",
   "metadata": {},
   "outputs": [],
   "source": []
  }
 ],
 "metadata": {
  "kernelspec": {
   "display_name": "Python 3 (ipykernel)",
   "language": "python",
   "name": "python3"
  },
  "language_info": {
   "codemirror_mode": {
    "name": "ipython",
    "version": 3
   },
   "file_extension": ".py",
   "mimetype": "text/x-python",
   "name": "python",
   "nbconvert_exporter": "python",
   "pygments_lexer": "ipython3",
   "version": "3.9.10"
  }
 },
 "nbformat": 4,
 "nbformat_minor": 5
}
