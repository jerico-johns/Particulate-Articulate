{
 "cells": [
  {
   "cell_type": "code",
   "execution_count": 1,
   "id": "faa2bc19",
   "metadata": {},
   "outputs": [],
   "source": [
    "# conda install -c conda-forge gdal\n",
    "# conda install -c conda-forge geopandas\n",
    "# conda install -c conda-forge earthpy\n",
    "# conda install -c conda-forge cloudpathlib\n",
    "# conda install -c conda-forge pyhdf\n",
    "# conda install -c anaconda basemap\n",
    "\n",
    "#conda install -c conda-forge xarray\n",
    "#conda install -c conda-forge ipywidgets\n",
    "#conda install -c conda-forge cartopy\n",
    "## For IO dependencies in xarray \n",
    "#conda install -c conda-forge xarray dask netCDF4 bottleneck\n",
    "#conda install -c conda-forge cfgrib\n",
    "#conda install -c conda-forge pygrib\n",
    "#conda install -c yt87 pywgrib2_xr"
   ]
  },
  {
   "cell_type": "code",
   "execution_count": 2,
   "id": "aed93005-cabf-44cb-85a8-0fe456572ca0",
   "metadata": {},
   "outputs": [
    {
     "name": "stdout",
     "output_type": "stream",
     "text": [
      "Available kernels:\n",
      "  python3    /home/ec2-user/.conda/envs/capstone/share/jupyter/kernels/python3\n"
     ]
    }
   ],
   "source": [
    "!jupyter kernelspec list"
   ]
  },
  {
   "cell_type": "code",
   "execution_count": 61,
   "id": "4d3b12cb",
   "metadata": {},
   "outputs": [
    {
     "ename": "ModuleNotFoundError",
     "evalue": "No module named 'pywgrib2_xr'",
     "output_type": "error",
     "traceback": [
      "\u001b[0;31m---------------------------------------------------------------------------\u001b[0m",
      "\u001b[0;31mModuleNotFoundError\u001b[0m                       Traceback (most recent call last)",
      "Input \u001b[0;32mIn [61]\u001b[0m, in \u001b[0;36m<module>\u001b[0;34m\u001b[0m\n\u001b[1;32m     17\u001b[0m \u001b[38;5;28;01mimport\u001b[39;00m \u001b[38;5;21;01mpandas\u001b[39;00m \u001b[38;5;28;01mas\u001b[39;00m \u001b[38;5;21;01mpd\u001b[39;00m\n\u001b[1;32m     19\u001b[0m \u001b[38;5;66;03m#GFS data\u001b[39;00m\n\u001b[0;32m---> 20\u001b[0m \u001b[38;5;28;01mimport\u001b[39;00m \u001b[38;5;21;01mpywgrib2_xr\u001b[39;00m\n\u001b[1;32m     21\u001b[0m \u001b[38;5;28;01mimport\u001b[39;00m \u001b[38;5;21;01mpygrib\u001b[39;00m\n\u001b[1;32m     22\u001b[0m \u001b[38;5;28;01mimport\u001b[39;00m \u001b[38;5;21;01mxarray\u001b[39;00m \u001b[38;5;66;03m# used for reading the data.\u001b[39;00m\n",
      "\u001b[0;31mModuleNotFoundError\u001b[0m: No module named 'pywgrib2_xr'"
     ]
    }
   ],
   "source": [
    "#Import Packages. \n",
    "import sys\n",
    "import os\n",
    "import requests\n",
    "import warnings\n",
    "import glob\n",
    "\n",
    "import matplotlib.pyplot as plt\n",
    "import seaborn as sns\n",
    "import numpy.ma as ma\n",
    "#from shapely.geometry import mapping, box\n",
    "import geopandas as gpd\n",
    "import earthpy as et\n",
    "import earthpy.spatial as es\n",
    "import earthpy.plot as ep\n",
    "from osgeo import gdal\n",
    "import pandas as pd\n",
    "\n",
    "#GFS data\n",
    "import pywgrib2_xr\n",
    "import pygrib\n",
    "import xarray # used for reading the data.\n",
    "import ipywidgets as widgets\n",
    "import matplotlib.pyplot as plt # used to plot the data.\n",
    "import ipywidgets as widgets # For ease in selecting variables.\n",
    "import cartopy.crs as ccrs # Used to georeference data.\n",
    "\n",
    "#from cloudpathlib import S3Path, S3Client\n",
    "from pyhdf.SD import SD, SDC\n",
    "\n",
    "warnings.simplefilter('ignore')"
   ]
  },
  {
   "cell_type": "markdown",
   "id": "63d07dbb-00ae-43b4-b4ab-1cc383b2d205",
   "metadata": {},
   "source": [
    "### Downloading GFS Data (0.25 degree)using rdams client"
   ]
  },
  {
   "cell_type": "code",
   "execution_count": null,
   "id": "279b8b4e-5f3e-4cc3-9be2-9614c1d3177f",
   "metadata": {},
   "outputs": [],
   "source": []
  },
  {
   "cell_type": "markdown",
   "id": "f9968c0b-272f-4040-aa33-35550fc377ed",
   "metadata": {},
   "source": [
    "https://github.com/NCAR/rda-apps-clients/blob/main/src/python/rdams_client_example.ipynb"
   ]
  },
  {
   "cell_type": "code",
   "execution_count": 60,
   "id": "62869f73-acc0-4f72-8815-e5ebe563e8c8",
   "metadata": {},
   "outputs": [
    {
     "ename": "ModuleNotFoundError",
     "evalue": "No module named 'rdams_client'",
     "output_type": "error",
     "traceback": [
      "\u001b[0;31m---------------------------------------------------------------------------\u001b[0m",
      "\u001b[0;31mModuleNotFoundError\u001b[0m                       Traceback (most recent call last)",
      "Input \u001b[0;32mIn [60]\u001b[0m, in \u001b[0;36m<module>\u001b[0;34m\u001b[0m\n\u001b[0;32m----> 1\u001b[0m \u001b[38;5;28;01mimport\u001b[39;00m \u001b[38;5;21;01mrdams_client\u001b[39;00m \u001b[38;5;28;01mas\u001b[39;00m \u001b[38;5;21;01mrc\u001b[39;00m\n",
      "\u001b[0;31mModuleNotFoundError\u001b[0m: No module named 'rdams_client'"
     ]
    }
   ],
   "source": [
    "import rdams_client as rc"
   ]
  },
  {
   "cell_type": "markdown",
   "id": "7081fec6-d1fb-4338-81d7-158ed7a71256",
   "metadata": {},
   "source": [
    "## Old method"
   ]
  },
  {
   "cell_type": "code",
   "execution_count": 4,
   "id": "510f2bb0-8abe-474c-b7a9-e84985ae2c12",
   "metadata": {},
   "outputs": [],
   "source": [
    " ## First, we need to authenticate\n",
    "try:\n",
    "    import getpass\n",
    "    input = getpass.getpass\n",
    "except:\n",
    "    try:\n",
    "        input = raw_input\n",
    "    except:\n",
    "        pass"
   ]
  },
  {
   "cell_type": "code",
   "execution_count": 5,
   "id": "655d56a8-e57c-4377-a915-e87c42e79cbb",
   "metadata": {},
   "outputs": [
    {
     "name": "stdin",
     "output_type": "stream",
     "text": [
      "password:  ···········\n"
     ]
    }
   ],
   "source": [
    "## Now, we need your password.\n",
    "pswd = input('password: ')"
   ]
  },
  {
   "cell_type": "code",
   "execution_count": 14,
   "id": "eb2d97c9-2936-4b01-ba49-b6a11f271fbb",
   "metadata": {},
   "outputs": [],
   "source": [
    "values = {'email' : 'jericojohns@berkeley.edu', 'passwd' : pswd, 'action' : 'login'}\n",
    "login_url = 'https://rda.ucar.edu/cgi-bin/login'"
   ]
  },
  {
   "cell_type": "code",
   "execution_count": 7,
   "id": "08b1ff73-c160-4e64-8d30-d2c70a47a842",
   "metadata": {},
   "outputs": [],
   "source": [
    "ret = requests.post(login_url, data=values)\n",
    "if ret.status_code != 200:\n",
    "    print('Bad Authentication')\n",
    "    print(ret.text)\n",
    "    exit(1)"
   ]
  },
  {
   "cell_type": "code",
   "execution_count": 8,
   "id": "a89d207e-e3ef-4d9b-b6c2-fbf349c19374",
   "metadata": {},
   "outputs": [],
   "source": [
    "dspath = 'https://rda.ucar.edu/data/ds084.1/'\n",
    "filelist = ['2015/20150115/gfs.0p25.2015011500.f000.grib2']"
   ]
  },
  {
   "cell_type": "code",
   "execution_count": 9,
   "id": "e1cb7c67-58e9-4a2a-b7aa-5d64facb4bc8",
   "metadata": {},
   "outputs": [],
   "source": [
    "save_dir = '/local/train/GFS/'"
   ]
  },
  {
   "cell_type": "markdown",
   "id": "d1acb5e8-4a9f-4adf-9d53-2f6bddde9d5f",
   "metadata": {},
   "source": [
    " #### Now to download the files"
   ]
  },
  {
   "cell_type": "code",
   "execution_count": 33,
   "id": "5aec878c-c411-4907-8b7a-3b2ab09f7eb7",
   "metadata": {},
   "outputs": [
    {
     "name": "stdout",
     "output_type": "stream",
     "text": [
      "Downloading 2015/20150115/gfs.0p25.2015011500.f000.grib2\n"
     ]
    }
   ],
   "source": [
    "for file in filelist:\n",
    "    filename = dspath + file\n",
    "    outfile = save_dir + os.path.basename(filename)\n",
    "    print('Downloading', file)\n",
    "    req = requests.get(filename, cookies = ret.cookies, allow_redirects=True)\n",
    "    open(outfile, 'wb').write(req.content)"
   ]
  },
  {
   "cell_type": "markdown",
   "id": "bda243a9-fbd9-4c7c-8853-33d00d7c48e2",
   "metadata": {},
   "source": [
    "#### Once you have downloaded the data, the next part can help you plot it."
   ]
  },
  {
   "cell_type": "markdown",
   "id": "2b03c82b-fa01-4b8b-bdfd-86ded7d179d5",
   "metadata": {},
   "source": [
    "In order to plot this data, you may need to install librariesIn order to plot this data, you may need to install libraries. The easiest way to do this is to use conda, however any method of getting the following libraries will work."
   ]
  },
  {
   "cell_type": "code",
   "execution_count": 11,
   "id": "166ef087-37e5-4b17-9cf3-d7d469c7eb75",
   "metadata": {},
   "outputs": [],
   "source": [
    "import xarray # used for reading the data.\n",
    "import ipywidgets as widgets\n",
    "import matplotlib.pyplot as plt # used to plot the data.\n",
    "import ipywidgets as widgets # For ease in selecting variables.\n",
    "import cartopy.crs as ccrs # Used to georeference data."
   ]
  },
  {
   "cell_type": "code",
   "execution_count": 12,
   "id": "041b3cca-f099-436b-989a-8706e898c114",
   "metadata": {},
   "outputs": [
    {
     "data": {
      "application/vnd.jupyter.widget-view+json": {
       "model_id": "85a79ff7afbd4cc5916fa58b7ced1aa4",
       "version_major": 2,
       "version_minor": 0
      },
      "text/plain": [
       "Dropdown(description='data file', options=('/local/train/GFS/gfs.0p25.2015011500.f000.grib2',), value='/local/…"
      ]
     },
     "metadata": {},
     "output_type": "display_data"
    }
   ],
   "source": [
    "filelist_arr = [save_dir + os.path.basename(file) for file in filelist]\n",
    "selected_file = widgets.Dropdown(options=filelist_arr, description='data file')\n",
    "display(selected_file)"
   ]
  },
  {
   "cell_type": "code",
   "execution_count": 45,
   "id": "f41e6195-c314-4737-ac53-7ffd2d5d3e46",
   "metadata": {},
   "outputs": [
    {
     "name": "stderr",
     "output_type": "stream",
     "text": [
      "Ignoring index file '/local/train/GFS/gfs.0p25.2015011500.f000.grib2.923a8.idx' incompatible with GRIB file\n"
     ]
    }
   ],
   "source": [
    "# Now to load in the data to xarray\n",
    "ds = xarray.open_dataset(selected_file.value, filter_by_keys={'typeOfLevel': 'planetaryBoundaryLayer'}, engine=\"cfgrib\")"
   ]
  },
  {
   "cell_type": "code",
   "execution_count": 46,
   "id": "a4bbbacf-5ca3-4b77-bfaa-2f324cab93d5",
   "metadata": {},
   "outputs": [
    {
     "data": {
      "text/html": [
       "<div><svg style=\"position: absolute; width: 0; height: 0; overflow: hidden\">\n",
       "<defs>\n",
       "<symbol id=\"icon-database\" viewBox=\"0 0 32 32\">\n",
       "<path d=\"M16 0c-8.837 0-16 2.239-16 5v4c0 2.761 7.163 5 16 5s16-2.239 16-5v-4c0-2.761-7.163-5-16-5z\"></path>\n",
       "<path d=\"M16 17c-8.837 0-16-2.239-16-5v6c0 2.761 7.163 5 16 5s16-2.239 16-5v-6c0 2.761-7.163 5-16 5z\"></path>\n",
       "<path d=\"M16 26c-8.837 0-16-2.239-16-5v6c0 2.761 7.163 5 16 5s16-2.239 16-5v-6c0 2.761-7.163 5-16 5z\"></path>\n",
       "</symbol>\n",
       "<symbol id=\"icon-file-text2\" viewBox=\"0 0 32 32\">\n",
       "<path d=\"M28.681 7.159c-0.694-0.947-1.662-2.053-2.724-3.116s-2.169-2.030-3.116-2.724c-1.612-1.182-2.393-1.319-2.841-1.319h-15.5c-1.378 0-2.5 1.121-2.5 2.5v27c0 1.378 1.122 2.5 2.5 2.5h23c1.378 0 2.5-1.122 2.5-2.5v-19.5c0-0.448-0.137-1.23-1.319-2.841zM24.543 5.457c0.959 0.959 1.712 1.825 2.268 2.543h-4.811v-4.811c0.718 0.556 1.584 1.309 2.543 2.268zM28 29.5c0 0.271-0.229 0.5-0.5 0.5h-23c-0.271 0-0.5-0.229-0.5-0.5v-27c0-0.271 0.229-0.5 0.5-0.5 0 0 15.499-0 15.5 0v7c0 0.552 0.448 1 1 1h7v19.5z\"></path>\n",
       "<path d=\"M23 26h-14c-0.552 0-1-0.448-1-1s0.448-1 1-1h14c0.552 0 1 0.448 1 1s-0.448 1-1 1z\"></path>\n",
       "<path d=\"M23 22h-14c-0.552 0-1-0.448-1-1s0.448-1 1-1h14c0.552 0 1 0.448 1 1s-0.448 1-1 1z\"></path>\n",
       "<path d=\"M23 18h-14c-0.552 0-1-0.448-1-1s0.448-1 1-1h14c0.552 0 1 0.448 1 1s-0.448 1-1 1z\"></path>\n",
       "</symbol>\n",
       "</defs>\n",
       "</svg>\n",
       "<style>/* CSS stylesheet for displaying xarray objects in jupyterlab.\n",
       " *\n",
       " */\n",
       "\n",
       ":root {\n",
       "  --xr-font-color0: var(--jp-content-font-color0, rgba(0, 0, 0, 1));\n",
       "  --xr-font-color2: var(--jp-content-font-color2, rgba(0, 0, 0, 0.54));\n",
       "  --xr-font-color3: var(--jp-content-font-color3, rgba(0, 0, 0, 0.38));\n",
       "  --xr-border-color: var(--jp-border-color2, #e0e0e0);\n",
       "  --xr-disabled-color: var(--jp-layout-color3, #bdbdbd);\n",
       "  --xr-background-color: var(--jp-layout-color0, white);\n",
       "  --xr-background-color-row-even: var(--jp-layout-color1, white);\n",
       "  --xr-background-color-row-odd: var(--jp-layout-color2, #eeeeee);\n",
       "}\n",
       "\n",
       "html[theme=dark],\n",
       "body.vscode-dark {\n",
       "  --xr-font-color0: rgba(255, 255, 255, 1);\n",
       "  --xr-font-color2: rgba(255, 255, 255, 0.54);\n",
       "  --xr-font-color3: rgba(255, 255, 255, 0.38);\n",
       "  --xr-border-color: #1F1F1F;\n",
       "  --xr-disabled-color: #515151;\n",
       "  --xr-background-color: #111111;\n",
       "  --xr-background-color-row-even: #111111;\n",
       "  --xr-background-color-row-odd: #313131;\n",
       "}\n",
       "\n",
       ".xr-wrap {\n",
       "  display: block !important;\n",
       "  min-width: 300px;\n",
       "  max-width: 700px;\n",
       "}\n",
       "\n",
       ".xr-text-repr-fallback {\n",
       "  /* fallback to plain text repr when CSS is not injected (untrusted notebook) */\n",
       "  display: none;\n",
       "}\n",
       "\n",
       ".xr-header {\n",
       "  padding-top: 6px;\n",
       "  padding-bottom: 6px;\n",
       "  margin-bottom: 4px;\n",
       "  border-bottom: solid 1px var(--xr-border-color);\n",
       "}\n",
       "\n",
       ".xr-header > div,\n",
       ".xr-header > ul {\n",
       "  display: inline;\n",
       "  margin-top: 0;\n",
       "  margin-bottom: 0;\n",
       "}\n",
       "\n",
       ".xr-obj-type,\n",
       ".xr-array-name {\n",
       "  margin-left: 2px;\n",
       "  margin-right: 10px;\n",
       "}\n",
       "\n",
       ".xr-obj-type {\n",
       "  color: var(--xr-font-color2);\n",
       "}\n",
       "\n",
       ".xr-sections {\n",
       "  padding-left: 0 !important;\n",
       "  display: grid;\n",
       "  grid-template-columns: 150px auto auto 1fr 20px 20px;\n",
       "}\n",
       "\n",
       ".xr-section-item {\n",
       "  display: contents;\n",
       "}\n",
       "\n",
       ".xr-section-item input {\n",
       "  display: none;\n",
       "}\n",
       "\n",
       ".xr-section-item input + label {\n",
       "  color: var(--xr-disabled-color);\n",
       "}\n",
       "\n",
       ".xr-section-item input:enabled + label {\n",
       "  cursor: pointer;\n",
       "  color: var(--xr-font-color2);\n",
       "}\n",
       "\n",
       ".xr-section-item input:enabled + label:hover {\n",
       "  color: var(--xr-font-color0);\n",
       "}\n",
       "\n",
       ".xr-section-summary {\n",
       "  grid-column: 1;\n",
       "  color: var(--xr-font-color2);\n",
       "  font-weight: 500;\n",
       "}\n",
       "\n",
       ".xr-section-summary > span {\n",
       "  display: inline-block;\n",
       "  padding-left: 0.5em;\n",
       "}\n",
       "\n",
       ".xr-section-summary-in:disabled + label {\n",
       "  color: var(--xr-font-color2);\n",
       "}\n",
       "\n",
       ".xr-section-summary-in + label:before {\n",
       "  display: inline-block;\n",
       "  content: '►';\n",
       "  font-size: 11px;\n",
       "  width: 15px;\n",
       "  text-align: center;\n",
       "}\n",
       "\n",
       ".xr-section-summary-in:disabled + label:before {\n",
       "  color: var(--xr-disabled-color);\n",
       "}\n",
       "\n",
       ".xr-section-summary-in:checked + label:before {\n",
       "  content: '▼';\n",
       "}\n",
       "\n",
       ".xr-section-summary-in:checked + label > span {\n",
       "  display: none;\n",
       "}\n",
       "\n",
       ".xr-section-summary,\n",
       ".xr-section-inline-details {\n",
       "  padding-top: 4px;\n",
       "  padding-bottom: 4px;\n",
       "}\n",
       "\n",
       ".xr-section-inline-details {\n",
       "  grid-column: 2 / -1;\n",
       "}\n",
       "\n",
       ".xr-section-details {\n",
       "  display: none;\n",
       "  grid-column: 1 / -1;\n",
       "  margin-bottom: 5px;\n",
       "}\n",
       "\n",
       ".xr-section-summary-in:checked ~ .xr-section-details {\n",
       "  display: contents;\n",
       "}\n",
       "\n",
       ".xr-array-wrap {\n",
       "  grid-column: 1 / -1;\n",
       "  display: grid;\n",
       "  grid-template-columns: 20px auto;\n",
       "}\n",
       "\n",
       ".xr-array-wrap > label {\n",
       "  grid-column: 1;\n",
       "  vertical-align: top;\n",
       "}\n",
       "\n",
       ".xr-preview {\n",
       "  color: var(--xr-font-color3);\n",
       "}\n",
       "\n",
       ".xr-array-preview,\n",
       ".xr-array-data {\n",
       "  padding: 0 5px !important;\n",
       "  grid-column: 2;\n",
       "}\n",
       "\n",
       ".xr-array-data,\n",
       ".xr-array-in:checked ~ .xr-array-preview {\n",
       "  display: none;\n",
       "}\n",
       "\n",
       ".xr-array-in:checked ~ .xr-array-data,\n",
       ".xr-array-preview {\n",
       "  display: inline-block;\n",
       "}\n",
       "\n",
       ".xr-dim-list {\n",
       "  display: inline-block !important;\n",
       "  list-style: none;\n",
       "  padding: 0 !important;\n",
       "  margin: 0;\n",
       "}\n",
       "\n",
       ".xr-dim-list li {\n",
       "  display: inline-block;\n",
       "  padding: 0;\n",
       "  margin: 0;\n",
       "}\n",
       "\n",
       ".xr-dim-list:before {\n",
       "  content: '(';\n",
       "}\n",
       "\n",
       ".xr-dim-list:after {\n",
       "  content: ')';\n",
       "}\n",
       "\n",
       ".xr-dim-list li:not(:last-child):after {\n",
       "  content: ',';\n",
       "  padding-right: 5px;\n",
       "}\n",
       "\n",
       ".xr-has-index {\n",
       "  font-weight: bold;\n",
       "}\n",
       "\n",
       ".xr-var-list,\n",
       ".xr-var-item {\n",
       "  display: contents;\n",
       "}\n",
       "\n",
       ".xr-var-item > div,\n",
       ".xr-var-item label,\n",
       ".xr-var-item > .xr-var-name span {\n",
       "  background-color: var(--xr-background-color-row-even);\n",
       "  margin-bottom: 0;\n",
       "}\n",
       "\n",
       ".xr-var-item > .xr-var-name:hover span {\n",
       "  padding-right: 5px;\n",
       "}\n",
       "\n",
       ".xr-var-list > li:nth-child(odd) > div,\n",
       ".xr-var-list > li:nth-child(odd) > label,\n",
       ".xr-var-list > li:nth-child(odd) > .xr-var-name span {\n",
       "  background-color: var(--xr-background-color-row-odd);\n",
       "}\n",
       "\n",
       ".xr-var-name {\n",
       "  grid-column: 1;\n",
       "}\n",
       "\n",
       ".xr-var-dims {\n",
       "  grid-column: 2;\n",
       "}\n",
       "\n",
       ".xr-var-dtype {\n",
       "  grid-column: 3;\n",
       "  text-align: right;\n",
       "  color: var(--xr-font-color2);\n",
       "}\n",
       "\n",
       ".xr-var-preview {\n",
       "  grid-column: 4;\n",
       "}\n",
       "\n",
       ".xr-var-name,\n",
       ".xr-var-dims,\n",
       ".xr-var-dtype,\n",
       ".xr-preview,\n",
       ".xr-attrs dt {\n",
       "  white-space: nowrap;\n",
       "  overflow: hidden;\n",
       "  text-overflow: ellipsis;\n",
       "  padding-right: 10px;\n",
       "}\n",
       "\n",
       ".xr-var-name:hover,\n",
       ".xr-var-dims:hover,\n",
       ".xr-var-dtype:hover,\n",
       ".xr-attrs dt:hover {\n",
       "  overflow: visible;\n",
       "  width: auto;\n",
       "  z-index: 1;\n",
       "}\n",
       "\n",
       ".xr-var-attrs,\n",
       ".xr-var-data {\n",
       "  display: none;\n",
       "  background-color: var(--xr-background-color) !important;\n",
       "  padding-bottom: 5px !important;\n",
       "}\n",
       "\n",
       ".xr-var-attrs-in:checked ~ .xr-var-attrs,\n",
       ".xr-var-data-in:checked ~ .xr-var-data {\n",
       "  display: block;\n",
       "}\n",
       "\n",
       ".xr-var-data > table {\n",
       "  float: right;\n",
       "}\n",
       "\n",
       ".xr-var-name span,\n",
       ".xr-var-data,\n",
       ".xr-attrs {\n",
       "  padding-left: 25px !important;\n",
       "}\n",
       "\n",
       ".xr-attrs,\n",
       ".xr-var-attrs,\n",
       ".xr-var-data {\n",
       "  grid-column: 1 / -1;\n",
       "}\n",
       "\n",
       "dl.xr-attrs {\n",
       "  padding: 0;\n",
       "  margin: 0;\n",
       "  display: grid;\n",
       "  grid-template-columns: 125px auto;\n",
       "}\n",
       "\n",
       ".xr-attrs dt,\n",
       ".xr-attrs dd {\n",
       "  padding: 0;\n",
       "  margin: 0;\n",
       "  float: left;\n",
       "  padding-right: 10px;\n",
       "  width: auto;\n",
       "}\n",
       "\n",
       ".xr-attrs dt {\n",
       "  font-weight: normal;\n",
       "  grid-column: 1;\n",
       "}\n",
       "\n",
       ".xr-attrs dt:hover span {\n",
       "  display: inline-block;\n",
       "  background: var(--xr-background-color);\n",
       "  padding-right: 10px;\n",
       "}\n",
       "\n",
       ".xr-attrs dd {\n",
       "  grid-column: 2;\n",
       "  white-space: pre-wrap;\n",
       "  word-break: break-all;\n",
       "}\n",
       "\n",
       ".xr-icon-database,\n",
       ".xr-icon-file-text2 {\n",
       "  display: inline-block;\n",
       "  vertical-align: middle;\n",
       "  width: 1em;\n",
       "  height: 1.5em !important;\n",
       "  stroke-width: 0;\n",
       "  stroke: currentColor;\n",
       "  fill: currentColor;\n",
       "}\n",
       "</style><pre class='xr-text-repr-fallback'>&lt;xarray.Dataset&gt;\n",
       "Dimensions:                 (latitude: 721, longitude: 1440)\n",
       "Coordinates:\n",
       "    time                    datetime64[ns] 2015-01-15\n",
       "    step                    timedelta64[ns] 00:00:00\n",
       "    planetaryBoundaryLayer  float64 0.0\n",
       "  * latitude                (latitude) float64 90.0 89.75 89.5 ... -89.75 -90.0\n",
       "  * longitude               (longitude) float64 0.0 0.25 0.5 ... 359.5 359.8\n",
       "    valid_time              datetime64[ns] 2015-01-15\n",
       "Data variables:\n",
       "    u                       (latitude, longitude) float32 ...\n",
       "    v                       (latitude, longitude) float32 ...\n",
       "    VRATE                   (latitude, longitude) float32 ...\n",
       "Attributes:\n",
       "    GRIB_edition:            2\n",
       "    GRIB_centre:             kwbc\n",
       "    GRIB_centreDescription:  US National Weather Service - NCEP \n",
       "    GRIB_subCentre:          0\n",
       "    Conventions:             CF-1.7\n",
       "    institution:             US National Weather Service - NCEP \n",
       "    history:                 2022-02-12T03:49 GRIB to CDM+CF via cfgrib-0.9.1...</pre><div class='xr-wrap' style='display:none'><div class='xr-header'><div class='xr-obj-type'>xarray.Dataset</div></div><ul class='xr-sections'><li class='xr-section-item'><input id='section-885e74a8-03df-422c-8eb7-9b4b9750b82f' class='xr-section-summary-in' type='checkbox' disabled ><label for='section-885e74a8-03df-422c-8eb7-9b4b9750b82f' class='xr-section-summary'  title='Expand/collapse section'>Dimensions:</label><div class='xr-section-inline-details'><ul class='xr-dim-list'><li><span class='xr-has-index'>latitude</span>: 721</li><li><span class='xr-has-index'>longitude</span>: 1440</li></ul></div><div class='xr-section-details'></div></li><li class='xr-section-item'><input id='section-769bf454-88cb-426f-82bf-04d24df00b85' class='xr-section-summary-in' type='checkbox'  checked><label for='section-769bf454-88cb-426f-82bf-04d24df00b85' class='xr-section-summary' >Coordinates: <span>(6)</span></label><div class='xr-section-inline-details'></div><div class='xr-section-details'><ul class='xr-var-list'><li class='xr-var-item'><div class='xr-var-name'><span>time</span></div><div class='xr-var-dims'>()</div><div class='xr-var-dtype'>datetime64[ns]</div><div class='xr-var-preview xr-preview'>...</div><input id='attrs-b4f42d10-fe24-480f-bd27-ae45b5bdbc95' class='xr-var-attrs-in' type='checkbox' ><label for='attrs-b4f42d10-fe24-480f-bd27-ae45b5bdbc95' title='Show/Hide attributes'><svg class='icon xr-icon-file-text2'><use xlink:href='#icon-file-text2'></use></svg></label><input id='data-c9192b0b-4600-4bdd-8e02-421717b1ecb1' class='xr-var-data-in' type='checkbox'><label for='data-c9192b0b-4600-4bdd-8e02-421717b1ecb1' title='Show/Hide data repr'><svg class='icon xr-icon-database'><use xlink:href='#icon-database'></use></svg></label><div class='xr-var-attrs'><dl class='xr-attrs'><dt><span>long_name :</span></dt><dd>initial time of forecast</dd><dt><span>standard_name :</span></dt><dd>forecast_reference_time</dd></dl></div><div class='xr-var-data'><pre>array(&#x27;2015-01-15T00:00:00.000000000&#x27;, dtype=&#x27;datetime64[ns]&#x27;)</pre></div></li><li class='xr-var-item'><div class='xr-var-name'><span>step</span></div><div class='xr-var-dims'>()</div><div class='xr-var-dtype'>timedelta64[ns]</div><div class='xr-var-preview xr-preview'>...</div><input id='attrs-f3f80c91-b31f-447e-aaba-9f157472fdab' class='xr-var-attrs-in' type='checkbox' ><label for='attrs-f3f80c91-b31f-447e-aaba-9f157472fdab' title='Show/Hide attributes'><svg class='icon xr-icon-file-text2'><use xlink:href='#icon-file-text2'></use></svg></label><input id='data-fa48a8cf-d447-470e-98b3-399dc9d26036' class='xr-var-data-in' type='checkbox'><label for='data-fa48a8cf-d447-470e-98b3-399dc9d26036' title='Show/Hide data repr'><svg class='icon xr-icon-database'><use xlink:href='#icon-database'></use></svg></label><div class='xr-var-attrs'><dl class='xr-attrs'><dt><span>long_name :</span></dt><dd>time since forecast_reference_time</dd><dt><span>standard_name :</span></dt><dd>forecast_period</dd></dl></div><div class='xr-var-data'><pre>array(0, dtype=&#x27;timedelta64[ns]&#x27;)</pre></div></li><li class='xr-var-item'><div class='xr-var-name'><span>planetaryBoundaryLayer</span></div><div class='xr-var-dims'>()</div><div class='xr-var-dtype'>float64</div><div class='xr-var-preview xr-preview'>...</div><input id='attrs-30acc609-4218-4de1-8ae7-5853a3b09879' class='xr-var-attrs-in' type='checkbox' ><label for='attrs-30acc609-4218-4de1-8ae7-5853a3b09879' title='Show/Hide attributes'><svg class='icon xr-icon-file-text2'><use xlink:href='#icon-file-text2'></use></svg></label><input id='data-a8020601-f660-49d7-a4fa-e9c3a4fb065a' class='xr-var-data-in' type='checkbox'><label for='data-a8020601-f660-49d7-a4fa-e9c3a4fb065a' title='Show/Hide data repr'><svg class='icon xr-icon-database'><use xlink:href='#icon-database'></use></svg></label><div class='xr-var-attrs'><dl class='xr-attrs'><dt><span>long_name :</span></dt><dd>original GRIB coordinate for key: level(planetaryBoundaryLayer)</dd><dt><span>units :</span></dt><dd>1</dd></dl></div><div class='xr-var-data'><pre>array(0.)</pre></div></li><li class='xr-var-item'><div class='xr-var-name'><span class='xr-has-index'>latitude</span></div><div class='xr-var-dims'>(latitude)</div><div class='xr-var-dtype'>float64</div><div class='xr-var-preview xr-preview'>90.0 89.75 89.5 ... -89.75 -90.0</div><input id='attrs-eef0ad6e-48f0-4207-abdc-2af6f54206b1' class='xr-var-attrs-in' type='checkbox' ><label for='attrs-eef0ad6e-48f0-4207-abdc-2af6f54206b1' title='Show/Hide attributes'><svg class='icon xr-icon-file-text2'><use xlink:href='#icon-file-text2'></use></svg></label><input id='data-a6ef96c9-afdf-499c-b93b-0b07f0890b15' class='xr-var-data-in' type='checkbox'><label for='data-a6ef96c9-afdf-499c-b93b-0b07f0890b15' title='Show/Hide data repr'><svg class='icon xr-icon-database'><use xlink:href='#icon-database'></use></svg></label><div class='xr-var-attrs'><dl class='xr-attrs'><dt><span>units :</span></dt><dd>degrees_north</dd><dt><span>standard_name :</span></dt><dd>latitude</dd><dt><span>long_name :</span></dt><dd>latitude</dd><dt><span>stored_direction :</span></dt><dd>decreasing</dd></dl></div><div class='xr-var-data'><pre>array([ 90.  ,  89.75,  89.5 , ..., -89.5 , -89.75, -90.  ])</pre></div></li><li class='xr-var-item'><div class='xr-var-name'><span class='xr-has-index'>longitude</span></div><div class='xr-var-dims'>(longitude)</div><div class='xr-var-dtype'>float64</div><div class='xr-var-preview xr-preview'>0.0 0.25 0.5 ... 359.2 359.5 359.8</div><input id='attrs-b86f6890-2c81-4d5c-8188-e2a34f99191c' class='xr-var-attrs-in' type='checkbox' ><label for='attrs-b86f6890-2c81-4d5c-8188-e2a34f99191c' title='Show/Hide attributes'><svg class='icon xr-icon-file-text2'><use xlink:href='#icon-file-text2'></use></svg></label><input id='data-f19139f1-b9eb-4329-b2fc-19cd36d2c314' class='xr-var-data-in' type='checkbox'><label for='data-f19139f1-b9eb-4329-b2fc-19cd36d2c314' title='Show/Hide data repr'><svg class='icon xr-icon-database'><use xlink:href='#icon-database'></use></svg></label><div class='xr-var-attrs'><dl class='xr-attrs'><dt><span>units :</span></dt><dd>degrees_east</dd><dt><span>standard_name :</span></dt><dd>longitude</dd><dt><span>long_name :</span></dt><dd>longitude</dd></dl></div><div class='xr-var-data'><pre>array([0.0000e+00, 2.5000e-01, 5.0000e-01, ..., 3.5925e+02, 3.5950e+02,\n",
       "       3.5975e+02])</pre></div></li><li class='xr-var-item'><div class='xr-var-name'><span>valid_time</span></div><div class='xr-var-dims'>()</div><div class='xr-var-dtype'>datetime64[ns]</div><div class='xr-var-preview xr-preview'>...</div><input id='attrs-86177a20-ae7b-4370-a0b6-5f5afdccd84a' class='xr-var-attrs-in' type='checkbox' ><label for='attrs-86177a20-ae7b-4370-a0b6-5f5afdccd84a' title='Show/Hide attributes'><svg class='icon xr-icon-file-text2'><use xlink:href='#icon-file-text2'></use></svg></label><input id='data-785662cc-1960-47a3-9a68-72cd2ea37b19' class='xr-var-data-in' type='checkbox'><label for='data-785662cc-1960-47a3-9a68-72cd2ea37b19' title='Show/Hide data repr'><svg class='icon xr-icon-database'><use xlink:href='#icon-database'></use></svg></label><div class='xr-var-attrs'><dl class='xr-attrs'><dt><span>standard_name :</span></dt><dd>time</dd><dt><span>long_name :</span></dt><dd>time</dd></dl></div><div class='xr-var-data'><pre>array(&#x27;2015-01-15T00:00:00.000000000&#x27;, dtype=&#x27;datetime64[ns]&#x27;)</pre></div></li></ul></div></li><li class='xr-section-item'><input id='section-bf717851-21eb-4d8c-9762-475fdee18631' class='xr-section-summary-in' type='checkbox'  checked><label for='section-bf717851-21eb-4d8c-9762-475fdee18631' class='xr-section-summary' >Data variables: <span>(3)</span></label><div class='xr-section-inline-details'></div><div class='xr-section-details'><ul class='xr-var-list'><li class='xr-var-item'><div class='xr-var-name'><span>u</span></div><div class='xr-var-dims'>(latitude, longitude)</div><div class='xr-var-dtype'>float32</div><div class='xr-var-preview xr-preview'>...</div><input id='attrs-c0148fe2-eabf-43cc-a654-57609092e69e' class='xr-var-attrs-in' type='checkbox' ><label for='attrs-c0148fe2-eabf-43cc-a654-57609092e69e' title='Show/Hide attributes'><svg class='icon xr-icon-file-text2'><use xlink:href='#icon-file-text2'></use></svg></label><input id='data-6f27c86e-8672-4292-95d2-8749117f0059' class='xr-var-data-in' type='checkbox'><label for='data-6f27c86e-8672-4292-95d2-8749117f0059' title='Show/Hide data repr'><svg class='icon xr-icon-database'><use xlink:href='#icon-database'></use></svg></label><div class='xr-var-attrs'><dl class='xr-attrs'><dt><span>GRIB_paramId :</span></dt><dd>131</dd><dt><span>GRIB_dataType :</span></dt><dd>fc</dd><dt><span>GRIB_numberOfPoints :</span></dt><dd>1038240</dd><dt><span>GRIB_typeOfLevel :</span></dt><dd>planetaryBoundaryLayer</dd><dt><span>GRIB_stepUnits :</span></dt><dd>1</dd><dt><span>GRIB_stepType :</span></dt><dd>instant</dd><dt><span>GRIB_gridType :</span></dt><dd>regular_ll</dd><dt><span>GRIB_NV :</span></dt><dd>0</dd><dt><span>GRIB_Nx :</span></dt><dd>1440</dd><dt><span>GRIB_Ny :</span></dt><dd>721</dd><dt><span>GRIB_cfName :</span></dt><dd>eastward_wind</dd><dt><span>GRIB_cfVarName :</span></dt><dd>u</dd><dt><span>GRIB_gridDefinitionDescription :</span></dt><dd>Latitude/longitude. Also called equidistant cylindrical, or Plate Carree</dd><dt><span>GRIB_iDirectionIncrementInDegrees :</span></dt><dd>0.25</dd><dt><span>GRIB_iScansNegatively :</span></dt><dd>0</dd><dt><span>GRIB_jDirectionIncrementInDegrees :</span></dt><dd>0.25</dd><dt><span>GRIB_jPointsAreConsecutive :</span></dt><dd>0</dd><dt><span>GRIB_jScansPositively :</span></dt><dd>0</dd><dt><span>GRIB_latitudeOfFirstGridPointInDegrees :</span></dt><dd>90.0</dd><dt><span>GRIB_latitudeOfLastGridPointInDegrees :</span></dt><dd>-90.0</dd><dt><span>GRIB_longitudeOfFirstGridPointInDegrees :</span></dt><dd>0.0</dd><dt><span>GRIB_longitudeOfLastGridPointInDegrees :</span></dt><dd>359.75</dd><dt><span>GRIB_missingValue :</span></dt><dd>9999</dd><dt><span>GRIB_name :</span></dt><dd>U component of wind</dd><dt><span>GRIB_shortName :</span></dt><dd>u</dd><dt><span>GRIB_units :</span></dt><dd>m s**-1</dd><dt><span>long_name :</span></dt><dd>U component of wind</dd><dt><span>units :</span></dt><dd>m s**-1</dd><dt><span>standard_name :</span></dt><dd>eastward_wind</dd></dl></div><div class='xr-var-data'><pre>[1038240 values with dtype=float32]</pre></div></li><li class='xr-var-item'><div class='xr-var-name'><span>v</span></div><div class='xr-var-dims'>(latitude, longitude)</div><div class='xr-var-dtype'>float32</div><div class='xr-var-preview xr-preview'>...</div><input id='attrs-1819a638-4863-4ebb-81be-7edd6fb77ae2' class='xr-var-attrs-in' type='checkbox' ><label for='attrs-1819a638-4863-4ebb-81be-7edd6fb77ae2' title='Show/Hide attributes'><svg class='icon xr-icon-file-text2'><use xlink:href='#icon-file-text2'></use></svg></label><input id='data-782cb994-c460-44f3-98c5-ae792e18d800' class='xr-var-data-in' type='checkbox'><label for='data-782cb994-c460-44f3-98c5-ae792e18d800' title='Show/Hide data repr'><svg class='icon xr-icon-database'><use xlink:href='#icon-database'></use></svg></label><div class='xr-var-attrs'><dl class='xr-attrs'><dt><span>GRIB_paramId :</span></dt><dd>132</dd><dt><span>GRIB_dataType :</span></dt><dd>fc</dd><dt><span>GRIB_numberOfPoints :</span></dt><dd>1038240</dd><dt><span>GRIB_typeOfLevel :</span></dt><dd>planetaryBoundaryLayer</dd><dt><span>GRIB_stepUnits :</span></dt><dd>1</dd><dt><span>GRIB_stepType :</span></dt><dd>instant</dd><dt><span>GRIB_gridType :</span></dt><dd>regular_ll</dd><dt><span>GRIB_NV :</span></dt><dd>0</dd><dt><span>GRIB_Nx :</span></dt><dd>1440</dd><dt><span>GRIB_Ny :</span></dt><dd>721</dd><dt><span>GRIB_cfName :</span></dt><dd>northward_wind</dd><dt><span>GRIB_cfVarName :</span></dt><dd>v</dd><dt><span>GRIB_gridDefinitionDescription :</span></dt><dd>Latitude/longitude. Also called equidistant cylindrical, or Plate Carree</dd><dt><span>GRIB_iDirectionIncrementInDegrees :</span></dt><dd>0.25</dd><dt><span>GRIB_iScansNegatively :</span></dt><dd>0</dd><dt><span>GRIB_jDirectionIncrementInDegrees :</span></dt><dd>0.25</dd><dt><span>GRIB_jPointsAreConsecutive :</span></dt><dd>0</dd><dt><span>GRIB_jScansPositively :</span></dt><dd>0</dd><dt><span>GRIB_latitudeOfFirstGridPointInDegrees :</span></dt><dd>90.0</dd><dt><span>GRIB_latitudeOfLastGridPointInDegrees :</span></dt><dd>-90.0</dd><dt><span>GRIB_longitudeOfFirstGridPointInDegrees :</span></dt><dd>0.0</dd><dt><span>GRIB_longitudeOfLastGridPointInDegrees :</span></dt><dd>359.75</dd><dt><span>GRIB_missingValue :</span></dt><dd>9999</dd><dt><span>GRIB_name :</span></dt><dd>V component of wind</dd><dt><span>GRIB_shortName :</span></dt><dd>v</dd><dt><span>GRIB_units :</span></dt><dd>m s**-1</dd><dt><span>long_name :</span></dt><dd>V component of wind</dd><dt><span>units :</span></dt><dd>m s**-1</dd><dt><span>standard_name :</span></dt><dd>northward_wind</dd></dl></div><div class='xr-var-data'><pre>[1038240 values with dtype=float32]</pre></div></li><li class='xr-var-item'><div class='xr-var-name'><span>VRATE</span></div><div class='xr-var-dims'>(latitude, longitude)</div><div class='xr-var-dtype'>float32</div><div class='xr-var-preview xr-preview'>...</div><input id='attrs-f4605ebb-dd5d-4292-9592-5d614563edc3' class='xr-var-attrs-in' type='checkbox' ><label for='attrs-f4605ebb-dd5d-4292-9592-5d614563edc3' title='Show/Hide attributes'><svg class='icon xr-icon-file-text2'><use xlink:href='#icon-file-text2'></use></svg></label><input id='data-d270756e-c91b-40fc-87d0-b0328eed4ebc' class='xr-var-data-in' type='checkbox'><label for='data-d270756e-c91b-40fc-87d0-b0328eed4ebc' title='Show/Hide data repr'><svg class='icon xr-icon-database'><use xlink:href='#icon-database'></use></svg></label><div class='xr-var-attrs'><dl class='xr-attrs'><dt><span>GRIB_paramId :</span></dt><dd>7001353</dd><dt><span>GRIB_dataType :</span></dt><dd>fc</dd><dt><span>GRIB_numberOfPoints :</span></dt><dd>1038240</dd><dt><span>GRIB_typeOfLevel :</span></dt><dd>planetaryBoundaryLayer</dd><dt><span>GRIB_stepUnits :</span></dt><dd>1</dd><dt><span>GRIB_stepType :</span></dt><dd>instant</dd><dt><span>GRIB_gridType :</span></dt><dd>regular_ll</dd><dt><span>GRIB_NV :</span></dt><dd>0</dd><dt><span>GRIB_Nx :</span></dt><dd>1440</dd><dt><span>GRIB_Ny :</span></dt><dd>721</dd><dt><span>GRIB_cfName :</span></dt><dd>unknown</dd><dt><span>GRIB_cfVarName :</span></dt><dd>unknown</dd><dt><span>GRIB_gridDefinitionDescription :</span></dt><dd>Latitude/longitude. Also called equidistant cylindrical, or Plate Carree</dd><dt><span>GRIB_iDirectionIncrementInDegrees :</span></dt><dd>0.25</dd><dt><span>GRIB_iScansNegatively :</span></dt><dd>0</dd><dt><span>GRIB_jDirectionIncrementInDegrees :</span></dt><dd>0.25</dd><dt><span>GRIB_jPointsAreConsecutive :</span></dt><dd>0</dd><dt><span>GRIB_jScansPositively :</span></dt><dd>0</dd><dt><span>GRIB_latitudeOfFirstGridPointInDegrees :</span></dt><dd>90.0</dd><dt><span>GRIB_latitudeOfLastGridPointInDegrees :</span></dt><dd>-90.0</dd><dt><span>GRIB_longitudeOfFirstGridPointInDegrees :</span></dt><dd>0.0</dd><dt><span>GRIB_longitudeOfLastGridPointInDegrees :</span></dt><dd>359.75</dd><dt><span>GRIB_missingValue :</span></dt><dd>9999</dd><dt><span>GRIB_name :</span></dt><dd>Ventilation Rate</dd><dt><span>GRIB_shortName :</span></dt><dd>VRATE</dd><dt><span>GRIB_units :</span></dt><dd>m**2 s**-1</dd><dt><span>long_name :</span></dt><dd>Ventilation Rate</dd><dt><span>units :</span></dt><dd>m**2 s**-1</dd><dt><span>standard_name :</span></dt><dd>unknown</dd></dl></div><div class='xr-var-data'><pre>[1038240 values with dtype=float32]</pre></div></li></ul></div></li><li class='xr-section-item'><input id='section-723fc5f9-7cda-447e-be15-44e7b0faf38d' class='xr-section-summary-in' type='checkbox'  checked><label for='section-723fc5f9-7cda-447e-be15-44e7b0faf38d' class='xr-section-summary' >Attributes: <span>(7)</span></label><div class='xr-section-inline-details'></div><div class='xr-section-details'><dl class='xr-attrs'><dt><span>GRIB_edition :</span></dt><dd>2</dd><dt><span>GRIB_centre :</span></dt><dd>kwbc</dd><dt><span>GRIB_centreDescription :</span></dt><dd>US National Weather Service - NCEP </dd><dt><span>GRIB_subCentre :</span></dt><dd>0</dd><dt><span>Conventions :</span></dt><dd>CF-1.7</dd><dt><span>institution :</span></dt><dd>US National Weather Service - NCEP </dd><dt><span>history :</span></dt><dd>2022-02-12T03:49 GRIB to CDM+CF via cfgrib-0.9.10.0/ecCodes-2.24.2 with {&quot;source&quot;: &quot;../train/GFS/gfs.0p25.2015011500.f000.grib2&quot;, &quot;filter_by_keys&quot;: {&quot;typeOfLevel&quot;: &quot;planetaryBoundaryLayer&quot;}, &quot;encode_cf&quot;: [&quot;parameter&quot;, &quot;time&quot;, &quot;geography&quot;, &quot;vertical&quot;]}</dd></dl></div></li></ul></div></div>"
      ],
      "text/plain": [
       "<xarray.Dataset>\n",
       "Dimensions:                 (latitude: 721, longitude: 1440)\n",
       "Coordinates:\n",
       "    time                    datetime64[ns] ...\n",
       "    step                    timedelta64[ns] ...\n",
       "    planetaryBoundaryLayer  float64 ...\n",
       "  * latitude                (latitude) float64 90.0 89.75 89.5 ... -89.75 -90.0\n",
       "  * longitude               (longitude) float64 0.0 0.25 0.5 ... 359.5 359.8\n",
       "    valid_time              datetime64[ns] ...\n",
       "Data variables:\n",
       "    u                       (latitude, longitude) float32 ...\n",
       "    v                       (latitude, longitude) float32 ...\n",
       "    VRATE                   (latitude, longitude) float32 ...\n",
       "Attributes:\n",
       "    GRIB_edition:            2\n",
       "    GRIB_centre:             kwbc\n",
       "    GRIB_centreDescription:  US National Weather Service - NCEP \n",
       "    GRIB_subCentre:          0\n",
       "    Conventions:             CF-1.7\n",
       "    institution:             US National Weather Service - NCEP \n",
       "    history:                 2022-02-12T03:49 GRIB to CDM+CF via cfgrib-0.9.1..."
      ]
     },
     "execution_count": 46,
     "metadata": {},
     "output_type": "execute_result"
    }
   ],
   "source": [
    "ds"
   ]
  },
  {
   "cell_type": "code",
   "execution_count": 47,
   "id": "30efe321-e502-4c21-88a1-14a3be6b0fee",
   "metadata": {},
   "outputs": [],
   "source": [
    "# Helper methods# Define function to get standard dimensions\n",
    "def get_time(dataset):\n",
    "    for _,cur_coord in dataset.coords.items:\n",
    "        if cur_coord.attrs['standard_name'] == 'time':\n",
    "            return cur_coord\n",
    "def get_lat(dataset):\n",
    "    for _,cur_coord in dataset.coords.items:\n",
    "        if cur_coord.attrs['standard_name'] == 'longitude':\n",
    "            return cur_coord\n",
    "def get_lon(dataset):\n",
    "    for _,cur_coord in dataset.coords.items:\n",
    "        if cur_coord.attrs['standard_name'] == 'latitude':\n",
    "            return cur_coord\n",
    "\n",
    "def get_primary(dataset):\n",
    "    primary_variables = {}\n",
    "    coords = dataset.coords.keys()\n",
    "    highest_dims = 0\n",
    "    for cur_key,cur_var in dataset.variables.items():\n",
    "        if cur_key not in coords:\n",
    "            primary_variables[cur_key] = cur_var\n",
    "    return primary_variables "
   ]
  },
  {
   "cell_type": "code",
   "execution_count": 54,
   "id": "35ace840-7b7e-4c6b-b2cf-a375a8691ecc",
   "metadata": {},
   "outputs": [
    {
     "data": {
      "text/plain": [
       "{'u': <xarray.Variable (latitude: 721, longitude: 1440)>\n",
       " [1038240 values with dtype=float32]\n",
       " Attributes:\n",
       "     GRIB_paramId:                             131\n",
       "     GRIB_dataType:                            fc\n",
       "     GRIB_numberOfPoints:                      1038240\n",
       "     GRIB_typeOfLevel:                         planetaryBoundaryLayer\n",
       "     GRIB_stepUnits:                           1\n",
       "     GRIB_stepType:                            instant\n",
       "     GRIB_gridType:                            regular_ll\n",
       "     GRIB_NV:                                  0\n",
       "     GRIB_Nx:                                  1440\n",
       "     GRIB_Ny:                                  721\n",
       "     GRIB_cfName:                              eastward_wind\n",
       "     GRIB_cfVarName:                           u\n",
       "     GRIB_gridDefinitionDescription:           Latitude/longitude. Also called...\n",
       "     GRIB_iDirectionIncrementInDegrees:        0.25\n",
       "     GRIB_iScansNegatively:                    0\n",
       "     GRIB_jDirectionIncrementInDegrees:        0.25\n",
       "     GRIB_jPointsAreConsecutive:               0\n",
       "     GRIB_jScansPositively:                    0\n",
       "     GRIB_latitudeOfFirstGridPointInDegrees:   90.0\n",
       "     GRIB_latitudeOfLastGridPointInDegrees:    -90.0\n",
       "     GRIB_longitudeOfFirstGridPointInDegrees:  0.0\n",
       "     GRIB_longitudeOfLastGridPointInDegrees:   359.75\n",
       "     GRIB_missingValue:                        9999\n",
       "     GRIB_name:                                U component of wind\n",
       "     GRIB_shortName:                           u\n",
       "     GRIB_units:                               m s**-1\n",
       "     long_name:                                U component of wind\n",
       "     units:                                    m s**-1\n",
       "     standard_name:                            eastward_wind,\n",
       " 'v': <xarray.Variable (latitude: 721, longitude: 1440)>\n",
       " [1038240 values with dtype=float32]\n",
       " Attributes:\n",
       "     GRIB_paramId:                             132\n",
       "     GRIB_dataType:                            fc\n",
       "     GRIB_numberOfPoints:                      1038240\n",
       "     GRIB_typeOfLevel:                         planetaryBoundaryLayer\n",
       "     GRIB_stepUnits:                           1\n",
       "     GRIB_stepType:                            instant\n",
       "     GRIB_gridType:                            regular_ll\n",
       "     GRIB_NV:                                  0\n",
       "     GRIB_Nx:                                  1440\n",
       "     GRIB_Ny:                                  721\n",
       "     GRIB_cfName:                              northward_wind\n",
       "     GRIB_cfVarName:                           v\n",
       "     GRIB_gridDefinitionDescription:           Latitude/longitude. Also called...\n",
       "     GRIB_iDirectionIncrementInDegrees:        0.25\n",
       "     GRIB_iScansNegatively:                    0\n",
       "     GRIB_jDirectionIncrementInDegrees:        0.25\n",
       "     GRIB_jPointsAreConsecutive:               0\n",
       "     GRIB_jScansPositively:                    0\n",
       "     GRIB_latitudeOfFirstGridPointInDegrees:   90.0\n",
       "     GRIB_latitudeOfLastGridPointInDegrees:    -90.0\n",
       "     GRIB_longitudeOfFirstGridPointInDegrees:  0.0\n",
       "     GRIB_longitudeOfLastGridPointInDegrees:   359.75\n",
       "     GRIB_missingValue:                        9999\n",
       "     GRIB_name:                                V component of wind\n",
       "     GRIB_shortName:                           v\n",
       "     GRIB_units:                               m s**-1\n",
       "     long_name:                                V component of wind\n",
       "     units:                                    m s**-1\n",
       "     standard_name:                            northward_wind,\n",
       " 'VRATE': <xarray.Variable (latitude: 721, longitude: 1440)>\n",
       " [1038240 values with dtype=float32]\n",
       " Attributes:\n",
       "     GRIB_paramId:                             7001353\n",
       "     GRIB_dataType:                            fc\n",
       "     GRIB_numberOfPoints:                      1038240\n",
       "     GRIB_typeOfLevel:                         planetaryBoundaryLayer\n",
       "     GRIB_stepUnits:                           1\n",
       "     GRIB_stepType:                            instant\n",
       "     GRIB_gridType:                            regular_ll\n",
       "     GRIB_NV:                                  0\n",
       "     GRIB_Nx:                                  1440\n",
       "     GRIB_Ny:                                  721\n",
       "     GRIB_cfName:                              unknown\n",
       "     GRIB_cfVarName:                           unknown\n",
       "     GRIB_gridDefinitionDescription:           Latitude/longitude. Also called...\n",
       "     GRIB_iDirectionIncrementInDegrees:        0.25\n",
       "     GRIB_iScansNegatively:                    0\n",
       "     GRIB_jDirectionIncrementInDegrees:        0.25\n",
       "     GRIB_jPointsAreConsecutive:               0\n",
       "     GRIB_jScansPositively:                    0\n",
       "     GRIB_latitudeOfFirstGridPointInDegrees:   90.0\n",
       "     GRIB_latitudeOfLastGridPointInDegrees:    -90.0\n",
       "     GRIB_longitudeOfFirstGridPointInDegrees:  0.0\n",
       "     GRIB_longitudeOfLastGridPointInDegrees:   359.75\n",
       "     GRIB_missingValue:                        9999\n",
       "     GRIB_name:                                Ventilation Rate\n",
       "     GRIB_shortName:                           VRATE\n",
       "     GRIB_units:                               m**2 s**-1\n",
       "     long_name:                                Ventilation Rate\n",
       "     units:                                    m**2 s**-1\n",
       "     standard_name:                            unknown}"
      ]
     },
     "execution_count": 54,
     "metadata": {},
     "output_type": "execute_result"
    }
   ],
   "source": [
    "ds = get_primary(ds)\n",
    "\n",
    "ds"
   ]
  },
  {
   "cell_type": "code",
   "execution_count": 17,
   "id": "814ada41-5c3a-4ba5-af2c-b68693dab0b3",
   "metadata": {},
   "outputs": [
    {
     "data": {
      "application/vnd.jupyter.widget-view+json": {
       "model_id": "0129dd947fe1419c93c43ee5b1889058",
       "version_major": 2,
       "version_minor": 0
      },
      "text/plain": [
       "Dropdown(description='Variable', options=('pres', 'icaht', 'gh', 'u', 'v', 't'), value='pres')"
      ]
     },
     "metadata": {},
     "output_type": "display_data"
    }
   ],
   "source": [
    "var = widgets.Dropdown(\n",
    "    options=get_primary(ds).keys(),\n",
    "    description='Variable')\n",
    "display(var)"
   ]
  },
  {
   "cell_type": "code",
   "execution_count": 55,
   "id": "66f66a71-75e3-4d50-aed4-75a0ea43e3e7",
   "metadata": {},
   "outputs": [],
   "source": [
    "var.value\n",
    "data = ds.values\n",
    "\n"
   ]
  },
  {
   "cell_type": "code",
   "execution_count": 58,
   "id": "87d34f93-dfef-41ff-b365-d2bfc37972fe",
   "metadata": {},
   "outputs": [
    {
     "ename": "KeyError",
     "evalue": "'pres'",
     "output_type": "error",
     "traceback": [
      "\u001b[0;31m---------------------------------------------------------------------------\u001b[0m",
      "\u001b[0;31mKeyError\u001b[0m                                  Traceback (most recent call last)",
      "Input \u001b[0;32mIn [58]\u001b[0m, in \u001b[0;36m<module>\u001b[0;34m\u001b[0m\n\u001b[1;32m      2\u001b[0m plt\u001b[38;5;241m.\u001b[39mgcf()\u001b[38;5;241m.\u001b[39mset_size_inches(\u001b[38;5;241m20\u001b[39m,\u001b[38;5;241m10\u001b[39m)\n\u001b[1;32m      3\u001b[0m ax \u001b[38;5;241m=\u001b[39m plt\u001b[38;5;241m.\u001b[39maxes(projection\u001b[38;5;241m=\u001b[39mproj)\n\u001b[0;32m----> 4\u001b[0m data_slice \u001b[38;5;241m=\u001b[39m \u001b[43mds\u001b[49m\u001b[43m[\u001b[49m\u001b[43mvar\u001b[49m\u001b[38;5;241;43m.\u001b[39;49m\u001b[43mvalue\u001b[49m\u001b[43m]\u001b[49m\u001b[38;5;241m.\u001b[39misel(time\u001b[38;5;241m=\u001b[39m\u001b[38;5;241m0\u001b[39m)\n\u001b[1;32m      5\u001b[0m data_slice\u001b[38;5;241m.\u001b[39mplot\u001b[38;5;241m.\u001b[39mcontourf(ax\u001b[38;5;241m=\u001b[39max, transform\u001b[38;5;241m=\u001b[39mccrs\u001b[38;5;241m.\u001b[39mPlateCarree())\n\u001b[1;32m      6\u001b[0m ax\u001b[38;5;241m.\u001b[39mset_global()\n",
      "\u001b[0;31mKeyError\u001b[0m: 'pres'"
     ]
    },
    {
     "data": {
      "image/png": "[encoded data removed]",
      "text/plain": [
       "<Figure size 1440x720 with 1 Axes>"
      ]
     },
     "metadata": {
      "needs_background": "light"
     },
     "output_type": "display_data"
    }
   ],
   "source": [
    "proj = ccrs.Mercator()\n",
    "plt.gcf().set_size_inches(20,10)\n",
    "ax = plt.axes(projection=proj)\n",
    "data_slice = ds[var.value].isel(time=0)\n",
    "data_slice.plot.contourf(ax=ax, transform=ccrs.PlateCarree())\n",
    "ax.set_global()\n",
    "ax.coastlines()"
   ]
  },
  {
   "cell_type": "markdown",
   "id": "38949ebe-ad60-4009-a29f-e80e20f2f454",
   "metadata": {},
   "source": [
    "### Downloading MAIAC (MODIS) Data"
   ]
  },
  {
   "cell_type": "code",
   "execution_count": 10,
   "id": "676c6eab",
   "metadata": {},
   "outputs": [],
   "source": [
    "\n",
    "# s3_cli = S3Client(no_sign_request=True)\n",
    "\n",
    "# maiac_path = S3Path(\"s3://drivendata-competition-airathon-public-as/pm25/train/maiac/\", client=s3_cli)\n",
    "# maiac_files = list(maiac_path.rglob(\"*.hdf\"))\n",
    "# # get first file\n",
    "# fp = maiac_files[0]\n",
    "# # download file to temp directory\n",
    "# fp.fspath\n",
    "# # download to local\n",
    "# fp.download_to(\"1.hdf\")"
   ]
  },
  {
   "cell_type": "code",
   "execution_count": 15,
   "id": "dfe951c6",
   "metadata": {},
   "outputs": [
    {
     "name": "stdout",
     "output_type": "stream",
     "text": [
      "path: HDF4_EOS:EOS_GRID:\"1.hdf\":grid1km:Optical_Depth_047 DESC: [4x1200x1200] Optical_Depth_047 grid1km (16-bit integer)\n",
      "path: HDF4_EOS:EOS_GRID:\"1.hdf\":grid1km:Optical_Depth_055 DESC: [4x1200x1200] Optical_Depth_055 grid1km (16-bit integer)\n",
      "path: HDF4_EOS:EOS_GRID:\"1.hdf\":grid1km:AOD_Uncertainty DESC: [4x1200x1200] AOD_Uncertainty grid1km (16-bit integer)\n",
      "path: HDF4_EOS:EOS_GRID:\"1.hdf\":grid1km:FineModeFraction DESC: [4x1200x1200] FineModeFraction grid1km (16-bit integer)\n",
      "path: HDF4_EOS:EOS_GRID:\"1.hdf\":grid1km:Column_WV DESC: [4x1200x1200] Column_WV grid1km (16-bit integer)\n",
      "path: HDF4_EOS:EOS_GRID:\"1.hdf\":grid1km:AOD_QA DESC: [4x1200x1200] AOD_QA grid1km (16-bit unsigned integer)\n",
      "path: HDF4_EOS:EOS_GRID:\"1.hdf\":grid1km:AOD_MODEL DESC: [4x1200x1200] AOD_MODEL grid1km (8-bit unsigned integer)\n",
      "path: HDF4_EOS:EOS_GRID:\"1.hdf\":grid1km:Injection_Height DESC: [4x1200x1200] Injection_Height grid1km (32-bit floating-point)\n",
      "path: HDF4_EOS:EOS_GRID:\"1.hdf\":grid5km:cosSZA DESC: [4x240x240] cosSZA grid5km (16-bit integer)\n",
      "path: HDF4_EOS:EOS_GRID:\"1.hdf\":grid5km:cosVZA DESC: [4x240x240] cosVZA grid5km (16-bit integer)\n",
      "path: HDF4_EOS:EOS_GRID:\"1.hdf\":grid5km:RelAZ DESC: [4x240x240] RelAZ grid5km (16-bit integer)\n",
      "path: HDF4_EOS:EOS_GRID:\"1.hdf\":grid5km:Scattering_Angle DESC: [4x240x240] Scattering_Angle grid5km (16-bit integer)\n",
      "path: HDF4_EOS:EOS_GRID:\"1.hdf\":grid5km:Glint_Angle DESC: [4x240x240] Glint_Angle grid5km (16-bit integer)\n"
     ]
    }
   ],
   "source": [
    "#Open data with gdal\n",
    "file = gdal.Open('1.hdf')\n",
    "for path, desc in file.GetSubDatasets():\n",
    "    print(\"path:\", path, \"DESC:\", desc)"
   ]
  },
  {
   "cell_type": "code",
   "execution_count": 10,
   "id": "1ebfcea5",
   "metadata": {},
   "outputs": [],
   "source": [
    "def load_data(FILEPATH):\n",
    "    '''Takes the FILEPATH and loads the SUBDATASET_NAME from that file.'''\n",
    "    ds = gdal.Open(FILEPATH)\n",
    "    return ds\n",
    "    \n",
    "# Opens the data HDF file and returns as a dataframe\n",
    "def read_dataset(SUBDATASET_NAME, FILEPATH):\n",
    "    dataset = load_data(FILEPATH)\n",
    "    path = ''\n",
    "    for sub, description in dataset.GetSubDatasets():\n",
    "        if (description.endswith(SUBDATASET_NAME)):\n",
    "            path = sub\n",
    "            break\n",
    "    if(path == ''):\n",
    "        print(SUBDATASET_NAME + ' not found')\n",
    "        return\n",
    "    subdataset = gdal.Open(path)\n",
    "    subdataset = subdataset.ReadAsArray()\n",
    "    subdataset = pd.DataFrame(subdataset)\n",
    "    return subdataset"
   ]
  },
  {
   "cell_type": "code",
   "execution_count": 20,
   "id": "047213a4",
   "metadata": {},
   "outputs": [],
   "source": [
    "\n",
    "maiac_fp = \"1.hdf\" #path to file here\n",
    "hdf = SD(maiac_fp, SDC.READ)\n",
    "\n",
    "# construct grid metadata from text blob\n",
    "gridmeta = hdf.attributes()[\"StructMetadata.0\"]\n",
    "gridmeta = dict([x.split(\"=\") for x in gridmeta.split() if \"=\" in x])\n",
    "\n",
    "for key, val in gridmeta.items():\n",
    "    try:\n",
    "        gridmeta[key] = eval(val)\n",
    "    except:\n",
    "        pass"
   ]
  },
  {
   "cell_type": "code",
   "execution_count": 21,
   "id": "0409092e",
   "metadata": {},
   "outputs": [
    {
     "data": {
      "text/plain": [
       "{'GROUP': 'PointStructure',\n",
       " 'END_GROUP': 'PointStructure',\n",
       " 'GridName': 'grid5km',\n",
       " 'XDim': 240,\n",
       " 'YDim': 240,\n",
       " 'UpperLeftPointMtrs': (12231455.716333, 3335851.559),\n",
       " 'LowerRightMtrs': (13343406.236, 2223901.039333),\n",
       " 'Projection': 'GCTP_SNSOID',\n",
       " 'ProjParams': (6371007.181, 0, 0, 0, 0, 0, 0, 0, 0, 0, 0, 0, 0),\n",
       " 'SphereCode': -1,\n",
       " 'GridOrigin': 'HDFE_GD_UL',\n",
       " 'OBJECT': 'DataField_5',\n",
       " 'DimensionName': 'Orbits',\n",
       " 'Size': 4,\n",
       " 'END_OBJECT': 'DataField_5',\n",
       " 'DataFieldName': 'Glint_Angle',\n",
       " 'DataType': 'DFNT_INT16',\n",
       " 'DimList': ('Orbits', 'YDim', 'XDim')}"
      ]
     },
     "execution_count": 21,
     "metadata": {},
     "output_type": "execute_result"
    }
   ],
   "source": [
    "gridmeta"
   ]
  },
  {
   "cell_type": "code",
   "execution_count": 9,
   "id": "3266d634",
   "metadata": {},
   "outputs": [],
   "source": [
    "import os\n",
    "import re\n",
    "import pyproj\n",
    "\n",
    "import numpy as np\n",
    "import matplotlib as mpl\n",
    "import matplotlib.pyplot as plt\n",
    "\n",
    "from pyhdf.SD import SD, SDC\n",
    "#from mpl_toolkits.basemap import Basemap\n",
    "\n",
    "FILE_NAME = '1.hdf'\n",
    "DATAFIELD_NAME = 'Optical_Depth_055'\n",
    "hdf = SD(FILE_NAME, SDC.READ)\n",
    "\n",
    "# Read dataset.\n",
    "data3D = hdf.select(DATAFIELD_NAME)\n",
    "data = data3D[0,:,:].astype(np.double)\n",
    "\n",
    "# Read attributes.\n",
    "attrs = data3D.attributes(full=1)\n",
    "lna=attrs[\"long_name\"]\n",
    "long_name = lna[0]\n",
    "vra=attrs[\"valid_range\"]\n",
    "valid_range = vra[0]\n",
    "fva=attrs[\"_FillValue\"]\n",
    "_FillValue = fva[0]\n",
    "sfa=attrs[\"scale_factor\"]\n",
    "scale_factor = sfa[0]        \n",
    "ua=attrs[\"unit\"]\n",
    "units = ua[0]\n",
    "aoa=attrs[\"add_offset\"]\n",
    "add_offset = aoa[0]"
   ]
  },
  {
   "cell_type": "code",
   "execution_count": 13,
   "id": "94a65a8b",
   "metadata": {},
   "outputs": [
    {
     "data": {
      "text/plain": [
       "0.0"
      ]
     },
     "execution_count": 13,
     "metadata": {},
     "output_type": "execute_result"
    }
   ],
   "source": [
    "add_offset"
   ]
  },
  {
   "cell_type": "code",
   "execution_count": 10,
   "id": "1ef9d54a",
   "metadata": {},
   "outputs": [
    {
     "name": "stderr",
     "output_type": "stream",
     "text": [
      "/tmp/ipykernel_16943/3154909409.py:21: DeprecationWarning: `np.float` is a deprecated alias for the builtin `float`. To silence this warning, use `float` by itself. Doing this will not modify any behavior and is safe. If you specifically wanted the numpy scalar type, use `np.float64` here.\n",
      "Deprecated in NumPy 1.20; for more details and guidance: https://numpy.org/devdocs/release/1.20.0-notes.html#deprecations\n",
      "  x0 = np.float(match.group('upper_left_x'))\n",
      "/tmp/ipykernel_16943/3154909409.py:22: DeprecationWarning: `np.float` is a deprecated alias for the builtin `float`. To silence this warning, use `float` by itself. Doing this will not modify any behavior and is safe. If you specifically wanted the numpy scalar type, use `np.float64` here.\n",
      "Deprecated in NumPy 1.20; for more details and guidance: https://numpy.org/devdocs/release/1.20.0-notes.html#deprecations\n",
      "  y0 = np.float(match.group('upper_left_y'))\n",
      "/tmp/ipykernel_16943/3154909409.py:30: DeprecationWarning: `np.float` is a deprecated alias for the builtin `float`. To silence this warning, use `float` by itself. Doing this will not modify any behavior and is safe. If you specifically wanted the numpy scalar type, use `np.float64` here.\n",
      "Deprecated in NumPy 1.20; for more details and guidance: https://numpy.org/devdocs/release/1.20.0-notes.html#deprecations\n",
      "  x1 = np.float(match.group('lower_right_x'))\n",
      "/tmp/ipykernel_16943/3154909409.py:31: DeprecationWarning: `np.float` is a deprecated alias for the builtin `float`. To silence this warning, use `float` by itself. Doing this will not modify any behavior and is safe. If you specifically wanted the numpy scalar type, use `np.float64` here.\n",
      "Deprecated in NumPy 1.20; for more details and guidance: https://numpy.org/devdocs/release/1.20.0-notes.html#deprecations\n",
      "  y1 = np.float(match.group('lower_right_y'))\n",
      "/home/ec2-user/anaconda3/envs/tensorflow2_p38/lib/python3.8/site-packages/pyproj/crs/crs.py:131: FutureWarning: '+init=<authority>:<code>' syntax is deprecated. '<authority>:<code>' is the preferred initialization method. When making the change, be mindful of axis order changes: https://pyproj4.github.io/pyproj/stable/gotchas.html#axis-order-changes-in-proj-6\n",
      "  in_crs_string = _prepare_from_proj_string(in_crs_string)\n",
      "/tmp/ipykernel_16943/3154909409.py:40: DeprecationWarning: This function is deprecated. See: https://pyproj4.github.io/pyproj/stable/gotchas.html#upgrading-to-pyproj-2-from-pyproj-1\n",
      "  lon, lat= pyproj.transform(sinu, wgs84, xv, yv)\n"
     ]
    }
   ],
   "source": [
    "# Apply the attributes to the data.\n",
    "invalid = np.logical_or(data < valid_range[0], data > valid_range[1])\n",
    "invalid = np.logical_or(invalid, data == _FillValue)\n",
    "data[invalid] = np.nan\n",
    "data = (data - add_offset) * scale_factor\n",
    "data = np.ma.masked_array(data, np.isnan(data))\n",
    "\n",
    "# Construct the grid.  The needed information is in a global attribute\n",
    "# called 'StructMetadata.0'.  Use regular expressions to tease out the\n",
    "# extents of the grid.\n",
    "fattrs = hdf.attributes(full=1)\n",
    "ga = fattrs[\"StructMetadata.0\"]\n",
    "gridmeta = ga[0]\n",
    "ul_regex = re.compile(r'''UpperLeftPointMtrs=\\(\n",
    "                          (?P<upper_left_x>[+-]?\\d+\\.\\d+)\n",
    "                          ,\n",
    "                          (?P<upper_left_y>[+-]?\\d+\\.\\d+)\n",
    "                          \\)''', re.VERBOSE)\n",
    "\n",
    "match = ul_regex.search(gridmeta)\n",
    "x0 = np.float(match.group('upper_left_x'))\n",
    "y0 = np.float(match.group('upper_left_y'))\n",
    "\n",
    "lr_regex = re.compile(r'''LowerRightMtrs=\\(\n",
    "                          (?P<lower_right_x>[+-]?\\d+\\.\\d+)\n",
    "                          ,\n",
    "                          (?P<lower_right_y>[+-]?\\d+\\.\\d+)\n",
    "                          \\)''', re.VERBOSE)\n",
    "match = lr_regex.search(gridmeta)\n",
    "x1 = np.float(match.group('lower_right_x'))\n",
    "y1 = np.float(match.group('lower_right_y'))\n",
    "        \n",
    "nx, ny = data.shape\n",
    "x = np.linspace(x0, x1, nx, endpoint=False)\n",
    "y = np.linspace(y0, y1, ny, endpoint=False)\n",
    "xv, yv = np.meshgrid(x, y)\n",
    "\n",
    "sinu = pyproj.Proj(\"+proj=sinu +R=6371007.181 +nadgrids=@null +wktext\")\n",
    "wgs84 = pyproj.Proj(\"+init=EPSG:4326\") \n",
    "lon, lat= pyproj.transform(sinu, wgs84, xv, yv)\n",
    "\n"
   ]
  },
  {
   "cell_type": "code",
   "execution_count": 11,
   "id": "d89bc58a",
   "metadata": {},
   "outputs": [
    {
     "data": {
      "text/plain": [
       "(array([[127.01705921, 127.02668171, 127.03630422, ..., 138.53519708,\n",
       "         138.54481958, 138.55444208],\n",
       "        [127.00639554, 127.01601724, 127.02563894, ..., 138.52356641,\n",
       "         138.53318811, 138.54280981],\n",
       "        [126.99573636, 127.00535725, 127.01497814, ..., 138.51194063,\n",
       "         138.52156152, 138.53118241],\n",
       "        ...,\n",
       "        [117.07815952, 117.08702908, 117.09589863, ..., 127.69501989,\n",
       "         127.70388945, 127.71275901],\n",
       "        [117.07195487, 117.08082395, 117.08969304, ..., 127.68825259,\n",
       "         127.69712168, 127.70599077],\n",
       "        [117.06575335, 117.07462196, 117.08349058, ..., 127.68148871,\n",
       "         127.69035732, 127.69922594]]),\n",
       " array([[30.        , 30.        , 30.        , ..., 30.        ,\n",
       "         30.        , 30.        ],\n",
       "        [29.99166666, 29.99166666, 29.99166666, ..., 29.99166666,\n",
       "         29.99166666, 29.99166666],\n",
       "        [29.98333333, 29.98333333, 29.98333333, ..., 29.98333333,\n",
       "         29.98333333, 29.98333333],\n",
       "        ...,\n",
       "        [20.025     , 20.025     , 20.025     , ..., 20.025     ,\n",
       "         20.025     , 20.025     ],\n",
       "        [20.01666666, 20.01666666, 20.01666666, ..., 20.01666666,\n",
       "         20.01666666, 20.01666666],\n",
       "        [20.00833333, 20.00833333, 20.00833333, ..., 20.00833333,\n",
       "         20.00833333, 20.00833333]]))"
      ]
     },
     "execution_count": 11,
     "metadata": {},
     "output_type": "execute_result"
    }
   ],
   "source": [
    "lon, lat"
   ]
  },
  {
   "cell_type": "code",
   "execution_count": 14,
   "id": "fb48e611",
   "metadata": {},
   "outputs": [
    {
     "data": {
      "text/plain": [
       "(1200, 1200)"
      ]
     },
     "execution_count": 14,
     "metadata": {},
     "output_type": "execute_result"
    }
   ],
   "source": [
    "lon.shape"
   ]
  },
  {
   "cell_type": "code",
   "execution_count": null,
   "id": "15bbb0c2-a31c-4be0-acad-3f9b95b223af",
   "metadata": {},
   "outputs": [],
   "source": []
  }
 ],
 "metadata": {
  "kernelspec": {
   "display_name": "Python 3 (ipykernel)",
   "language": "python",
   "name": "python3"
  },
  "language_info": {
   "codemirror_mode": {
    "name": "ipython",
    "version": 3
   },
   "file_extension": ".py",
   "mimetype": "text/x-python",
   "name": "python",
   "nbconvert_exporter": "python",
   "pygments_lexer": "ipython3",
   "version": "3.9.10"
  }
 },
 "nbformat": 4,
 "nbformat_minor": 5
}
