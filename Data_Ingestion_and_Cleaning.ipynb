{
 "cells": [
  {
   "cell_type": "markdown",
   "id": "2147a2f9-0d2d-4ed6-884b-1beb1bcb9639",
   "metadata": {},
   "source": [
    "## Data Ingestion, Join, Cleaning, Standardizing"
   ]
  },
  {
   "cell_type": "markdown",
   "id": "7ae68bff-9c25-4d81-b4de-22a9cc59eeba",
   "metadata": {},
   "source": [
    "Ingest data from our pipelined sources, join datasets together, perform basic EDA, clean data where necessary (impute missing values, etc), standardize data for compatability in models (if necessary)."
   ]
  },
  {
   "cell_type": "markdown",
   "id": "6e31c232-364d-417e-b1d4-502290bba448",
   "metadata": {},
   "source": [
    "### 1.) Data Ingestion"
   ]
  },
  {
   "cell_type": "markdown",
   "id": "a843eb95-c63c-4b07-8374-c12e07453cca",
   "metadata": {},
   "source": [
    "Download AOD Data"
   ]
  },
  {
   "cell_type": "markdown",
   "id": "ba703093-f2f7-483b-8e7e-8179dcfdeb5d",
   "metadata": {},
   "source": [
    "Download GFS Data"
   ]
  },
  {
   "cell_type": "markdown",
   "id": "310a46a5-6bb6-47c1-b1a4-4835420a371f",
   "metadata": {},
   "source": [
    "Download Topology Data"
   ]
  },
  {
   "cell_type": "markdown",
   "id": "c3f16328-5c2a-4d25-90b2-7a8e9849fe06",
   "metadata": {},
   "source": [
    "### 2.) Data Join "
   ]
  },
  {
   "cell_type": "markdown",
   "id": "91ba2efd-2b68-43b4-84b6-a6af9151d581",
   "metadata": {},
   "source": [
    "### 3.) EDA"
   ]
  },
  {
   "cell_type": "markdown",
   "id": "3705643b-f25b-4f7a-b775-b53b46643792",
   "metadata": {},
   "source": [
    "### 4.) Data Cleaning"
   ]
  },
  {
   "cell_type": "markdown",
   "id": "93280b2c-f3cd-416c-97ca-0a784fac3faa",
   "metadata": {},
   "source": [
    "### 5.) Standardization / Normalization"
   ]
  }
 ],
 "metadata": {
  "kernelspec": {
   "display_name": "Python 3 (ipykernel)",
   "language": "python",
   "name": "python3"
  },
  "language_info": {
   "codemirror_mode": {
    "name": "ipython",
    "version": 3
   },
   "file_extension": ".py",
   "mimetype": "text/x-python",
   "name": "python",
   "nbconvert_exporter": "python",
   "pygments_lexer": "ipython3",
   "version": "3.9.10"
  }
 },
 "nbformat": 4,
 "nbformat_minor": 5
}
